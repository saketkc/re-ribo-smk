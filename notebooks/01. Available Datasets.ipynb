{
 "cells": [
  {
   "cell_type": "code",
   "execution_count": 1,
   "metadata": {},
   "outputs": [
    {
     "name": "stdout",
     "output_type": "stream",
     "text": [
      "Populating the interactive namespace from numpy and matplotlib\n"
     ]
    },
    {
     "name": "stderr",
     "output_type": "stream",
     "text": [
      "/home/cmb-panasas2/skchoudh/software_frozen/anaconda27/envs/riboraptor/lib/python3.5/importlib/_bootstrap.py:222: RuntimeWarning: numpy.dtype size changed, may indicate binary incompatibility. Expected 96, got 88\n",
      "  return f(*args, **kwds)\n",
      "/home/cmb-panasas2/skchoudh/software_frozen/anaconda27/envs/riboraptor/lib/python3.5/importlib/_bootstrap.py:222: RuntimeWarning: numpy.dtype size changed, may indicate binary incompatibility. Expected 96, got 88\n",
      "  return f(*args, **kwds)\n"
     ]
    }
   ],
   "source": [
    "%pylab inline\n",
    "%load_ext autoreload\n",
    "%autoreload 2\n",
    "\n",
    "import pandas as pd\n",
    "import os\n",
    "import re\n",
    "import fnmatch\n",
    "import errno    \n",
    "import glob\n",
    "from riboraptor.sradb import SRAdb\n",
    "from riboraptor.helpers import path_leaf\n",
    "from collections import defaultdict\n",
    "from riboraptor.utils import summary_starlogs_over_runs"
   ]
  },
  {
   "cell_type": "code",
   "execution_count": 2,
   "metadata": {},
   "outputs": [
    {
     "ename": "TypeError",
     "evalue": "summary_starlogs_over_runs() missing 1 required positional argument: 'list_of_srr'",
     "output_type": "error",
     "traceback": [
      "\u001b[0;31m---------------------------------------------------------------------------\u001b[0m",
      "\u001b[0;31mTypeError\u001b[0m                                 Traceback (most recent call last)",
      "\u001b[0;32m<ipython-input-2-71bb7e2d380d>\u001b[0m in \u001b[0;36m<module>\u001b[0;34m()\u001b[0m\n\u001b[0;32m----> 1\u001b[0;31m \u001b[0msummary_starlogs_over_runs\u001b[0m\u001b[0;34m(\u001b[0m\u001b[0;34m'/staging/as/skchoudh/re-ribo-analysis/hg38/SRP017942/starlogs/'\u001b[0m\u001b[0;34m)\u001b[0m\u001b[0;34m\u001b[0m\u001b[0m\n\u001b[0m",
      "\u001b[0;31mTypeError\u001b[0m: summary_starlogs_over_runs() missing 1 required positional argument: 'list_of_srr'"
     ]
    }
   ],
   "source": [
    "summary_starlogs_over_runs('/staging/as/skchoudh/re-ribo-analysis/hg38/SRP017942/starlogs/')"
   ]
  },
  {
   "cell_type": "code",
   "execution_count": null,
   "metadata": {},
   "outputs": [],
   "source": [
    "datasets = {}\n",
    "datasets['hg38'] = pd.read_excel('../data/datasets/re-ribo-datasets.xlsx', sheet_name='hg38')\n",
    "datasets['mm10'] = pd.read_excel('../data/datasets/re-ribo-datasets.xlsx', sheet_name='mm10')\n",
    "datasets['mm10'] = pd.read_excel('../data/datasets/re-ribo-datasets.xlsx', sheet_name='mm10')\n"
   ]
  },
  {
   "cell_type": "code",
   "execution_count": null,
   "metadata": {},
   "outputs": [],
   "source": [
    "geodb = SRAdb('/staging/as/skchoudh/GEOmetadb.sqlite')\n",
    "sradb = SRAdb('/staging/as/skchoudh/SRAmetadb.sqlite')\n",
    "\n",
    "re_ribo_analysis_dir = '/staging/as/skchoudh/re-ribo-analysis/'"
   ]
  },
  {
   "cell_type": "code",
   "execution_count": 18,
   "metadata": {},
   "outputs": [
    {
     "data": {
      "text/html": [
       "<div>\n",
       "<style scoped>\n",
       "    .dataframe tbody tr th:only-of-type {\n",
       "        vertical-align: middle;\n",
       "    }\n",
       "\n",
       "    .dataframe tbody tr th {\n",
       "        vertical-align: top;\n",
       "    }\n",
       "\n",
       "    .dataframe thead th {\n",
       "        text-align: right;\n",
       "    }\n",
       "</style>\n",
       "<table border=\"1\" class=\"dataframe\">\n",
       "  <thead>\n",
       "    <tr style=\"text-align: right;\">\n",
       "      <th></th>\n",
       "      <th>ID</th>\n",
       "      <th>contact</th>\n",
       "      <th>contributor</th>\n",
       "      <th>gse</th>\n",
       "      <th>last_update_date</th>\n",
       "      <th>overall_design</th>\n",
       "      <th>pubmed_id</th>\n",
       "      <th>repeats</th>\n",
       "      <th>repeats_sample_list</th>\n",
       "      <th>status</th>\n",
       "      <th>submission_date</th>\n",
       "      <th>summary</th>\n",
       "      <th>supplementary_file</th>\n",
       "      <th>title</th>\n",
       "      <th>type</th>\n",
       "      <th>variable</th>\n",
       "      <th>variable_description</th>\n",
       "      <th>web_link</th>\n",
       "    </tr>\n",
       "  </thead>\n",
       "  <tbody>\n",
       "    <tr>\n",
       "      <th>0</th>\n",
       "      <td>19587.0</td>\n",
       "      <td>Name: Huili Guo;\\tEmail: hguo@mit.edu;\\tPhone:...</td>\n",
       "      <td>None</td>\n",
       "      <td>GSE22004</td>\n",
       "      <td>2013-06-07</td>\n",
       "      <td>Refer to individual Series.</td>\n",
       "      <td>20703300</td>\n",
       "      <td>None</td>\n",
       "      <td>None</td>\n",
       "      <td>Public on Aug 03 2010</td>\n",
       "      <td>2010-05-26</td>\n",
       "      <td>MicroRNAs (miRNAs) are endogenous ~22-nucleoti...</td>\n",
       "      <td>ftp://ftp.ncbi.nlm.nih.gov/geo/series/GSE22nnn...</td>\n",
       "      <td>Mammalian microRNAs predominantly act to decre...</td>\n",
       "      <td>Expression profiling by high throughput sequen...</td>\n",
       "      <td>None</td>\n",
       "      <td>None</td>\n",
       "      <td>None</td>\n",
       "    </tr>\n",
       "  </tbody>\n",
       "</table>\n",
       "</div>"
      ],
      "text/plain": [
       "        ID                                            contact contributor  \\\n",
       "0  19587.0  Name: Huili Guo;\\tEmail: hguo@mit.edu;\\tPhone:...        None   \n",
       "\n",
       "        gse last_update_date               overall_design  pubmed_id repeats  \\\n",
       "0  GSE22004       2013-06-07  Refer to individual Series.   20703300    None   \n",
       "\n",
       "  repeats_sample_list                 status submission_date  \\\n",
       "0                None  Public on Aug 03 2010      2010-05-26   \n",
       "\n",
       "                                             summary  \\\n",
       "0  MicroRNAs (miRNAs) are endogenous ~22-nucleoti...   \n",
       "\n",
       "                                  supplementary_file  \\\n",
       "0  ftp://ftp.ncbi.nlm.nih.gov/geo/series/GSE22nnn...   \n",
       "\n",
       "                                               title  \\\n",
       "0  Mammalian microRNAs predominantly act to decre...   \n",
       "\n",
       "                                                type variable  \\\n",
       "0  Expression profiling by high throughput sequen...     None   \n",
       "\n",
       "  variable_description web_link  \n",
       "0                 None     None  "
      ]
     },
     "execution_count": 18,
     "metadata": {},
     "output_type": "execute_result"
    }
   ],
   "source": [
    "geodb.get_query(\"SELECT * FROM gse WHERE gse='GSE22004'\")"
   ]
  },
  {
   "cell_type": "code",
   "execution_count": 3,
   "metadata": {},
   "outputs": [],
   "source": [
    "df = pd.read_html('../data/datasets/hrpdviewer.html')"
   ]
  },
  {
   "cell_type": "code",
   "execution_count": 4,
   "metadata": {},
   "outputs": [],
   "source": [
    "df = df[0].sort_values(by='Year')\n"
   ]
  },
  {
   "cell_type": "code",
   "execution_count": 5,
   "metadata": {},
   "outputs": [],
   "source": [
    "df['SRP'] = df['GEO number'].apply(lambda x: geodb.convert_gse_to_srp(x))"
   ]
  },
  {
   "cell_type": "code",
   "execution_count": 15,
   "metadata": {},
   "outputs": [
    {
     "name": "stderr",
     "output_type": "stream",
     "text": [
      "/home/cmb-panasas2/skchoudh/software_frozen/anaconda27/envs/riboraptor/lib/python3.5/site-packages/ipykernel_launcher.py:1: SettingWithCopyWarning: \n",
      "A value is trying to be set on a copy of a slice from a DataFrame.\n",
      "Try using .loc[row_indexer,col_indexer] = value instead\n",
      "\n",
      "See the caveats in the documentation: http://pandas.pydata.org/pandas-docs/stable/indexing.html#indexing-view-versus-copy\n",
      "  \"\"\"Entry point for launching an IPython kernel.\n"
     ]
    }
   ],
   "source": [
    "df[df['GEO number'].str.contains('SRP')]['SRP'] = df[df['GEO number'].str.contains('SRP')]['GEO number']"
   ]
  },
  {
   "cell_type": "code",
   "execution_count": 20,
   "metadata": {},
   "outputs": [
    {
     "data": {
      "text/plain": [
       "68"
      ]
     },
     "execution_count": 20,
     "metadata": {},
     "output_type": "execute_result"
    }
   ],
   "source": [
    "[len(df['GEO number'].unique())]"
   ]
  },
  {
   "cell_type": "code",
   "execution_count": 24,
   "metadata": {},
   "outputs": [],
   "source": [
    "datasets = defaultdict(list)"
   ]
  },
  {
   "cell_type": "code",
   "execution_count": 26,
   "metadata": {},
   "outputs": [],
   "source": [
    "for directory in glob.glob('{}/*/*'.format(re_ribo_analysis_dir)):\n",
    "    srp = path_leaf(directory)\n",
    "    assembly = path_leaf(os.path.dirname(directory))\n",
    "    datasets[srp].append(assembly)"
   ]
  },
  {
   "cell_type": "code",
   "execution_count": 27,
   "metadata": {},
   "outputs": [
    {
     "data": {
      "text/plain": [
       "defaultdict(list,\n",
       "            {'SRP003554': ['mm10'],\n",
       "             'SRP007567': ['mm10'],\n",
       "             'SRP010679_fixed_adapters': ['hg38'],\n",
       "             'SRP017942': ['hg38', 'mm10'],\n",
       "             'SRP021058': ['mm10'],\n",
       "             'SRP028243': ['BDGP6'],\n",
       "             'SRP028243_fixed_adapters': ['BDGP6'],\n",
       "             'SRP030014': ['mm10'],\n",
       "             'SRP031501': ['hg38', 'mm10'],\n",
       "             'SRP033366': ['BDGP6'],\n",
       "             'SRP038695': ['hg38'],\n",
       "             'SRP042937': ['hg38'],\n",
       "             'SRP043036': ['sacCerR64'],\n",
       "             'SRP045214': ['hg38'],\n",
       "             'SRP045475': ['BDGP6'],\n",
       "             'SRP048708': ['mm10'],\n",
       "             'SRP049168': ['hg38', 'mm10'],\n",
       "             'SRP055009': ['hg38'],\n",
       "             'SRP055707': ['sacCerR64'],\n",
       "             'SRP056576': ['mm10'],\n",
       "             'SRP056647': ['sacCerR64'],\n",
       "             'SRP062409': ['mm10'],\n",
       "             'SRP063562': ['MG1655'],\n",
       "             'SRP064304': ['mm10'],\n",
       "             'SRP074765': ['mm10'],\n",
       "             'SRP076093': ['mm10'],\n",
       "             'SRP077522': ['mm10'],\n",
       "             'SRP078005': ['mm10'],\n",
       "             'SRP092068': ['hg38'],\n",
       "             'SRP098789': ['hg38'],\n",
       "             'SRP108999': ['BDGP6'],\n",
       "             'SRP109126': ['hg38']})"
      ]
     },
     "execution_count": 27,
     "metadata": {},
     "output_type": "execute_result"
    }
   ],
   "source": [
    "datasets"
   ]
  },
  {
   "cell_type": "code",
   "execution_count": null,
   "metadata": {},
   "outputs": [],
   "source": []
  }
 ],
 "metadata": {
  "kernelspec": {
   "display_name": "Python 3",
   "language": "python",
   "name": "python3"
  },
  "language_info": {
   "codemirror_mode": {
    "name": "ipython",
    "version": 3
   },
   "file_extension": ".py",
   "mimetype": "text/x-python",
   "name": "python",
   "nbconvert_exporter": "python",
   "pygments_lexer": "ipython3",
   "version": "3.6.6"
  }
 },
 "nbformat": 4,
 "nbformat_minor": 2
}
