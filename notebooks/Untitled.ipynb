{
 "cells": [
  {
   "cell_type": "code",
   "execution_count": 4,
   "metadata": {},
   "outputs": [
    {
     "name": "stdout",
     "output_type": "stream",
     "text": [
      "Populating the interactive namespace from numpy and matplotlib\n"
     ]
    }
   ],
   "source": [
    "%pylab inline\n",
    "from collections import Counter\n",
    "from riboraptor.helpers import is_read_uniq_mapping, create_bam_index"
   ]
  },
  {
   "cell_type": "code",
   "execution_count": 15,
   "metadata": {},
   "outputs": [],
   "source": [
    "import pysam\n",
    "five = Counter()\n",
    "three = Counter()\n",
    "ft = Counter()"
   ]
  },
  {
   "cell_type": "code",
   "execution_count": 18,
   "metadata": {},
   "outputs": [],
   "source": [
    "bam = pysam.AlignmentFile('/staging/as/wenzhenl/ribocop-test/SRX217030.bam', 'rb')\n"
   ]
  },
  {
   "cell_type": "code",
   "execution_count": 19,
   "metadata": {},
   "outputs": [],
   "source": [
    "max_count = 1000000\n",
    "cur_count = 0\n",
    "\n",
    "for read in bam.fetch(until_eof=True):\n",
    "    cur_count += 1\n",
    "    if cur_count >= max_count:\n",
    "        break\n",
    "    if read.is_qcfail:\n",
    "        continue\n",
    "    if read.is_duplicate:\n",
    "        continue\n",
    "    if read.is_secondary:\n",
    "        continue\n",
    "    if read.is_unmapped:\n",
    "        continue\n",
    "    if not is_read_uniq_mapping(read):\n",
    "        continue\n",
    "\n",
    "    pos = read.get_reference_positions(full_length=True)\n",
    "    fnone = tnone = 0\n",
    "    \n",
    "    for i in range(0, len(pos)):\n",
    "        if pos[i] is None:\n",
    "            fnone+=1\n",
    "        else:\n",
    "            break\n",
    "    for i in range(len(pos)-1,-1, -1):\n",
    "        if pos[i] is None:\n",
    "            tnone+=1\n",
    "        else:\n",
    "            break\n",
    "        \n",
    "    five[fnone] += 1\n",
    "    three[tnone] += 1\n",
    "    ft[(fnone, tnone)] += 1 \n",
    "    \n",
    "    \n",
    "        \n",
    "            \n",
    "     "
   ]
  },
  {
   "cell_type": "code",
   "execution_count": 20,
   "metadata": {},
   "outputs": [
    {
     "data": {
      "text/plain": [
       "[((12, 0), 66310),\n",
       " ((0, 0), 45446),\n",
       " ((4, 0), 28225),\n",
       " ((5, 0), 25457),\n",
       " ((0, 4), 24858),\n",
       " ((3, 0), 24854),\n",
       " ((0, 5), 21524),\n",
       " ((0, 3), 20461),\n",
       " ((6, 0), 17427),\n",
       " ((2, 0), 17160),\n",
       " ((0, 6), 15656),\n",
       " ((1, 0), 14947),\n",
       " ((0, 2), 14333),\n",
       " ((0, 10), 13712),\n",
       " ((11, 0), 13536),\n",
       " ((1, 3), 12459),\n",
       " ((0, 1), 11271),\n",
       " ((0, 7), 11182),\n",
       " ((1, 1), 11033),\n",
       " ((0, 11), 10845),\n",
       " ((1, 2), 10792),\n",
       " ((7, 0), 10087),\n",
       " ((0, 9), 8906),\n",
       " ((0, 8), 8660),\n",
       " ((0, 12), 8603),\n",
       " ((8, 0), 8364),\n",
       " ((9, 0), 8059),\n",
       " ((2, 1), 7975),\n",
       " ((1, 4), 7858),\n",
       " ((3, 1), 7808),\n",
       " ((1, 5), 7394),\n",
       " ((10, 0), 7103),\n",
       " ((4, 1), 6708),\n",
       " ((5, 1), 4414),\n",
       " ((1, 6), 4106),\n",
       " ((1, 11), 2927),\n",
       " ((6, 1), 2907),\n",
       " ((1, 9), 2583),\n",
       " ((1, 8), 2571),\n",
       " ((1, 7), 1995),\n",
       " ((1, 10), 1849),\n",
       " ((7, 1), 1780),\n",
       " ((8, 1), 1389),\n",
       " ((9, 1), 1360),\n",
       " ((10, 1), 1267),\n",
       " ((11, 1), 905),\n",
       " ((2, 2), 575),\n",
       " ((2, 3), 359),\n",
       " ((3, 2), 294),\n",
       " ((2, 4), 282),\n",
       " ((4, 2), 243),\n",
       " ((2, 5), 171),\n",
       " ((2, 6), 133),\n",
       " ((5, 2), 131),\n",
       " ((6, 2), 116),\n",
       " ((2, 7), 105),\n",
       " ((3, 3), 100),\n",
       " ((2, 9), 74),\n",
       " ((2, 10), 74),\n",
       " ((5, 5), 65),\n",
       " ((8, 2), 64),\n",
       " ((2, 8), 59),\n",
       " ((7, 2), 59),\n",
       " ((9, 2), 58),\n",
       " ((10, 2), 45),\n",
       " ((4, 3), 30),\n",
       " ((3, 4), 29),\n",
       " ((6, 4), 28),\n",
       " ((3, 5), 26),\n",
       " ((3, 6), 24),\n",
       " ((5, 3), 20),\n",
       " ((3, 9), 13),\n",
       " ((7, 3), 12),\n",
       " ((4, 6), 11),\n",
       " ((3, 7), 10),\n",
       " ((3, 8), 10),\n",
       " ((4, 4), 9),\n",
       " ((4, 5), 8),\n",
       " ((6, 3), 8),\n",
       " ((8, 3), 6),\n",
       " ((7, 5), 6),\n",
       " ((9, 3), 5),\n",
       " ((4, 8), 4),\n",
       " ((8, 4), 4),\n",
       " ((4, 7), 4),\n",
       " ((5, 4), 4),\n",
       " ((5, 7), 2),\n",
       " ((6, 6), 1),\n",
       " ((5, 6), 1),\n",
       " ((7, 4), 1)]"
      ]
     },
     "execution_count": 20,
     "metadata": {},
     "output_type": "execute_result"
    }
   ],
   "source": [
    "ft.most_common()"
   ]
  },
  {
   "cell_type": "code",
   "execution_count": 14,
   "metadata": {},
   "outputs": [
    {
     "data": {
      "text/plain": [
       "438933338"
      ]
     },
     "execution_count": 14,
     "metadata": {},
     "output_type": "execute_result"
    }
   ],
   "source": [
    "cur_count"
   ]
  },
  {
   "cell_type": "code",
   "execution_count": 12,
   "metadata": {},
   "outputs": [
    {
     "data": {
      "text/plain": [
       "[(0, 6907517),\n",
       " (1, 1797095),\n",
       " (4, 949816),\n",
       " (3, 922607),\n",
       " (2, 828825),\n",
       " (5, 741460),\n",
       " (6, 594823),\n",
       " (11, 576566),\n",
       " (7, 448360),\n",
       " (12, 446178),\n",
       " (9, 359525),\n",
       " (8, 353857),\n",
       " (10, 350480),\n",
       " (13, 2)]"
      ]
     },
     "execution_count": 12,
     "metadata": {},
     "output_type": "execute_result"
    }
   ],
   "source": [
    "five.most_common()"
   ]
  },
  {
   "cell_type": "code",
   "execution_count": 13,
   "metadata": {},
   "outputs": [
    {
     "data": {
      "text/plain": [
       "[(0, 7112162),\n",
       " (1, 1723772),\n",
       " (4, 995801),\n",
       " (3, 985885),\n",
       " (2, 835269),\n",
       " (5, 778241),\n",
       " (6, 570937),\n",
       " (9, 442884),\n",
       " (7, 404101),\n",
       " (8, 400378),\n",
       " (11, 386019),\n",
       " (10, 372897),\n",
       " (12, 268761),\n",
       " (13, 4)]"
      ]
     },
     "execution_count": 13,
     "metadata": {},
     "output_type": "execute_result"
    }
   ],
   "source": [
    "three.most_common()"
   ]
  },
  {
   "cell_type": "code",
   "execution_count": null,
   "metadata": {},
   "outputs": [],
   "source": []
  }
 ],
 "metadata": {
  "kernelspec": {
   "display_name": "Python (riboraptor_clean)",
   "language": "python",
   "name": "riboraptor_clean"
  },
  "language_info": {
   "codemirror_mode": {
    "name": "ipython",
    "version": 3
   },
   "file_extension": ".py",
   "mimetype": "text/x-python",
   "name": "python",
   "nbconvert_exporter": "python",
   "pygments_lexer": "ipython3",
   "version": "3.5.5"
  }
 },
 "nbformat": 4,
 "nbformat_minor": 2
}
