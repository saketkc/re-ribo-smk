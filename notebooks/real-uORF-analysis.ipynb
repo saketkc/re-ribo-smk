{
 "cells": [
  {
   "cell_type": "code",
   "execution_count": 44,
   "metadata": {},
   "outputs": [
    {
     "name": "stdout",
     "output_type": "stream",
     "text": [
      "Populating the interactive namespace from numpy and matplotlib\n"
     ]
    }
   ],
   "source": [
    "%pylab inline\n",
    "import re\n",
    "import pandas as pd\n",
    "from collections import OrderedDict\n",
    "import matplotlib\n",
    "import seaborn as sns\n",
    "import pyupset as pyu\n",
    "from riboraptor.helpers import path_leaf\n",
    "\n",
    "\n",
    "matplotlib.rcParams['pdf.fonttype'] = 42\n",
    "matplotlib.rcParams['ps.fonttype'] = 42\n",
    "\n",
    "sns.set_style('white')\n",
    "sns.set_context('paper', font_scale=2)\n",
    "\n",
    "def strip_tx_version(txid):\n",
    "    return re.sub('\\.\\d+', '', txid)\n"
   ]
  },
  {
   "cell_type": "code",
   "execution_count": 2,
   "metadata": {},
   "outputs": [],
   "source": [
    "human_tfs = pd.read_table('/home/cmb-06/as/skchoudh/github_projects/ribocop-results/tf-data/human_TFs_ensembl.txt', names=['gene_id'], header=None)\n",
    "mouse_tfs = pd.read_table('/home/cmb-06/as/skchoudh/github_projects/ribocop-results/tf-data/mouse_TFs_symbol.txt', names=['gene_name'], header=None)"
   ]
  },
  {
   "cell_type": "code",
   "execution_count": 68,
   "metadata": {},
   "outputs": [],
   "source": [
    "def get_human_tf_status(gene_id):\n",
    "    if gene_id in human_tfs.gene_id.tolist():\n",
    "        return 'TF'\n",
    "    return 'non-TF'\n",
    "\n",
    "def get_mouse_tf_status(gene_name):\n",
    "    if gene_name in mouse_tfs.gene_name.tolist():\n",
    "        return 'TF'\n",
    "    return 'non-TF'\n"
   ]
  },
  {
   "cell_type": "code",
   "execution_count": 69,
   "metadata": {},
   "outputs": [],
   "source": [
    "mouse_annotation = pd.read_table('/home/cmb-panasas2/skchoudh/genomes/mm10/annotation/mm10_gene_names_stripped.tsv', names=['gene_id', 'gene_name', 'gene_type']).set_index('gene_id')\n",
    "human_annotation = pd.read_table('/home/cmb-panasas2/skchoudh/genomes/hg38/annotation/hg38_gene_names_stripped.tsv', names=['gene_id', 'gene_name', 'gene_type']).set_index('gene_id')\n"
   ]
  },
  {
   "cell_type": "code",
   "execution_count": 70,
   "metadata": {},
   "outputs": [],
   "source": [
    "human_uorf_candidates = pd.read_table('/home/cmb-06/as/skchoudh/github_projects/ribocop-results/real/uorfs/human_uorf_all_samples.txt', names=['gene_id'], header=None)\n",
    "human_uorf_candidates['gene_name'] = human_annotation.loc[human_uorf_candidates.gene_id, 'gene_name'].tolist()\n",
    "mouse_uorf_candidates = pd.read_table('/home/cmb-06/as/skchoudh/github_projects/ribocop-results/real/uorfs/mouse_uorf_all_samples.txt', names=['gene_id'], header=None)\n",
    "mouse_uorf_candidates['gene_name'] = mouse_annotation.loc[mouse_uorf_candidates.gene_id, 'gene_name'].tolist()"
   ]
  },
  {
   "cell_type": "code",
   "execution_count": 71,
   "metadata": {},
   "outputs": [],
   "source": [
    "mouse_uorf_candidates[['gene_name']].to_csv('/home/cmb-06/as/skchoudh/github_projects/ribocop-results/real/uorfs/mouse_uorf_all_samples_gene_names.txt', header=None, index=False)\n",
    "human_uorf_candidates[['gene_name']].to_csv('/home/cmb-06/as/skchoudh/github_projects/ribocop-results/real/uorfs/human_uorf_all_samples_gene_names.txt', header=None, index=False)"
   ]
  },
  {
   "cell_type": "code",
   "execution_count": 72,
   "metadata": {},
   "outputs": [
    {
     "data": {
      "text/plain": [
       "30"
      ]
     },
     "execution_count": 72,
     "metadata": {},
     "output_type": "execute_result"
    }
   ],
   "source": [
    "len(set(mouse_uorf_candidates['gene_name'].tolist()).intersection(mouse_tfs.gene_name))\n"
   ]
  },
  {
   "cell_type": "code",
   "execution_count": 28,
   "metadata": {},
   "outputs": [
    {
     "data": {
      "text/plain": [
       "384"
      ]
     },
     "execution_count": 28,
     "metadata": {},
     "output_type": "execute_result"
    }
   ],
   "source": [
    "len(set(mouse_uorf_candidates['gene_name'].tolist()))"
   ]
  },
  {
   "cell_type": "code",
   "execution_count": 29,
   "metadata": {},
   "outputs": [
    {
     "data": {
      "text/plain": [
       "18"
      ]
     },
     "execution_count": 29,
     "metadata": {},
     "output_type": "execute_result"
    }
   ],
   "source": [
    "len(set(human_uorf_candidates['gene_id'].tolist()).intersection(human_tfs.gene_id))\n"
   ]
  },
  {
   "cell_type": "code",
   "execution_count": 30,
   "metadata": {},
   "outputs": [
    {
     "data": {
      "text/plain": [
       "222"
      ]
     },
     "execution_count": 30,
     "metadata": {},
     "output_type": "execute_result"
    }
   ],
   "source": [
    "len(set(human_uorf_candidates.gene_id))"
   ]
  },
  {
   "cell_type": "code",
   "execution_count": 31,
   "metadata": {},
   "outputs": [
    {
     "data": {
      "text/plain": [
       "0.08108108108108109"
      ]
     },
     "execution_count": 31,
     "metadata": {},
     "output_type": "execute_result"
    }
   ],
   "source": [
    "18/222"
   ]
  },
  {
   "cell_type": "code",
   "execution_count": 83,
   "metadata": {},
   "outputs": [],
   "source": [
    "human_uorf_candidates = pd.read_table('/home/cmb-06/as/skchoudh/github_projects/ribocop-results/real/uorfs/human_uorf_two_samples.txt', names=['gene_id'], header=None)\n",
    "human_uorf_candidates['gene_name'] = human_annotation.loc[human_uorf_candidates.gene_id, 'gene_name'].tolist()\n",
    "human_uorf_candidates['gene_type'] = human_uorf_candidates.gene_id.apply(get_human_tf_status)\n",
    "human_uorf_candidates['species'] = 'human'\n",
    "mouse_uorf_candidates = pd.read_table('/home/cmb-06/as/skchoudh/github_projects/ribocop-results/real/uorfs/mouse_uorf_three_samples.txt', names=['gene_id'], header=None)\n",
    "mouse_uorf_candidates['gene_name'] = mouse_annotation.loc[mouse_uorf_candidates.gene_id, 'gene_name'].tolist()\n",
    "mouse_uorf_candidates['gene_type'] = mouse_uorf_candidates.gene_name.apply(get_mouse_tf_status)\n",
    "mouse_uorf_candidates['species'] = 'mouse'\n",
    "\n"
   ]
  },
  {
   "cell_type": "code",
   "execution_count": 84,
   "metadata": {},
   "outputs": [],
   "source": [
    "human_mouse_combined_uorf = pd.concat([human_uorf_candidates, mouse_uorf_candidates])\n",
    "\n",
    "df = human_mouse_combined_uorf\n",
    "df = df[['species', 'gene_type']].groupby(['species', 'gene_type']).size().unstack(fill_value=0)\n",
    "df = df.reset_index()\n",
    "df1 = pd.melt(df, id_vars=['species'])\n",
    "df1.to_csv('/home/cmb-panasas2/skchoudh/github_projects/ribocop-results/real/uorfs/human_mouse_uorf_two_samples_combined.summary.tsv', sep='\\t', index=False, header=True)"
   ]
  },
  {
   "cell_type": "code",
   "execution_count": 85,
   "metadata": {},
   "outputs": [],
   "source": [
    "df.to_csv('/home/cmb-panasas2/skchoudh/github_projects/ribocop-results/real/uorfs/human_mouse_uorf_two_samples_combined.tsv', sep='\\t', index=False, header=True)"
   ]
  },
  {
   "cell_type": "code",
   "execution_count": 86,
   "metadata": {},
   "outputs": [
    {
     "data": {
      "text/plain": [
       "192"
      ]
     },
     "execution_count": 86,
     "metadata": {},
     "output_type": "execute_result"
    }
   ],
   "source": [
    "len(set(mouse_uorf_candidates['gene_name'].tolist()).intersection(mouse_tfs.gene_name))\n"
   ]
  },
  {
   "cell_type": "code",
   "execution_count": 87,
   "metadata": {},
   "outputs": [
    {
     "data": {
      "text/plain": [
       "1951"
      ]
     },
     "execution_count": 87,
     "metadata": {},
     "output_type": "execute_result"
    }
   ],
   "source": [
    "len(set(mouse_uorf_candidates['gene_name'].tolist()))"
   ]
  },
  {
   "cell_type": "code",
   "execution_count": 88,
   "metadata": {},
   "outputs": [
    {
     "data": {
      "text/plain": [
       "0.09841107124551512"
      ]
     },
     "execution_count": 88,
     "metadata": {},
     "output_type": "execute_result"
    }
   ],
   "source": [
    "192/1951"
   ]
  },
  {
   "cell_type": "code",
   "execution_count": null,
   "metadata": {},
   "outputs": [],
   "source": []
  },
  {
   "cell_type": "code",
   "execution_count": 89,
   "metadata": {},
   "outputs": [
    {
     "data": {
      "text/plain": [
       "173"
      ]
     },
     "execution_count": 89,
     "metadata": {},
     "output_type": "execute_result"
    }
   ],
   "source": [
    "len(set(human_uorf_candidates['gene_id'].tolist()).intersection(human_tfs.gene_id))\n"
   ]
  },
  {
   "cell_type": "code",
   "execution_count": 90,
   "metadata": {},
   "outputs": [
    {
     "data": {
      "text/plain": [
       "1801"
      ]
     },
     "execution_count": 90,
     "metadata": {},
     "output_type": "execute_result"
    }
   ],
   "source": [
    "len(set(human_uorf_candidates.gene_id))"
   ]
  },
  {
   "cell_type": "code",
   "execution_count": 91,
   "metadata": {},
   "outputs": [
    {
     "data": {
      "text/plain": [
       "0.09605774569683509"
      ]
     },
     "execution_count": 91,
     "metadata": {},
     "output_type": "execute_result"
    }
   ],
   "source": [
    "173/1801\n"
   ]
  },
  {
   "cell_type": "markdown",
   "metadata": {},
   "source": [
    "# How many genes are orthologous between human and mouse?"
   ]
  },
  {
   "cell_type": "code",
   "execution_count": 105,
   "metadata": {},
   "outputs": [
    {
     "name": "stderr",
     "output_type": "stream",
     "text": [
      "/home/cmb-panasas2/skchoudh/software_frozen/anaconda27/envs/riboraptor/lib/python3.6/site-packages/ipykernel/__main__.py:14: FutureWarning: Sorting because non-concatenation axis is not aligned. A future version\n",
      "of pandas will change to not sort by default.\n",
      "\n",
      "To accept the future behavior, pass 'sort=False'.\n",
      "\n",
      "To retain the current behavior and silence the warning, pass 'sort=True'.\n",
      "\n"
     ]
    }
   ],
   "source": [
    "mm_hg_ortho = pd.read_table('../../svd-project/ortholog_tsv/mmusculus_hsapiens.tsv')[['ensembl_gene_id', 'hsapiens_homolog_ensembl_gene']]\n",
    "mm_hg_ortho = mm_hg_ortho.loc[mm_hg_ortho.ensembl_gene_id.isin(mouse_uorf_candidates.gene_id)]\n",
    "mm_hg_ortho = mm_hg_ortho.loc[mm_hg_ortho.hsapiens_homolog_ensembl_gene.isin(human_uorf_candidates.gene_id)]\n",
    "\n",
    "mm_hg_ortho_mm = mm_hg_ortho[['ensembl_gene_id']].rename(columns={'ensembl_gene_id': 'gene_id'})\n",
    "mm_hg_ortho_mm['gene_name'] = mouse_annotation.loc[mm_hg_ortho_mm.gene_id, 'gene_name'].tolist()\n",
    "mm_hg_ortho_mm['species'] = 'mouse'\n",
    "mm_hg_ortho_hg = mm_hg_ortho[['hsapiens_homolog_ensembl_gene']].rename(columns={'hsapiens_homolog_ensembl_gene': 'gene_id'})\n",
    "mm_hg_ortho_hg['species'] = 'human'\n",
    "\n",
    "mm_hg_ortho_mm['gene_type'] = mm_hg_ortho_mm.gene_name.apply(get_mouse_tf_status)\n",
    "mm_hg_ortho_hg['gene_type'] = mm_hg_ortho_hg.gene_id.apply(get_human_tf_status)\n",
    "\n",
    "mm_hg_ortho = pd.concat([mm_hg_ortho_hg, mm_hg_ortho_mm])"
   ]
  },
  {
   "cell_type": "code",
   "execution_count": 107,
   "metadata": {},
   "outputs": [],
   "source": [
    "df = mm_hg_ortho[['species', 'gene_type']].groupby(['species', 'gene_type']).size().unstack(fill_value=0)\n",
    "df = df.reset_index()\n",
    "df2 = pd.melt(df, id_vars=['species'])\n",
    "df2.to_csv('/home/cmb-panasas2/skchoudh/github_projects/ribocop-results/real/uorfs/human_mouse_uorf_two_samples_ortholog.summary.tsv', sep='\\t', index=False, header=True)"
   ]
  },
  {
   "cell_type": "code",
   "execution_count": 101,
   "metadata": {},
   "outputs": [
    {
     "ename": "KeyError",
     "evalue": "\"['ensembl_gene_id'] not in index\"",
     "output_type": "error",
     "traceback": [
      "\u001b[0;31m---------------------------------------------------------------------------\u001b[0m",
      "\u001b[0;31mKeyError\u001b[0m                                  Traceback (most recent call last)",
      "\u001b[0;32m<ipython-input-101-c3c24f345df2>\u001b[0m in \u001b[0;36m<module>\u001b[0;34m()\u001b[0m\n\u001b[0;32m----> 1\u001b[0;31m \u001b[0mmm_hg_ortho_mm\u001b[0m \u001b[0;34m=\u001b[0m \u001b[0mmm_hg_ortho\u001b[0m\u001b[0;34m[\u001b[0m\u001b[0;34m[\u001b[0m\u001b[0;34m'ensembl_gene_id'\u001b[0m\u001b[0;34m]\u001b[0m\u001b[0;34m]\u001b[0m\u001b[0;34m.\u001b[0m\u001b[0mrename\u001b[0m\u001b[0;34m(\u001b[0m\u001b[0mcolumns\u001b[0m\u001b[0;34m=\u001b[0m\u001b[0;34m{\u001b[0m\u001b[0;34m'ensembl_gene_id'\u001b[0m\u001b[0;34m:\u001b[0m \u001b[0;34m'gene_id'\u001b[0m\u001b[0;34m}\u001b[0m\u001b[0;34m)\u001b[0m\u001b[0;34m\u001b[0m\u001b[0m\n\u001b[0m\u001b[1;32m      2\u001b[0m \u001b[0mmm_hg_ortho_mm\u001b[0m\u001b[0;34m[\u001b[0m\u001b[0;34m'species'\u001b[0m\u001b[0;34m]\u001b[0m \u001b[0;34m=\u001b[0m \u001b[0;34m'mouse'\u001b[0m\u001b[0;34m\u001b[0m\u001b[0m\n\u001b[1;32m      3\u001b[0m \u001b[0mmm_hg_ortho_hg\u001b[0m \u001b[0;34m=\u001b[0m \u001b[0mmm_hg_ortho\u001b[0m\u001b[0;34m[\u001b[0m\u001b[0;34m[\u001b[0m\u001b[0;34m'hsapiens_homolog_ensembl_gene'\u001b[0m\u001b[0;34m]\u001b[0m\u001b[0;34m]\u001b[0m\u001b[0;34m.\u001b[0m\u001b[0mrename\u001b[0m\u001b[0;34m(\u001b[0m\u001b[0mcolumns\u001b[0m\u001b[0;34m=\u001b[0m\u001b[0;34m{\u001b[0m\u001b[0;34m'hsapiens_homolog_ensembl_gene'\u001b[0m\u001b[0;34m:\u001b[0m \u001b[0;34m'gene_id'\u001b[0m\u001b[0;34m}\u001b[0m\u001b[0;34m)\u001b[0m\u001b[0;34m\u001b[0m\u001b[0m\n\u001b[1;32m      4\u001b[0m \u001b[0mmm_hg_ortho_hg\u001b[0m\u001b[0;34m[\u001b[0m\u001b[0;34m'species'\u001b[0m\u001b[0;34m]\u001b[0m \u001b[0;34m=\u001b[0m \u001b[0;34m'human'\u001b[0m\u001b[0;34m\u001b[0m\u001b[0m\n\u001b[1;32m      5\u001b[0m \u001b[0;34m\u001b[0m\u001b[0m\n",
      "\u001b[0;32m/home/cmb-panasas2/skchoudh/software_frozen/anaconda27/envs/riboraptor/lib/python3.6/site-packages/pandas/core/frame.py\u001b[0m in \u001b[0;36m__getitem__\u001b[0;34m(self, key)\u001b[0m\n\u001b[1;32m   2680\u001b[0m         \u001b[0;32mif\u001b[0m \u001b[0misinstance\u001b[0m\u001b[0;34m(\u001b[0m\u001b[0mkey\u001b[0m\u001b[0;34m,\u001b[0m \u001b[0;34m(\u001b[0m\u001b[0mSeries\u001b[0m\u001b[0;34m,\u001b[0m \u001b[0mnp\u001b[0m\u001b[0;34m.\u001b[0m\u001b[0mndarray\u001b[0m\u001b[0;34m,\u001b[0m \u001b[0mIndex\u001b[0m\u001b[0;34m,\u001b[0m \u001b[0mlist\u001b[0m\u001b[0;34m)\u001b[0m\u001b[0;34m)\u001b[0m\u001b[0;34m:\u001b[0m\u001b[0;34m\u001b[0m\u001b[0m\n\u001b[1;32m   2681\u001b[0m             \u001b[0;31m# either boolean or fancy integer index\u001b[0m\u001b[0;34m\u001b[0m\u001b[0;34m\u001b[0m\u001b[0m\n\u001b[0;32m-> 2682\u001b[0;31m             \u001b[0;32mreturn\u001b[0m \u001b[0mself\u001b[0m\u001b[0;34m.\u001b[0m\u001b[0m_getitem_array\u001b[0m\u001b[0;34m(\u001b[0m\u001b[0mkey\u001b[0m\u001b[0;34m)\u001b[0m\u001b[0;34m\u001b[0m\u001b[0m\n\u001b[0m\u001b[1;32m   2683\u001b[0m         \u001b[0;32melif\u001b[0m \u001b[0misinstance\u001b[0m\u001b[0;34m(\u001b[0m\u001b[0mkey\u001b[0m\u001b[0;34m,\u001b[0m \u001b[0mDataFrame\u001b[0m\u001b[0;34m)\u001b[0m\u001b[0;34m:\u001b[0m\u001b[0;34m\u001b[0m\u001b[0m\n\u001b[1;32m   2684\u001b[0m             \u001b[0;32mreturn\u001b[0m \u001b[0mself\u001b[0m\u001b[0;34m.\u001b[0m\u001b[0m_getitem_frame\u001b[0m\u001b[0;34m(\u001b[0m\u001b[0mkey\u001b[0m\u001b[0;34m)\u001b[0m\u001b[0;34m\u001b[0m\u001b[0m\n",
      "\u001b[0;32m/home/cmb-panasas2/skchoudh/software_frozen/anaconda27/envs/riboraptor/lib/python3.6/site-packages/pandas/core/frame.py\u001b[0m in \u001b[0;36m_getitem_array\u001b[0;34m(self, key)\u001b[0m\n\u001b[1;32m   2724\u001b[0m             \u001b[0;32mreturn\u001b[0m \u001b[0mself\u001b[0m\u001b[0;34m.\u001b[0m\u001b[0m_take\u001b[0m\u001b[0;34m(\u001b[0m\u001b[0mindexer\u001b[0m\u001b[0;34m,\u001b[0m \u001b[0maxis\u001b[0m\u001b[0;34m=\u001b[0m\u001b[0;36m0\u001b[0m\u001b[0;34m)\u001b[0m\u001b[0;34m\u001b[0m\u001b[0m\n\u001b[1;32m   2725\u001b[0m         \u001b[0;32melse\u001b[0m\u001b[0;34m:\u001b[0m\u001b[0;34m\u001b[0m\u001b[0m\n\u001b[0;32m-> 2726\u001b[0;31m             \u001b[0mindexer\u001b[0m \u001b[0;34m=\u001b[0m \u001b[0mself\u001b[0m\u001b[0;34m.\u001b[0m\u001b[0mloc\u001b[0m\u001b[0;34m.\u001b[0m\u001b[0m_convert_to_indexer\u001b[0m\u001b[0;34m(\u001b[0m\u001b[0mkey\u001b[0m\u001b[0;34m,\u001b[0m \u001b[0maxis\u001b[0m\u001b[0;34m=\u001b[0m\u001b[0;36m1\u001b[0m\u001b[0;34m)\u001b[0m\u001b[0;34m\u001b[0m\u001b[0m\n\u001b[0m\u001b[1;32m   2727\u001b[0m             \u001b[0;32mreturn\u001b[0m \u001b[0mself\u001b[0m\u001b[0;34m.\u001b[0m\u001b[0m_take\u001b[0m\u001b[0;34m(\u001b[0m\u001b[0mindexer\u001b[0m\u001b[0;34m,\u001b[0m \u001b[0maxis\u001b[0m\u001b[0;34m=\u001b[0m\u001b[0;36m1\u001b[0m\u001b[0;34m)\u001b[0m\u001b[0;34m\u001b[0m\u001b[0m\n\u001b[1;32m   2728\u001b[0m \u001b[0;34m\u001b[0m\u001b[0m\n",
      "\u001b[0;32m/home/cmb-panasas2/skchoudh/software_frozen/anaconda27/envs/riboraptor/lib/python3.6/site-packages/pandas/core/indexing.py\u001b[0m in \u001b[0;36m_convert_to_indexer\u001b[0;34m(self, obj, axis, is_setter)\u001b[0m\n\u001b[1;32m   1325\u001b[0m                 \u001b[0;32mif\u001b[0m \u001b[0mmask\u001b[0m\u001b[0;34m.\u001b[0m\u001b[0many\u001b[0m\u001b[0;34m(\u001b[0m\u001b[0;34m)\u001b[0m\u001b[0;34m:\u001b[0m\u001b[0;34m\u001b[0m\u001b[0m\n\u001b[1;32m   1326\u001b[0m                     raise KeyError('{mask} not in index'\n\u001b[0;32m-> 1327\u001b[0;31m                                    .format(mask=objarr[mask]))\n\u001b[0m\u001b[1;32m   1328\u001b[0m \u001b[0;34m\u001b[0m\u001b[0m\n\u001b[1;32m   1329\u001b[0m                 \u001b[0;32mreturn\u001b[0m \u001b[0mcom\u001b[0m\u001b[0;34m.\u001b[0m\u001b[0m_values_from_object\u001b[0m\u001b[0;34m(\u001b[0m\u001b[0mindexer\u001b[0m\u001b[0;34m)\u001b[0m\u001b[0;34m\u001b[0m\u001b[0m\n",
      "\u001b[0;31mKeyError\u001b[0m: \"['ensembl_gene_id'] not in index\""
     ]
    }
   ],
   "source": []
  },
  {
   "cell_type": "code",
   "execution_count": 100,
   "metadata": {},
   "outputs": [
    {
     "data": {
      "text/html": [
       "<div>\n",
       "<style scoped>\n",
       "    .dataframe tbody tr th:only-of-type {\n",
       "        vertical-align: middle;\n",
       "    }\n",
       "\n",
       "    .dataframe tbody tr th {\n",
       "        vertical-align: top;\n",
       "    }\n",
       "\n",
       "    .dataframe thead th {\n",
       "        text-align: right;\n",
       "    }\n",
       "</style>\n",
       "<table border=\"1\" class=\"dataframe\">\n",
       "  <thead>\n",
       "    <tr style=\"text-align: right;\">\n",
       "      <th></th>\n",
       "      <th>gene_id</th>\n",
       "      <th>gene_type</th>\n",
       "    </tr>\n",
       "  </thead>\n",
       "  <tbody>\n",
       "    <tr>\n",
       "      <th>169</th>\n",
       "      <td>ENSG00000165669</td>\n",
       "      <td>non-TF</td>\n",
       "    </tr>\n",
       "    <tr>\n",
       "      <th>186</th>\n",
       "      <td>ENSG00000234857</td>\n",
       "      <td>non-TF</td>\n",
       "    </tr>\n",
       "    <tr>\n",
       "      <th>1029</th>\n",
       "      <td>ENSG00000196233</td>\n",
       "      <td>non-TF</td>\n",
       "    </tr>\n",
       "    <tr>\n",
       "      <th>1688</th>\n",
       "      <td>ENSG00000013561</td>\n",
       "      <td>non-TF</td>\n",
       "    </tr>\n",
       "    <tr>\n",
       "      <th>1909</th>\n",
       "      <td>ENSG00000067900</td>\n",
       "      <td>non-TF</td>\n",
       "    </tr>\n",
       "    <tr>\n",
       "      <th>2093</th>\n",
       "      <td>ENSG00000101574</td>\n",
       "      <td>non-TF</td>\n",
       "    </tr>\n",
       "    <tr>\n",
       "      <th>2239</th>\n",
       "      <td>ENSG00000119820</td>\n",
       "      <td>non-TF</td>\n",
       "    </tr>\n",
       "    <tr>\n",
       "      <th>2498</th>\n",
       "      <td>ENSG00000162144</td>\n",
       "      <td>non-TF</td>\n",
       "    </tr>\n",
       "    <tr>\n",
       "      <th>3103</th>\n",
       "      <td>ENSG00000151292</td>\n",
       "      <td>non-TF</td>\n",
       "    </tr>\n",
       "    <tr>\n",
       "      <th>3295</th>\n",
       "      <td>ENSG00000099194</td>\n",
       "      <td>non-TF</td>\n",
       "    </tr>\n",
       "    <tr>\n",
       "      <th>4166</th>\n",
       "      <td>ENSG00000031003</td>\n",
       "      <td>non-TF</td>\n",
       "    </tr>\n",
       "    <tr>\n",
       "      <th>4414</th>\n",
       "      <td>ENSG00000230124</td>\n",
       "      <td>non-TF</td>\n",
       "    </tr>\n",
       "    <tr>\n",
       "      <th>4417</th>\n",
       "      <td>ENSG00000119402</td>\n",
       "      <td>non-TF</td>\n",
       "    </tr>\n",
       "    <tr>\n",
       "      <th>4428</th>\n",
       "      <td>ENSG00000171475</td>\n",
       "      <td>non-TF</td>\n",
       "    </tr>\n",
       "    <tr>\n",
       "      <th>4430</th>\n",
       "      <td>ENSG00000139793</td>\n",
       "      <td>non-TF</td>\n",
       "    </tr>\n",
       "    <tr>\n",
       "      <th>4486</th>\n",
       "      <td>ENSG00000144591</td>\n",
       "      <td>non-TF</td>\n",
       "    </tr>\n",
       "    <tr>\n",
       "      <th>4495</th>\n",
       "      <td>ENSG00000108946</td>\n",
       "      <td>non-TF</td>\n",
       "    </tr>\n",
       "    <tr>\n",
       "      <th>4515</th>\n",
       "      <td>ENSG00000139926</td>\n",
       "      <td>non-TF</td>\n",
       "    </tr>\n",
       "    <tr>\n",
       "      <th>4534</th>\n",
       "      <td>ENSG00000145675</td>\n",
       "      <td>non-TF</td>\n",
       "    </tr>\n",
       "    <tr>\n",
       "      <th>4547</th>\n",
       "      <td>ENSG00000183735</td>\n",
       "      <td>non-TF</td>\n",
       "    </tr>\n",
       "    <tr>\n",
       "      <th>4570</th>\n",
       "      <td>ENSG00000139514</td>\n",
       "      <td>non-TF</td>\n",
       "    </tr>\n",
       "    <tr>\n",
       "      <th>4582</th>\n",
       "      <td>ENSG00000119682</td>\n",
       "      <td>non-TF</td>\n",
       "    </tr>\n",
       "    <tr>\n",
       "      <th>4586</th>\n",
       "      <td>ENSG00000184575</td>\n",
       "      <td>non-TF</td>\n",
       "    </tr>\n",
       "    <tr>\n",
       "      <th>4624</th>\n",
       "      <td>ENSG00000114126</td>\n",
       "      <td>non-TF</td>\n",
       "    </tr>\n",
       "    <tr>\n",
       "      <th>4626</th>\n",
       "      <td>ENSG00000100982</td>\n",
       "      <td>non-TF</td>\n",
       "    </tr>\n",
       "    <tr>\n",
       "      <th>4655</th>\n",
       "      <td>ENSG00000180346</td>\n",
       "      <td>non-TF</td>\n",
       "    </tr>\n",
       "    <tr>\n",
       "      <th>4671</th>\n",
       "      <td>ENSG00000088766</td>\n",
       "      <td>non-TF</td>\n",
       "    </tr>\n",
       "    <tr>\n",
       "      <th>4690</th>\n",
       "      <td>ENSG00000122042</td>\n",
       "      <td>non-TF</td>\n",
       "    </tr>\n",
       "    <tr>\n",
       "      <th>4704</th>\n",
       "      <td>ENSG00000133703</td>\n",
       "      <td>non-TF</td>\n",
       "    </tr>\n",
       "    <tr>\n",
       "      <th>4730</th>\n",
       "      <td>ENSG00000151348</td>\n",
       "      <td>non-TF</td>\n",
       "    </tr>\n",
       "    <tr>\n",
       "      <th>...</th>\n",
       "      <td>...</td>\n",
       "      <td>...</td>\n",
       "    </tr>\n",
       "    <tr>\n",
       "      <th>25584</th>\n",
       "      <td>ENSMUSG00000029578</td>\n",
       "      <td>non-TF</td>\n",
       "    </tr>\n",
       "    <tr>\n",
       "      <th>25605</th>\n",
       "      <td>ENSMUSG00000031835</td>\n",
       "      <td>non-TF</td>\n",
       "    </tr>\n",
       "    <tr>\n",
       "      <th>25606</th>\n",
       "      <td>ENSMUSG00000079477</td>\n",
       "      <td>non-TF</td>\n",
       "    </tr>\n",
       "    <tr>\n",
       "      <th>25685</th>\n",
       "      <td>ENSMUSG00000034216</td>\n",
       "      <td>non-TF</td>\n",
       "    </tr>\n",
       "    <tr>\n",
       "      <th>25686</th>\n",
       "      <td>ENSMUSG00000059824</td>\n",
       "      <td>non-TF</td>\n",
       "    </tr>\n",
       "    <tr>\n",
       "      <th>25722</th>\n",
       "      <td>ENSMUSG00000026766</td>\n",
       "      <td>non-TF</td>\n",
       "    </tr>\n",
       "    <tr>\n",
       "      <th>25741</th>\n",
       "      <td>ENSMUSG00000042079</td>\n",
       "      <td>non-TF</td>\n",
       "    </tr>\n",
       "    <tr>\n",
       "      <th>25744</th>\n",
       "      <td>ENSMUSG00000018736</td>\n",
       "      <td>non-TF</td>\n",
       "    </tr>\n",
       "    <tr>\n",
       "      <th>25780</th>\n",
       "      <td>ENSMUSG00000070283</td>\n",
       "      <td>non-TF</td>\n",
       "    </tr>\n",
       "    <tr>\n",
       "      <th>25792</th>\n",
       "      <td>ENSMUSG00000037822</td>\n",
       "      <td>non-TF</td>\n",
       "    </tr>\n",
       "    <tr>\n",
       "      <th>25808</th>\n",
       "      <td>ENSMUSG00000027942</td>\n",
       "      <td>non-TF</td>\n",
       "    </tr>\n",
       "    <tr>\n",
       "      <th>25809</th>\n",
       "      <td>ENSMUSG00000053012</td>\n",
       "      <td>non-TF</td>\n",
       "    </tr>\n",
       "    <tr>\n",
       "      <th>25826</th>\n",
       "      <td>ENSMUSG00000003184</td>\n",
       "      <td>non-TF</td>\n",
       "    </tr>\n",
       "    <tr>\n",
       "      <th>25827</th>\n",
       "      <td>ENSMUSG00000004895</td>\n",
       "      <td>non-TF</td>\n",
       "    </tr>\n",
       "    <tr>\n",
       "      <th>25841</th>\n",
       "      <td>ENSMUSG00000024982</td>\n",
       "      <td>non-TF</td>\n",
       "    </tr>\n",
       "    <tr>\n",
       "      <th>25913</th>\n",
       "      <td>ENSMUSG00000030583</td>\n",
       "      <td>non-TF</td>\n",
       "    </tr>\n",
       "    <tr>\n",
       "      <th>25927</th>\n",
       "      <td>ENSMUSG00000000420</td>\n",
       "      <td>non-TF</td>\n",
       "    </tr>\n",
       "    <tr>\n",
       "      <th>25993</th>\n",
       "      <td>ENSMUSG00000022553</td>\n",
       "      <td>non-TF</td>\n",
       "    </tr>\n",
       "    <tr>\n",
       "      <th>26054</th>\n",
       "      <td>ENSMUSG00000036975</td>\n",
       "      <td>non-TF</td>\n",
       "    </tr>\n",
       "    <tr>\n",
       "      <th>26089</th>\n",
       "      <td>ENSMUSG00000039841</td>\n",
       "      <td>non-TF</td>\n",
       "    </tr>\n",
       "    <tr>\n",
       "      <th>26091</th>\n",
       "      <td>ENSMUSG00000048039</td>\n",
       "      <td>non-TF</td>\n",
       "    </tr>\n",
       "    <tr>\n",
       "      <th>26093</th>\n",
       "      <td>ENSMUSG00000060601</td>\n",
       "      <td>non-TF</td>\n",
       "    </tr>\n",
       "    <tr>\n",
       "      <th>26125</th>\n",
       "      <td>ENSMUSG00000042447</td>\n",
       "      <td>non-TF</td>\n",
       "    </tr>\n",
       "    <tr>\n",
       "      <th>26137</th>\n",
       "      <td>ENSMUSG00000026172</td>\n",
       "      <td>non-TF</td>\n",
       "    </tr>\n",
       "    <tr>\n",
       "      <th>26173</th>\n",
       "      <td>ENSMUSG00000068921</td>\n",
       "      <td>non-TF</td>\n",
       "    </tr>\n",
       "    <tr>\n",
       "      <th>26215</th>\n",
       "      <td>ENSMUSG00000036138</td>\n",
       "      <td>non-TF</td>\n",
       "    </tr>\n",
       "    <tr>\n",
       "      <th>26217</th>\n",
       "      <td>ENSMUSG00000031545</td>\n",
       "      <td>non-TF</td>\n",
       "    </tr>\n",
       "    <tr>\n",
       "      <th>26246</th>\n",
       "      <td>ENSMUSG00000034235</td>\n",
       "      <td>non-TF</td>\n",
       "    </tr>\n",
       "    <tr>\n",
       "      <th>26267</th>\n",
       "      <td>ENSMUSG00000022529</td>\n",
       "      <td>non-TF</td>\n",
       "    </tr>\n",
       "    <tr>\n",
       "      <th>26311</th>\n",
       "      <td>ENSMUSG00000030057</td>\n",
       "      <td>non-TF</td>\n",
       "    </tr>\n",
       "  </tbody>\n",
       "</table>\n",
       "<p>1484 rows × 2 columns</p>\n",
       "</div>"
      ],
      "text/plain": [
       "                  gene_id gene_type\n",
       "169       ENSG00000165669    non-TF\n",
       "186       ENSG00000234857    non-TF\n",
       "1029      ENSG00000196233    non-TF\n",
       "1688      ENSG00000013561    non-TF\n",
       "1909      ENSG00000067900    non-TF\n",
       "2093      ENSG00000101574    non-TF\n",
       "2239      ENSG00000119820    non-TF\n",
       "2498      ENSG00000162144    non-TF\n",
       "3103      ENSG00000151292    non-TF\n",
       "3295      ENSG00000099194    non-TF\n",
       "4166      ENSG00000031003    non-TF\n",
       "4414      ENSG00000230124    non-TF\n",
       "4417      ENSG00000119402    non-TF\n",
       "4428      ENSG00000171475    non-TF\n",
       "4430      ENSG00000139793    non-TF\n",
       "4486      ENSG00000144591    non-TF\n",
       "4495      ENSG00000108946    non-TF\n",
       "4515      ENSG00000139926    non-TF\n",
       "4534      ENSG00000145675    non-TF\n",
       "4547      ENSG00000183735    non-TF\n",
       "4570      ENSG00000139514    non-TF\n",
       "4582      ENSG00000119682    non-TF\n",
       "4586      ENSG00000184575    non-TF\n",
       "4624      ENSG00000114126    non-TF\n",
       "4626      ENSG00000100982    non-TF\n",
       "4655      ENSG00000180346    non-TF\n",
       "4671      ENSG00000088766    non-TF\n",
       "4690      ENSG00000122042    non-TF\n",
       "4704      ENSG00000133703    non-TF\n",
       "4730      ENSG00000151348    non-TF\n",
       "...                   ...       ...\n",
       "25584  ENSMUSG00000029578    non-TF\n",
       "25605  ENSMUSG00000031835    non-TF\n",
       "25606  ENSMUSG00000079477    non-TF\n",
       "25685  ENSMUSG00000034216    non-TF\n",
       "25686  ENSMUSG00000059824    non-TF\n",
       "25722  ENSMUSG00000026766    non-TF\n",
       "25741  ENSMUSG00000042079    non-TF\n",
       "25744  ENSMUSG00000018736    non-TF\n",
       "25780  ENSMUSG00000070283    non-TF\n",
       "25792  ENSMUSG00000037822    non-TF\n",
       "25808  ENSMUSG00000027942    non-TF\n",
       "25809  ENSMUSG00000053012    non-TF\n",
       "25826  ENSMUSG00000003184    non-TF\n",
       "25827  ENSMUSG00000004895    non-TF\n",
       "25841  ENSMUSG00000024982    non-TF\n",
       "25913  ENSMUSG00000030583    non-TF\n",
       "25927  ENSMUSG00000000420    non-TF\n",
       "25993  ENSMUSG00000022553    non-TF\n",
       "26054  ENSMUSG00000036975    non-TF\n",
       "26089  ENSMUSG00000039841    non-TF\n",
       "26091  ENSMUSG00000048039    non-TF\n",
       "26093  ENSMUSG00000060601    non-TF\n",
       "26125  ENSMUSG00000042447    non-TF\n",
       "26137  ENSMUSG00000026172    non-TF\n",
       "26173  ENSMUSG00000068921    non-TF\n",
       "26215  ENSMUSG00000036138    non-TF\n",
       "26217  ENSMUSG00000031545    non-TF\n",
       "26246  ENSMUSG00000034235    non-TF\n",
       "26267  ENSMUSG00000022529    non-TF\n",
       "26311  ENSMUSG00000030057    non-TF\n",
       "\n",
       "[1484 rows x 2 columns]"
      ]
     },
     "execution_count": 100,
     "metadata": {},
     "output_type": "execute_result"
    }
   ],
   "source": [
    "mm_hg_ortho"
   ]
  },
  {
   "cell_type": "code",
   "execution_count": null,
   "metadata": {},
   "outputs": [],
   "source": []
  }
 ],
 "metadata": {
  "kernelspec": {
   "display_name": "Python [conda env:riboraptor]",
   "language": "python",
   "name": "conda-env-riboraptor-py"
  },
  "language_info": {
   "codemirror_mode": {
    "name": "ipython",
    "version": 3
   },
   "file_extension": ".py",
   "mimetype": "text/x-python",
   "name": "python",
   "nbconvert_exporter": "python",
   "pygments_lexer": "ipython3",
   "version": "3.6.7"
  }
 },
 "nbformat": 4,
 "nbformat_minor": 2
}
