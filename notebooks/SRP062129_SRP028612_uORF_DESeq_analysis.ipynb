{
 "cells": [
  {
   "cell_type": "code",
   "execution_count": null,
   "metadata": {},
   "outputs": [],
   "source": [
    "suppressMessages(library(readr))\n",
    "suppressMessages(library(DESeq2))\n",
    "suppressMessages(library(RColorBrewer))\n",
    "suppressMessages(library(ggplot2))\n",
    "suppressMessages(library(BiocParallel))\n",
    "suppressMessages(library(pheatmap))\n",
    "suppressMessages(library(sva))\n",
    "suppressMessages(library(reshape2))\n",
    "suppressMessages(library(edgeR))\n",
    "suppressMessages(library(cowplot))\n",
    "suppressMessages(library(riborex))\n",
    "suppressMessages(library(ggrepel))\n",
    "suppressMessages(library(fdrtool))\n",
    "suppressMessages(library(grid))\n",
    "gene_annotation_file <- '/home/cmb-panasas2/skchoudh/genomes/hg38/annotation/hg38_gene_names_id.tsv'\n",
    "gene_annotations <- read.table(gene_annotation_file,  header=T, stringsAsFactors = F, \n",
    "                               sep='\\t')\n",
    "rownames(gene_annotations) <- gene_annotations$gene_id\n",
    "'%notin%' <- function(x,y)!('%in%'(x,y))\n",
    "cbbPalette <- c(\"#999999\", \"#E69F00\", \"#56B4E9\", \"#009E73\", \"#F0E442\", \"#0072B2\", \"#D55E00\", \"#CC79A7\")\n",
    "\n",
    "colors <- list(species = c(\"GRCh38\" = cbbPalette[5],\n",
    "                            \"Mmul8\" =  cbbPalette[6],\n",
    "                             \"panTro3\" =  cbbPalette[7]),\n",
    "              assay = c(\"ribo\" = cbbPalette[3],\n",
    "                       \"rna\" =  cbbPalette[4]))"
   ]
  },
  {
   "cell_type": "code",
   "execution_count": null,
   "metadata": {},
   "outputs": [],
   "source": [
    "write_results <- function(df, results.dir, prefix){\n",
    "  df<- as.data.frame(df)\n",
    "  df <- df[order(df$padj),]\n",
    "  df$gene_name <- gene_annotations[rownames(df),]$gene_name\n",
    "\n",
    "  df.sig <- subset(df, padj<0.05)\n",
    "  df.sig.up <- subset(df.sig, log2FoldChange>0)\n",
    "  df.sig.down <- subset(df.sig, log2FoldChange<0)\n",
    "  write.table(df, file = file.path(results.dir,\n",
    "                                   paste(prefix, 'tsv', sep='.')), sep = '\\t')\n",
    "\n",
    "  write.table(df.sig, file = file.path(results.dir,\n",
    "                                   paste(prefix, 'sig', 'tsv', sep='.')), sep = '\\t')\n",
    "  write.table(df.sig.up,  file = file.path(results.dir,\n",
    "                                       paste(prefix, 'sig', 'up', 'tsv', sep='.')), sep = '\\t')\n",
    "  write.table(df.sig.down,  file = file.path(results.dir,\n",
    "                                         paste(prefix, 'sig', 'down', 'tsv', sep='.')), sep = '\\t')\n",
    "  return (df.sig)\n",
    "}"
   ]
  },
  {
   "cell_type": "code",
   "execution_count": null,
   "metadata": {},
   "outputs": [],
   "source": [
    "plotHeatMap <- function(rlogdist, filename=NULL){\n",
    "  sampleDists <- dist(t(assay(rlogdist)))\n",
    "  sampleDistMatrix <- as.matrix(sampleDists)\n",
    "  rownames(sampleDistMatrix) <- colnames(rlogdist)#paste(rlogdist$condition, colnames(rlogdist), sep=\"-\")\n",
    "  colnames(sampleDistMatrix) <- NULL\n",
    "  colors <- colorRampPalette( rev(brewer.pal(9, \"Blues\")) )(255)\n",
    "  pheatmap(sampleDistMatrix,\n",
    "           clustering_distance_rows=sampleDists,\n",
    "           cellwidth=10,\n",
    "           cellheight=10,\n",
    "          clustering_distance_cols=sampleDists,\n",
    "           col=colors,)\n",
    "  if (!is.null(filename)) {\n",
    "      pheatmap(sampleDistMatrix,\n",
    "               cellwidth=20,\n",
    "               cellheight=20,\n",
    "               clustering_distance_rows=sampleDists,\n",
    "               clustering_distance_cols=sampleDists,\n",
    "               col=colors, filename=filename)\n",
    "  }\n",
    "}"
   ]
  },
  {
   "cell_type": "code",
   "execution_count": null,
   "metadata": {},
   "outputs": [],
   "source": [
    "metadata <- read.csv('../../re-ribo-smk/data/ortho-datasets-metadata/rna_ribo_metadata.tsv', sep='\\t',stringsAsFactors=F)\n",
    "metadata.ribo <- subset(metadata, metadata$assay=='ribo')\n",
    "species <- factor(metadata.ribo$species, levels=c(\"GRCh38\", \"panTro3\", \"Mmul8\"))\n",
    "sex <- factor(metadata.ribo$sex, levels=c(\"female\", \"male\"))\n",
    "\n",
    "metadata"
   ]
  },
  {
   "cell_type": "code",
   "execution_count": null,
   "metadata": {},
   "outputs": [],
   "source": [
    "hg38.Mmul8.ribo.counts <- read.csv('../../re-ribo-smk/data/ortho-datasets-counts/GRCh38_cds_ribo_ortho_Mmul8.tsv', header=T, row.names=1, stringsAsFactors=F, sep='\\t')\n",
    "hg38.panTro3.ribo.counts <- read.csv('../../re-ribo-smk/data/ortho-datasets-counts/GRCh38_cds_ribo_ortho_panTro3.tsv', header=T, row.names=1, stringsAsFactors=F, sep='\\t')\n",
    "hg38.all3.ribo.counts <- read.csv('../../re-ribo-smk/data/ortho-datasets-counts/GRCh38_cds_ribo_ortho_allthree.tsv', header=T, row.names=1, stringsAsFactors=F, sep='\\t')"
   ]
  },
  {
   "cell_type": "code",
   "execution_count": null,
   "metadata": {},
   "outputs": [],
   "source": [
    "metadata <- read.csv('../../re-ribo-smk/data/ortho-datasets-metadata/rna_ribo_metadata.tsv', sep='\\t',stringsAsFactors=F)\n",
    "metadata.ribo <- subset(metadata, metadata$assay=='ribo')\n",
    "metadata.ribo"
   ]
  },
  {
   "cell_type": "code",
   "execution_count": null,
   "metadata": {},
   "outputs": [],
   "source": [
    "metadata <- read.csv('../../re-ribo-smk/data/ortho-datasets-metadata/rna_ribo_metadata.tsv', sep='\\t',stringsAsFactors=F)\n",
    "metadata.ribo <- subset(metadata, metadata$assay=='ribo')\n",
    "\n",
    "species <- factor(metadata.ribo$species, levels=c(\"GRCh38\", \"panTro3\", \"Mmul8\"))\n",
    "sex <- factor(metadata.ribo$sex, levels=c(\"female\", \"male\"))\n",
    "\n",
    "#hg38.Mmul8.ribo.counts <- hg38.Mmul8.ribo.counts[, metadata.ribo$experiment_accession]\n",
    "#hg38.panTro3.ribo.counts <- hg38.panTro3.ribo.counts[, metadata.ribo$experiment_accession]\n",
    "hg38.all3.ribo.counts <- hg38.all3.ribo.counts[, metadata.ribo$experiment_accession]\n",
    "\n",
    "coldata <- data.frame(row.names=colnames(hg38.all3.ribo.counts), species, sex)\n",
    "dds <- DESeqDataSetFromMatrix(countData=hg38.all3.ribo.counts,\n",
    "                                    colData=coldata,\n",
    "                                    design=~species)\n",
    "dds <- DESeq(dds)\n",
    "dds <- dds[apply(counts(dds), 1, function(row) all(row !=0 )),]\n",
    "rld  <- rlogTransformation(dds , blind=TRUE)\n",
    "\n",
    "annotation.df <- as.data.frame(colData(dds)[, c(\"species\", \"sex\")])\n",
    "rownames(annotation.df) <- rownames(colData(dds))\n",
    "colnames(annotation.df) <- c(\"species\", \"sex\")\n",
    "pheatmap(assay(rld), show_rownames = F, cluster_rows = F, annotation_col=annotation.df, annotation_colors = colors)"
   ]
  },
  {
   "cell_type": "code",
   "execution_count": null,
   "metadata": {},
   "outputs": [],
   "source": [
    "dim(hg38.all3.ribo.counts)"
   ]
  },
  {
   "cell_type": "code",
   "execution_count": null,
   "metadata": {},
   "outputs": [],
   "source": []
  },
  {
   "cell_type": "code",
   "execution_count": null,
   "metadata": {},
   "outputs": [],
   "source": []
  },
  {
   "cell_type": "code",
   "execution_count": null,
   "metadata": {},
   "outputs": [],
   "source": []
  },
  {
   "cell_type": "code",
   "execution_count": null,
   "metadata": {},
   "outputs": [],
   "source": [
    "rld$species"
   ]
  },
  {
   "cell_type": "code",
   "execution_count": null,
   "metadata": {},
   "outputs": [],
   "source": [
    "data <- plotPCA(rld, intgroup = c(\"species\", \"sex\"), returnData=TRUE)\n",
    "percentVar <- round(100 * attr(data, \"percentVar\"))\n",
    "\n",
    "ggplot(data, aes(PC1, PC2, color=species, shape=sex, label = rownames(data))) +\n",
    "      scale_color_manual(\"species\", values=colors$species) +\n",
    "geom_text_repel() +\n",
    "geom_point(size=3) +\n",
    "xlab(paste0(\"PC1: \",percentVar[1],\"% variance\")) +\n",
    "ylab(paste0(\"PC2: \",percentVar[2],\"% variance\")) +\n",
    "coord_fixed() + #ggtitle('PCA -- all samples') +\n",
    "  theme(text = element_text(size=12)) \n",
    "#ggsave('plots_Jan_2019_30C_37C_rna_ribo_de_analysis/heatmap_all.pdf')"
   ]
  },
  {
   "cell_type": "markdown",
   "metadata": {},
   "source": [
    "# So need to exclude SRX1135820\tand \tSRX1135825\t from samples\n",
    "\n",
    "Contact Pritchard?\n",
    "Looks wrongly labeled  here: https://www.ncbi.nlm.nih.gov/Traces/study/?acc=SRP062129&go=go"
   ]
  },
  {
   "cell_type": "code",
   "execution_count": null,
   "metadata": {},
   "outputs": [],
   "source": [
    "hg38.all3.ribo.counts <- read.csv('../../re-ribo-smk/data/ortho-datasets-counts/GRCh38_cds_ribo_ortho_allthree.tsv', header=T, row.names=1, stringsAsFactors=F, sep='\\t')\n",
    "hg38.all3.ribo.counts.rm.outlier <- hg38.all3.ribo.counts[, -which(names(hg38.all3.ribo.counts) %in% c(\"SRX1135825\", \"SRX1135820\"))]\n",
    "metadata.rm.outlier <- subset(metadata, metadata$experiment_accession %notin% c(\"SRX1135825\", \"SRX1135820\"))\n",
    "#metadata\n",
    "#condition <- factor(metadata$condition, levels=c(\"30C\", \"37C\"))\n",
    "#assay <- factor(metadata$assay, levels=c(\"rna\", \"ribo\"))\n",
    "\n",
    "species <- factor(metadata.rm.outlier$species, levels=c(\"GRCh38\", \"panTro3\", \"Mmul8\"))\n",
    "sex <- factor(metadata.rm.outlier$sex, levels=c(\"female\", \"male\"))\n",
    "coldata <- data.frame(row.names=colnames(hg38.all3.ribo.counts.rm.outlier), species, sex)\n",
    "\n",
    "dds <- DESeqDataSetFromMatrix(countData=hg38.all3.ribo.counts.rm.outlier,\n",
    "                                    colData=coldata,\n",
    "                                    design=~species)\n",
    "dds <- DESeq(dds)\n",
    "dds <- dds[apply(counts(dds), 1, function(row) all(row !=0 )),]\n",
    "rld  <- rlogTransformation(dds , blind=TRUE)\n",
    "data <- plotPCA(rld, intgroup = c(\"species\", \"sex\"), returnData=TRUE)\n",
    "percentVar <- round(100 * attr(data, \"percentVar\"))\n",
    "\n",
    "ggplot(data, aes(PC1, PC2, color=species, shape=sex, label = rownames(data))) +\n",
    "      scale_color_manual(\"species\", values=colors$species) +\n",
    "geom_text_repel() +\n",
    "geom_point(size=3) +\n",
    "xlab(paste0(\"PC1: \",percentVar[1],\"% variance\")) +\n",
    "ylab(paste0(\"PC2: \",percentVar[2],\"% variance\")) +\n",
    "coord_fixed() + #ggtitle('PCA -- all samples') +\n",
    "  theme(text = element_text(size=12)) "
   ]
  },
  {
   "cell_type": "code",
   "execution_count": null,
   "metadata": {},
   "outputs": [],
   "source": [
    "plotHeatMap(rld)\n"
   ]
  },
  {
   "cell_type": "code",
   "execution_count": null,
   "metadata": {},
   "outputs": [],
   "source": [
    "pheatmap(assay(rld), show_rownames = F, cluster_rows = F, annotation_col=annotation.df, annotation_colors = colors)"
   ]
  },
  {
   "cell_type": "code",
   "execution_count": null,
   "metadata": {},
   "outputs": [],
   "source": [
    "normalized.counts <- as.data.frame(counts(dds, normalized=T))\n",
    "write.table(normalized.counts, file='../../re-ribo-smk/data/ortho-datasets-counts/GRCh38_cds_ribo_ortho_allthree_normalized_counts.tsv', \n",
    "          sep='\\t', row.names=T)"
   ]
  },
  {
   "cell_type": "code",
   "execution_count": null,
   "metadata": {},
   "outputs": [],
   "source": [
    "resultsNames(dds)"
   ]
  },
  {
   "cell_type": "code",
   "execution_count": null,
   "metadata": {},
   "outputs": [],
   "source": [
    "?results"
   ]
  },
  {
   "cell_type": "code",
   "execution_count": null,
   "metadata": {},
   "outputs": [],
   "source": [
    "results.panTro3 <- results(dds, name='species_panTro3_vs_GRCh38')\n",
    "results.panTro3 <- as.data.frame(results.panTro3[order(results.panTro3$padj),])"
   ]
  },
  {
   "cell_type": "code",
   "execution_count": null,
   "metadata": {},
   "outputs": [],
   "source": [
    "hist(results.panTro3$pvalue)"
   ]
  },
  {
   "cell_type": "code",
   "execution_count": null,
   "metadata": {},
   "outputs": [],
   "source": [
    "results.Mmul8 <- results(dds, name='species_Mmul8_vs_GRCh38')\n",
    "results.Mmul8  <- as.data.frame(results.Mmul8 [order(results.Mmul8 $padj),])\n",
    "hist(results.Mmul8$pvalue)"
   ]
  },
  {
   "cell_type": "code",
   "execution_count": null,
   "metadata": {},
   "outputs": [],
   "source": [
    "dim(results.Mmul8[results.Mmul8$padj<0.01,])"
   ]
  },
  {
   "cell_type": "code",
   "execution_count": null,
   "metadata": {},
   "outputs": [],
   "source": [
    "dim(results.panTro3[results.panTro3$padj<0.01,])"
   ]
  },
  {
   "cell_type": "code",
   "execution_count": null,
   "metadata": {},
   "outputs": [],
   "source": [
    "write_results(results.panTro3, \"/home/cmb-panasas2/skchoudh/github_projects/re-ribo-smk/data/ortho-differential-analysis/\", \"panTro3_GRCh38_cds_ribo_ortho_allthree\")\n"
   ]
  },
  {
   "cell_type": "code",
   "execution_count": null,
   "metadata": {},
   "outputs": [],
   "source": [
    "write_results(results.Mmul8, \"/home/cmb-panasas2/skchoudh/github_projects/re-ribo-smk/data/ortho-differential-analysis/\", \"Mmul8_GRCh38_cds_ribo_ortho_allthree\")\n"
   ]
  },
  {
   "cell_type": "markdown",
   "metadata": {},
   "source": [
    "# uORF"
   ]
  },
  {
   "cell_type": "code",
   "execution_count": null,
   "metadata": {},
   "outputs": [],
   "source": [
    "metadata <- read.csv('../../re-ribo-smk/data/ortho-datasets-metadata/rna_ribo_metadata.tsv', sep='\\t',stringsAsFactors=F)\n",
    "metadata.ribo <- subset(metadata, metadata$assay=='ribo')\n",
    "species <- factor(metadata.ribo$species, levels=c(\"GRCh38\", \"panTro3\", \"Mmul8\"))\n",
    "sex <- factor(metadata.ribo$sex, levels=c(\"female\", \"male\"))\n",
    "\n",
    "\n",
    "hg38.Mmul8.ribo.counts <- read.csv('../../re-ribo-smk/data/ortho-datasets-counts/GRCh38_uorf_ribo_ortho_Mmul8.tsv', header=T, row.names=1, stringsAsFactors=F, sep='\\t')\n",
    "hg38.panTro3.ribo.counts <- read.csv('../../re-ribo-smk/data/ortho-datasets-counts/GRCh38_uorf_ribo_ortho_panTro3.tsv', header=T, row.names=1, stringsAsFactors=F, sep='\\t')\n",
    "hg38.all3.ribo.counts <- read.csv('../../re-ribo-smk/data/ortho-datasets-counts/GRCh38_uorf_ribo_ortho_allthree.tsv', header=T, row.names=1, stringsAsFactors=F, sep='\\t')\n",
    "hg38.all3.ribo.counts <- hg38.all3.ribo.counts[, metadata.ribo$experiment_accession]\n",
    "\n",
    "coldata <- data.frame(row.names=colnames(hg38.all3.ribo.counts), species, sex)\n",
    "dds <- DESeqDataSetFromMatrix(countData=hg38.all3.ribo.counts,\n",
    "                              colData=coldata,\n",
    "                              design=~species)\n",
    "dds <- DESeq(dds)\n",
    "dds <- dds[apply(counts(dds), 1, function(row) all(row !=0 )),]\n",
    "rld  <- rlogTransformation(dds , blind=TRUE)\n",
    "                 \n",
    "                 \n",
    "annotation.df <- as.data.frame(colData(dds)[, c(\"species\", \"sex\")])\n",
    "rownames(annotation.df) <- rownames(colData(dds))\n",
    "colnames(annotation.df) <- c(\"species\", \"sex\")\n",
    "pheatmap(assay(rld), show_rownames = F, cluster_rows = F, annotation_col=annotation.df, annotation_colors = colors) \n",
    "                 \n",
    "data <- plotPCA(rld, intgroup = c(\"species\", \"sex\"), returnData=TRUE)\n",
    "percentVar <- round(100 * attr(data, \"percentVar\"))\n",
    "\n",
    "ggplot(data, aes(PC1, PC2, color=species, shape=sex, label = rownames(data))) +\n",
    "      scale_color_manual(\"species\", values=colors$species) +\n",
    "geom_text_repel() +\n",
    "geom_point(size=3) +\n",
    "xlab(paste0(\"PC1: \",percentVar[1],\"% variance\")) +\n",
    "ylab(paste0(\"PC2: \",percentVar[2],\"% variance\")) +\n",
    "coord_fixed() + #ggtitle('PCA -- all samples') +\n",
    "  theme(text = element_text(size=12))                  "
   ]
  },
  {
   "cell_type": "code",
   "execution_count": null,
   "metadata": {},
   "outputs": [],
   "source": []
  },
  {
   "cell_type": "code",
   "execution_count": null,
   "metadata": {},
   "outputs": [],
   "source": [
    "results.panTro3 <- results(dds, name='species_panTro3_vs_GRCh38')\n",
    "results.panTro3 <- as.data.frame(results.panTro3[order(results.panTro3$padj),])"
   ]
  },
  {
   "cell_type": "code",
   "execution_count": null,
   "metadata": {},
   "outputs": [],
   "source": [
    "hist(results.panTro3$pvalue)"
   ]
  },
  {
   "cell_type": "code",
   "execution_count": null,
   "metadata": {},
   "outputs": [],
   "source": [
    "results.Mmul8 <- results(dds, name='species_Mmul8_vs_GRCh38')\n",
    "results.Mmul8  <- as.data.frame(results.Mmul8 [order(results.Mmul8 $padj),])\n",
    "hist(results.Mmul8$pvalue)"
   ]
  },
  {
   "cell_type": "code",
   "execution_count": null,
   "metadata": {},
   "outputs": [],
   "source": [
    "dim(results.Mmul8[results.Mmul8$padj<0.01,])"
   ]
  },
  {
   "cell_type": "code",
   "execution_count": null,
   "metadata": {},
   "outputs": [],
   "source": [
    "dim(results.panTro3[results.panTro3$padj<0.01,])"
   ]
  },
  {
   "cell_type": "code",
   "execution_count": null,
   "metadata": {},
   "outputs": [],
   "source": [
    "write_results(results.panTro3, \n",
    "              \"/home/cmb-panasas2/skchoudh/github_projects/re-ribo-smk/data/ortho-differential-analysis/\", \n",
    "              \"panTro3_GRCh38_uorf_ribo_ortho_allthree\")\n"
   ]
  },
  {
   "cell_type": "code",
   "execution_count": null,
   "metadata": {},
   "outputs": [],
   "source": [
    "write_results(results.Mmul8, \n",
    "              \"/home/cmb-panasas2/skchoudh/github_projects/re-ribo-smk/data/ortho-differential-analysis/\",\n",
    "              \"Mmul8_GRCh38_uorf_ribo_ortho_allthree\")\n",
    "hist(results.Mmul8$log2FoldChange)"
   ]
  },
  {
   "cell_type": "markdown",
   "metadata": {},
   "source": [
    "# Translational Efficiency analysis"
   ]
  },
  {
   "cell_type": "code",
   "execution_count": null,
   "metadata": {},
   "outputs": [],
   "source": [
    "metadata <- read.csv('../../re-ribo-smk/data/ortho-datasets-metadata/rna_ribo_metadata.tsv', sep='\\t',stringsAsFactors=F)\n",
    "metadata.rna <- subset(metadata, metadata$assay=='rna')\n",
    "metadata.ribo <- subset(metadata, metadata$assay=='ribo')\n",
    "\n",
    "hg38.all3.rna.counts <- read.csv('../../re-ribo-smk/data/ortho-datasets-counts/GRCh38_cds_rna_ortho_allthree.tsv', header=T, row.names=1, stringsAsFactors=F, sep='\\t')\n",
    "hg38.all3.ribo.counts <- read.csv('../../re-ribo-smk/data/ortho-datasets-counts/GRCh38_cds_ribo_ortho_allthree.tsv', header=T, row.names=1, stringsAsFactors=F, sep='\\t')\n",
    "\n",
    "hg38.all3.rna.counts <- hg38.all3.rna.counts[, metadata.rna$experiment_accession]\n",
    "hg38.all3.ribo.counts <- hg38.all3.ribo.counts[, metadata.ribo$experiment_accession]\n",
    "\n"
   ]
  },
  {
   "cell_type": "code",
   "execution_count": null,
   "metadata": {},
   "outputs": [],
   "source": [
    "common.genes <- intersect(rownames(hg38.all3.rna.counts), rownames(hg38.all3.ribo.counts))\n",
    "hg38.all3.rna.counts <- hg38.all3.rna.counts[common.genes,]\n",
    "hg38.all3.ribo.counts <- hg38.all3.ribo.counts[common.genes,]"
   ]
  },
  {
   "cell_type": "code",
   "execution_count": null,
   "metadata": {},
   "outputs": [],
   "source": [
    "hg38.all3.combined.counts <- cbind(hg38.all3.rna.counts, hg38.all3.ribo.counts)\n",
    "hg38.all3.combined.counts <- hg38.all3.combined.counts[, metadata$experiment_accession]"
   ]
  },
  {
   "cell_type": "code",
   "execution_count": null,
   "metadata": {},
   "outputs": [],
   "source": [
    "species <- factor(metadata$species, levels=c(\"GRCh38\", \"panTro3\", \"Mmul8\"))\n",
    "sex <- factor(metadata$sex, levels=c(\"female\", \"male\"))\n",
    "assay <- factor(metadata$assay, levels=c(\"rna\", \"ribo\"))\n",
    "\n",
    "coldata <- data.frame(row.names=colnames(hg38.all3.combined.counts), species, sex, assay)\n",
    "dds <- DESeqDataSetFromMatrix(countData=hg38.all3.combined.counts,\n",
    "                                    colData=coldata,\n",
    "                                    design=~species+assay)\n",
    "\n",
    "dds <- DESeq(dds)\n",
    "dds <- dds[apply(counts(dds), 1, function(row) all(row !=0 )),]\n",
    "rld  <- rlogTransformation(dds , blind=TRUE)\n",
    "annotation.df <- as.data.frame(colData(dds)[, c(\"species\", \"sex\", \"assay\")])\n",
    "rownames(annotation.df) <- rownames(colData(dds))\n",
    "colnames(annotation.df) <- c(\"species\", \"sex\", \"assay\")\n",
    "pheatmap(assay(rld), show_rownames = F, cluster_rows = F, annotation_col=annotation.df, annotation_colors = colors)                 "
   ]
  },
  {
   "cell_type": "code",
   "execution_count": null,
   "metadata": {},
   "outputs": [],
   "source": [
    "data <- plotPCA(rld, intgroup = c(\"species\", \"assay\"), returnData=TRUE)\n",
    "percentVar <- round(100 * attr(data, \"percentVar\"))\n",
    "\n",
    "ggplot(data, aes(PC1, PC2, color=species, shape=assay, label = rownames(data))) +\n",
    "      scale_color_manual(\"species\", values=colors$species) +\n",
    "geom_text_repel() +\n",
    "geom_point(size=3) +\n",
    "xlab(paste0(\"PC1: \",percentVar[1],\"% variance\")) +\n",
    "ylab(paste0(\"PC2: \",percentVar[2],\"% variance\")) +\n",
    "coord_fixed() + #ggtitle('PCA -- all samples') +\n",
    "  theme(text = element_text(size=12)) "
   ]
  },
  {
   "cell_type": "code",
   "execution_count": null,
   "metadata": {},
   "outputs": [],
   "source": [
    "rownames(metadata) <- metadata$experiment_accession"
   ]
  },
  {
   "cell_type": "code",
   "execution_count": null,
   "metadata": {},
   "outputs": [],
   "source": [
    "riborex.Mmul8 <- riborex(rnaCntTable = hg38.all3.rna.counts, \n",
    "                          riboCntTable = hg38.all3.ribo.counts,\n",
    "                          rnaCond = data.frame('species' = metadata[colnames(hg38.all3.rna.counts),]$species) ,\n",
    "                          riboCond = data.frame('species' = metadata[colnames(hg38.all3.ribo.counts),]$species), \n",
    "                          contrast = c('species', 'Mmul8', 'GRCh38'), \n",
    "                          minMeanCount = 1)\n",
    "riborex.Mmul8 <- riborex.Mmul8[order(riborex.Mmul8$pvalue),]\n",
    "riborex.Mmul8 <- as.data.frame(riborex.Mmul8[order(riborex.Mmul8$pvalue),])"
   ]
  },
  {
   "cell_type": "code",
   "execution_count": null,
   "metadata": {},
   "outputs": [],
   "source": [
    "hist(riborex.Mmul8$pvalue)"
   ]
  },
  {
   "cell_type": "code",
   "execution_count": null,
   "metadata": {},
   "outputs": [],
   "source": [
    "dim(riborex.Mmul8[riborex.Mmul8$pvalue<0.05,])"
   ]
  },
  {
   "cell_type": "code",
   "execution_count": null,
   "metadata": {},
   "outputs": [],
   "source": [
    "riborex.panTro3 <- riborex(rnaCntTable = hg38.all3.rna.counts, \n",
    "                          riboCntTable = hg38.all3.ribo.counts,\n",
    "                          rnaCond = data.frame('species' = metadata[colnames(hg38.all3.rna.counts),]$species) ,\n",
    "                          riboCond = data.frame('species' = metadata[colnames(hg38.all3.ribo.counts),]$species), \n",
    "                          contrast = c('species', 'panTro3', 'GRCh38'), \n",
    "                          minMeanCount = 1)\n",
    "riborex.panTro3 <- riborex.panTro3[order(riborex.panTro3$pvalue),]\n",
    "riborex.panTro3 <- as.data.frame(riborex.panTro3[order(riborex.panTro3$pvalue),])\n",
    "hist(riborex.panTro3$pvalue)"
   ]
  },
  {
   "cell_type": "code",
   "execution_count": null,
   "metadata": {},
   "outputs": [],
   "source": [
    "dim(riborex.panTro3[riborex.panTro3$pvalue<0.05,])"
   ]
  },
  {
   "cell_type": "code",
   "execution_count": null,
   "metadata": {},
   "outputs": [],
   "source": [
    "write_results(riborex.panTro3,\n",
    "              \"/home/cmb-panasas2/skchoudh/github_projects/re-ribo-smk/data/ortho-differential-analysis/\", \n",
    "              \"panTro3_GRCh38_TE_ortho_allthree\")\n",
    "write_results(riborex.Mmul8, \n",
    "              \"/home/cmb-panasas2/skchoudh/github_projects/re-ribo-smk/data/ortho-differential-analysis/\", \n",
    "              \"Mmul8_GRCh38_TE_ortho_allthree\")\n"
   ]
  },
  {
   "cell_type": "code",
   "execution_count": null,
   "metadata": {},
   "outputs": [],
   "source": [
    "metadata.hg38 = subset(metadata, metadata$species == 'GRCh38')\n",
    "sex <- factor(metadata.hg38$sex, levels=c(\"male\", \"female\"))\n",
    "assay <- factor(metadata.hg38$assay, levels=c(\"rna\", \"ribo\"))\n",
    "\n",
    "hg38.cds.counts <- read.csv('../../re-ribo-smk/data/ortho-datasets-counts/GRCh38_cds.tsv', sep='\\t', row.names=1)\n",
    "hg38.cds.counts <- hg38.cds.counts[, metadata.hg38$experiment_accession]\n"
   ]
  },
  {
   "cell_type": "code",
   "execution_count": null,
   "metadata": {},
   "outputs": [],
   "source": [
    "coldata <- data.frame(row.names=colnames(hg38.cds.counts), sex, assay)\n",
    "dds <- DESeqDataSetFromMatrix(countData=hg38.cds.counts,\n",
    "                              colData=coldata,\n",
    "                              design=~assay)\n",
    "dds <- DESeq(dds)\n",
    "dds <- dds[apply(counts(dds), 1, function(row) all(row !=0 )),]\n",
    "rld  <- rlogTransformation(dds , blind=TRUE)\n",
    "                 \n",
    "                 \n",
    "annotation.df <- as.data.frame(colData(dds)[, c(\"assay\", \"sex\")])\n",
    "rownames(annotation.df) <- rownames(colData(dds))\n",
    "colnames(annotation.df) <- c(\"assay\", \"sex\")\n",
    "pheatmap(assay(rld), show_rownames = F, cluster_rows = F, annotation_col=annotation.df, annotation_colors = colors) \n",
    "                 \n",
    "data <- plotPCA(rld, intgroup = c(\"assay\", \"sex\"), returnData=TRUE)\n",
    "percentVar <- round(100 * attr(data, \"percentVar\"))\n",
    "\n",
    "ggplot(data, aes(PC1, PC2, color=assay, shape=sex, label = rownames(data))) +\n",
    "      scale_color_manual(\"assay\", values=colors$assay) +\n",
    "geom_text_repel() +\n",
    "geom_point(size=3) +\n",
    "xlab(paste0(\"PC1: \",percentVar[1],\"% variance\")) +\n",
    "ylab(paste0(\"PC2: \",percentVar[2],\"% variance\")) +\n",
    "coord_fixed() + #ggtitle('PCA -- all samples') +\n",
    "  theme(text = element_text(size=12))      "
   ]
  },
  {
   "cell_type": "code",
   "execution_count": null,
   "metadata": {},
   "outputs": [],
   "source": [
    "results.hg38.TE <- results(dds)\n",
    "write_results(results.hg38.TE,\n",
    "              \"/home/cmb-panasas2/skchoudh/github_projects/re-ribo-smk/data/ortho-datasets-translational-efficiency/\", \n",
    "              \"GRCh38_TE\")\n"
   ]
  },
  {
   "cell_type": "code",
   "execution_count": null,
   "metadata": {},
   "outputs": [],
   "source": [
    "hg38.uORF.counts <- read.csv('../../re-ribo-smk/data/ortho-datasets-counts/GRCh38_uORF.tsv', sep='\\t', row.names=1)\n",
    "hg38.uORF.counts <- hg38.uORF.counts[, metadata.hg38$experiment_accession]\n",
    "\n",
    "coldata <- data.frame(row.names=colnames(hg38.uORF.counts), sex, assay)\n",
    "dds <- DESeqDataSetFromMatrix(countData=hg38.uORF.counts,\n",
    "                              colData=coldata,\n",
    "                              design=~assay)\n",
    "dds <- DESeq(dds)\n",
    "dds <- dds[apply(counts(dds), 1, function(row) all(row !=0 )),]\n",
    "rld  <- rlogTransformation(dds , blind=TRUE)\n",
    "                 \n",
    "                 \n",
    "annotation.df <- as.data.frame(colData(dds)[, c(\"assay\", \"sex\")])\n",
    "rownames(annotation.df) <- rownames(colData(dds))\n",
    "colnames(annotation.df) <- c(\"assay\", \"sex\")\n",
    "pheatmap(assay(rld), show_rownames = F, cluster_rows = F, annotation_col=annotation.df, annotation_colors = colors) \n",
    "                 \n",
    "data <- plotPCA(rld, intgroup = c(\"assay\", \"sex\"), returnData=TRUE)\n",
    "percentVar <- round(100 * attr(data, \"percentVar\"))\n",
    "\n",
    "ggplot(data, aes(PC1, PC2, color=assay, shape=sex, label = rownames(data))) +\n",
    "      scale_color_manual(\"assay\", values=colors$assay) +\n",
    "geom_text_repel() +\n",
    "geom_point(size=3) +\n",
    "xlab(paste0(\"PC1: \",percentVar[1],\"% variance\")) +\n",
    "ylab(paste0(\"PC2: \",percentVar[2],\"% variance\")) +\n",
    "coord_fixed() + #ggtitle('PCA -- all samples') +\n",
    "  theme(text = element_text(size=12))      "
   ]
  },
  {
   "cell_type": "code",
   "execution_count": null,
   "metadata": {},
   "outputs": [],
   "source": [
    "results.hg38.dORF <- results(dds)\n",
    "write_results(results.hg38.dORF,\n",
    "              \"/home/cmb-panasas2/skchoudh/github_projects/re-ribo-smk/data/ortho-datasets-translational-efficiency/\", \n",
    "              \"GRCh38_dORF\")\n"
   ]
  },
  {
   "cell_type": "code",
   "execution_count": null,
   "metadata": {},
   "outputs": [],
   "source": []
  }
 ],
 "metadata": {
  "kernelspec": {
   "display_name": "R [conda env:rna_seq_de]",
   "language": "R",
   "name": "conda-env-rna_seq_de-r"
  },
  "language_info": {
   "codemirror_mode": "r",
   "file_extension": ".r",
   "mimetype": "text/x-r-source",
   "name": "R",
   "pygments_lexer": "r",
   "version": "3.5.1"
  }
 },
 "nbformat": 4,
 "nbformat_minor": 2
}
