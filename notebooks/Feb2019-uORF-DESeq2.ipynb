{
 "cells": [
  {
   "cell_type": "code",
   "execution_count": 2,
   "metadata": {},
   "outputs": [],
   "source": [
    "suppressMessages(library(DESeq2))\n",
    "\n",
    "readcounts.dir <- '/staging/as/skchoudh/SRP010679_tx_counts/'\n",
    "design.file <-  '/staging/as/skchoudh/SRP010679_tx_counts/metadata_ribo.tsv'\n",
    "\n",
    "## Suffix of htseq-count output\n",
    "counts.suffix <- '.tsv'\n",
    "\n",
    "t2g <- read.table('/home/cmb-panasas2/skchoudh/genomes/hg38/annotation/tx_to_gene_type_name.tsv', stringsAsFactors = F, header = T)\n",
    "colnames(t2g) <- c('target_id', 'ens_gene', 'transcript_type', 'gene_type',  'ext_gene')\n",
    "t2g <- t2g[, c('target_id', 'ens_gene', 'ext_gene')]\n",
    "rownames(t2g) <- t2g$target_id\n",
    "\n",
    "write_results <- function(df, prefix){\n",
    "  df<- as.data.frame(df)\n",
    "  df <- df[order(df$padj),]\n",
    "  df$gene_id <- t2g[rownames(df),]$ens_gene\n",
    "  df$gene_name <- t2g[rownames(df),]$ext_gene\n",
    "  df.sig <- subset(df, padj<0.05)\n",
    "  df.sig.up <- subset(df.sig, log2FoldChange>0)\n",
    "  df.sig.down <- subset(df.sig, log2FoldChange<0)\n",
    "  write.table(df, file = file.path(paste(prefix, 'tsv', sep='.')), sep = '\\t')\n",
    "\n",
    "  write.table(df.sig, file = file.path(paste(prefix, 'sig', 'tsv', sep='.')), sep = '\\t')\n",
    "  write.table(df.sig.up,  file = file.path(paste(prefix, 'sig', 'up', 'tsv', sep='.')), sep = '\\t')\n",
    "  write.table(df.sig.down,  file = file.path(paste(prefix, 'sig', 'down', 'tsv', sep='.')), sep = '\\t')\n",
    "  return (df.sig)\n",
    "}"
   ]
  },
  {
   "cell_type": "code",
   "execution_count": 2,
   "metadata": {},
   "outputs": [
    {
     "name": "stderr",
     "output_type": "stream",
     "text": [
      "estimating size factors\n",
      "estimating dispersions\n",
      "gene-wise dispersion estimates\n",
      "mean-dispersion relationship\n",
      "final dispersion estimates\n",
      "fitting model and testing\n"
     ]
    }
   ],
   "source": [
    "design.info <- read.table(design.file, header=T, stringsAsFactors=FALSE, sep='\\t')\n",
    "design.info <- design.info[design.info$treatment %in% c(\"vehicle\", \"rapamycin\") ,]\n",
    "design.info$treatment <- factor(design.info$treatment, levels=c(\"vehicle\", \"rapamycin\"))\n",
    "files <- paste(design.info$experiment_accession, counts.suffix, sep='')\n",
    "sampleName <- design.info$experiment_accession\n",
    "\n",
    "\n",
    "\n",
    "sampleTable <- data.frame(sampleName = sampleName, \n",
    "                          fileName = files, \n",
    "                          treatment=design.info$treatment)\n",
    "ddsHTSeq <- DESeqDataSetFromHTSeqCount(sampleTable = sampleTable, \n",
    "                                       directory = readcounts.dir,\n",
    "                                       design = ~ treatment)\n",
    "rownames(ddsHTSeq) <- gsub('\\\\.[0-9]+', '', rownames(ddsHTSeq))\n",
    "ddsHTSeq <- ddsHTSeq[ rowSums(counts(ddsHTSeq)) > 1, ]\n",
    "dds <- DESeq(ddsHTSeq)"
   ]
  },
  {
   "cell_type": "code",
   "execution_count": 3,
   "metadata": {},
   "outputs": [
    {
     "data": {
      "text/html": [
       "<table>\n",
       "<thead><tr><th></th><th scope=col>baseMean</th><th scope=col>log2FoldChange</th><th scope=col>lfcSE</th><th scope=col>stat</th><th scope=col>pvalue</th><th scope=col>padj</th><th scope=col>gene_id</th><th scope=col>gene_name</th></tr></thead>\n",
       "<tbody>\n",
       "\t<tr><th scope=row>ENST00000242810</th><td>165.2205          </td><td> 2.007134         </td><td>0.4138739         </td><td> 4.849627         </td><td>1.236939e-06      </td><td>0.009628727       </td><td>ENSG00000114796.15</td><td>KLHL24            </td></tr>\n",
       "\t<tr><th scope=row>ENST00000245185</th><td>968.6928          </td><td> 1.619759         </td><td>0.3312439         </td><td> 4.889930         </td><td>1.008718e-06      </td><td>0.009628727       </td><td>ENSG00000125148.6 </td><td>MT2A              </td></tr>\n",
       "\t<tr><th scope=row>ENST00000309268</th><td>113.0751          </td><td>-2.389704         </td><td>0.4897919         </td><td>-4.879018         </td><td>1.066154e-06      </td><td>0.009628727       </td><td>ENSG00000156508.17</td><td>EEF1A1            </td></tr>\n",
       "\t<tr><th scope=row>ENST00000316292</th><td>113.0751          </td><td>-2.389704         </td><td>0.4897919         </td><td>-4.879018         </td><td>1.066154e-06      </td><td>0.009628727       </td><td>ENSG00000156508.17</td><td>EEF1A1            </td></tr>\n",
       "\t<tr><th scope=row>ENST00000331523</th><td>113.0751          </td><td>-2.389704         </td><td>0.4897919         </td><td>-4.879018         </td><td>1.066154e-06      </td><td>0.009628727       </td><td>ENSG00000156508.17</td><td>EEF1A1            </td></tr>\n",
       "\t<tr><th scope=row>ENST00000356303</th><td>110.3998          </td><td>-2.540367         </td><td>0.5282843         </td><td>-4.808713         </td><td>1.519053e-06      </td><td>0.009628727       </td><td>ENSG00000156508.17</td><td>EEF1A1            </td></tr>\n",
       "\t<tr><th scope=row>ENST00000454652</th><td>165.2205          </td><td> 2.007134         </td><td>0.4138739         </td><td> 4.849627         </td><td>1.236939e-06      </td><td>0.009628727       </td><td>ENSG00000114796.15</td><td>KLHL24            </td></tr>\n",
       "\t<tr><th scope=row>ENST00000455918</th><td>110.3998          </td><td>-2.540367         </td><td>0.5282843         </td><td>-4.808713         </td><td>1.519053e-06      </td><td>0.009628727       </td><td>ENSG00000156508.17</td><td>EEF1A1            </td></tr>\n",
       "\t<tr><th scope=row>ENST00000476808</th><td>146.4641          </td><td> 2.092052         </td><td>0.4318124         </td><td> 4.844816         </td><td>1.267290e-06      </td><td>0.009628727       </td><td>ENSG00000114796.15</td><td>KLHL24            </td></tr>\n",
       "\t<tr><th scope=row>ENST00000610520</th><td>113.0751          </td><td>-2.389704         </td><td>0.4897919         </td><td>-4.879018         </td><td>1.066154e-06      </td><td>0.009628727       </td><td>ENSG00000156508.17</td><td>EEF1A1            </td></tr>\n",
       "\t<tr><th scope=row>ENST00000615060</th><td>113.0751          </td><td>-2.389704         </td><td>0.4897919         </td><td>-4.879018         </td><td>1.066154e-06      </td><td>0.009628727       </td><td>ENSG00000156508.17</td><td>EEF1A1            </td></tr>\n",
       "\t<tr><th scope=row>ENST00000561491</th><td>816.1492          </td><td> 1.478412         </td><td>0.3225667         </td><td> 4.583275         </td><td>4.577488e-06      </td><td>0.026597115       </td><td>ENSG00000125148.6 </td><td>MT2A              </td></tr>\n",
       "\t<tr><th scope=row>ENST00000522387</th><td>657.6472          </td><td>-1.232897         </td><td>0.2757203         </td><td>-4.471548         </td><td>7.765532e-06      </td><td>0.041650132       </td><td>ENSG00000070756.14</td><td>PABPC1            </td></tr>\n",
       "</tbody>\n",
       "</table>\n"
      ],
      "text/latex": [
       "\\begin{tabular}{r|llllllll}\n",
       "  & baseMean & log2FoldChange & lfcSE & stat & pvalue & padj & gene\\_id & gene\\_name\\\\\n",
       "\\hline\n",
       "\tENST00000242810 & 165.2205           &  2.007134          & 0.4138739          &  4.849627          & 1.236939e-06       & 0.009628727        & ENSG00000114796.15 & KLHL24            \\\\\n",
       "\tENST00000245185 & 968.6928           &  1.619759          & 0.3312439          &  4.889930          & 1.008718e-06       & 0.009628727        & ENSG00000125148.6  & MT2A              \\\\\n",
       "\tENST00000309268 & 113.0751           & -2.389704          & 0.4897919          & -4.879018          & 1.066154e-06       & 0.009628727        & ENSG00000156508.17 & EEF1A1            \\\\\n",
       "\tENST00000316292 & 113.0751           & -2.389704          & 0.4897919          & -4.879018          & 1.066154e-06       & 0.009628727        & ENSG00000156508.17 & EEF1A1            \\\\\n",
       "\tENST00000331523 & 113.0751           & -2.389704          & 0.4897919          & -4.879018          & 1.066154e-06       & 0.009628727        & ENSG00000156508.17 & EEF1A1            \\\\\n",
       "\tENST00000356303 & 110.3998           & -2.540367          & 0.5282843          & -4.808713          & 1.519053e-06       & 0.009628727        & ENSG00000156508.17 & EEF1A1            \\\\\n",
       "\tENST00000454652 & 165.2205           &  2.007134          & 0.4138739          &  4.849627          & 1.236939e-06       & 0.009628727        & ENSG00000114796.15 & KLHL24            \\\\\n",
       "\tENST00000455918 & 110.3998           & -2.540367          & 0.5282843          & -4.808713          & 1.519053e-06       & 0.009628727        & ENSG00000156508.17 & EEF1A1            \\\\\n",
       "\tENST00000476808 & 146.4641           &  2.092052          & 0.4318124          &  4.844816          & 1.267290e-06       & 0.009628727        & ENSG00000114796.15 & KLHL24            \\\\\n",
       "\tENST00000610520 & 113.0751           & -2.389704          & 0.4897919          & -4.879018          & 1.066154e-06       & 0.009628727        & ENSG00000156508.17 & EEF1A1            \\\\\n",
       "\tENST00000615060 & 113.0751           & -2.389704          & 0.4897919          & -4.879018          & 1.066154e-06       & 0.009628727        & ENSG00000156508.17 & EEF1A1            \\\\\n",
       "\tENST00000561491 & 816.1492           &  1.478412          & 0.3225667          &  4.583275          & 4.577488e-06       & 0.026597115        & ENSG00000125148.6  & MT2A              \\\\\n",
       "\tENST00000522387 & 657.6472           & -1.232897          & 0.2757203          & -4.471548          & 7.765532e-06       & 0.041650132        & ENSG00000070756.14 & PABPC1            \\\\\n",
       "\\end{tabular}\n"
      ],
      "text/markdown": [
       "\n",
       "| <!--/--> | baseMean | log2FoldChange | lfcSE | stat | pvalue | padj | gene_id | gene_name |\n",
       "|---|---|---|---|---|---|---|---|---|\n",
       "| ENST00000242810 | 165.2205           |  2.007134          | 0.4138739          |  4.849627          | 1.236939e-06       | 0.009628727        | ENSG00000114796.15 | KLHL24             |\n",
       "| ENST00000245185 | 968.6928           |  1.619759          | 0.3312439          |  4.889930          | 1.008718e-06       | 0.009628727        | ENSG00000125148.6  | MT2A               |\n",
       "| ENST00000309268 | 113.0751           | -2.389704          | 0.4897919          | -4.879018          | 1.066154e-06       | 0.009628727        | ENSG00000156508.17 | EEF1A1             |\n",
       "| ENST00000316292 | 113.0751           | -2.389704          | 0.4897919          | -4.879018          | 1.066154e-06       | 0.009628727        | ENSG00000156508.17 | EEF1A1             |\n",
       "| ENST00000331523 | 113.0751           | -2.389704          | 0.4897919          | -4.879018          | 1.066154e-06       | 0.009628727        | ENSG00000156508.17 | EEF1A1             |\n",
       "| ENST00000356303 | 110.3998           | -2.540367          | 0.5282843          | -4.808713          | 1.519053e-06       | 0.009628727        | ENSG00000156508.17 | EEF1A1             |\n",
       "| ENST00000454652 | 165.2205           |  2.007134          | 0.4138739          |  4.849627          | 1.236939e-06       | 0.009628727        | ENSG00000114796.15 | KLHL24             |\n",
       "| ENST00000455918 | 110.3998           | -2.540367          | 0.5282843          | -4.808713          | 1.519053e-06       | 0.009628727        | ENSG00000156508.17 | EEF1A1             |\n",
       "| ENST00000476808 | 146.4641           |  2.092052          | 0.4318124          |  4.844816          | 1.267290e-06       | 0.009628727        | ENSG00000114796.15 | KLHL24             |\n",
       "| ENST00000610520 | 113.0751           | -2.389704          | 0.4897919          | -4.879018          | 1.066154e-06       | 0.009628727        | ENSG00000156508.17 | EEF1A1             |\n",
       "| ENST00000615060 | 113.0751           | -2.389704          | 0.4897919          | -4.879018          | 1.066154e-06       | 0.009628727        | ENSG00000156508.17 | EEF1A1             |\n",
       "| ENST00000561491 | 816.1492           |  1.478412          | 0.3225667          |  4.583275          | 4.577488e-06       | 0.026597115        | ENSG00000125148.6  | MT2A               |\n",
       "| ENST00000522387 | 657.6472           | -1.232897          | 0.2757203          | -4.471548          | 7.765532e-06       | 0.041650132        | ENSG00000070756.14 | PABPC1             |\n",
       "\n"
      ],
      "text/plain": [
       "                baseMean log2FoldChange lfcSE     stat      pvalue      \n",
       "ENST00000242810 165.2205  2.007134      0.4138739  4.849627 1.236939e-06\n",
       "ENST00000245185 968.6928  1.619759      0.3312439  4.889930 1.008718e-06\n",
       "ENST00000309268 113.0751 -2.389704      0.4897919 -4.879018 1.066154e-06\n",
       "ENST00000316292 113.0751 -2.389704      0.4897919 -4.879018 1.066154e-06\n",
       "ENST00000331523 113.0751 -2.389704      0.4897919 -4.879018 1.066154e-06\n",
       "ENST00000356303 110.3998 -2.540367      0.5282843 -4.808713 1.519053e-06\n",
       "ENST00000454652 165.2205  2.007134      0.4138739  4.849627 1.236939e-06\n",
       "ENST00000455918 110.3998 -2.540367      0.5282843 -4.808713 1.519053e-06\n",
       "ENST00000476808 146.4641  2.092052      0.4318124  4.844816 1.267290e-06\n",
       "ENST00000610520 113.0751 -2.389704      0.4897919 -4.879018 1.066154e-06\n",
       "ENST00000615060 113.0751 -2.389704      0.4897919 -4.879018 1.066154e-06\n",
       "ENST00000561491 816.1492  1.478412      0.3225667  4.583275 4.577488e-06\n",
       "ENST00000522387 657.6472 -1.232897      0.2757203 -4.471548 7.765532e-06\n",
       "                padj        gene_id            gene_name\n",
       "ENST00000242810 0.009628727 ENSG00000114796.15 KLHL24   \n",
       "ENST00000245185 0.009628727 ENSG00000125148.6  MT2A     \n",
       "ENST00000309268 0.009628727 ENSG00000156508.17 EEF1A1   \n",
       "ENST00000316292 0.009628727 ENSG00000156508.17 EEF1A1   \n",
       "ENST00000331523 0.009628727 ENSG00000156508.17 EEF1A1   \n",
       "ENST00000356303 0.009628727 ENSG00000156508.17 EEF1A1   \n",
       "ENST00000454652 0.009628727 ENSG00000114796.15 KLHL24   \n",
       "ENST00000455918 0.009628727 ENSG00000156508.17 EEF1A1   \n",
       "ENST00000476808 0.009628727 ENSG00000114796.15 KLHL24   \n",
       "ENST00000610520 0.009628727 ENSG00000156508.17 EEF1A1   \n",
       "ENST00000615060 0.009628727 ENSG00000156508.17 EEF1A1   \n",
       "ENST00000561491 0.026597115 ENSG00000125148.6  MT2A     \n",
       "ENST00000522387 0.041650132 ENSG00000070756.14 PABPC1   "
      ]
     },
     "metadata": {},
     "output_type": "display_data"
    }
   ],
   "source": [
    "rapamycin_vs_vehicle <- results(dds)\n",
    "\n",
    "write_results(rapamycin_vs_vehicle, '/staging/as/skchoudh/SRP010679_tx_differential_analysis/ribo_rapamycin_vs_vehicle')\n"
   ]
  },
  {
   "cell_type": "code",
   "execution_count": 5,
   "metadata": {},
   "outputs": [
    {
     "name": "stderr",
     "output_type": "stream",
     "text": [
      "estimating size factors\n",
      "estimating dispersions\n",
      "gene-wise dispersion estimates\n",
      "mean-dispersion relationship\n",
      "final dispersion estimates\n",
      "fitting model and testing\n"
     ]
    },
    {
     "data": {
      "text/html": [
       "<table>\n",
       "<thead><tr><th></th><th scope=col>baseMean</th><th scope=col>log2FoldChange</th><th scope=col>lfcSE</th><th scope=col>stat</th><th scope=col>pvalue</th><th scope=col>padj</th><th scope=col>gene_id</th><th scope=col>gene_name</th></tr></thead>\n",
       "<tbody>\n",
       "\t<tr><th scope=row>ENST00000456586</th><td>1119.8576         </td><td>-2.630413         </td><td>0.2773067         </td><td>-9.485573         </td><td>2.410555e-21      </td><td>8.097296e-17      </td><td>ENSG00000197756.9 </td><td>RPL37A            </td></tr>\n",
       "\t<tr><th scope=row>ENST00000309311</th><td>3184.5381         </td><td>-2.852667         </td><td>0.3055571         </td><td>-9.335951         </td><td>1.000886e-20      </td><td>1.681038e-16      </td><td>ENSG00000167658.15</td><td>EEF2              </td></tr>\n",
       "\t<tr><th scope=row>ENST00000227378</th><td>3535.6029         </td><td>-2.736981         </td><td>0.3086245         </td><td>-8.868321         </td><td>7.425721e-19      </td><td>3.563392e-15      </td><td>ENSG00000109971.13</td><td>HSPA8             </td></tr>\n",
       "\t<tr><th scope=row>ENST00000526110</th><td>3535.6029         </td><td>-2.736981         </td><td>0.3086245         </td><td>-8.868321         </td><td>7.425721e-19      </td><td>3.563392e-15      </td><td>ENSG00000109971.13</td><td>HSPA8             </td></tr>\n",
       "\t<tr><th scope=row>ENST00000532636</th><td>3535.6029         </td><td>-2.736981         </td><td>0.3086245         </td><td>-8.868321         </td><td>7.425721e-19      </td><td>3.563392e-15      </td><td>ENSG00000109971.13</td><td>HSPA8             </td></tr>\n",
       "\t<tr><th scope=row>ENST00000533540</th><td>3051.6804         </td><td>-2.698730         </td><td>0.3016028         </td><td>-8.947959         </td><td>3.621161e-19      </td><td>3.563392e-15      </td><td>ENSG00000109971.13</td><td>HSPA8             </td></tr>\n",
       "\t<tr><th scope=row>ENST00000534624</th><td>3535.6029         </td><td>-2.736981         </td><td>0.3086245         </td><td>-8.868321         </td><td>7.425721e-19      </td><td>3.563392e-15      </td><td>ENSG00000109971.13</td><td>HSPA8             </td></tr>\n",
       "\t<tr><th scope=row>ENST00000526686</th><td>1357.9862         </td><td>-2.706329         </td><td>0.3077127         </td><td>-8.794987         </td><td>1.430647e-18      </td><td>6.007107e-15      </td><td>ENSG00000109971.13</td><td>HSPA8             </td></tr>\n",
       "\t<tr><th scope=row>ENST00000534319</th><td>2586.5368         </td><td>-2.717969         </td><td>0.3106462         </td><td>-8.749405         </td><td>2.144804e-18      </td><td>8.005123e-15      </td><td>ENSG00000109971.13</td><td>HSPA8             </td></tr>\n",
       "\t<tr><th scope=row>ENST00000427280</th><td> 817.9089         </td><td>-2.562162         </td><td>0.2944238         </td><td>-8.702291         </td><td>3.252491e-18      </td><td>9.104534e-15      </td><td>ENSG00000197756.9 </td><td>RPL37A            </td></tr>\n",
       "\t<tr><th scope=row>ENST00000441179</th><td> 817.9089         </td><td>-2.562162         </td><td>0.2944238         </td><td>-8.702291         </td><td>3.252491e-18      </td><td>9.104534e-15      </td><td>ENSG00000197756.9 </td><td>RPL37A            </td></tr>\n",
       "\t<tr><th scope=row>ENST00000598925</th><td> 817.9089         </td><td>-2.562162         </td><td>0.2944238         </td><td>-8.702291         </td><td>3.252491e-18      </td><td>9.104534e-15      </td><td>ENSG00000197756.9 </td><td>RPL37A            </td></tr>\n",
       "\t<tr><th scope=row>ENST00000528292</th><td>1089.4637         </td><td>-2.845395         </td><td>0.3295198         </td><td>-8.634973         </td><td>5.874088e-18      </td><td>1.517819e-14      </td><td>ENSG00000109971.13</td><td>HSPA8             </td></tr>\n",
       "\t<tr><th scope=row>ENST00000453788</th><td>2222.0507         </td><td>-2.748899         </td><td>0.3218659         </td><td>-8.540510         </td><td>1.336312e-17      </td><td>2.640473e-14      </td><td>ENSG00000109971.13</td><td>HSPA8             </td></tr>\n",
       "\t<tr><th scope=row>ENST00000491306</th><td>1347.1812         </td><td>-2.386738         </td><td>0.2787730         </td><td>-8.561582         </td><td>1.113290e-17      </td><td>2.640473e-14      </td><td>ENSG00000197756.9 </td><td>RPL37A            </td></tr>\n",
       "\t<tr><th scope=row>ENST00000525624</th><td> 669.6342         </td><td>-2.704752         </td><td>0.3166509         </td><td>-8.541748         </td><td>1.322066e-17      </td><td>2.640473e-14      </td><td>ENSG00000109971.13</td><td>HSPA8             </td></tr>\n",
       "\t<tr><th scope=row>ENST00000534567</th><td> 664.9204         </td><td>-2.699766         </td><td>0.3156201         </td><td>-8.553845         </td><td>1.190550e-17      </td><td>2.640473e-14      </td><td>ENSG00000109971.13</td><td>HSPA8             </td></tr>\n",
       "\t<tr><th scope=row>ENST00000524590</th><td> 604.9448         </td><td>-2.643488         </td><td>0.3120414         </td><td>-8.471595         </td><td>2.420550e-17      </td><td>4.065435e-14      </td><td>ENSG00000109971.13</td><td>HSPA8             </td></tr>\n",
       "\t<tr><th scope=row>ENST00000530391</th><td> 604.9448         </td><td>-2.643488         </td><td>0.3120414         </td><td>-8.471595         </td><td>2.420550e-17      </td><td>4.065435e-14      </td><td>ENSG00000109971.13</td><td>HSPA8             </td></tr>\n",
       "\t<tr><th scope=row>ENST00000532182</th><td> 604.9448         </td><td>-2.643488         </td><td>0.3120414         </td><td>-8.471595         </td><td>2.420550e-17      </td><td>4.065435e-14      </td><td>ENSG00000109971.13</td><td>HSPA8             </td></tr>\n",
       "\t<tr><th scope=row>ENST00000527387</th><td> 607.0594         </td><td>-2.638673         </td><td>0.3121630         </td><td>-8.452868         </td><td>2.842330e-17      </td><td>4.546509e-14      </td><td>ENSG00000109971.13</td><td>HSPA8             </td></tr>\n",
       "\t<tr><th scope=row>ENST00000524552</th><td>1601.6539         </td><td>-2.646366         </td><td>0.3142466         </td><td>-8.421303         </td><td>3.723201e-17      </td><td>5.684820e-14      </td><td>ENSG00000109971.13</td><td>HSPA8             </td></tr>\n",
       "\t<tr><th scope=row>ENST00000402527</th><td> 664.6411         </td><td>-2.572559         </td><td>0.3068514         </td><td>-8.383732         </td><td>5.127553e-17      </td><td>7.488679e-14      </td><td>ENSG00000100316.15</td><td>RPL3              </td></tr>\n",
       "\t<tr><th scope=row>ENST00000216146</th><td> 665.6065         </td><td>-2.568575         </td><td>0.3072300         </td><td>-8.360432         </td><td>6.248917e-17      </td><td>8.746140e-14      </td><td>ENSG00000100316.15</td><td>RPL3              </td></tr>\n",
       "\t<tr><th scope=row>ENST00000401609</th><td> 665.0223         </td><td>-2.567055         </td><td>0.3074022         </td><td>-8.350805         </td><td>6.779937e-17      </td><td>9.109794e-14      </td><td>ENSG00000100316.15</td><td>RPL3              </td></tr>\n",
       "\t<tr><th scope=row>ENST00000427905</th><td> 516.2728         </td><td>-2.773303         </td><td>0.3331877         </td><td>-8.323544         </td><td>8.537169e-17      </td><td>1.064062e-13      </td><td>ENSG00000100316.15</td><td>RPL3              </td></tr>\n",
       "\t<tr><th scope=row>ENST00000511900</th><td>3231.5205         </td><td>-2.237288         </td><td>0.2687973         </td><td>-8.323327         </td><td>8.552786e-17      </td><td>1.064062e-13      </td><td>ENSG00000204628.11</td><td>RACK1             </td></tr>\n",
       "\t<tr><th scope=row>ENST00000514455</th><td>1332.6242         </td><td>-2.340479         </td><td>0.2815829         </td><td>-8.311865         </td><td>9.420959e-17      </td><td>1.130212e-13      </td><td>ENSG00000204628.11</td><td>RACK1             </td></tr>\n",
       "\t<tr><th scope=row>ENST00000273223</th><td> 807.5613         </td><td>-2.740039         </td><td>0.3311576         </td><td>-8.274125         </td><td>1.294026e-16      </td><td>1.345235e-13      </td><td>ENSG00000144713.12</td><td>RPL32             </td></tr>\n",
       "\t<tr><th scope=row>ENST00000396953</th><td> 807.4152         </td><td>-2.739731         </td><td>0.3312208         </td><td>-8.271615         </td><td>1.321567e-16      </td><td>1.345235e-13      </td><td>ENSG00000144713.12</td><td>RPL32             </td></tr>\n",
       "\t<tr><th scope=row>⋮</th><td>⋮</td><td>⋮</td><td>⋮</td><td>⋮</td><td>⋮</td><td>⋮</td><td>⋮</td><td>⋮</td></tr>\n",
       "\t<tr><th scope=row>ENST00000521440</th><td> 833.50279        </td><td>-1.0065737        </td><td>0.2988467         </td><td>-3.368194         </td><td>0.0007566235      </td><td>0.03874351        </td><td>ENSG00000104408.9 </td><td>EIF3E             </td></tr>\n",
       "\t<tr><th scope=row>ENST00000295470</th><td>1318.73282        </td><td>-0.9123860        </td><td>0.2711425         </td><td>-3.364968         </td><td>0.0007655250      </td><td>0.03902087        </td><td>ENSG00000152795.17</td><td>HNRNPDL           </td></tr>\n",
       "\t<tr><th scope=row>ENST00000502762</th><td>1318.73282        </td><td>-0.9123860        </td><td>0.2711425         </td><td>-3.364968         </td><td>0.0007655250      </td><td>0.03902087        </td><td>ENSG00000152795.17</td><td>HNRNPDL           </td></tr>\n",
       "\t<tr><th scope=row>ENST00000621267</th><td>1318.73282        </td><td>-0.9123860        </td><td>0.2711425         </td><td>-3.364968         </td><td>0.0007655250      </td><td>0.03902087        </td><td>ENSG00000152795.17</td><td>HNRNPDL           </td></tr>\n",
       "\t<tr><th scope=row>ENST00000262056</th><td>  90.94794        </td><td>-1.5255975        </td><td>0.4538337         </td><td>-3.361578         </td><td>0.0007749839      </td><td>0.03944316        </td><td>ENSG00000063046.17</td><td>EIF4B             </td></tr>\n",
       "\t<tr><th scope=row>ENST00000469605</th><td> 290.67687        </td><td>-1.1729490        </td><td>0.3490597         </td><td>-3.360310         </td><td>0.0007785493      </td><td>0.03956468        </td><td>ENSG00000114391.12</td><td>RPL24             </td></tr>\n",
       "\t<tr><th scope=row>ENST00000495401</th><td> 290.28740        </td><td>-1.1702571        </td><td>0.3484058         </td><td>-3.358891         </td><td>0.0007825589      </td><td>0.03970836        </td><td>ENSG00000114391.12</td><td>RPL24             </td></tr>\n",
       "\t<tr><th scope=row>ENST00000307333</th><td>1683.43208        </td><td> 1.1189594        </td><td>0.3338615         </td><td> 3.351567         </td><td>0.0008035546      </td><td>0.04071222        </td><td>ENSG00000163297.16</td><td>ANTXR2            </td></tr>\n",
       "\t<tr><th scope=row>ENST00000474973</th><td>  58.75885        </td><td>-1.8510563        </td><td>0.5535554         </td><td>-3.343941         </td><td>0.0008259736      </td><td>0.04178506        </td><td>ENSG00000231500.6 </td><td>RPS18             </td></tr>\n",
       "\t<tr><th scope=row>ENST00000319942</th><td> 256.06055        </td><td>-1.1375943        </td><td>0.3402828         </td><td>-3.343085         </td><td>0.0008285255      </td><td>0.04185113        </td><td>ENSG00000137955.15</td><td>RABGGTB           </td></tr>\n",
       "\t<tr><th scope=row>ENST00000635443</th><td> 279.87583        </td><td>-1.1417489        </td><td>0.3420951         </td><td>-3.337519         </td><td>0.0008452988      </td><td>0.04263428        </td><td>ENSG00000172053.16</td><td>QARS              </td></tr>\n",
       "\t<tr><th scope=row>ENST00000318789</th><td> 327.16930        </td><td> 1.2580448        </td><td>0.3773841         </td><td> 3.333592         </td><td>0.0008573228      </td><td>0.04298258        </td><td>ENSG00000114861.18</td><td>FOXP1             </td></tr>\n",
       "\t<tr><th scope=row>ENST00000475937</th><td> 327.16930        </td><td> 1.2580448        </td><td>0.3773841         </td><td> 3.333592         </td><td>0.0008573228      </td><td>0.04298258        </td><td>ENSG00000114861.18</td><td>FOXP1             </td></tr>\n",
       "\t<tr><th scope=row>ENST00000493089</th><td> 327.16930        </td><td> 1.2580448        </td><td>0.3773841         </td><td> 3.333592         </td><td>0.0008573228      </td><td>0.04298258        </td><td>ENSG00000114861.18</td><td>FOXP1             </td></tr>\n",
       "\t<tr><th scope=row>ENST00000498215</th><td> 327.16930        </td><td> 1.2580448        </td><td>0.3773841         </td><td> 3.333592         </td><td>0.0008573228      </td><td>0.04298258        </td><td>ENSG00000114861.18</td><td>FOXP1             </td></tr>\n",
       "\t<tr><th scope=row>ENST00000615603</th><td> 303.71586        </td><td> 1.2797392        </td><td>0.3844985         </td><td> 3.328334         </td><td>0.0008736711      </td><td>0.04373694        </td><td>ENSG00000114861.18</td><td>FOXP1             </td></tr>\n",
       "\t<tr><th scope=row>ENST00000617445</th><td>  68.68582        </td><td> 1.7334466        </td><td>0.5210713         </td><td> 3.326697         </td><td>0.0008788182      </td><td>0.04392914        </td><td>ENSG00000024862.17</td><td>CCDC28A           </td></tr>\n",
       "\t<tr><th scope=row>ENST00000456306</th><td> 195.67230        </td><td>-1.1889300        </td><td>0.3578364         </td><td>-3.322552         </td><td>0.0008919818      </td><td>0.04445484        </td><td>ENSG00000102103.15</td><td>PQBP1             </td></tr>\n",
       "\t<tr><th scope=row>ENST00000491493</th><td> 386.51280        </td><td>-1.0165050        </td><td>0.3059174         </td><td>-3.322808         </td><td>0.0008911615      </td><td>0.04445484        </td><td>ENSG00000142657.20</td><td>PGD               </td></tr>\n",
       "\t<tr><th scope=row>ENST00000551104</th><td> 850.44641        </td><td>-0.9674279        </td><td>0.2914917         </td><td>-3.318887         </td><td>0.0009037704      </td><td>0.04497563        </td><td>ENSG00000197111.15</td><td>PCBP2             </td></tr>\n",
       "\t<tr><th scope=row>ENST00000556314</th><td>  67.66913        </td><td>-1.7368401        </td><td>0.5241039         </td><td>-3.313923         </td><td>0.0009199671      </td><td>0.04571393        </td><td>ENSG00000198604.10</td><td>BAZ1A             </td></tr>\n",
       "\t<tr><th scope=row>ENST00000497355</th><td> 278.12992        </td><td> 1.3067327        </td><td>0.3944233         </td><td> 3.313021         </td><td>0.0009229394      </td><td>0.04579388        </td><td>ENSG00000114861.18</td><td>FOXP1             </td></tr>\n",
       "\t<tr><th scope=row>ENST00000557562</th><td> 178.28860        </td><td> 1.2708307        </td><td>0.3843903         </td><td> 3.306095         </td><td>0.0009460604      </td><td>0.04687185        </td><td>NA                </td><td>NA                </td></tr>\n",
       "\t<tr><th scope=row>ENST00000531380</th><td> 378.18886        </td><td> 1.1791805        </td><td>0.3569649         </td><td> 3.303351         </td><td>0.0009553672      </td><td>0.04726324        </td><td>ENSG00000174804.3 </td><td>FZD4              </td></tr>\n",
       "\t<tr><th scope=row>ENST00000409557</th><td> 347.81437        </td><td> 1.3715982        </td><td>0.4155484         </td><td> 3.300694         </td><td>0.0009644590      </td><td>0.04764285        </td><td>ENSG00000115963.13</td><td>RND3              </td></tr>\n",
       "\t<tr><th scope=row>ENST00000403729</th><td>1719.59343        </td><td> 1.1052465        </td><td>0.3354359         </td><td> 3.294956         </td><td>0.0009843700      </td><td>0.04855503        </td><td>ENSG00000163297.16</td><td>ANTXR2            </td></tr>\n",
       "\t<tr><th scope=row>ENST00000549780</th><td> 257.18735        </td><td> 1.3259107        </td><td>0.4025459         </td><td> 3.293812         </td><td>0.0009883851      </td><td>0.04868159        </td><td>ENSG00000177426.20</td><td>TGIF1             </td></tr>\n",
       "\t<tr><th scope=row>ENST00000327590</th><td> 265.02487        </td><td> 1.3418894        </td><td>0.4078258         </td><td> 3.290350         </td><td>0.0010006294      </td><td>0.04921251        </td><td>NA                </td><td>NA                </td></tr>\n",
       "\t<tr><th scope=row>ENST00000303996</th><td> 230.13586        </td><td>-1.1493055        </td><td>0.3494291         </td><td>-3.289095         </td><td>0.0010051004      </td><td>0.04936013        </td><td>NA                </td><td>NA                </td></tr>\n",
       "\t<tr><th scope=row>ENST00000299045</th><td> 125.77733        </td><td> 1.4549148        </td><td>0.4425010         </td><td> 3.287936         </td><td>0.0010092489      </td><td>0.04949150        </td><td>ENSG00000166046.10</td><td>TCP11L2           </td></tr>\n",
       "</tbody>\n",
       "</table>\n"
      ],
      "text/latex": [
       "\\begin{tabular}{r|llllllll}\n",
       "  & baseMean & log2FoldChange & lfcSE & stat & pvalue & padj & gene\\_id & gene\\_name\\\\\n",
       "\\hline\n",
       "\tENST00000456586 & 1119.8576          & -2.630413          & 0.2773067          & -9.485573          & 2.410555e-21       & 8.097296e-17       & ENSG00000197756.9  & RPL37A            \\\\\n",
       "\tENST00000309311 & 3184.5381          & -2.852667          & 0.3055571          & -9.335951          & 1.000886e-20       & 1.681038e-16       & ENSG00000167658.15 & EEF2              \\\\\n",
       "\tENST00000227378 & 3535.6029          & -2.736981          & 0.3086245          & -8.868321          & 7.425721e-19       & 3.563392e-15       & ENSG00000109971.13 & HSPA8             \\\\\n",
       "\tENST00000526110 & 3535.6029          & -2.736981          & 0.3086245          & -8.868321          & 7.425721e-19       & 3.563392e-15       & ENSG00000109971.13 & HSPA8             \\\\\n",
       "\tENST00000532636 & 3535.6029          & -2.736981          & 0.3086245          & -8.868321          & 7.425721e-19       & 3.563392e-15       & ENSG00000109971.13 & HSPA8             \\\\\n",
       "\tENST00000533540 & 3051.6804          & -2.698730          & 0.3016028          & -8.947959          & 3.621161e-19       & 3.563392e-15       & ENSG00000109971.13 & HSPA8             \\\\\n",
       "\tENST00000534624 & 3535.6029          & -2.736981          & 0.3086245          & -8.868321          & 7.425721e-19       & 3.563392e-15       & ENSG00000109971.13 & HSPA8             \\\\\n",
       "\tENST00000526686 & 1357.9862          & -2.706329          & 0.3077127          & -8.794987          & 1.430647e-18       & 6.007107e-15       & ENSG00000109971.13 & HSPA8             \\\\\n",
       "\tENST00000534319 & 2586.5368          & -2.717969          & 0.3106462          & -8.749405          & 2.144804e-18       & 8.005123e-15       & ENSG00000109971.13 & HSPA8             \\\\\n",
       "\tENST00000427280 &  817.9089          & -2.562162          & 0.2944238          & -8.702291          & 3.252491e-18       & 9.104534e-15       & ENSG00000197756.9  & RPL37A            \\\\\n",
       "\tENST00000441179 &  817.9089          & -2.562162          & 0.2944238          & -8.702291          & 3.252491e-18       & 9.104534e-15       & ENSG00000197756.9  & RPL37A            \\\\\n",
       "\tENST00000598925 &  817.9089          & -2.562162          & 0.2944238          & -8.702291          & 3.252491e-18       & 9.104534e-15       & ENSG00000197756.9  & RPL37A            \\\\\n",
       "\tENST00000528292 & 1089.4637          & -2.845395          & 0.3295198          & -8.634973          & 5.874088e-18       & 1.517819e-14       & ENSG00000109971.13 & HSPA8             \\\\\n",
       "\tENST00000453788 & 2222.0507          & -2.748899          & 0.3218659          & -8.540510          & 1.336312e-17       & 2.640473e-14       & ENSG00000109971.13 & HSPA8             \\\\\n",
       "\tENST00000491306 & 1347.1812          & -2.386738          & 0.2787730          & -8.561582          & 1.113290e-17       & 2.640473e-14       & ENSG00000197756.9  & RPL37A            \\\\\n",
       "\tENST00000525624 &  669.6342          & -2.704752          & 0.3166509          & -8.541748          & 1.322066e-17       & 2.640473e-14       & ENSG00000109971.13 & HSPA8             \\\\\n",
       "\tENST00000534567 &  664.9204          & -2.699766          & 0.3156201          & -8.553845          & 1.190550e-17       & 2.640473e-14       & ENSG00000109971.13 & HSPA8             \\\\\n",
       "\tENST00000524590 &  604.9448          & -2.643488          & 0.3120414          & -8.471595          & 2.420550e-17       & 4.065435e-14       & ENSG00000109971.13 & HSPA8             \\\\\n",
       "\tENST00000530391 &  604.9448          & -2.643488          & 0.3120414          & -8.471595          & 2.420550e-17       & 4.065435e-14       & ENSG00000109971.13 & HSPA8             \\\\\n",
       "\tENST00000532182 &  604.9448          & -2.643488          & 0.3120414          & -8.471595          & 2.420550e-17       & 4.065435e-14       & ENSG00000109971.13 & HSPA8             \\\\\n",
       "\tENST00000527387 &  607.0594          & -2.638673          & 0.3121630          & -8.452868          & 2.842330e-17       & 4.546509e-14       & ENSG00000109971.13 & HSPA8             \\\\\n",
       "\tENST00000524552 & 1601.6539          & -2.646366          & 0.3142466          & -8.421303          & 3.723201e-17       & 5.684820e-14       & ENSG00000109971.13 & HSPA8             \\\\\n",
       "\tENST00000402527 &  664.6411          & -2.572559          & 0.3068514          & -8.383732          & 5.127553e-17       & 7.488679e-14       & ENSG00000100316.15 & RPL3              \\\\\n",
       "\tENST00000216146 &  665.6065          & -2.568575          & 0.3072300          & -8.360432          & 6.248917e-17       & 8.746140e-14       & ENSG00000100316.15 & RPL3              \\\\\n",
       "\tENST00000401609 &  665.0223          & -2.567055          & 0.3074022          & -8.350805          & 6.779937e-17       & 9.109794e-14       & ENSG00000100316.15 & RPL3              \\\\\n",
       "\tENST00000427905 &  516.2728          & -2.773303          & 0.3331877          & -8.323544          & 8.537169e-17       & 1.064062e-13       & ENSG00000100316.15 & RPL3              \\\\\n",
       "\tENST00000511900 & 3231.5205          & -2.237288          & 0.2687973          & -8.323327          & 8.552786e-17       & 1.064062e-13       & ENSG00000204628.11 & RACK1             \\\\\n",
       "\tENST00000514455 & 1332.6242          & -2.340479          & 0.2815829          & -8.311865          & 9.420959e-17       & 1.130212e-13       & ENSG00000204628.11 & RACK1             \\\\\n",
       "\tENST00000273223 &  807.5613          & -2.740039          & 0.3311576          & -8.274125          & 1.294026e-16       & 1.345235e-13       & ENSG00000144713.12 & RPL32             \\\\\n",
       "\tENST00000396953 &  807.4152          & -2.739731          & 0.3312208          & -8.271615          & 1.321567e-16       & 1.345235e-13       & ENSG00000144713.12 & RPL32             \\\\\n",
       "\t⋮ & ⋮ & ⋮ & ⋮ & ⋮ & ⋮ & ⋮ & ⋮ & ⋮\\\\\n",
       "\tENST00000521440 &  833.50279         & -1.0065737         & 0.2988467          & -3.368194          & 0.0007566235       & 0.03874351         & ENSG00000104408.9  & EIF3E             \\\\\n",
       "\tENST00000295470 & 1318.73282         & -0.9123860         & 0.2711425          & -3.364968          & 0.0007655250       & 0.03902087         & ENSG00000152795.17 & HNRNPDL           \\\\\n",
       "\tENST00000502762 & 1318.73282         & -0.9123860         & 0.2711425          & -3.364968          & 0.0007655250       & 0.03902087         & ENSG00000152795.17 & HNRNPDL           \\\\\n",
       "\tENST00000621267 & 1318.73282         & -0.9123860         & 0.2711425          & -3.364968          & 0.0007655250       & 0.03902087         & ENSG00000152795.17 & HNRNPDL           \\\\\n",
       "\tENST00000262056 &   90.94794         & -1.5255975         & 0.4538337          & -3.361578          & 0.0007749839       & 0.03944316         & ENSG00000063046.17 & EIF4B             \\\\\n",
       "\tENST00000469605 &  290.67687         & -1.1729490         & 0.3490597          & -3.360310          & 0.0007785493       & 0.03956468         & ENSG00000114391.12 & RPL24             \\\\\n",
       "\tENST00000495401 &  290.28740         & -1.1702571         & 0.3484058          & -3.358891          & 0.0007825589       & 0.03970836         & ENSG00000114391.12 & RPL24             \\\\\n",
       "\tENST00000307333 & 1683.43208         &  1.1189594         & 0.3338615          &  3.351567          & 0.0008035546       & 0.04071222         & ENSG00000163297.16 & ANTXR2            \\\\\n",
       "\tENST00000474973 &   58.75885         & -1.8510563         & 0.5535554          & -3.343941          & 0.0008259736       & 0.04178506         & ENSG00000231500.6  & RPS18             \\\\\n",
       "\tENST00000319942 &  256.06055         & -1.1375943         & 0.3402828          & -3.343085          & 0.0008285255       & 0.04185113         & ENSG00000137955.15 & RABGGTB           \\\\\n",
       "\tENST00000635443 &  279.87583         & -1.1417489         & 0.3420951          & -3.337519          & 0.0008452988       & 0.04263428         & ENSG00000172053.16 & QARS              \\\\\n",
       "\tENST00000318789 &  327.16930         &  1.2580448         & 0.3773841          &  3.333592          & 0.0008573228       & 0.04298258         & ENSG00000114861.18 & FOXP1             \\\\\n",
       "\tENST00000475937 &  327.16930         &  1.2580448         & 0.3773841          &  3.333592          & 0.0008573228       & 0.04298258         & ENSG00000114861.18 & FOXP1             \\\\\n",
       "\tENST00000493089 &  327.16930         &  1.2580448         & 0.3773841          &  3.333592          & 0.0008573228       & 0.04298258         & ENSG00000114861.18 & FOXP1             \\\\\n",
       "\tENST00000498215 &  327.16930         &  1.2580448         & 0.3773841          &  3.333592          & 0.0008573228       & 0.04298258         & ENSG00000114861.18 & FOXP1             \\\\\n",
       "\tENST00000615603 &  303.71586         &  1.2797392         & 0.3844985          &  3.328334          & 0.0008736711       & 0.04373694         & ENSG00000114861.18 & FOXP1             \\\\\n",
       "\tENST00000617445 &   68.68582         &  1.7334466         & 0.5210713          &  3.326697          & 0.0008788182       & 0.04392914         & ENSG00000024862.17 & CCDC28A           \\\\\n",
       "\tENST00000456306 &  195.67230         & -1.1889300         & 0.3578364          & -3.322552          & 0.0008919818       & 0.04445484         & ENSG00000102103.15 & PQBP1             \\\\\n",
       "\tENST00000491493 &  386.51280         & -1.0165050         & 0.3059174          & -3.322808          & 0.0008911615       & 0.04445484         & ENSG00000142657.20 & PGD               \\\\\n",
       "\tENST00000551104 &  850.44641         & -0.9674279         & 0.2914917          & -3.318887          & 0.0009037704       & 0.04497563         & ENSG00000197111.15 & PCBP2             \\\\\n",
       "\tENST00000556314 &   67.66913         & -1.7368401         & 0.5241039          & -3.313923          & 0.0009199671       & 0.04571393         & ENSG00000198604.10 & BAZ1A             \\\\\n",
       "\tENST00000497355 &  278.12992         &  1.3067327         & 0.3944233          &  3.313021          & 0.0009229394       & 0.04579388         & ENSG00000114861.18 & FOXP1             \\\\\n",
       "\tENST00000557562 &  178.28860         &  1.2708307         & 0.3843903          &  3.306095          & 0.0009460604       & 0.04687185         & NA                 & NA                \\\\\n",
       "\tENST00000531380 &  378.18886         &  1.1791805         & 0.3569649          &  3.303351          & 0.0009553672       & 0.04726324         & ENSG00000174804.3  & FZD4              \\\\\n",
       "\tENST00000409557 &  347.81437         &  1.3715982         & 0.4155484          &  3.300694          & 0.0009644590       & 0.04764285         & ENSG00000115963.13 & RND3              \\\\\n",
       "\tENST00000403729 & 1719.59343         &  1.1052465         & 0.3354359          &  3.294956          & 0.0009843700       & 0.04855503         & ENSG00000163297.16 & ANTXR2            \\\\\n",
       "\tENST00000549780 &  257.18735         &  1.3259107         & 0.4025459          &  3.293812          & 0.0009883851       & 0.04868159         & ENSG00000177426.20 & TGIF1             \\\\\n",
       "\tENST00000327590 &  265.02487         &  1.3418894         & 0.4078258          &  3.290350          & 0.0010006294       & 0.04921251         & NA                 & NA                \\\\\n",
       "\tENST00000303996 &  230.13586         & -1.1493055         & 0.3494291          & -3.289095          & 0.0010051004       & 0.04936013         & NA                 & NA                \\\\\n",
       "\tENST00000299045 &  125.77733         &  1.4549148         & 0.4425010          &  3.287936          & 0.0010092489       & 0.04949150         & ENSG00000166046.10 & TCP11L2           \\\\\n",
       "\\end{tabular}\n"
      ],
      "text/markdown": [
       "\n",
       "| <!--/--> | baseMean | log2FoldChange | lfcSE | stat | pvalue | padj | gene_id | gene_name |\n",
       "|---|---|---|---|---|---|---|---|---|\n",
       "| ENST00000456586 | 1119.8576          | -2.630413          | 0.2773067          | -9.485573          | 2.410555e-21       | 8.097296e-17       | ENSG00000197756.9  | RPL37A             |\n",
       "| ENST00000309311 | 3184.5381          | -2.852667          | 0.3055571          | -9.335951          | 1.000886e-20       | 1.681038e-16       | ENSG00000167658.15 | EEF2               |\n",
       "| ENST00000227378 | 3535.6029          | -2.736981          | 0.3086245          | -8.868321          | 7.425721e-19       | 3.563392e-15       | ENSG00000109971.13 | HSPA8              |\n",
       "| ENST00000526110 | 3535.6029          | -2.736981          | 0.3086245          | -8.868321          | 7.425721e-19       | 3.563392e-15       | ENSG00000109971.13 | HSPA8              |\n",
       "| ENST00000532636 | 3535.6029          | -2.736981          | 0.3086245          | -8.868321          | 7.425721e-19       | 3.563392e-15       | ENSG00000109971.13 | HSPA8              |\n",
       "| ENST00000533540 | 3051.6804          | -2.698730          | 0.3016028          | -8.947959          | 3.621161e-19       | 3.563392e-15       | ENSG00000109971.13 | HSPA8              |\n",
       "| ENST00000534624 | 3535.6029          | -2.736981          | 0.3086245          | -8.868321          | 7.425721e-19       | 3.563392e-15       | ENSG00000109971.13 | HSPA8              |\n",
       "| ENST00000526686 | 1357.9862          | -2.706329          | 0.3077127          | -8.794987          | 1.430647e-18       | 6.007107e-15       | ENSG00000109971.13 | HSPA8              |\n",
       "| ENST00000534319 | 2586.5368          | -2.717969          | 0.3106462          | -8.749405          | 2.144804e-18       | 8.005123e-15       | ENSG00000109971.13 | HSPA8              |\n",
       "| ENST00000427280 |  817.9089          | -2.562162          | 0.2944238          | -8.702291          | 3.252491e-18       | 9.104534e-15       | ENSG00000197756.9  | RPL37A             |\n",
       "| ENST00000441179 |  817.9089          | -2.562162          | 0.2944238          | -8.702291          | 3.252491e-18       | 9.104534e-15       | ENSG00000197756.9  | RPL37A             |\n",
       "| ENST00000598925 |  817.9089          | -2.562162          | 0.2944238          | -8.702291          | 3.252491e-18       | 9.104534e-15       | ENSG00000197756.9  | RPL37A             |\n",
       "| ENST00000528292 | 1089.4637          | -2.845395          | 0.3295198          | -8.634973          | 5.874088e-18       | 1.517819e-14       | ENSG00000109971.13 | HSPA8              |\n",
       "| ENST00000453788 | 2222.0507          | -2.748899          | 0.3218659          | -8.540510          | 1.336312e-17       | 2.640473e-14       | ENSG00000109971.13 | HSPA8              |\n",
       "| ENST00000491306 | 1347.1812          | -2.386738          | 0.2787730          | -8.561582          | 1.113290e-17       | 2.640473e-14       | ENSG00000197756.9  | RPL37A             |\n",
       "| ENST00000525624 |  669.6342          | -2.704752          | 0.3166509          | -8.541748          | 1.322066e-17       | 2.640473e-14       | ENSG00000109971.13 | HSPA8              |\n",
       "| ENST00000534567 |  664.9204          | -2.699766          | 0.3156201          | -8.553845          | 1.190550e-17       | 2.640473e-14       | ENSG00000109971.13 | HSPA8              |\n",
       "| ENST00000524590 |  604.9448          | -2.643488          | 0.3120414          | -8.471595          | 2.420550e-17       | 4.065435e-14       | ENSG00000109971.13 | HSPA8              |\n",
       "| ENST00000530391 |  604.9448          | -2.643488          | 0.3120414          | -8.471595          | 2.420550e-17       | 4.065435e-14       | ENSG00000109971.13 | HSPA8              |\n",
       "| ENST00000532182 |  604.9448          | -2.643488          | 0.3120414          | -8.471595          | 2.420550e-17       | 4.065435e-14       | ENSG00000109971.13 | HSPA8              |\n",
       "| ENST00000527387 |  607.0594          | -2.638673          | 0.3121630          | -8.452868          | 2.842330e-17       | 4.546509e-14       | ENSG00000109971.13 | HSPA8              |\n",
       "| ENST00000524552 | 1601.6539          | -2.646366          | 0.3142466          | -8.421303          | 3.723201e-17       | 5.684820e-14       | ENSG00000109971.13 | HSPA8              |\n",
       "| ENST00000402527 |  664.6411          | -2.572559          | 0.3068514          | -8.383732          | 5.127553e-17       | 7.488679e-14       | ENSG00000100316.15 | RPL3               |\n",
       "| ENST00000216146 |  665.6065          | -2.568575          | 0.3072300          | -8.360432          | 6.248917e-17       | 8.746140e-14       | ENSG00000100316.15 | RPL3               |\n",
       "| ENST00000401609 |  665.0223          | -2.567055          | 0.3074022          | -8.350805          | 6.779937e-17       | 9.109794e-14       | ENSG00000100316.15 | RPL3               |\n",
       "| ENST00000427905 |  516.2728          | -2.773303          | 0.3331877          | -8.323544          | 8.537169e-17       | 1.064062e-13       | ENSG00000100316.15 | RPL3               |\n",
       "| ENST00000511900 | 3231.5205          | -2.237288          | 0.2687973          | -8.323327          | 8.552786e-17       | 1.064062e-13       | ENSG00000204628.11 | RACK1              |\n",
       "| ENST00000514455 | 1332.6242          | -2.340479          | 0.2815829          | -8.311865          | 9.420959e-17       | 1.130212e-13       | ENSG00000204628.11 | RACK1              |\n",
       "| ENST00000273223 |  807.5613          | -2.740039          | 0.3311576          | -8.274125          | 1.294026e-16       | 1.345235e-13       | ENSG00000144713.12 | RPL32              |\n",
       "| ENST00000396953 |  807.4152          | -2.739731          | 0.3312208          | -8.271615          | 1.321567e-16       | 1.345235e-13       | ENSG00000144713.12 | RPL32              |\n",
       "| ⋮ | ⋮ | ⋮ | ⋮ | ⋮ | ⋮ | ⋮ | ⋮ | ⋮ |\n",
       "| ENST00000521440 |  833.50279         | -1.0065737         | 0.2988467          | -3.368194          | 0.0007566235       | 0.03874351         | ENSG00000104408.9  | EIF3E              |\n",
       "| ENST00000295470 | 1318.73282         | -0.9123860         | 0.2711425          | -3.364968          | 0.0007655250       | 0.03902087         | ENSG00000152795.17 | HNRNPDL            |\n",
       "| ENST00000502762 | 1318.73282         | -0.9123860         | 0.2711425          | -3.364968          | 0.0007655250       | 0.03902087         | ENSG00000152795.17 | HNRNPDL            |\n",
       "| ENST00000621267 | 1318.73282         | -0.9123860         | 0.2711425          | -3.364968          | 0.0007655250       | 0.03902087         | ENSG00000152795.17 | HNRNPDL            |\n",
       "| ENST00000262056 |   90.94794         | -1.5255975         | 0.4538337          | -3.361578          | 0.0007749839       | 0.03944316         | ENSG00000063046.17 | EIF4B              |\n",
       "| ENST00000469605 |  290.67687         | -1.1729490         | 0.3490597          | -3.360310          | 0.0007785493       | 0.03956468         | ENSG00000114391.12 | RPL24              |\n",
       "| ENST00000495401 |  290.28740         | -1.1702571         | 0.3484058          | -3.358891          | 0.0007825589       | 0.03970836         | ENSG00000114391.12 | RPL24              |\n",
       "| ENST00000307333 | 1683.43208         |  1.1189594         | 0.3338615          |  3.351567          | 0.0008035546       | 0.04071222         | ENSG00000163297.16 | ANTXR2             |\n",
       "| ENST00000474973 |   58.75885         | -1.8510563         | 0.5535554          | -3.343941          | 0.0008259736       | 0.04178506         | ENSG00000231500.6  | RPS18              |\n",
       "| ENST00000319942 |  256.06055         | -1.1375943         | 0.3402828          | -3.343085          | 0.0008285255       | 0.04185113         | ENSG00000137955.15 | RABGGTB            |\n",
       "| ENST00000635443 |  279.87583         | -1.1417489         | 0.3420951          | -3.337519          | 0.0008452988       | 0.04263428         | ENSG00000172053.16 | QARS               |\n",
       "| ENST00000318789 |  327.16930         |  1.2580448         | 0.3773841          |  3.333592          | 0.0008573228       | 0.04298258         | ENSG00000114861.18 | FOXP1              |\n",
       "| ENST00000475937 |  327.16930         |  1.2580448         | 0.3773841          |  3.333592          | 0.0008573228       | 0.04298258         | ENSG00000114861.18 | FOXP1              |\n",
       "| ENST00000493089 |  327.16930         |  1.2580448         | 0.3773841          |  3.333592          | 0.0008573228       | 0.04298258         | ENSG00000114861.18 | FOXP1              |\n",
       "| ENST00000498215 |  327.16930         |  1.2580448         | 0.3773841          |  3.333592          | 0.0008573228       | 0.04298258         | ENSG00000114861.18 | FOXP1              |\n",
       "| ENST00000615603 |  303.71586         |  1.2797392         | 0.3844985          |  3.328334          | 0.0008736711       | 0.04373694         | ENSG00000114861.18 | FOXP1              |\n",
       "| ENST00000617445 |   68.68582         |  1.7334466         | 0.5210713          |  3.326697          | 0.0008788182       | 0.04392914         | ENSG00000024862.17 | CCDC28A            |\n",
       "| ENST00000456306 |  195.67230         | -1.1889300         | 0.3578364          | -3.322552          | 0.0008919818       | 0.04445484         | ENSG00000102103.15 | PQBP1              |\n",
       "| ENST00000491493 |  386.51280         | -1.0165050         | 0.3059174          | -3.322808          | 0.0008911615       | 0.04445484         | ENSG00000142657.20 | PGD                |\n",
       "| ENST00000551104 |  850.44641         | -0.9674279         | 0.2914917          | -3.318887          | 0.0009037704       | 0.04497563         | ENSG00000197111.15 | PCBP2              |\n",
       "| ENST00000556314 |   67.66913         | -1.7368401         | 0.5241039          | -3.313923          | 0.0009199671       | 0.04571393         | ENSG00000198604.10 | BAZ1A              |\n",
       "| ENST00000497355 |  278.12992         |  1.3067327         | 0.3944233          |  3.313021          | 0.0009229394       | 0.04579388         | ENSG00000114861.18 | FOXP1              |\n",
       "| ENST00000557562 |  178.28860         |  1.2708307         | 0.3843903          |  3.306095          | 0.0009460604       | 0.04687185         | NA                 | NA                 |\n",
       "| ENST00000531380 |  378.18886         |  1.1791805         | 0.3569649          |  3.303351          | 0.0009553672       | 0.04726324         | ENSG00000174804.3  | FZD4               |\n",
       "| ENST00000409557 |  347.81437         |  1.3715982         | 0.4155484          |  3.300694          | 0.0009644590       | 0.04764285         | ENSG00000115963.13 | RND3               |\n",
       "| ENST00000403729 | 1719.59343         |  1.1052465         | 0.3354359          |  3.294956          | 0.0009843700       | 0.04855503         | ENSG00000163297.16 | ANTXR2             |\n",
       "| ENST00000549780 |  257.18735         |  1.3259107         | 0.4025459          |  3.293812          | 0.0009883851       | 0.04868159         | ENSG00000177426.20 | TGIF1              |\n",
       "| ENST00000327590 |  265.02487         |  1.3418894         | 0.4078258          |  3.290350          | 0.0010006294       | 0.04921251         | NA                 | NA                 |\n",
       "| ENST00000303996 |  230.13586         | -1.1493055         | 0.3494291          | -3.289095          | 0.0010051004       | 0.04936013         | NA                 | NA                 |\n",
       "| ENST00000299045 |  125.77733         |  1.4549148         | 0.4425010          |  3.287936          | 0.0010092489       | 0.04949150         | ENSG00000166046.10 | TCP11L2            |\n",
       "\n"
      ],
      "text/plain": [
       "                baseMean   log2FoldChange lfcSE     stat      pvalue      \n",
       "ENST00000456586 1119.8576  -2.630413      0.2773067 -9.485573 2.410555e-21\n",
       "ENST00000309311 3184.5381  -2.852667      0.3055571 -9.335951 1.000886e-20\n",
       "ENST00000227378 3535.6029  -2.736981      0.3086245 -8.868321 7.425721e-19\n",
       "ENST00000526110 3535.6029  -2.736981      0.3086245 -8.868321 7.425721e-19\n",
       "ENST00000532636 3535.6029  -2.736981      0.3086245 -8.868321 7.425721e-19\n",
       "ENST00000533540 3051.6804  -2.698730      0.3016028 -8.947959 3.621161e-19\n",
       "ENST00000534624 3535.6029  -2.736981      0.3086245 -8.868321 7.425721e-19\n",
       "ENST00000526686 1357.9862  -2.706329      0.3077127 -8.794987 1.430647e-18\n",
       "ENST00000534319 2586.5368  -2.717969      0.3106462 -8.749405 2.144804e-18\n",
       "ENST00000427280  817.9089  -2.562162      0.2944238 -8.702291 3.252491e-18\n",
       "ENST00000441179  817.9089  -2.562162      0.2944238 -8.702291 3.252491e-18\n",
       "ENST00000598925  817.9089  -2.562162      0.2944238 -8.702291 3.252491e-18\n",
       "ENST00000528292 1089.4637  -2.845395      0.3295198 -8.634973 5.874088e-18\n",
       "ENST00000453788 2222.0507  -2.748899      0.3218659 -8.540510 1.336312e-17\n",
       "ENST00000491306 1347.1812  -2.386738      0.2787730 -8.561582 1.113290e-17\n",
       "ENST00000525624  669.6342  -2.704752      0.3166509 -8.541748 1.322066e-17\n",
       "ENST00000534567  664.9204  -2.699766      0.3156201 -8.553845 1.190550e-17\n",
       "ENST00000524590  604.9448  -2.643488      0.3120414 -8.471595 2.420550e-17\n",
       "ENST00000530391  604.9448  -2.643488      0.3120414 -8.471595 2.420550e-17\n",
       "ENST00000532182  604.9448  -2.643488      0.3120414 -8.471595 2.420550e-17\n",
       "ENST00000527387  607.0594  -2.638673      0.3121630 -8.452868 2.842330e-17\n",
       "ENST00000524552 1601.6539  -2.646366      0.3142466 -8.421303 3.723201e-17\n",
       "ENST00000402527  664.6411  -2.572559      0.3068514 -8.383732 5.127553e-17\n",
       "ENST00000216146  665.6065  -2.568575      0.3072300 -8.360432 6.248917e-17\n",
       "ENST00000401609  665.0223  -2.567055      0.3074022 -8.350805 6.779937e-17\n",
       "ENST00000427905  516.2728  -2.773303      0.3331877 -8.323544 8.537169e-17\n",
       "ENST00000511900 3231.5205  -2.237288      0.2687973 -8.323327 8.552786e-17\n",
       "ENST00000514455 1332.6242  -2.340479      0.2815829 -8.311865 9.420959e-17\n",
       "ENST00000273223  807.5613  -2.740039      0.3311576 -8.274125 1.294026e-16\n",
       "ENST00000396953  807.4152  -2.739731      0.3312208 -8.271615 1.321567e-16\n",
       "⋮               ⋮          ⋮              ⋮         ⋮         ⋮           \n",
       "ENST00000521440  833.50279 -1.0065737     0.2988467 -3.368194 0.0007566235\n",
       "ENST00000295470 1318.73282 -0.9123860     0.2711425 -3.364968 0.0007655250\n",
       "ENST00000502762 1318.73282 -0.9123860     0.2711425 -3.364968 0.0007655250\n",
       "ENST00000621267 1318.73282 -0.9123860     0.2711425 -3.364968 0.0007655250\n",
       "ENST00000262056   90.94794 -1.5255975     0.4538337 -3.361578 0.0007749839\n",
       "ENST00000469605  290.67687 -1.1729490     0.3490597 -3.360310 0.0007785493\n",
       "ENST00000495401  290.28740 -1.1702571     0.3484058 -3.358891 0.0007825589\n",
       "ENST00000307333 1683.43208  1.1189594     0.3338615  3.351567 0.0008035546\n",
       "ENST00000474973   58.75885 -1.8510563     0.5535554 -3.343941 0.0008259736\n",
       "ENST00000319942  256.06055 -1.1375943     0.3402828 -3.343085 0.0008285255\n",
       "ENST00000635443  279.87583 -1.1417489     0.3420951 -3.337519 0.0008452988\n",
       "ENST00000318789  327.16930  1.2580448     0.3773841  3.333592 0.0008573228\n",
       "ENST00000475937  327.16930  1.2580448     0.3773841  3.333592 0.0008573228\n",
       "ENST00000493089  327.16930  1.2580448     0.3773841  3.333592 0.0008573228\n",
       "ENST00000498215  327.16930  1.2580448     0.3773841  3.333592 0.0008573228\n",
       "ENST00000615603  303.71586  1.2797392     0.3844985  3.328334 0.0008736711\n",
       "ENST00000617445   68.68582  1.7334466     0.5210713  3.326697 0.0008788182\n",
       "ENST00000456306  195.67230 -1.1889300     0.3578364 -3.322552 0.0008919818\n",
       "ENST00000491493  386.51280 -1.0165050     0.3059174 -3.322808 0.0008911615\n",
       "ENST00000551104  850.44641 -0.9674279     0.2914917 -3.318887 0.0009037704\n",
       "ENST00000556314   67.66913 -1.7368401     0.5241039 -3.313923 0.0009199671\n",
       "ENST00000497355  278.12992  1.3067327     0.3944233  3.313021 0.0009229394\n",
       "ENST00000557562  178.28860  1.2708307     0.3843903  3.306095 0.0009460604\n",
       "ENST00000531380  378.18886  1.1791805     0.3569649  3.303351 0.0009553672\n",
       "ENST00000409557  347.81437  1.3715982     0.4155484  3.300694 0.0009644590\n",
       "ENST00000403729 1719.59343  1.1052465     0.3354359  3.294956 0.0009843700\n",
       "ENST00000549780  257.18735  1.3259107     0.4025459  3.293812 0.0009883851\n",
       "ENST00000327590  265.02487  1.3418894     0.4078258  3.290350 0.0010006294\n",
       "ENST00000303996  230.13586 -1.1493055     0.3494291 -3.289095 0.0010051004\n",
       "ENST00000299045  125.77733  1.4549148     0.4425010  3.287936 0.0010092489\n",
       "                padj         gene_id            gene_name\n",
       "ENST00000456586 8.097296e-17 ENSG00000197756.9  RPL37A   \n",
       "ENST00000309311 1.681038e-16 ENSG00000167658.15 EEF2     \n",
       "ENST00000227378 3.563392e-15 ENSG00000109971.13 HSPA8    \n",
       "ENST00000526110 3.563392e-15 ENSG00000109971.13 HSPA8    \n",
       "ENST00000532636 3.563392e-15 ENSG00000109971.13 HSPA8    \n",
       "ENST00000533540 3.563392e-15 ENSG00000109971.13 HSPA8    \n",
       "ENST00000534624 3.563392e-15 ENSG00000109971.13 HSPA8    \n",
       "ENST00000526686 6.007107e-15 ENSG00000109971.13 HSPA8    \n",
       "ENST00000534319 8.005123e-15 ENSG00000109971.13 HSPA8    \n",
       "ENST00000427280 9.104534e-15 ENSG00000197756.9  RPL37A   \n",
       "ENST00000441179 9.104534e-15 ENSG00000197756.9  RPL37A   \n",
       "ENST00000598925 9.104534e-15 ENSG00000197756.9  RPL37A   \n",
       "ENST00000528292 1.517819e-14 ENSG00000109971.13 HSPA8    \n",
       "ENST00000453788 2.640473e-14 ENSG00000109971.13 HSPA8    \n",
       "ENST00000491306 2.640473e-14 ENSG00000197756.9  RPL37A   \n",
       "ENST00000525624 2.640473e-14 ENSG00000109971.13 HSPA8    \n",
       "ENST00000534567 2.640473e-14 ENSG00000109971.13 HSPA8    \n",
       "ENST00000524590 4.065435e-14 ENSG00000109971.13 HSPA8    \n",
       "ENST00000530391 4.065435e-14 ENSG00000109971.13 HSPA8    \n",
       "ENST00000532182 4.065435e-14 ENSG00000109971.13 HSPA8    \n",
       "ENST00000527387 4.546509e-14 ENSG00000109971.13 HSPA8    \n",
       "ENST00000524552 5.684820e-14 ENSG00000109971.13 HSPA8    \n",
       "ENST00000402527 7.488679e-14 ENSG00000100316.15 RPL3     \n",
       "ENST00000216146 8.746140e-14 ENSG00000100316.15 RPL3     \n",
       "ENST00000401609 9.109794e-14 ENSG00000100316.15 RPL3     \n",
       "ENST00000427905 1.064062e-13 ENSG00000100316.15 RPL3     \n",
       "ENST00000511900 1.064062e-13 ENSG00000204628.11 RACK1    \n",
       "ENST00000514455 1.130212e-13 ENSG00000204628.11 RACK1    \n",
       "ENST00000273223 1.345235e-13 ENSG00000144713.12 RPL32    \n",
       "ENST00000396953 1.345235e-13 ENSG00000144713.12 RPL32    \n",
       "⋮               ⋮            ⋮                  ⋮        \n",
       "ENST00000521440 0.03874351   ENSG00000104408.9  EIF3E    \n",
       "ENST00000295470 0.03902087   ENSG00000152795.17 HNRNPDL  \n",
       "ENST00000502762 0.03902087   ENSG00000152795.17 HNRNPDL  \n",
       "ENST00000621267 0.03902087   ENSG00000152795.17 HNRNPDL  \n",
       "ENST00000262056 0.03944316   ENSG00000063046.17 EIF4B    \n",
       "ENST00000469605 0.03956468   ENSG00000114391.12 RPL24    \n",
       "ENST00000495401 0.03970836   ENSG00000114391.12 RPL24    \n",
       "ENST00000307333 0.04071222   ENSG00000163297.16 ANTXR2   \n",
       "ENST00000474973 0.04178506   ENSG00000231500.6  RPS18    \n",
       "ENST00000319942 0.04185113   ENSG00000137955.15 RABGGTB  \n",
       "ENST00000635443 0.04263428   ENSG00000172053.16 QARS     \n",
       "ENST00000318789 0.04298258   ENSG00000114861.18 FOXP1    \n",
       "ENST00000475937 0.04298258   ENSG00000114861.18 FOXP1    \n",
       "ENST00000493089 0.04298258   ENSG00000114861.18 FOXP1    \n",
       "ENST00000498215 0.04298258   ENSG00000114861.18 FOXP1    \n",
       "ENST00000615603 0.04373694   ENSG00000114861.18 FOXP1    \n",
       "ENST00000617445 0.04392914   ENSG00000024862.17 CCDC28A  \n",
       "ENST00000456306 0.04445484   ENSG00000102103.15 PQBP1    \n",
       "ENST00000491493 0.04445484   ENSG00000142657.20 PGD      \n",
       "ENST00000551104 0.04497563   ENSG00000197111.15 PCBP2    \n",
       "ENST00000556314 0.04571393   ENSG00000198604.10 BAZ1A    \n",
       "ENST00000497355 0.04579388   ENSG00000114861.18 FOXP1    \n",
       "ENST00000557562 0.04687185   NA                 NA       \n",
       "ENST00000531380 0.04726324   ENSG00000174804.3  FZD4     \n",
       "ENST00000409557 0.04764285   ENSG00000115963.13 RND3     \n",
       "ENST00000403729 0.04855503   ENSG00000163297.16 ANTXR2   \n",
       "ENST00000549780 0.04868159   ENSG00000177426.20 TGIF1    \n",
       "ENST00000327590 0.04921251   NA                 NA       \n",
       "ENST00000303996 0.04936013   NA                 NA       \n",
       "ENST00000299045 0.04949150   ENSG00000166046.10 TCP11L2  "
      ]
     },
     "metadata": {},
     "output_type": "display_data"
    }
   ],
   "source": [
    "design.info <- read.table(design.file, header=T, stringsAsFactors=FALSE, sep='\\t')\n",
    "design.info <- design.info[design.info$treatment %in% c(\"vehicle\", \"pp242\") ,]\n",
    "design.info$treatment <- factor(design.info$treatment, levels=c(\"vehicle\", \"pp242\"))\n",
    "files <- paste(design.info$experiment_accession, counts.suffix, sep='')\n",
    "sampleName <- design.info$experiment_accession\n",
    "\n",
    "\n",
    "\n",
    "sampleTable <- data.frame(sampleName = sampleName, \n",
    "                          fileName = files, \n",
    "                          treatment=design.info$treatment)\n",
    "ddsHTSeq <- DESeqDataSetFromHTSeqCount(sampleTable = sampleTable, \n",
    "                                       directory = readcounts.dir,\n",
    "                                       design = ~ treatment)\n",
    "rownames(ddsHTSeq) <- gsub('\\\\.[0-9]+', '', rownames(ddsHTSeq))\n",
    "ddsHTSeq <- ddsHTSeq[ rowSums(counts(ddsHTSeq)) > 1, ]\n",
    "dds <- DESeq(ddsHTSeq)\n",
    "\n",
    "pp242_vs_vehicle <- results(dds)\n",
    "\n",
    "write_results(pp242_vs_vehicle, '/staging/as/skchoudh/SRP010679_tx_differential_analysis/ribo_pp242_vs_vehicle')\n"
   ]
  },
  {
   "cell_type": "markdown",
   "metadata": {},
   "source": [
    "# uORF DF"
   ]
  },
  {
   "cell_type": "code",
   "execution_count": 13,
   "metadata": {},
   "outputs": [
    {
     "ename": "ERROR",
     "evalue": "Error in ncol(countData) == nrow(colData): argument \"countData\" is missing, with no default\n",
     "output_type": "error",
     "traceback": [
      "Error in ncol(countData) == nrow(colData): argument \"countData\" is missing, with no default\nTraceback:\n",
      "1. DESeqDataSetFromMatrix(sampleTable = sampleTable, directory = \"/staging/as/skchoudh/SRP010679_uORF_differential_analysis/\", \n .     design = ~treatment)",
      "2. stopifnot(ncol(countData) == nrow(colData))",
      "3. withCallingHandlers(tryCatch(if (missE) ...elt(i) else eval(cl.i, \n .     envir = envir), error = function(e) {\n .     e$call <- cl.i\n .     stop(e)\n . }), warning = function(w) {\n .     w$call <- cl.i\n .     w\n . })",
      "4. tryCatch(if (missE) ...elt(i) else eval(cl.i, envir = envir), \n .     error = function(e) {\n .         e$call <- cl.i\n .         stop(e)\n .     })",
      "5. tryCatchList(expr, classes, parentenv, handlers)",
      "6. tryCatchOne(expr, names, parentenv, handlers[[1L]])",
      "7. value[[3L]](cond)"
     ]
    }
   ],
   "source": [
    "design.info <- read.table(design.file, header=T, stringsAsFactors=FALSE, sep='\\t')\n",
    "design.info <- design.info[design.info$treatment %in% c(\"vehicle\", \"pp242\") ,]\n",
    "design.info$treatment <- factor(design.info$treatment, levels=c(\"vehicle\", \"pp242\"))\n",
    "files <- paste(design.info$experiment_accession, counts.suffix, sep='')\n",
    "sampleName <- design.info$experiment_accession\n",
    "\n",
    "\n",
    "\n",
    "sampleTable <- data.frame(sampleName = sampleName, \n",
    "                          fileName = files, \n",
    "                          treatment=design.info$treatment)\n",
    "ddsHTSeq <- DESeqDataSetFromHTSeqCount(sampleTable = sampleTable, \n",
    "                                       directory = '/staging/as/skchoudh/SRP010679_uORF_differential_analysis/',\n",
    "                                       design = ~ treatment)\n",
    "ddsHTSeq <- ddsHTSeq[ rowSums(counts(ddsHTSeq)) > 1, ]\n",
    "dds <- DESeq(ddsHTSeq)\n",
    "\n",
    "pp242_vs_vehicle <- results(dds)\n",
    "\n",
    "write_results(pp242_vs_vehicle, '/staging/as/skchoudh/SRP010679_uORF_differential_analysis/ribo_pp242_vs_vehicle')"
   ]
  },
  {
   "cell_type": "code",
   "execution_count": 13,
   "metadata": {},
   "outputs": [
    {
     "name": "stderr",
     "output_type": "stream",
     "text": [
      "estimating size factors\n",
      "estimating dispersions\n",
      "gene-wise dispersion estimates\n",
      "mean-dispersion relationship\n",
      "final dispersion estimates\n",
      "fitting model and testing\n"
     ]
    },
    {
     "data": {
      "text/html": [
       "<table>\n",
       "<thead><tr><th></th><th scope=col>baseMean</th><th scope=col>log2FoldChange</th><th scope=col>lfcSE</th><th scope=col>stat</th><th scope=col>pvalue</th><th scope=col>padj</th><th scope=col>gene_id</th><th scope=col>gene_name</th></tr></thead>\n",
       "<tbody>\n",
       "\t<tr><th scope=row>ENST00000523172.5_98042765_98045398_63</th><td>877.6139    </td><td>-1.924436   </td><td>0.4217647   </td><td>-4.562820   </td><td>5.047111e-06</td><td>0.003695593 </td><td>NA          </td><td>NA          </td></tr>\n",
       "\t<tr><th scope=row>ENST00000528847.1_75400728_75400814_87</th><td>237.7931    </td><td>-2.008471   </td><td>0.4429807   </td><td>-4.533992   </td><td>5.787930e-06</td><td>0.003695593 </td><td>NA          </td><td>NA          </td></tr>\n",
       "\t<tr><th scope=row>ENST00000244745.3_21593862_21593960_99</th><td>120.6445    </td><td> 2.214624   </td><td>0.5013370   </td><td> 4.417436   </td><td>9.987845e-06</td><td>0.004251493 </td><td>NA          </td><td>NA          </td></tr>\n",
       "</tbody>\n",
       "</table>\n"
      ],
      "text/latex": [
       "\\begin{tabular}{r|llllllll}\n",
       "  & baseMean & log2FoldChange & lfcSE & stat & pvalue & padj & gene\\_id & gene\\_name\\\\\n",
       "\\hline\n",
       "\tENST00000523172.5\\_98042765\\_98045398\\_63 & 877.6139     & -1.924436    & 0.4217647    & -4.562820    & 5.047111e-06 & 0.003695593  & NA           & NA          \\\\\n",
       "\tENST00000528847.1\\_75400728\\_75400814\\_87 & 237.7931     & -2.008471    & 0.4429807    & -4.533992    & 5.787930e-06 & 0.003695593  & NA           & NA          \\\\\n",
       "\tENST00000244745.3\\_21593862\\_21593960\\_99 & 120.6445     &  2.214624    & 0.5013370    &  4.417436    & 9.987845e-06 & 0.004251493  & NA           & NA          \\\\\n",
       "\\end{tabular}\n"
      ],
      "text/markdown": [
       "\n",
       "| <!--/--> | baseMean | log2FoldChange | lfcSE | stat | pvalue | padj | gene_id | gene_name |\n",
       "|---|---|---|---|---|---|---|---|---|\n",
       "| ENST00000523172.5_98042765_98045398_63 | 877.6139     | -1.924436    | 0.4217647    | -4.562820    | 5.047111e-06 | 0.003695593  | NA           | NA           |\n",
       "| ENST00000528847.1_75400728_75400814_87 | 237.7931     | -2.008471    | 0.4429807    | -4.533992    | 5.787930e-06 | 0.003695593  | NA           | NA           |\n",
       "| ENST00000244745.3_21593862_21593960_99 | 120.6445     |  2.214624    | 0.5013370    |  4.417436    | 9.987845e-06 | 0.004251493  | NA           | NA           |\n",
       "\n"
      ],
      "text/plain": [
       "                                       baseMean log2FoldChange lfcSE    \n",
       "ENST00000523172.5_98042765_98045398_63 877.6139 -1.924436      0.4217647\n",
       "ENST00000528847.1_75400728_75400814_87 237.7931 -2.008471      0.4429807\n",
       "ENST00000244745.3_21593862_21593960_99 120.6445  2.214624      0.5013370\n",
       "                                       stat      pvalue       padj       \n",
       "ENST00000523172.5_98042765_98045398_63 -4.562820 5.047111e-06 0.003695593\n",
       "ENST00000528847.1_75400728_75400814_87 -4.533992 5.787930e-06 0.003695593\n",
       "ENST00000244745.3_21593862_21593960_99  4.417436 9.987845e-06 0.004251493\n",
       "                                       gene_id gene_name\n",
       "ENST00000523172.5_98042765_98045398_63 NA      NA       \n",
       "ENST00000528847.1_75400728_75400814_87 NA      NA       \n",
       "ENST00000244745.3_21593862_21593960_99 NA      NA       "
      ]
     },
     "metadata": {},
     "output_type": "display_data"
    }
   ],
   "source": [
    "design.info <- read.table(design.file, header=T, stringsAsFactors=FALSE, sep='\\t')\n",
    "design.info <- design.info[design.info$treatment %in% c(\"vehicle\", \"pp242\") ,]\n",
    "design.info$treatment <- factor(design.info$treatment, levels=c(\"vehicle\", \"pp242\"))\n",
    "files <- paste(design.info$experiment_accession, counts.suffix, sep='')\n",
    "sampleName <- design.info$experiment_accession\n",
    "\n",
    "\n",
    "\n",
    "sampleTable <- data.frame(sampleName = sampleName, \n",
    "                          fileName = files, \n",
    "                          treatment=design.info$treatment)\n",
    "ddsHTSeq <- DESeqDataSetFromHTSeqCount(sampleTable = sampleTable, \n",
    "                                       directory = '/staging/as/skchoudh/SRP010679_uORF_translating_only_differential_analysis/',\n",
    "                                       design = ~ treatment)\n",
    "ddsHTSeq <- ddsHTSeq[ rowSums(counts(ddsHTSeq)) > 1, ]\n",
    "dds <- DESeq(ddsHTSeq)\n",
    "\n",
    "pp242_vs_vehicle <- results(dds)\n",
    "\n",
    "write_results(pp242_vs_vehicle, '/staging/as/skchoudh/SRP010679_uORF_translating_only_differential_analysis/ribo_pp242_vs_vehicle')"
   ]
  },
  {
   "cell_type": "markdown",
   "metadata": {},
   "source": [
    "# Apply the size factors obtained from the CDS data to the uORF data"
   ]
  },
  {
   "cell_type": "code",
   "execution_count": 3,
   "metadata": {},
   "outputs": [
    {
     "name": "stderr",
     "output_type": "stream",
     "text": [
      "estimating size factors\n",
      "estimating dispersions\n",
      "gene-wise dispersion estimates\n",
      "mean-dispersion relationship\n",
      "final dispersion estimates\n",
      "fitting model and testing\n"
     ]
    }
   ],
   "source": [
    "get_dds_obj_corrected <- function(ddsNew, ddsOld){  \n",
    "  ddsOld <- estimateSizeFactors(ddsOld)\n",
    "  sizeFactors(ddsNew) <- sizeFactors(ddsOld)\n",
    "  #dispersionFunction(ddsNew) <- dispersionFunction(ddsOld)\n",
    "  return(ddsNew)\n",
    "}\n",
    "\n",
    "design.info <- read.table(design.file, header=T, stringsAsFactors=FALSE, sep='\\t')\n",
    "design.info <- design.info[design.info$treatment %in% c(\"vehicle\", \"pp242\") ,]\n",
    "design.info$treatment <- factor(design.info$treatment, levels=c(\"vehicle\", \"pp242\"))\n",
    "files <- paste(design.info$experiment_accession, counts.suffix, sep='')\n",
    "sampleName <- design.info$experiment_accession\n",
    "\n",
    "sampleTable <- data.frame(sampleName = sampleName, \n",
    "                          fileName = files, \n",
    "                          treatment=design.info$treatment)\n",
    "ddsHTSeq.cds <- DESeqDataSetFromHTSeqCount(sampleTable = sampleTable, \n",
    "                                           directory = '/staging/as/skchoudh/SRP010679_tx_counts/',\n",
    "                                           design = ~ treatment)\n",
    "\n",
    "ddsHTSeq.uorf <- DESeqDataSetFromHTSeqCount(sampleTable = sampleTable, \n",
    "                                           directory = '/staging/as/skchoudh/SRP010679_uORF_translating_only_differential_analysis/',\n",
    "                                           design = ~ treatment)\n",
    "\n",
    "ddsHTSeq.cds <- DESeq(ddsHTSeq.cds)\n",
    "\n",
    "\n"
   ]
  },
  {
   "cell_type": "code",
   "execution_count": 20,
   "metadata": {},
   "outputs": [
    {
     "data": {
      "text/html": [
       "<ol class=list-inline>\n",
       "\t<li>94421</li>\n",
       "\t<li>4</li>\n",
       "</ol>\n"
      ],
      "text/latex": [
       "\\begin{enumerate*}\n",
       "\\item 94421\n",
       "\\item 4\n",
       "\\end{enumerate*}\n"
      ],
      "text/markdown": [
       "1. 94421\n",
       "2. 4\n",
       "\n",
       "\n"
      ],
      "text/plain": [
       "[1] 94421     4"
      ]
     },
     "metadata": {},
     "output_type": "display_data"
    }
   ],
   "source": [
    "dim(counts(ddsHTSeq.cds))"
   ]
  },
  {
   "cell_type": "code",
   "execution_count": 21,
   "metadata": {},
   "outputs": [
    {
     "data": {
      "text/html": [
       "<ol class=list-inline>\n",
       "\t<li>94421</li>\n",
       "\t<li>4</li>\n",
       "</ol>\n"
      ],
      "text/latex": [
       "\\begin{enumerate*}\n",
       "\\item 94421\n",
       "\\item 4\n",
       "\\end{enumerate*}\n"
      ],
      "text/markdown": [
       "1. 94421\n",
       "2. 4\n",
       "\n",
       "\n"
      ],
      "text/plain": [
       "[1] 94421     4"
      ]
     },
     "metadata": {},
     "output_type": "display_data"
    }
   ],
   "source": [
    "dim(counts(ddsHTSeq.cds[ rowSums(counts(ddsHTSeq.cds)) > 0, ]))\n"
   ]
  },
  {
   "cell_type": "code",
   "execution_count": 6,
   "metadata": {},
   "outputs": [],
   "source": [
    "get_dds_obj_corrected <- function(ddsNew, ddsOld){  \n",
    "  ddsOld <- estimateSizeFactors(ddsOld)\n",
    "  sizeFactors(ddsNew) <- sizeFactors(ddsOld)\n",
    "  #dispersionFunction(ddsNew) <- dispersionFunction(ddsOld)\n",
    "  return(ddsNew)\n",
    "}"
   ]
  },
  {
   "cell_type": "code",
   "execution_count": 8,
   "metadata": {},
   "outputs": [
    {
     "name": "stderr",
     "output_type": "stream",
     "text": [
      "gene-wise dispersion estimates\n",
      "mean-dispersion relationship\n",
      "final dispersion estimates\n"
     ]
    }
   ],
   "source": [
    "ddsHTSeq.uorf <- get_dds_obj_corrected(ddsHTSeq.uorf, ddsHTSeq.cds)\n",
    "ddsHTSeq.uorf <- estimateDispersions(ddsHTSeq.uorf)"
   ]
  },
  {
   "cell_type": "code",
   "execution_count": 9,
   "metadata": {},
   "outputs": [
    {
     "data": {
      "text/html": [
       "<dl class=dl-horizontal>\n",
       "\t<dt>SRX118286</dt>\n",
       "\t\t<dd>0.46684384577989</dd>\n",
       "\t<dt>SRX118290</dt>\n",
       "\t\t<dd>0.655772807448604</dd>\n",
       "\t<dt>SRX118292</dt>\n",
       "\t\t<dd>1.71183376884665</dd>\n",
       "\t<dt>SRX118296</dt>\n",
       "\t\t<dd>1.96798967126543</dd>\n",
       "</dl>\n"
      ],
      "text/latex": [
       "\\begin{description*}\n",
       "\\item[SRX118286] 0.46684384577989\n",
       "\\item[SRX118290] 0.655772807448604\n",
       "\\item[SRX118292] 1.71183376884665\n",
       "\\item[SRX118296] 1.96798967126543\n",
       "\\end{description*}\n"
      ],
      "text/markdown": [
       "SRX118286\n",
       ":   0.46684384577989SRX118290\n",
       ":   0.655772807448604SRX118292\n",
       ":   1.71183376884665SRX118296\n",
       ":   1.96798967126543\n",
       "\n"
      ],
      "text/plain": [
       "SRX118286 SRX118290 SRX118292 SRX118296 \n",
       "0.4668438 0.6557728 1.7118338 1.9679897 "
      ]
     },
     "metadata": {},
     "output_type": "display_data"
    }
   ],
   "source": [
    "sizeFactors(ddsHTSeq.cds)"
   ]
  },
  {
   "cell_type": "code",
   "execution_count": 18,
   "metadata": {},
   "outputs": [
    {
     "data": {
      "text/plain": [
       "class: DESeqDataSet \n",
       "dim: 1277 4 \n",
       "metadata(1): version\n",
       "assays(1): counts\n",
       "rownames(1277): ENST00000540437.5_1323130_1324674_252\n",
       "  ENST00000540437.5_1323180_1324676_204 ...\n",
       "  ENST00000424325.6_154398270_154398350_81\n",
       "  ENST00000618723.4_154398270_154398350_81\n",
       "rowData names(0):\n",
       "colnames(4): SRX118286 SRX118290 SRX118292 SRX118296\n",
       "colData names(1): treatment"
      ]
     },
     "metadata": {},
     "output_type": "display_data"
    }
   ],
   "source": [
    "ddsHTSeq.uorf"
   ]
  },
  {
   "cell_type": "code",
   "execution_count": 12,
   "metadata": {},
   "outputs": [
    {
     "name": "stderr",
     "output_type": "stream",
     "text": [
      "using pre-existing size factors\n",
      "estimating dispersions\n",
      "found already estimated dispersions, replacing these\n",
      "gene-wise dispersion estimates\n",
      "mean-dispersion relationship\n",
      "final dispersion estimates\n",
      "fitting model and testing\n"
     ]
    },
    {
     "data": {
      "text/html": [
       "<table>\n",
       "<thead><tr><th></th><th scope=col>baseMean</th><th scope=col>log2FoldChange</th><th scope=col>lfcSE</th><th scope=col>stat</th><th scope=col>pvalue</th><th scope=col>padj</th><th scope=col>gene_id</th><th scope=col>gene_name</th></tr></thead>\n",
       "<tbody>\n",
       "\t<tr><th scope=row>ENST00000244745.3_21593862_21593960_99</th><td>122.9619    </td><td> 2.298195   </td><td>0.5235360   </td><td> 4.389755   </td><td>1.134785e-05</td><td>0.01449121  </td><td>NA          </td><td>NA          </td></tr>\n",
       "\t<tr><th scope=row>ENST00000528847.1_75400728_75400814_87</th><td>234.5215    </td><td>-1.929083   </td><td>0.4726027   </td><td>-4.081827   </td><td>4.468303e-05</td><td>0.02853011  </td><td>NA          </td><td>NA          </td></tr>\n",
       "</tbody>\n",
       "</table>\n"
      ],
      "text/latex": [
       "\\begin{tabular}{r|llllllll}\n",
       "  & baseMean & log2FoldChange & lfcSE & stat & pvalue & padj & gene\\_id & gene\\_name\\\\\n",
       "\\hline\n",
       "\tENST00000244745.3\\_21593862\\_21593960\\_99 & 122.9619     &  2.298195    & 0.5235360    &  4.389755    & 1.134785e-05 & 0.01449121   & NA           & NA          \\\\\n",
       "\tENST00000528847.1\\_75400728\\_75400814\\_87 & 234.5215     & -1.929083    & 0.4726027    & -4.081827    & 4.468303e-05 & 0.02853011   & NA           & NA          \\\\\n",
       "\\end{tabular}\n"
      ],
      "text/markdown": [
       "\n",
       "| <!--/--> | baseMean | log2FoldChange | lfcSE | stat | pvalue | padj | gene_id | gene_name |\n",
       "|---|---|---|---|---|---|---|---|---|\n",
       "| ENST00000244745.3_21593862_21593960_99 | 122.9619     |  2.298195    | 0.5235360    |  4.389755    | 1.134785e-05 | 0.01449121   | NA           | NA           |\n",
       "| ENST00000528847.1_75400728_75400814_87 | 234.5215     | -1.929083    | 0.4726027    | -4.081827    | 4.468303e-05 | 0.02853011   | NA           | NA           |\n",
       "\n"
      ],
      "text/plain": [
       "                                       baseMean log2FoldChange lfcSE    \n",
       "ENST00000244745.3_21593862_21593960_99 122.9619  2.298195      0.5235360\n",
       "ENST00000528847.1_75400728_75400814_87 234.5215 -1.929083      0.4726027\n",
       "                                       stat      pvalue       padj      \n",
       "ENST00000244745.3_21593862_21593960_99  4.389755 1.134785e-05 0.01449121\n",
       "ENST00000528847.1_75400728_75400814_87 -4.081827 4.468303e-05 0.02853011\n",
       "                                       gene_id gene_name\n",
       "ENST00000244745.3_21593862_21593960_99 NA      NA       \n",
       "ENST00000528847.1_75400728_75400814_87 NA      NA       "
      ]
     },
     "metadata": {},
     "output_type": "display_data"
    }
   ],
   "source": [
    "ddsHTSeq.uorf <- DESeq(ddsHTSeq.uorf)\n",
    "pp242_vs_vehicle <- results(ddsHTSeq.uorf)\n",
    "\n",
    "write_results(pp242_vs_vehicle, '/staging/as/skchoudh/SRP010679_uORF_translating_only_differential_analysis/ribo_same_size_factor_pp242_vs_vehicle')"
   ]
  },
  {
   "cell_type": "code",
   "execution_count": null,
   "metadata": {},
   "outputs": [],
   "source": []
  }
 ],
 "metadata": {
  "kernelspec": {
   "display_name": "R [conda env:scanpy_r]",
   "language": "R",
   "name": "conda-env-scanpy_r-r"
  },
  "language_info": {
   "codemirror_mode": "r",
   "file_extension": ".r",
   "mimetype": "text/x-r-source",
   "name": "R",
   "pygments_lexer": "r",
   "version": "3.5.1"
  }
 },
 "nbformat": 4,
 "nbformat_minor": 2
}
