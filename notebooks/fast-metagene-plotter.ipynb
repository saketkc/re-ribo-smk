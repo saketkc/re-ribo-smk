{
 "cells": [
  {
   "cell_type": "code",
   "execution_count": 1,
   "metadata": {},
   "outputs": [
    {
     "name": "stdout",
     "output_type": "stream",
     "text": [
      "Populating the interactive namespace from numpy and matplotlib\n"
     ]
    },
    {
     "ename": "ModuleNotFoundError",
     "evalue": "No module named 'pygtf'",
     "output_type": "error",
     "traceback": [
      "\u001b[0;31m---------------------------------------------------------------------------\u001b[0m",
      "\u001b[0;31mModuleNotFoundError\u001b[0m                       Traceback (most recent call last)",
      "\u001b[0;32m<ipython-input-1-12d761dcdeb1>\u001b[0m in \u001b[0;36m<module>\u001b[0;34m()\u001b[0m\n\u001b[1;32m      1\u001b[0m \u001b[0mget_ipython\u001b[0m\u001b[0;34m(\u001b[0m\u001b[0;34m)\u001b[0m\u001b[0;34m.\u001b[0m\u001b[0mrun_line_magic\u001b[0m\u001b[0;34m(\u001b[0m\u001b[0;34m'pylab'\u001b[0m\u001b[0;34m,\u001b[0m \u001b[0;34m'inline'\u001b[0m\u001b[0;34m)\u001b[0m\u001b[0;34m\u001b[0m\u001b[0m\n\u001b[1;32m      2\u001b[0m \u001b[0;32mimport\u001b[0m \u001b[0mpyBigWig\u001b[0m\u001b[0;34m\u001b[0m\u001b[0m\n\u001b[0;32m----> 3\u001b[0;31m \u001b[0;32mimport\u001b[0m \u001b[0mpygtf\u001b[0m\u001b[0;34m\u001b[0m\u001b[0m\n\u001b[0m\u001b[1;32m      4\u001b[0m \u001b[0;34m\u001b[0m\u001b[0m\n\u001b[1;32m      5\u001b[0m \u001b[0;32mdef\u001b[0m \u001b[0m_multiprocess_gene_coverage\u001b[0m\u001b[0;34m(\u001b[0m\u001b[0mdata\u001b[0m\u001b[0;34m)\u001b[0m\u001b[0;34m:\u001b[0m\u001b[0;34m\u001b[0m\u001b[0m\n",
      "\u001b[0;31mModuleNotFoundError\u001b[0m: No module named 'pygtf'"
     ]
    }
   ],
   "source": [
    "%pylab inline\n",
    "import pyBigWig\n",
    "\n",
    "def _multiprocess_gene_coverage(data):\n",
    "    \"\"\"Process gene_c overage given a bigwig and a genegroup.\n",
    "\n",
    "    WigReader is not pickleable when passed as an argument so we use strings\n",
    "    as input for the bigwig\n",
    "\n",
    "    Parameters\n",
    "    ----------\n",
    "    data: tuple\n",
    "          gene_gorup, bigwig, offset_5p, offset_3p, max_positions, orientation\n",
    "\n",
    "    Returns\n",
    "    -------\n",
    "    norm_cov: Series\n",
    "              normalized coverage\n",
    "    \"\"\"\n",
    "    gene_group, bw, offset_5p, offset_3p, max_positions, orientation = data\n",
    "    bw = WigReader(bw)\n",
    "    coverage, gene_offset_5p, gene_offset_3p = gene_coverage(\n",
    "        gene_group, bw, offset_5p, offset_3p)\n",
    "    coverage = coverage.fillna(0)\n",
    "\n",
    "    if orientation == '5prime':\n",
    "        if max_positions is not None and len(coverage.index) > 0:\n",
    "            # min_index will correspond to the gene_offset_5p in general\n",
    "            min_index = min(coverage.index.tolist())\n",
    "            max_index = max(coverage.index.tolist())\n",
    "            assert min_index == -gene_offset_5p, 'min_index and gene_offset_5p are not same| min_index: {} | gene_offset_5p: {}'.format(\n",
    "                min_index, -gene_offset_5p)\n",
    "            coverage = coverage[np.arange(min_index,\n",
    "                                          min(max_index, max_positions))]\n",
    "    elif orientation == '3prime':\n",
    "        # We now want to be tracking things from the end position\n",
    "        # we can do this since gene_coverage() takes care of the strand\n",
    "        # so a 3prime is always the tail of the array\n",
    "        # note that if gene_offset_5p >0, in this case, it is almost never used\n",
    "        # since we restrict ourselves to max_positions, which itself is almost\n",
    "        # always < 1000\n",
    "        if max_positions is not None and len(coverage.index) > 0:\n",
    "            max_index = max(coverage.index.tolist())\n",
    "            min_index = min(coverage.index.tolist())\n",
    "            assert min_index == -gene_offset_5p, 'min_index and gene_offset_5p are not same| min_index: {} | gene_offset_5p: {}'.format(\n",
    "                min_index, -gene_offset_5p)\n",
    "            # max_index is the maximum we can go to the right\n",
    "            # our stop codon will be located gene_offset_3p upstream of this index\n",
    "            # Let's reindex our series so that we set\n",
    "            coverage = coverage.reindex(np.arange(-max_index, -min_index, 1))\n",
    "            coverage = coverage[np.arange(-max_positions, gene_offset_3p)]\n",
    "    else:\n",
    "        raise ValueError('{} orientation not supported'.format(orientation))\n",
    "\n",
    "    assert coverage is not None, 'coverage is none | max_index={} | min_index={}| gene_offset_3p={} | gene_offset_5p={}'.format(\n",
    "        max_index, min_index, gene_offset_3p, gene_offset_5p)\n",
    "    coverage_mean = coverage.mean()\n",
    "    norm_cov = coverage / coverage_mean\n",
    "    norm_cov = norm_cov.fillna(0)\n",
    "    bw.close()\n",
    "    return norm_cov"
   ]
  },
  {
   "cell_type": "code",
   "execution_count": null,
   "metadata": {},
   "outputs": [],
   "source": []
  }
 ],
 "metadata": {
  "kernelspec": {
   "display_name": "Python [conda env:riboraptor]",
   "language": "python",
   "name": "conda-env-riboraptor-py"
  },
  "language_info": {
   "codemirror_mode": {
    "name": "ipython",
    "version": 3
   },
   "file_extension": ".py",
   "mimetype": "text/x-python",
   "name": "python",
   "nbconvert_exporter": "python",
   "pygments_lexer": "ipython3",
   "version": "3.6.5"
  }
 },
 "nbformat": 4,
 "nbformat_minor": 2
}
