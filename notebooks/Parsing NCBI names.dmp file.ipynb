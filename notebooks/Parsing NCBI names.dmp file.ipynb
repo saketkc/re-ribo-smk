{
 "cells": [
  {
   "cell_type": "code",
   "execution_count": 1,
   "metadata": {},
   "outputs": [
    {
     "name": "stdout",
     "output_type": "stream",
     "text": [
      "Populating the interactive namespace from numpy and matplotlib\n"
     ]
    }
   ],
   "source": [
    "%pylab inline\n",
    "import pandas as pd\n"
   ]
  },
  {
   "cell_type": "markdown",
   "metadata": {},
   "source": [
    "Data downloaded from ftp://ftp.ncbi.nih.gov/pub/taxonomy/taxdump.tar.gz"
   ]
  },
  {
   "cell_type": "code",
   "execution_count": 16,
   "metadata": {},
   "outputs": [],
   "source": [
    "names_df = pd.read_table('../data/taxonomy/names.dmp', sep ='\\t', skiprows=[0,1], header=None).drop(columns=[1,3,5, 7])\n",
    "\n",
    "names_df.columns = ['taxid', 'common_name', 'scientific_name', 'annotation_type']"
   ]
  },
  {
   "cell_type": "code",
   "execution_count": 21,
   "metadata": {},
   "outputs": [],
   "source": [
    "names_df[names_df.annotation_type.isin(['scientific name', 'genbank common name', 'common name'])].sort_values(by=['taxid']).to_csv('../data/taxonomy/taxid_map.tsv', sep='\\t', index=False, header=True)"
   ]
  },
  {
   "cell_type": "code",
   "execution_count": null,
   "metadata": {},
   "outputs": [],
   "source": []
  }
 ],
 "metadata": {
  "kernelspec": {
   "display_name": "Python (riboraptor_clean)",
   "language": "python",
   "name": "riboraptor_clean"
  },
  "language_info": {
   "codemirror_mode": {
    "name": "ipython",
    "version": 3
   },
   "file_extension": ".py",
   "mimetype": "text/x-python",
   "name": "python",
   "nbconvert_exporter": "python",
   "pygments_lexer": "ipython3",
   "version": "3.5.5"
  }
 },
 "nbformat": 4,
 "nbformat_minor": 2
}
