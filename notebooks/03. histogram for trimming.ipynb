{
 "cells": [
  {
   "cell_type": "markdown",
   "metadata": {},
   "source": [
    "# Detecting adapters\n",
    "\n",
    "For datasets where the adapter is tricky, we need to be able to figure out it ourselves. The strategy is simple: Starting from a 12nt to 20nt, create a dictionary of the number\n",
    "    of occurences of a particular kind of sequences. Then greedily select an adapter starting from 20nt long.\n",
    "    "
   ]
  },
  {
   "cell_type": "code",
   "execution_count": 199,
   "metadata": {},
   "outputs": [
    {
     "name": "stdout",
     "output_type": "stream",
     "text": [
      "Populating the interactive namespace from numpy and matplotlib\n"
     ]
    },
    {
     "ename": "ValueError",
     "evalue": "'autoreload' was not found in history, as a file, url, nor in the user namespace.",
     "output_type": "error",
     "traceback": [
      "\u001b[0;31m---------------------------------------------------------------------------\u001b[0m",
      "\u001b[0;31mNameError\u001b[0m                                 Traceback (most recent call last)",
      "\u001b[0;32m/home/cmb-panasas2/skchoudh/software_frozen/anaconda27/envs/riboraptor/lib/python3.5/site-packages/IPython/core/interactiveshell.py\u001b[0m in \u001b[0;36mfind_user_code\u001b[0;34m(self, target, raw, py_only, skip_encoding_cookie, search_ns)\u001b[0m\n\u001b[1;32m   3280\u001b[0m         \u001b[0;32mtry\u001b[0m\u001b[0;34m:\u001b[0m                                              \u001b[0;31m# User namespace\u001b[0m\u001b[0;34m\u001b[0m\u001b[0m\n\u001b[0;32m-> 3281\u001b[0;31m             \u001b[0mcodeobj\u001b[0m \u001b[0;34m=\u001b[0m \u001b[0meval\u001b[0m\u001b[0;34m(\u001b[0m\u001b[0mtarget\u001b[0m\u001b[0;34m,\u001b[0m \u001b[0mself\u001b[0m\u001b[0;34m.\u001b[0m\u001b[0muser_ns\u001b[0m\u001b[0;34m)\u001b[0m\u001b[0;34m\u001b[0m\u001b[0m\n\u001b[0m\u001b[1;32m   3282\u001b[0m         \u001b[0;32mexcept\u001b[0m \u001b[0mException\u001b[0m\u001b[0;34m:\u001b[0m\u001b[0;34m\u001b[0m\u001b[0m\n",
      "\u001b[0;32m<string>\u001b[0m in \u001b[0;36m<module>\u001b[0;34m()\u001b[0m\n",
      "\u001b[0;31mNameError\u001b[0m: name 'autoreload' is not defined",
      "\nDuring handling of the above exception, another exception occurred:\n",
      "\u001b[0;31mValueError\u001b[0m                                Traceback (most recent call last)",
      "\u001b[0;32m<ipython-input-199-9eae40be3bd3>\u001b[0m in \u001b[0;36m<module>\u001b[0;34m()\u001b[0m\n\u001b[1;32m      1\u001b[0m \u001b[0mget_ipython\u001b[0m\u001b[0;34m(\u001b[0m\u001b[0;34m)\u001b[0m\u001b[0;34m.\u001b[0m\u001b[0mrun_line_magic\u001b[0m\u001b[0;34m(\u001b[0m\u001b[0;34m'pylab'\u001b[0m\u001b[0;34m,\u001b[0m \u001b[0;34m'inline'\u001b[0m\u001b[0;34m)\u001b[0m\u001b[0;34m\u001b[0m\u001b[0m\n\u001b[0;32m----> 2\u001b[0;31m \u001b[0mget_ipython\u001b[0m\u001b[0;34m(\u001b[0m\u001b[0;34m)\u001b[0m\u001b[0;34m.\u001b[0m\u001b[0mrun_line_magic\u001b[0m\u001b[0;34m(\u001b[0m\u001b[0;34m'load'\u001b[0m\u001b[0;34m,\u001b[0m \u001b[0;34m'autoreload'\u001b[0m\u001b[0;34m)\u001b[0m\u001b[0;34m\u001b[0m\u001b[0m\n\u001b[0m\u001b[1;32m      3\u001b[0m \u001b[0mget_ipython\u001b[0m\u001b[0;34m(\u001b[0m\u001b[0;34m)\u001b[0m\u001b[0;34m.\u001b[0m\u001b[0mrun_line_magic\u001b[0m\u001b[0;34m(\u001b[0m\u001b[0;34m'autoreload'\u001b[0m\u001b[0;34m,\u001b[0m \u001b[0;34m'2'\u001b[0m\u001b[0;34m)\u001b[0m\u001b[0;34m\u001b[0m\u001b[0m\n\u001b[1;32m      4\u001b[0m \u001b[0;32mimport\u001b[0m \u001b[0mLevenshtein\u001b[0m\u001b[0;34m\u001b[0m\u001b[0m\n\u001b[1;32m      5\u001b[0m \u001b[0;32mfrom\u001b[0m \u001b[0mBio\u001b[0m\u001b[0;34m.\u001b[0m\u001b[0mSeqIO\u001b[0m\u001b[0;34m.\u001b[0m\u001b[0mQualityIO\u001b[0m \u001b[0;32mimport\u001b[0m \u001b[0mFastqGeneralIterator\u001b[0m\u001b[0;34m\u001b[0m\u001b[0m\n",
      "\u001b[0;32m/home/cmb-panasas2/skchoudh/software_frozen/anaconda27/envs/riboraptor/lib/python3.5/site-packages/IPython/core/interactiveshell.py\u001b[0m in \u001b[0;36mrun_line_magic\u001b[0;34m(self, magic_name, line, _stack_depth)\u001b[0m\n\u001b[1;32m   2129\u001b[0m                 \u001b[0mkwargs\u001b[0m\u001b[0;34m[\u001b[0m\u001b[0;34m'local_ns'\u001b[0m\u001b[0;34m]\u001b[0m \u001b[0;34m=\u001b[0m \u001b[0msys\u001b[0m\u001b[0;34m.\u001b[0m\u001b[0m_getframe\u001b[0m\u001b[0;34m(\u001b[0m\u001b[0mstack_depth\u001b[0m\u001b[0;34m)\u001b[0m\u001b[0;34m.\u001b[0m\u001b[0mf_locals\u001b[0m\u001b[0;34m\u001b[0m\u001b[0m\n\u001b[1;32m   2130\u001b[0m             \u001b[0;32mwith\u001b[0m \u001b[0mself\u001b[0m\u001b[0;34m.\u001b[0m\u001b[0mbuiltin_trap\u001b[0m\u001b[0;34m:\u001b[0m\u001b[0;34m\u001b[0m\u001b[0m\n\u001b[0;32m-> 2131\u001b[0;31m                 \u001b[0mresult\u001b[0m \u001b[0;34m=\u001b[0m \u001b[0mfn\u001b[0m\u001b[0;34m(\u001b[0m\u001b[0;34m*\u001b[0m\u001b[0margs\u001b[0m\u001b[0;34m,\u001b[0m\u001b[0;34m**\u001b[0m\u001b[0mkwargs\u001b[0m\u001b[0;34m)\u001b[0m\u001b[0;34m\u001b[0m\u001b[0m\n\u001b[0m\u001b[1;32m   2132\u001b[0m             \u001b[0;32mreturn\u001b[0m \u001b[0mresult\u001b[0m\u001b[0;34m\u001b[0m\u001b[0m\n\u001b[1;32m   2133\u001b[0m \u001b[0;34m\u001b[0m\u001b[0m\n",
      "\u001b[0;32m<decorator-gen-47>\u001b[0m in \u001b[0;36mload\u001b[0;34m(self, arg_s)\u001b[0m\n",
      "\u001b[0;32m/home/cmb-panasas2/skchoudh/software_frozen/anaconda27/envs/riboraptor/lib/python3.5/site-packages/IPython/core/magic.py\u001b[0m in \u001b[0;36m<lambda>\u001b[0;34m(f, *a, **k)\u001b[0m\n\u001b[1;32m    185\u001b[0m     \u001b[0;31m# but it's overkill for just that one bit of state.\u001b[0m\u001b[0;34m\u001b[0m\u001b[0;34m\u001b[0m\u001b[0m\n\u001b[1;32m    186\u001b[0m     \u001b[0;32mdef\u001b[0m \u001b[0mmagic_deco\u001b[0m\u001b[0;34m(\u001b[0m\u001b[0marg\u001b[0m\u001b[0;34m)\u001b[0m\u001b[0;34m:\u001b[0m\u001b[0;34m\u001b[0m\u001b[0m\n\u001b[0;32m--> 187\u001b[0;31m         \u001b[0mcall\u001b[0m \u001b[0;34m=\u001b[0m \u001b[0;32mlambda\u001b[0m \u001b[0mf\u001b[0m\u001b[0;34m,\u001b[0m \u001b[0;34m*\u001b[0m\u001b[0ma\u001b[0m\u001b[0;34m,\u001b[0m \u001b[0;34m**\u001b[0m\u001b[0mk\u001b[0m\u001b[0;34m:\u001b[0m \u001b[0mf\u001b[0m\u001b[0;34m(\u001b[0m\u001b[0;34m*\u001b[0m\u001b[0ma\u001b[0m\u001b[0;34m,\u001b[0m \u001b[0;34m**\u001b[0m\u001b[0mk\u001b[0m\u001b[0;34m)\u001b[0m\u001b[0;34m\u001b[0m\u001b[0m\n\u001b[0m\u001b[1;32m    188\u001b[0m \u001b[0;34m\u001b[0m\u001b[0m\n\u001b[1;32m    189\u001b[0m         \u001b[0;32mif\u001b[0m \u001b[0mcallable\u001b[0m\u001b[0;34m(\u001b[0m\u001b[0marg\u001b[0m\u001b[0;34m)\u001b[0m\u001b[0;34m:\u001b[0m\u001b[0;34m\u001b[0m\u001b[0m\n",
      "\u001b[0;32m/home/cmb-panasas2/skchoudh/software_frozen/anaconda27/envs/riboraptor/lib/python3.5/site-packages/IPython/core/magics/code.py\u001b[0m in \u001b[0;36mload\u001b[0;34m(self, arg_s)\u001b[0m\n\u001b[1;32m    333\u001b[0m         \u001b[0msearch_ns\u001b[0m \u001b[0;34m=\u001b[0m \u001b[0;34m'n'\u001b[0m \u001b[0;32min\u001b[0m \u001b[0mopts\u001b[0m\u001b[0;34m\u001b[0m\u001b[0m\n\u001b[1;32m    334\u001b[0m \u001b[0;34m\u001b[0m\u001b[0m\n\u001b[0;32m--> 335\u001b[0;31m         \u001b[0mcontents\u001b[0m \u001b[0;34m=\u001b[0m \u001b[0mself\u001b[0m\u001b[0;34m.\u001b[0m\u001b[0mshell\u001b[0m\u001b[0;34m.\u001b[0m\u001b[0mfind_user_code\u001b[0m\u001b[0;34m(\u001b[0m\u001b[0margs\u001b[0m\u001b[0;34m,\u001b[0m \u001b[0msearch_ns\u001b[0m\u001b[0;34m=\u001b[0m\u001b[0msearch_ns\u001b[0m\u001b[0;34m)\u001b[0m\u001b[0;34m\u001b[0m\u001b[0m\n\u001b[0m\u001b[1;32m    336\u001b[0m \u001b[0;34m\u001b[0m\u001b[0m\n\u001b[1;32m    337\u001b[0m         \u001b[0;32mif\u001b[0m \u001b[0;34m's'\u001b[0m \u001b[0;32min\u001b[0m \u001b[0mopts\u001b[0m\u001b[0;34m:\u001b[0m\u001b[0;34m\u001b[0m\u001b[0m\n",
      "\u001b[0;32m/home/cmb-panasas2/skchoudh/software_frozen/anaconda27/envs/riboraptor/lib/python3.5/site-packages/IPython/core/interactiveshell.py\u001b[0m in \u001b[0;36mfind_user_code\u001b[0;34m(self, target, raw, py_only, skip_encoding_cookie, search_ns)\u001b[0m\n\u001b[1;32m   3282\u001b[0m         \u001b[0;32mexcept\u001b[0m \u001b[0mException\u001b[0m\u001b[0;34m:\u001b[0m\u001b[0;34m\u001b[0m\u001b[0m\n\u001b[1;32m   3283\u001b[0m             raise ValueError((\"'%s' was not found in history, as a file, url, \"\n\u001b[0;32m-> 3284\u001b[0;31m                                 \"nor in the user namespace.\") % target)\n\u001b[0m\u001b[1;32m   3285\u001b[0m \u001b[0;34m\u001b[0m\u001b[0m\n\u001b[1;32m   3286\u001b[0m         \u001b[0;32mif\u001b[0m \u001b[0misinstance\u001b[0m\u001b[0;34m(\u001b[0m\u001b[0mcodeobj\u001b[0m\u001b[0;34m,\u001b[0m \u001b[0mstr\u001b[0m\u001b[0;34m)\u001b[0m\u001b[0;34m:\u001b[0m\u001b[0;34m\u001b[0m\u001b[0m\n",
      "\u001b[0;31mValueError\u001b[0m: 'autoreload' was not found in history, as a file, url, nor in the user namespace."
     ]
    }
   ],
   "source": [
    "%pylab inline\n",
    "%load_ext autoreload\n",
    "%autoreload 2\n",
    "    \n",
    "import Levenshtein\n",
    "from Bio.SeqIO.QualityIO import FastqGeneralIterator\n",
    "import pandas as pd\n",
    "import gzip\n",
    "from sklearn.metrics.pairwise import pairwise_distances\n",
    "from sklearn.metrics import hamming_loss\n",
    "from tqdm import tqdm\n",
    "from collections import Counter, defaultdict\n"
   ]
  },
  {
   "cell_type": "code",
   "execution_count": 151,
   "metadata": {},
   "outputs": [],
   "source": [
    "def collapse_kmer_counts(kmer_counts_series, allowed_mismatches=3):\n",
    "    \"\"\"For a given list of kmer counters,\n",
    "    collapse them allowing for atmost `allowed_mismatches`\n",
    "    \n",
    "    NOTE: This method should almost never be required, since there\n",
    "    are better ways to deal with finding enriched sequences in case\n",
    "    the adapters is not auto detected by trim_galore. \n",
    "    \n",
    "    The idea is straight forward. Do one pass of trimming with standard\n",
    "    illumina adapters. Then using these trimmed sequences find out enriched\n",
    "    sequence in the \n",
    "    \"\"\"\n",
    "    k = len(kmer_counts_series.index.tolist()[0])\n",
    "    kmers =  np.array(list(map(lambda x: list(x), kmer_counts_series.index.tolist()))).view(numpy.uint32)\n",
    "    counts = kmer_counts_series.values.tolist()    \n",
    "    ## Too slow and not ideal\n",
    "    ## Should instead use Levenshtein distance which is more\n",
    "    ## relevant anyway (since the adapters coould be present in partial)\n",
    "    distances = pairwise_distances(kmers, metric=hamming_loss) * k\n",
    "    return np.argwhere(distances <= allowed_mismatches), distances  \n",
    "  \n",
    "def get_histogram(fastq_file, adapter_length = range(12, 31), prime5=False):\n",
    "    max_seq = 1000000\n",
    "    cur_count = 0\n",
    "    should_continue = True\n",
    "    if '.gz' in fastq_file:\n",
    "        handle = gzip.open(fastq_file, 'rt')\n",
    "    else:\n",
    "        handle = open(fastq_file, 'r')\n",
    "    histogram = {k: Counter() for k in adapter_length}\n",
    "\n",
    "    \n",
    "    with tqdm(total=max_seq) as pbar:\n",
    "        for title, seq, qual in FastqGeneralIterator(handle):\n",
    "            if not should_continue:\n",
    "                break\n",
    "            cur_count += 1\n",
    "            for k in adapter_length:    \n",
    "                if not prime5:\n",
    "                    k_seq = seq[-k:]\n",
    "                else:\n",
    "                    k_seq = seq[3:k+3]\n",
    "                histogram[k][k_seq] += 1\n",
    "                if cur_count >= max_seq:\n",
    "                    should_continue = False\n",
    "            pbar.update()\n",
    "    handle.close()\n",
    "    histogram_series  = {}    \n",
    "    for k,v in histogram.items():\n",
    "        histogram_series[k] = pd.Series(v).sort_values(ascending=False)/max_seq*100\n",
    "    return histogram_series\n",
    "\n",
    "def hamming_distance(x, y):\n",
    "    \"\"\"Calculate hamming distance between two strings\"\"\"\n",
    "    assert len(x) == len(y)\n",
    "    count = 0\n",
    "    z = int(x,2)^int(y,2)\n",
    "    while z:\n",
    "        count += 1\n",
    "        z &= z-1\n",
    "    return count\n",
    "\n"
   ]
  },
  {
   "cell_type": "code",
   "execution_count": 198,
   "metadata": {},
   "outputs": [
    {
     "data": {
      "text/plain": [
       "[]"
      ]
     },
     "execution_count": 198,
     "metadata": {},
     "output_type": "execute_result"
    }
   ],
   "source": [
    "a = [1,2,3,4,5,6]\n",
    "a[-3-0:0]"
   ]
  },
  {
   "cell_type": "code",
   "execution_count": 157,
   "metadata": {},
   "outputs": [],
   "source": [
    "a = {'a': Counter(), 'b': Counter()}\n",
    "a['a']['a'] += 1\n",
    "a['a']['b'] += 1\n"
   ]
  },
  {
   "cell_type": "code",
   "execution_count": 195,
   "metadata": {},
   "outputs": [
    {
     "ename": "TypeError",
     "evalue": "unsupported operand type(s) for /: 'list' and 'int'",
     "output_type": "error",
     "traceback": [
      "\u001b[0;31m---------------------------------------------------------------------------\u001b[0m",
      "\u001b[0;31mTypeError\u001b[0m                                 Traceback (most recent call last)",
      "\u001b[0;32m<ipython-input-195-66a5bc02b900>\u001b[0m in \u001b[0;36m<module>\u001b[0;34m()\u001b[0m\n\u001b[0;32m----> 1\u001b[0;31m \u001b[0ma\u001b[0m\u001b[0;34m[\u001b[0m\u001b[0;34m'a'\u001b[0m\u001b[0;34m]\u001b[0m\u001b[0;34m.\u001b[0m\u001b[0mmost_common\u001b[0m\u001b[0;34m(\u001b[0m\u001b[0;34m)\u001b[0m\u001b[0;34m/\u001b[0m\u001b[0;36m30\u001b[0m\u001b[0;34m\u001b[0m\u001b[0m\n\u001b[0m",
      "\u001b[0;31mTypeError\u001b[0m: unsupported operand type(s) for /: 'list' and 'int'"
     ]
    }
   ],
   "source": [
    "a['a'].most_common()/30"
   ]
  },
  {
   "cell_type": "code",
   "execution_count": 185,
   "metadata": {},
   "outputs": [],
   "source": [
    "fastq_17nt_adapt = '/staging/as/skchoudh/re-ribo-analysis/hg38/SRP098789/sratofastq/SRR5227288.fastq.gz'\n",
    "fastq_17nt_adapt_trimmed = '/staging/as/skchoudh/re-ribo-analysis/hg38/SRP098789/preprocessed/SRR5227288_trimmed.fq.gz'\n",
    "fastq_13nt_adapt = '/home/cmb-06//as/skchoudh/dna/Dec_12_2017_Penalva_RPS5_Riboseq/Penalva_L_12112017/RPS5_C2_S2_L001_R1_001.fastq.gz'\n",
    "fastq_amb = '/staging/as/skchoudh/re-ribo-analysis/hg38/SRP031501_human_remap_v2/sratofastq/SRR1562541.fastq.gz'\n",
    "# indices, distances = collapse_kmer_counts(histogram_series[22])\n",
    "fastq_erx = '/staging/as/wenzhenl/re-ribo-data/ERP005378/ERX432360/ERR466125.fastq'\n",
    "\n",
    "fastq_5prime = '/staging/as/skchoudh/re-ribo-analysis/hg38/SRP017942/preprocessed/SRR648669_trimmed.fq.gz'"
   ]
  },
  {
   "cell_type": "code",
   "execution_count": 186,
   "metadata": {},
   "outputs": [
    {
     "name": "stderr",
     "output_type": "stream",
     "text": [
      "100%|██████████| 1000000/1000000 [00:33<00:00, 29441.37it/s]\n"
     ]
    }
   ],
   "source": [
    "histogram_5prime = get_histogram(fastq_amb, range(2, 17), True)"
   ]
  },
  {
   "cell_type": "code",
   "execution_count": 194,
   "metadata": {},
   "outputs": [
    {
     "data": {
      "text/plain": [
       "AAACCATTCGTA    5.7625\n",
       "TACACGGAGTCG    5.1065\n",
       "AACCATTCGTAG    4.7467\n",
       "CCCGGGGCTACG    4.5125\n",
       "GCGGGGCGCGGG    1.5839\n",
       "ACCATTCGTAGA    1.3973\n",
       "GCCGCGACCGGC    1.0804\n",
       "TCCGCCCGGAGG    1.0590\n",
       "GGGCTACGCCTG    1.0378\n",
       "ACTTCTTAGAGG    0.9887\n",
       "CGGGGCTACGCC    0.9678\n",
       "CCGCCCGGAGGA    0.8793\n",
       "TCGCCGCGCTCT    0.8411\n",
       "CCGGGGCTACGC    0.7693\n",
       "CCGAGGGCGCAC    0.7187\n",
       "GCGCCGCGACCG    0.6892\n",
       "CCTGGATACCGC    0.5999\n",
       "GGGGGCCCAAGT    0.5241\n",
       "GAGTCGAGCTCA    0.4639\n",
       "CGTAGACGACCT    0.4553\n",
       "GGGGCTACGCCT    0.4183\n",
       "CCGCGACCGGCT    0.4143\n",
       "CCACGCAGTTTT    0.4115\n",
       "CGCCGCGACCGG    0.4049\n",
       "CGGCGTCCGGTG    0.3977\n",
       "GGGGGGCCCAAG    0.3806\n",
       "TAGGCACCATCA    0.3700\n",
       "GGCTACGCCTGT    0.3573\n",
       "CCATTCGTAGAC    0.3452\n",
       "CGGGGCGCGGGA    0.3276\n",
       "                 ...  \n",
       "GCTCAGTACAGC    0.0001\n",
       "GCTCAGGTTCTG    0.0001\n",
       "GCTCAGGTGGAA    0.0001\n",
       "GCTCAGGTGATT    0.0001\n",
       "GCTCAGTTCGGG    0.0001\n",
       "GCTCAGTTGAAA    0.0001\n",
       "GCTCAGTTGTGA    0.0001\n",
       "GCTCAGTTTAGA    0.0001\n",
       "GCTCATCAAGAA    0.0001\n",
       "GCTCATCAACCG    0.0001\n",
       "GCTCATCAAAGC    0.0001\n",
       "GCTCATCAAAAG    0.0001\n",
       "GCTCATATTGGT    0.0001\n",
       "GCTCATATTGAC    0.0001\n",
       "GCTCATATGATA    0.0001\n",
       "GCTCATATCTCC    0.0001\n",
       "GCTCATATCCAC    0.0001\n",
       "GCTCATATACAG    0.0001\n",
       "GCTCATAGAGGG    0.0001\n",
       "GCTCATAGACCT    0.0001\n",
       "GCTCATAGAAGT    0.0001\n",
       "GCTCATAGAAAA    0.0001\n",
       "GCTCATACCATG    0.0001\n",
       "GCTCATACAACA    0.0001\n",
       "GCTCATAATTGG    0.0001\n",
       "GCTCATAATGGA    0.0001\n",
       "GCTCATAATGCC    0.0001\n",
       "GCTCATAATGAT    0.0001\n",
       "GCTCATAAAGAA    0.0001\n",
       "AAAAAAAACAAA    0.0001\n",
       "Length: 248666, dtype: float64"
      ]
     },
     "execution_count": 194,
     "metadata": {},
     "output_type": "execute_result"
    }
   ],
   "source": [
    "histogram_5prime[12]"
   ]
  },
  {
   "cell_type": "code",
   "execution_count": 179,
   "metadata": {},
   "outputs": [
    {
     "name": "stderr",
     "output_type": "stream",
     "text": [
      "100%|██████████| 1000000/1000000 [00:35<00:00, 28169.49it/s]\n"
     ]
    }
   ],
   "source": [
    "histogram_amb = get_histogram(fastq_amb)"
   ]
  },
  {
   "cell_type": "code",
   "execution_count": 202,
   "metadata": {},
   "outputs": [
    {
     "data": {
      "text/plain": [
       "AAAAAAAAAAAA    39.8512\n",
       "AAAAAAAAAACA     5.1158\n",
       "AAAAAAAAACAA     4.9384\n",
       "dtype: float64"
      ]
     },
     "execution_count": 202,
     "metadata": {},
     "output_type": "execute_result"
    }
   ],
   "source": [
    "x = histogram_amb[12].cumsum()\n",
    "histogram_amb[12][x<=50]"
   ]
  },
  {
   "cell_type": "code",
   "execution_count": 78,
   "metadata": {},
   "outputs": [
    {
     "name": "stderr",
     "output_type": "stream",
     "text": [
      "100%|██████████| 1000000/1000000 [00:30<00:00, 32853.45it/s]\n"
     ]
    }
   ],
   "source": [
    "histogram_17nt = get_histogram(fastq_17nt_adapt)"
   ]
  },
  {
   "cell_type": "code",
   "execution_count": 136,
   "metadata": {},
   "outputs": [
    {
     "name": "stderr",
     "output_type": "stream",
     "text": [
      "100%|██████████| 1000000/1000000 [00:11<00:00, 84375.09it/s]\n"
     ]
    }
   ],
   "source": [
    "histogram_erx = get_histogram(fastq_erx, range(2, 8))"
   ]
  },
  {
   "cell_type": "code",
   "execution_count": 152,
   "metadata": {},
   "outputs": [
    {
     "name": "stderr",
     "output_type": "stream",
     "text": [
      "100%|██████████| 1000000/1000000 [00:21<00:00, 45788.32it/s]\n"
     ]
    }
   ],
   "source": [
    "histogram_erx_5prime = get_histogram(fastq_erx, range(2, 17), True)"
   ]
  },
  {
   "cell_type": "code",
   "execution_count": 156,
   "metadata": {},
   "outputs": [
    {
     "data": {
      "text/plain": [
       "ATAAAATACA    0.4430\n",
       "TTAAAATACA    0.3127\n",
       "ATTAAATACA    0.2805\n",
       "ATAATATACA    0.2574\n",
       "ATGAAATACA    0.2564\n",
       "ATATAATACA    0.2515\n",
       "ATAAAGTACA    0.2510\n",
       "CTAAAATACA    0.2409\n",
       "GTAAAATACA    0.2398\n",
       "ATAAATTACA    0.2322\n",
       "ATACAATACA    0.2286\n",
       "ATAACATACA    0.2188\n",
       "TTTAAATACA    0.2143\n",
       "ATCAAATACA    0.2119\n",
       "ATAAGATACA    0.2110\n",
       "TTAATATACA    0.2017\n",
       "ATAGAATACA    0.1991\n",
       "ATAAACTACA    0.1981\n",
       "TTATAATACA    0.1882\n",
       "TTAAAGTACA    0.1850\n",
       "TTAAATTACA    0.1819\n",
       "ATAATGTACA    0.1786\n",
       "ATTATATACA    0.1749\n",
       "ATTAAGTACA    0.1746\n",
       "ATTTAATACA    0.1735\n",
       "TTAACATACA    0.1727\n",
       "TTGAAATACA    0.1706\n",
       "TTACAATACA    0.1701\n",
       "GTTAAATACA    0.1670\n",
       "ATTAATTACA    0.1641\n",
       "               ...  \n",
       "GTACGCGACT    0.0001\n",
       "GTACGCAACG    0.0001\n",
       "GTACGCAACA    0.0001\n",
       "GTACTCCACT    0.0001\n",
       "GTACTCTAGG    0.0001\n",
       "GTAGAATAGT    0.0001\n",
       "GTACTTAACA    0.0001\n",
       "GTAGAATAAC    0.0001\n",
       "GTAGAAGACT    0.0001\n",
       "GTAGAACACC    0.0001\n",
       "GTAGAAAACC    0.0001\n",
       "GTACTTTCCA    0.0001\n",
       "GTACTTTATG    0.0001\n",
       "GTACTTTAGG    0.0001\n",
       "GTACTTTAGC    0.0001\n",
       "GTACTTCACC    0.0001\n",
       "GTACTTCACA    0.0001\n",
       "GTACTGTTCT    0.0001\n",
       "GTACTCTATA    0.0001\n",
       "GTACTGTGCC    0.0001\n",
       "GTACTGTGCA    0.0001\n",
       "GTACTGTATG    0.0001\n",
       "GTACTGGACT    0.0001\n",
       "GTACTGCACG    0.0001\n",
       "GTACTGAACA    0.0001\n",
       "GTACTCTTCT    0.0001\n",
       "GTACTCTTCG    0.0001\n",
       "GTACTCTGCA    0.0001\n",
       "GTACTCTATG    0.0001\n",
       "AAAAAAAACA    0.0001\n",
       "Length: 21635, dtype: float64"
      ]
     },
     "execution_count": 156,
     "metadata": {},
     "output_type": "execute_result"
    }
   ],
   "source": [
    "histogram_erx_5prime[10]"
   ]
  },
  {
   "cell_type": "code",
   "execution_count": 137,
   "metadata": {},
   "outputs": [
    {
     "data": {
      "text/plain": [
       "CGC    8.0965\n",
       "AGC    5.7866\n",
       "ACC    4.9230\n",
       "GCG    4.6937\n",
       "AAC    3.7450\n",
       "TGC    3.5676\n",
       "CAC    3.3619\n",
       "AGT    3.2964\n",
       "AAT    3.1778\n",
       "ACG    3.0247\n",
       "AAG    2.5393\n",
       "AGG    2.3214\n",
       "CGG    2.2242\n",
       "ATG    2.1548\n",
       "ATC    1.8372\n",
       "GCT    1.8144\n",
       "CCC    1.7975\n",
       "GAG    1.7856\n",
       "TGT    1.7405\n",
       "GGC    1.7192\n",
       "GCC    1.7064\n",
       "CCG    1.6525\n",
       "CGT    1.6482\n",
       "GAC    1.6314\n",
       "ACT    1.5139\n",
       "TGG    1.4918\n",
       "CAG    1.4762\n",
       "CAA    1.3454\n",
       "TCG    1.3355\n",
       "GGG    1.3122\n",
       "        ...  \n",
       "TTA    0.0621\n",
       "NNG    0.0073\n",
       "NNC    0.0061\n",
       "NNT    0.0038\n",
       "GNG    0.0030\n",
       "NGC    0.0019\n",
       "NTG    0.0018\n",
       "NTC    0.0015\n",
       "NAT    0.0014\n",
       "NCG    0.0014\n",
       "NAG    0.0013\n",
       "NGG    0.0013\n",
       "NAC    0.0011\n",
       "ANG    0.0010\n",
       "NCT    0.0009\n",
       "NGT    0.0009\n",
       "ANC    0.0008\n",
       "CNC    0.0008\n",
       "GNC    0.0007\n",
       "NCC    0.0007\n",
       "ANT    0.0006\n",
       "NTT    0.0006\n",
       "CNA    0.0003\n",
       "CNG    0.0003\n",
       "TNG    0.0003\n",
       "CNT    0.0003\n",
       "TNT    0.0002\n",
       "GNT    0.0002\n",
       "GNA    0.0002\n",
       "TNC    0.0001\n",
       "Length: 92, dtype: float64"
      ]
     },
     "execution_count": 137,
     "metadata": {},
     "output_type": "execute_result"
    }
   ],
   "source": [
    "histogram_erx[3]"
   ]
  },
  {
   "cell_type": "code",
   "execution_count": 109,
   "metadata": {},
   "outputs": [
    {
     "name": "stderr",
     "output_type": "stream",
     "text": [
      "100%|██████████| 1000000/1000000 [00:26<00:00, 38008.10it/s]\n"
     ]
    }
   ],
   "source": [
    "histogram_17nt_trimmed = get_histogram(fastq_17nt_adapt_trimmed, range(1,20))"
   ]
  },
  {
   "cell_type": "code",
   "execution_count": 79,
   "metadata": {},
   "outputs": [
    {
     "name": "stderr",
     "output_type": "stream",
     "text": [
      "100%|██████████| 1000000/1000000 [00:27<00:00, 36683.91it/s]\n"
     ]
    }
   ],
   "source": [
    "histogram_13nt = get_histogram(fastq_13nt_adapt)"
   ]
  },
  {
   "cell_type": "code",
   "execution_count": null,
   "metadata": {},
   "outputs": [],
   "source": [
    " ATCAATAGATCGG\n",
    "CATCAATAGATCG"
   ]
  },
  {
   "cell_type": "code",
   "execution_count": 126,
   "metadata": {},
   "outputs": [
    {
     "data": {
      "text/plain": [
       "CTGTAGGCACCATCAATAGATCGG    12.8822\n",
       "TGTAGGCACCATCAATAGATCGGA     5.9053\n",
       "GGGCTGTAGGCACCATCAATAGAT     5.2111\n",
       "TAGGCACCATCAATAGATCGGAAG     5.1466\n",
       "GCTGTAGGCACCATCAATAGATCG     5.1173\n",
       "GTAGGCACCATCAATAGATCGGAA     4.0117\n",
       "AGGCACCATCAATAGATCGGAAGA     3.9247\n",
       "GGCTGTAGGCACCATCAATAGATC     3.3850\n",
       "TCTGTAGGCACCATCAATAGATCG     3.0782\n",
       "CCTGTAGGCACCATCAATAGATCG     2.6515\n",
       "ACTGTAGGCACCATCAATAGATCG     1.9075\n",
       "TCGCTCTGTAGGCACCATCAATAG     1.8494\n",
       "GTCGCTCTGTAGGCACCATCAATA     1.7734\n",
       "GTCGGCACCATCAATAGATCGGAA     1.6818\n",
       "TGGGCTGTAGGCACCATCAATAGA     1.6517\n",
       "TGTCGGCACCATCAATAGATCGGA     1.6240\n",
       "GGCACCATCAATAGATCGGAAGAG     1.5730\n",
       "GACTGTAGGCACCATCAATAGATC     1.4337\n",
       "CGCTCTGTAGGCACCATCAATAGA     1.1283\n",
       "CACTGTAGGCACCATCAATAGATC     0.9891\n",
       "AGCTGTAGGCACCATCAATAGATC     0.9823\n",
       "CGCTGTAGGCACCATCAATAGATC     0.9644\n",
       "CTGGGCTGTAGGCACCATCAATAG     0.9383\n",
       "TGCTGTAGGCACCATCAATAGATC     0.9232\n",
       "GCACCATCAATAGATCGGAAGAGC     0.8923\n",
       "TCGCTGTAGGCACCATCAATAGAT     0.8361\n",
       "CACCATCAATAGATCGGAAGAGCA     0.7846\n",
       "CCCTGTAGGCACCATCAATAGATC     0.7337\n",
       "CTCGCTGTAGGCACCATCAATAGA     0.6070\n",
       "CTCTGTAGGCACCATCAATAGATC     0.5798\n",
       "                             ...   \n",
       "GGCTTTTGGAGGCACCAAAAAAAC     0.0001\n",
       "GGCTTTTGGGAAATCAAAAGATAT     0.0001\n",
       "GGCTTTTGGGACCATCAAAAAAAC     0.0001\n",
       "GGCTTTTGGGACCATCAATAGAAT     0.0001\n",
       "GGCTTTTGGGACCGCCAAAAAAAT     0.0001\n",
       "GGCTTTTGGGCCCCCCAAAAAAAC     0.0001\n",
       "GGCTTTTTTGGGCCCCCAAAAAAA     0.0001\n",
       "GGCTTTTTTGGGCCCCCCAAAAAA     0.0001\n",
       "GGCTTTAGGCCCCCTCAAAAGATC     0.0001\n",
       "GGCTTTAGGCCCCATCAATAGATC     0.0001\n",
       "GGCTTTAAGGACCCACAAAAAAAT     0.0001\n",
       "GGCTTTAGGCCCCATAAAAAAATG     0.0001\n",
       "GGCTTTAGGAACAACCAAAAAATC     0.0001\n",
       "GGCTTTAGGAACAATAAAAAAATC     0.0001\n",
       "GGCTTTAGGAACCATAAAAAAATC     0.0001\n",
       "GGCTTTAGGAACCATAAATAAATC     0.0001\n",
       "GGCTTTAGGAACCATCAACAAATC     0.0001\n",
       "GGCTTTAGGAACCATCAATAGATC     0.0001\n",
       "GGCTTTAGGAACCCTCAATAGAAC     0.0001\n",
       "GGCTTTAGGACCCACAATAGATCG     0.0001\n",
       "GGCTTTAGGCACCACAAAAAAACC     0.0001\n",
       "GGCTTTAGGCACCACCAAAAGATC     0.0001\n",
       "GGCTTTAGGCACCATCAAAAAATC     0.0001\n",
       "GGCTTTAGGCACCATCAAAAACCG     0.0001\n",
       "GGCTTTAGGCACCATCAACAGACC     0.0001\n",
       "GGCTTTAGGCACCATCAATAAATC     0.0001\n",
       "GGCTTTAGGCACCATCAATAGATA     0.0001\n",
       "GGCTTTAGGCACCATCCATGATCG     0.0001\n",
       "GGCTTTAGGCCCCATAAAAAAATC     0.0001\n",
       "AAAAAAAAAAAAAAAAAAAAAAAA     0.0001\n",
       "Length: 25366, dtype: float64"
      ]
     },
     "execution_count": 126,
     "metadata": {},
     "output_type": "execute_result"
    }
   ],
   "source": [
    "histogram_17nt[24]"
   ]
  },
  {
   "cell_type": "code",
   "execution_count": 120,
   "metadata": {},
   "outputs": [
    {
     "data": {
      "text/plain": [
       "AGGCACCATCAAT    56.3403\n",
       "AGGCCCCATCAAT     9.2095\n",
       "CGGTGAGGCGGGG     3.9172\n",
       "CCCGGTGAGGCGG     2.0312\n",
       "CCGGTGAGGCGGG     1.4687\n",
       "AGGCACCCTCAAT     1.4406\n",
       "GGCTGTAGGCACC     1.0358\n",
       "GTAGGCACCATCA     0.8812\n",
       "GCGGGGCTGTAGG     0.7997\n",
       "GGTGAGGCGGGGC     0.7734\n",
       "ACCCGGTGAGGCG     0.7553\n",
       "GAGGCGGGGCTGT     0.5164\n",
       "GACCGGCTCCGGG     0.4308\n",
       "CGGGACGGCTGGG     0.4012\n",
       "GACCCGGTGAGGC     0.2995\n",
       "CACTGACCCGGTG     0.2917\n",
       "CCGGGACGGCTGG     0.2624\n",
       "TGTAGGCACCATC     0.2487\n",
       "ACGGCTGGGCTGT     0.2446\n",
       "GTGAGGCGGGGCT     0.2386\n",
       "TGACCCGGTGAGG     0.2317\n",
       "GTAGGCCCCATCA     0.2214\n",
       "TCCGGGACGGCTG     0.2126\n",
       "CTCCGGGACGGCT     0.2092\n",
       "TAGCACCATCAAT     0.2077\n",
       "TGAGGCGGGGCTG     0.1990\n",
       "TAGGCACATCAAT     0.1938\n",
       "GCTCCGGGACGGC     0.1879\n",
       "GGGACGGCTGGGC     0.1872\n",
       "CGGCTCCGGGACG     0.1868\n",
       "                  ...   \n",
       "GAGGCCCCATCAT     0.0001\n",
       "TCTGAGCGTCCTG     0.0001\n",
       "GAGGCCCTCGGCT     0.0001\n",
       "GAGGATTCAACCC     0.0001\n",
       "GAGGATGTGGTCT     0.0001\n",
       "GAGGATGGGAAGA     0.0001\n",
       "GAGGATACGCCTT     0.0001\n",
       "GAGGAGGAAATGG     0.0001\n",
       "GAGGAGGAGCTGT     0.0001\n",
       "GAGGAGGAGGGCT     0.0001\n",
       "TCTGAGCTTCGCT     0.0001\n",
       "GAGGAGGGGGTGT     0.0001\n",
       "GAGGAGNACAAGT     0.0001\n",
       "GAGGAGTCACTGT     0.0001\n",
       "TCTGAGCTGACGG     0.0001\n",
       "GAGGAGTGTCTGT     0.0001\n",
       "GAGGAGTTGTGCT     0.0001\n",
       "GAGGATATGGCTT     0.0001\n",
       "GAGGATGGCCCTG     0.0001\n",
       "GAGGATATGGTGG     0.0001\n",
       "GAGGATCATGTCC     0.0001\n",
       "GAGGATCGGGACC     0.0001\n",
       "GAGGATGACCCCG     0.0001\n",
       "GAGGATGACCTTG     0.0001\n",
       "GAGGATGACTCTT     0.0001\n",
       "GAGGATGCAGTGG     0.0001\n",
       "GAGGATGCGTCTC     0.0001\n",
       "GAGGATGCTGGAC     0.0001\n",
       "GAGGATGGACGCT     0.0001\n",
       "GAAGCTAGGGTCT     0.0001\n",
       "Length: 33622, dtype: float64"
      ]
     },
     "execution_count": 120,
     "metadata": {},
     "output_type": "execute_result"
    }
   ],
   "source": [
    "histogram_17nt_trimmed[13]\n"
   ]
  },
  {
   "cell_type": "code",
   "execution_count": 204,
   "metadata": {},
   "outputs": [
    {
     "data": {
      "text/plain": [
       "17"
      ]
     },
     "execution_count": 204,
     "metadata": {},
     "output_type": "execute_result"
    }
   ],
   "source": [
    "len('CTGTAGGCACCATCAAT')"
   ]
  },
  {
   "cell_type": "code",
   "execution_count": 107,
   "metadata": {},
   "outputs": [
    {
     "data": {
      "text/plain": [
       "TAGGCACCATCAAT    56.1691\n",
       "TAGGCCCCATCAAT     9.1797\n",
       "CCGGTGAGGCGGGG     3.9039\n",
       "ACCCGGTGAGGCGG     2.0184\n",
       "CCCGGTGAGGCGGG     1.4643\n",
       "TAGGCACCCTCAAT     1.4355\n",
       "GGGCTGTAGGCACC     1.0169\n",
       "TGTAGGCACCATCA     0.8768\n",
       "GGCGGGGCTGTAGG     0.7988\n",
       "CGGTGAGGCGGGGC     0.7708\n",
       "GACCCGGTGAGGCG     0.7267\n",
       "TGAGGCGGGGCTGT     0.5148\n",
       "CGACCGGCTCCGGG     0.4255\n",
       "CCGGGACGGCTGGG     0.4005\n",
       "TGACCCGGTGAGGC     0.2988\n",
       "TCACTGACCCGGTG     0.2917\n",
       "TCCGGGACGGCTGG     0.2623\n",
       "CTGTAGGCACCATC     0.2468\n",
       "GACGGCTGGGCTGT     0.2416\n",
       "GGTGAGGCGGGGCT     0.2382\n",
       "CTGACCCGGTGAGG     0.2302\n",
       "TGTAGGCCCCATCA     0.2206\n",
       "CTCCGGGACGGCTG     0.2123\n",
       "GCTCCGGGACGGCT     0.2085\n",
       "GTAGCACCATCAAT     0.2073\n",
       "GTGAGGCGGGGCTG     0.1984\n",
       "GTAGGCACATCAAT     0.1936\n",
       "GGCTCCGGGACGGC     0.1871\n",
       "CGGGACGGCTGGGC     0.1865\n",
       "CCGGCTCCGGGACG     0.1856\n",
       "                   ...   \n",
       "GAGTGGCAGCGGCA     0.0001\n",
       "GAGTCGGGTTGCTC     0.0001\n",
       "TCTGTANGCACCAT     0.0001\n",
       "GAGTCGGGGTCTGT     0.0001\n",
       "GAGTCCAGCCTCTT     0.0001\n",
       "TCTGTCTGGCACTT     0.0001\n",
       "GAGTATCCCNCTGT     0.0001\n",
       "GAGTATGAGGACGC     0.0001\n",
       "GAGTATGAGTTAAC     0.0001\n",
       "GAGTATGTCAAGGG     0.0001\n",
       "GAGTATTCANACGA     0.0001\n",
       "GAGTCAAACGCACT     0.0001\n",
       "GAGTCAACGGATCT     0.0001\n",
       "GAGTCACCAACCCC     0.0001\n",
       "TCTGTCGGCACCCT     0.0001\n",
       "GAGTCCACTGAGCT     0.0001\n",
       "GAGTCCCAGGGCCG     0.0001\n",
       "GAGTCGGGAGCTGT     0.0001\n",
       "TCTGTCGGCACCAA     0.0001\n",
       "TCTGTCCCTGTAGG     0.0001\n",
       "TCTGTCCCGAGTGG     0.0001\n",
       "GAGTCGATCCAACG     0.0001\n",
       "GAGTCGCACCAACC     0.0001\n",
       "GAGTCGCAGGGCCG     0.0001\n",
       "GAGTCGCTCCCCTG     0.0001\n",
       "GAGTCGCTGGCCAC     0.0001\n",
       "GAGTCGCTGTAGGC     0.0001\n",
       "GAGTCGGATTTCCT     0.0001\n",
       "GAGTCGGCTTCTGT     0.0001\n",
       "GAAGCTTCTGCACT     0.0001\n",
       "Length: 36018, dtype: float64"
      ]
     },
     "execution_count": 107,
     "metadata": {},
     "output_type": "execute_result"
    }
   ],
   "source": [
    "histogram_17nt_trimmed[14]\n",
    "   TAGGCACCATCAAT\n",
    "    AGGCACCATCAAT  \n",
    "CTGTAGGCACCATCAAT    \n",
    "CTGTAGGCACCATCAAT\n",
    "CTGTAGGCACCATCAATAGATCGG\n",
    "                 AGATCGGAAGAGC"
   ]
  },
  {
   "cell_type": "code",
   "execution_count": 84,
   "metadata": {},
   "outputs": [
    {
     "data": {
      "text/plain": [
       "1.0"
      ]
     },
     "execution_count": 84,
     "metadata": {},
     "output_type": "execute_result"
    }
   ],
   "source": [
    "hamming_loss(np.array(list('AGAGCACACGTC')).view(np.uint32), np.array(list('GAGCACACGTCT')).view(np.uint32) )"
   ]
  },
  {
   "cell_type": "code",
   "execution_count": 100,
   "metadata": {},
   "outputs": [
    {
     "data": {
      "text/plain": [
       "2"
      ]
     },
     "execution_count": 100,
     "metadata": {},
     "output_type": "execute_result"
    }
   ],
   "source": [
    "Levenshtein.distance('AGATCGGAAGAGCACACGTCTG', 'GAGATCGGAAGAGCACACGTCT')"
   ]
  },
  {
   "cell_type": "code",
   "execution_count": 102,
   "metadata": {},
   "outputs": [
    {
     "data": {
      "text/plain": [
       "GAGCGAGATCGGAAGAGCACACGTCT    5.8217\n",
       "GAGCGAAGATCGGAAGAGCACACGTC    4.8265\n",
       "AGGCTTAGATCGGAAGAGCACACGTC    3.0751\n",
       "GAGATCGGAAGAGCACACGTCTGAAC    2.5127\n",
       "AGATCGGAAGAGCACACGTCTGAACT    1.9054\n",
       "CGGGGATTAGATCGGAAGAGCACACG    1.5329\n",
       "GCTGGGAGATCGGAAGAGCACACGTC    1.3607\n",
       "TTGAAGATCGGAAGAGCACACGTCTG    1.2841\n",
       "TAGGCTTAGATCGGAAGAGCACACGT    1.0785\n",
       "GATCGGAAGAGCACACGTCTGAACTC    1.0202\n",
       "CCCGCTGAAAGATCGGAAGAGCACAC    0.8253\n",
       "CAGATCGGAAGAGCACACGTCTGAAC    0.7178\n",
       "AGCGAGATCGGAAGAGCACACGTCTG    0.7073\n",
       "GGAGCGAAGATCGGAAGAGCACACGT    0.7013\n",
       "CCCGCTGAAGATCGGAAGAGCACACG    0.6926\n",
       "GGAGATCGGAAGAGCACACGTCTGAA    0.6853\n",
       "TGAGATCGGAAGAGCACACGTCTGAA    0.6772\n",
       "TTGAGATCGGAAGAGCACACGTCTGA    0.6435\n",
       "GAGCAGATCGGAAGAGCACACGTCTG    0.6398\n",
       "CGAGATCGGAAGAGCACACGTCTGAA    0.5951\n",
       "ATCGGAAGAGCACACGTCTGAACTCC    0.5717\n",
       "GGCTGGGAGATCGGAAGAGCACACGT    0.5580\n",
       "GGAGCGAGATCGGAAGAGCACACGTC    0.5409\n",
       "GGCTTAGATCGGAAGAGCACACGTCT    0.5215\n",
       "GGGAGCGAGATCGGAAGAGCACACGT    0.5014\n",
       "AAGATCGGAAGAGCACACGTCTGAAC    0.4958\n",
       "GTCGCTAGATCGGAAGAGCACACGTC    0.4915\n",
       "GAGAGATCGGAAGAGCACACGTCTGA    0.4546\n",
       "TCTCGAGATCGGAAGAGCACACGTCT    0.4264\n",
       "CGGCGGGAGATCGGAAGAGCACACGT    0.4207\n",
       "                               ...  \n",
       "GAGTTCTCTTTTAGATCGGAAGAGCA    0.0001\n",
       "GAGTGTAGATCGGAATAGCACACGTC    0.0001\n",
       "GAGTGTGCACAGATCGGAAGAGCACA    0.0001\n",
       "GAGTGTGCTGAGATCGGAAGAGCACA    0.0001\n",
       "GAGTGTTCAAGATTGCTGGAGGCCTC    0.0001\n",
       "GAGTTAGATCAGAAGAGCACACGTCT    0.0001\n",
       "GAGTTAGATCGGAAAGAGCACACGTC    0.0001\n",
       "GAGTTCAAAGATCGGAAGAGCACACG    0.0001\n",
       "GAGTTCAAGAGAGATTGTAAGAGCAC    0.0001\n",
       "GAGTTCAAGAGATCGGAAGAGCACAC    0.0001\n",
       "GAGTTCAAGAGATCTGAAGAGCACAC    0.0001\n",
       "GAGTTCAGATCGGAAGATCACACGTC    0.0001\n",
       "GAGTTCGAGATCGGAAGAGCACACGT    0.0001\n",
       "GAGTTCGATAATGGTTATATGTATGT    0.0001\n",
       "GAGTTGCTAGATCGGAAGAGCACACG    0.0001\n",
       "GATAACAATACTGTATGCATGGGTGA    0.0001\n",
       "GAGTTGTTCCATTCTTTAGCTCCTAG    0.0001\n",
       "GAGTTTAGATCGGAAGAGCACACGTC    0.0001\n",
       "GAGTTTGTATCTGTTATTGAGAAGTT    0.0001\n",
       "GAGTTTTAGATCGGAAGAGCACACGT    0.0001\n",
       "GAGTTTTATCGCTTCCATGACGCAGA    0.0001\n",
       "GATAAAAATGATTGGCGTATCCAACC    0.0001\n",
       "GATAAAACAGATCGGAAGAGCACACG    0.0001\n",
       "GATAAAAGATTGAGTGTGAGGTTATA    0.0001\n",
       "GATAAACCAACCATCAGCATGAGCCT    0.0001\n",
       "GATAAAGATCGGAAGAGTACACGTCT    0.0001\n",
       "GATAAAGCAGGAATTTCTACTGCTTG    0.0001\n",
       "GATAACAAGATCGGAAGAGCACACGT    0.0001\n",
       "GATAACAATACTGTAGGCATGGGTGA    0.0001\n",
       "AAAAAAAAAAAAAAAAAAAAAAAAAA    0.0001\n",
       "Length: 43849, dtype: float64"
      ]
     },
     "execution_count": 102,
     "metadata": {},
     "output_type": "execute_result"
    }
   ],
   "source": [
    "histogram_13nt[26]"
   ]
  },
  {
   "cell_type": "code",
   "execution_count": null,
   "metadata": {},
   "outputs": [],
   "source": []
  }
 ],
 "metadata": {
  "kernelspec": {
   "display_name": "Python (riboraptor_clean)",
   "language": "python",
   "name": "riboraptor_clean"
  },
  "language_info": {
   "codemirror_mode": {
    "name": "ipython",
    "version": 3
   },
   "file_extension": ".py",
   "mimetype": "text/x-python",
   "name": "python",
   "nbconvert_exporter": "python",
   "pygments_lexer": "ipython3",
   "version": "3.5.5"
  }
 },
 "nbformat": 4,
 "nbformat_minor": 2
}
