{
 "cells": [
  {
   "cell_type": "code",
   "execution_count": 12,
   "metadata": {},
   "outputs": [
    {
     "name": "stdout",
     "output_type": "stream",
     "text": [
      "Populating the interactive namespace from numpy and matplotlib\n"
     ]
    },
    {
     "data": {
      "text/plain": [
       "['hg38', 'mm10', 'sacCerR64', 'MG1655', 'BDGP6']"
      ]
     },
     "execution_count": 12,
     "metadata": {},
     "output_type": "execute_result"
    }
   ],
   "source": [
    "%pylab inline\n",
    "\n",
    "import os\n",
    "import pandas as pd\n",
    "from riboraptor.utils import summary_starlogs_over_runs\n",
    "\n",
    "re_ribo_analysis_dir = '/staging/as/skchoudh/re-ribo-analysis/'\n",
    "\n",
    "species = os.listdir(re_ribo_analysis_dir)\n",
    "xl = pd.ExcelFile('../data/datasets/re-ribo-datasets.xlsx')\n",
    "xl.sheet_names  # see all sheet names"
   ]
  },
  {
   "cell_type": "code",
   "execution_count": 14,
   "metadata": {},
   "outputs": [],
   "source": [
    "datasets = dict([(key, pd.read_excel('../data/datasets/re-ribo-datasets.xlsx', sheet_name=key)) for key in xl.sheet_names])\n"
   ]
  },
  {
   "cell_type": "code",
   "execution_count": 16,
   "metadata": {},
   "outputs": [
    {
     "data": {
      "text/html": [
       "<div>\n",
       "<style scoped>\n",
       "    .dataframe tbody tr th:only-of-type {\n",
       "        vertical-align: middle;\n",
       "    }\n",
       "\n",
       "    .dataframe tbody tr th {\n",
       "        vertical-align: top;\n",
       "    }\n",
       "\n",
       "    .dataframe thead th {\n",
       "        text-align: right;\n",
       "    }\n",
       "</style>\n",
       "<table border=\"1\" class=\"dataframe\">\n",
       "  <thead>\n",
       "    <tr style=\"text-align: right;\">\n",
       "      <th></th>\n",
       "      <th>Publication</th>\n",
       "      <th>SRP</th>\n",
       "      <th>SRP.1</th>\n",
       "      <th>Status</th>\n",
       "      <th>PMID</th>\n",
       "      <th>Tissue</th>\n",
       "    </tr>\n",
       "  </thead>\n",
       "  <tbody>\n",
       "    <tr>\n",
       "      <th>0</th>\n",
       "      <td>Aspden et al (2014)</td>\n",
       "      <td>https://trace.ncbi.nlm.nih.gov/Traces/sra/?stu...</td>\n",
       "      <td>SRP045475</td>\n",
       "      <td>NaN</td>\n",
       "      <td>https://www.ncbi.nlm.nih.gov/pubmed/25144939</td>\n",
       "      <td>NaN</td>\n",
       "    </tr>\n",
       "    <tr>\n",
       "      <th>1</th>\n",
       "      <td>Chen et al (2017)</td>\n",
       "      <td>https://trace.ncbi.nlm.nih.gov/Traces/sra/?stu...</td>\n",
       "      <td>SRP108999</td>\n",
       "      <td>NaN</td>\n",
       "      <td>https://www.ncbi.nlm.nih.gov/pubmed/29194454</td>\n",
       "      <td>NaN</td>\n",
       "    </tr>\n",
       "    <tr>\n",
       "      <th>2</th>\n",
       "      <td>Kronja et al (2014)</td>\n",
       "      <td>https://trace.ncbi.nlm.nih.gov/Traces/sra/?stu...</td>\n",
       "      <td>SRP033366</td>\n",
       "      <td>NaN</td>\n",
       "      <td>https://www.ncbi.nlm.nih.gov/pubmed/24882012</td>\n",
       "      <td>NaN</td>\n",
       "    </tr>\n",
       "    <tr>\n",
       "      <th>3</th>\n",
       "      <td>Dunn et al. (2013)</td>\n",
       "      <td>https://trace.ncbi.nlm.nih.gov/Traces/sra/?stu...</td>\n",
       "      <td>SRP028243</td>\n",
       "      <td>NaN</td>\n",
       "      <td>https://www.ncbi.nlm.nih.gov/pubmed/24882012</td>\n",
       "      <td>NaN</td>\n",
       "    </tr>\n",
       "    <tr>\n",
       "      <th>4</th>\n",
       "      <td>NaN</td>\n",
       "      <td>NaN</td>\n",
       "      <td>NaN</td>\n",
       "      <td>NaN</td>\n",
       "      <td>https://www.ncbi.nlm.nih.gov/pubmed/24302569</td>\n",
       "      <td>NaN</td>\n",
       "    </tr>\n",
       "  </tbody>\n",
       "</table>\n",
       "</div>"
      ],
      "text/plain": [
       "           Publication                                                SRP  \\\n",
       "0  Aspden et al (2014)  https://trace.ncbi.nlm.nih.gov/Traces/sra/?stu...   \n",
       "1    Chen et al (2017)  https://trace.ncbi.nlm.nih.gov/Traces/sra/?stu...   \n",
       "2  Kronja et al (2014)  https://trace.ncbi.nlm.nih.gov/Traces/sra/?stu...   \n",
       "3   Dunn et al. (2013)  https://trace.ncbi.nlm.nih.gov/Traces/sra/?stu...   \n",
       "4                  NaN                                                NaN   \n",
       "\n",
       "       SRP.1  Status                                          PMID  Tissue  \n",
       "0  SRP045475     NaN  https://www.ncbi.nlm.nih.gov/pubmed/25144939     NaN  \n",
       "1  SRP108999     NaN  https://www.ncbi.nlm.nih.gov/pubmed/29194454     NaN  \n",
       "2  SRP033366     NaN  https://www.ncbi.nlm.nih.gov/pubmed/24882012     NaN  \n",
       "3  SRP028243     NaN  https://www.ncbi.nlm.nih.gov/pubmed/24882012     NaN  \n",
       "4        NaN     NaN  https://www.ncbi.nlm.nih.gov/pubmed/24302569     NaN  "
      ]
     },
     "execution_count": 16,
     "metadata": {},
     "output_type": "execute_result"
    }
   ],
   "source": [
    "datasets['BDGP6']"
   ]
  },
  {
   "cell_type": "markdown",
   "metadata": {},
   "source": [
    "# How does the mapping rate vary across projects"
   ]
  },
  {
   "cell_type": "code",
   "execution_count": null,
   "metadata": {},
   "outputs": [],
   "source": [
    "datasets"
   ]
  },
  {
   "cell_type": "markdown",
   "metadata": {},
   "source": [
    "# How has the adapter evolved over the years?"
   ]
  },
  {
   "cell_type": "code",
   "execution_count": null,
   "metadata": {},
   "outputs": [],
   "source": []
  }
 ],
 "metadata": {
  "kernelspec": {
   "display_name": "Python (riboraptor_clean)",
   "language": "python",
   "name": "riboraptor_clean"
  },
  "language_info": {
   "codemirror_mode": {
    "name": "ipython",
    "version": 3
   },
   "file_extension": ".py",
   "mimetype": "text/x-python",
   "name": "python",
   "nbconvert_exporter": "python",
   "pygments_lexer": "ipython3",
   "version": "3.5.5"
  }
 },
 "nbformat": 4,
 "nbformat_minor": 2
}
