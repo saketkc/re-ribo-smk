{
 "cells": [
  {
   "cell_type": "code",
   "execution_count": 2,
   "metadata": {},
   "outputs": [
    {
     "name": "stdout",
     "output_type": "stream",
     "text": [
      "Populating the interactive namespace from numpy and matplotlib\n"
     ]
    }
   ],
   "source": [
    "%pylab inline\n",
    "import scipy\n",
    "import os \n",
    "from collections import OrderedDict\n",
    "import glob\n",
    "from riboraptor.helpers import path_leaf\n",
    "import pandas as pd\n",
    "import seaborn as sns\n",
    "sns.set_context('paper', font_scale=2)\n",
    "sns.set_style('white')\n",
    "def counts_to_tpm(counts, sizes):\n",
    "    \"\"\"Counts to TPM\n",
    "    Parameters\n",
    "    ----------\n",
    "    counts: array like\n",
    "            Series/array of counts\n",
    "    sizes: array like\n",
    "           Series/array of region sizes\n",
    "    \"\"\"\n",
    "    rate = np.log(counts).subtract(np.log(sizes))\n",
    "    denom = np.log(np.sum(np.exp(rate)))\n",
    "    tpm = np.exp(rate - denom + np.log(1e6))\n",
    "    return tpm\n",
    "\n",
    "def featurecounts_to_tpm(fc_f, outfile):\n",
    "    \"\"\"Convert htseq-counts file to tpm\n",
    "    Parameters\n",
    "    ----------\n",
    "    fc_f: string\n",
    "             Path to htseq-count output\n",
    "    outfile: string\n",
    "             Path to output file with tpm values\n",
    "    \"\"\"\n",
    "    feature_counts = pd.read_csv(fc_f, sep='\\t')\n",
    "    feature_counts = feature_counts.set_index('Geneid')\n",
    "    feature_counts = feature_counts.drop(\n",
    "        columns=[\"Chr\", \"Start\", \"End\", \"Strand\"]\n",
    "    )\n",
    "    lengths = feature_counts[\"Length\"]\n",
    "    feature_counts = feature_counts.drop(columns=[\"Length\"])\n",
    "    tpm = feature_counts.apply(lambda x: counts_to_tpm(x, lengths), axis=0)\n",
    "    tpm.columns = [col.replace('bams_unique/', '').replace('.bam', '') for col in tpm.columns]\n",
    "    tpm.to_csv(outfile, sep=\"\\t\", index=True, header=True)\n"
   ]
  },
  {
   "cell_type": "markdown",
   "metadata": {},
   "source": [
    "# Read Orthologs"
   ]
  },
  {
   "cell_type": "code",
   "execution_count": 1,
   "metadata": {},
   "outputs": [
    {
     "ename": "NameError",
     "evalue": "name 'pd' is not defined",
     "output_type": "error",
     "traceback": [
      "\u001b[0;31m---------------------------------------------------------------------------\u001b[0m",
      "\u001b[0;31mNameError\u001b[0m                                 Traceback (most recent call last)",
      "\u001b[0;32m<ipython-input-1-efd5a40e707c>\u001b[0m in \u001b[0;36m<module>\u001b[0;34m\u001b[0m\n\u001b[0;32m----> 1\u001b[0;31m \u001b[0mribotricer_index_hg38\u001b[0m \u001b[0;34m=\u001b[0m \u001b[0mpd\u001b[0m\u001b[0;34m.\u001b[0m\u001b[0mread_table\u001b[0m\u001b[0;34m(\u001b[0m\u001b[0;34m'/home/cmb-panasas2/skchoudh/genomes/hg38/ribotricer_v96_annotation_longest_candidate_orfs.tsv'\u001b[0m\u001b[0;34m,\u001b[0m \u001b[0msep\u001b[0m\u001b[0;34m=\u001b[0m\u001b[0;34m'\\t'\u001b[0m\u001b[0;34m)\u001b[0m\u001b[0;34m\u001b[0m\u001b[0;34m\u001b[0m\u001b[0m\n\u001b[0m\u001b[1;32m      2\u001b[0m \u001b[0mribotricer_index_hg38\u001b[0m\u001b[0;34m.\u001b[0m\u001b[0mhead\u001b[0m\u001b[0;34m(\u001b[0m\u001b[0;34m)\u001b[0m\u001b[0;34m\u001b[0m\u001b[0;34m\u001b[0m\u001b[0m\n",
      "\u001b[0;31mNameError\u001b[0m: name 'pd' is not defined"
     ]
    }
   ],
   "source": [
    "ribotricer_index_hg38 = pd.read_table('/home/cmb-panasas2/skchoudh/genomes/hg38/ribotricer_v96_annotation_longest_candidate_orfs.tsv', sep='\\t')\n",
    "ribotricer_index_hg38.head()"
   ]
  },
  {
   "cell_type": "code",
   "execution_count": 2,
   "metadata": {},
   "outputs": [],
   "source": [
    "orthologs_Mmul8 = pd.read_csv('../../re-ribo-smk/data//orthologs/human_macaque_ortholog.tsv', sep='\\t')\n",
    "orthologs_Mmul8 = orthologs_Mmul8[orthologs_Mmul8[\"Macaque homology type\"] == \"ortholog_one2one\"][[\"Gene stable ID\", \"Macaque gene stable ID\"]]\n",
    "orthologs_Mmul8.columns = [\"gene_id\", \"ortholog\"]\n",
    "orthologs_Mmul8 = orthologs_Mmul8.drop_duplicates().set_index('ortholog')"
   ]
  },
  {
   "cell_type": "code",
   "execution_count": 3,
   "metadata": {},
   "outputs": [
    {
     "data": {
      "text/html": [
       "<div>\n",
       "<style scoped>\n",
       "    .dataframe tbody tr th:only-of-type {\n",
       "        vertical-align: middle;\n",
       "    }\n",
       "\n",
       "    .dataframe tbody tr th {\n",
       "        vertical-align: top;\n",
       "    }\n",
       "\n",
       "    .dataframe thead th {\n",
       "        text-align: right;\n",
       "    }\n",
       "</style>\n",
       "<table border=\"1\" class=\"dataframe\">\n",
       "  <thead>\n",
       "    <tr style=\"text-align: right;\">\n",
       "      <th></th>\n",
       "      <th>gene_id</th>\n",
       "    </tr>\n",
       "    <tr>\n",
       "      <th>ortholog</th>\n",
       "      <th></th>\n",
       "    </tr>\n",
       "  </thead>\n",
       "  <tbody>\n",
       "    <tr>\n",
       "      <th>ENSMMUG00000028699</th>\n",
       "      <td>ENSG00000198888</td>\n",
       "    </tr>\n",
       "    <tr>\n",
       "      <th>ENSMMUG00000028695</th>\n",
       "      <td>ENSG00000198763</td>\n",
       "    </tr>\n",
       "    <tr>\n",
       "      <th>ENSMMUG00000028689</th>\n",
       "      <td>ENSG00000198804</td>\n",
       "    </tr>\n",
       "    <tr>\n",
       "      <th>ENSMMUG00000028686</th>\n",
       "      <td>ENSG00000198712</td>\n",
       "    </tr>\n",
       "    <tr>\n",
       "      <th>ENSMMUG00000028684</th>\n",
       "      <td>ENSG00000228253</td>\n",
       "    </tr>\n",
       "  </tbody>\n",
       "</table>\n",
       "</div>"
      ],
      "text/plain": [
       "                            gene_id\n",
       "ortholog                           \n",
       "ENSMMUG00000028699  ENSG00000198888\n",
       "ENSMMUG00000028695  ENSG00000198763\n",
       "ENSMMUG00000028689  ENSG00000198804\n",
       "ENSMMUG00000028686  ENSG00000198712\n",
       "ENSMMUG00000028684  ENSG00000228253"
      ]
     },
     "execution_count": 3,
     "metadata": {},
     "output_type": "execute_result"
    }
   ],
   "source": [
    "orthologs_Mmul8.head()"
   ]
  },
  {
   "cell_type": "code",
   "execution_count": 4,
   "metadata": {},
   "outputs": [
    {
     "data": {
      "text/html": [
       "<div>\n",
       "<style scoped>\n",
       "    .dataframe tbody tr th:only-of-type {\n",
       "        vertical-align: middle;\n",
       "    }\n",
       "\n",
       "    .dataframe tbody tr th {\n",
       "        vertical-align: top;\n",
       "    }\n",
       "\n",
       "    .dataframe thead th {\n",
       "        text-align: right;\n",
       "    }\n",
       "</style>\n",
       "<table border=\"1\" class=\"dataframe\">\n",
       "  <thead>\n",
       "    <tr style=\"text-align: right;\">\n",
       "      <th></th>\n",
       "      <th>gene_id</th>\n",
       "    </tr>\n",
       "    <tr>\n",
       "      <th>ortholog</th>\n",
       "      <th></th>\n",
       "    </tr>\n",
       "  </thead>\n",
       "  <tbody>\n",
       "    <tr>\n",
       "      <th>ENSPTRG00000042641</th>\n",
       "      <td>ENSG00000198888</td>\n",
       "    </tr>\n",
       "    <tr>\n",
       "      <th>ENSPTRG00000042626</th>\n",
       "      <td>ENSG00000198763</td>\n",
       "    </tr>\n",
       "    <tr>\n",
       "      <th>ENSPTRG00000042642</th>\n",
       "      <td>ENSG00000210127</td>\n",
       "    </tr>\n",
       "    <tr>\n",
       "      <th>ENSPTRG00000042657</th>\n",
       "      <td>ENSG00000198804</td>\n",
       "    </tr>\n",
       "    <tr>\n",
       "      <th>ENSPTRG00000042660</th>\n",
       "      <td>ENSG00000198712</td>\n",
       "    </tr>\n",
       "  </tbody>\n",
       "</table>\n",
       "</div>"
      ],
      "text/plain": [
       "                            gene_id\n",
       "ortholog                           \n",
       "ENSPTRG00000042641  ENSG00000198888\n",
       "ENSPTRG00000042626  ENSG00000198763\n",
       "ENSPTRG00000042642  ENSG00000210127\n",
       "ENSPTRG00000042657  ENSG00000198804\n",
       "ENSPTRG00000042660  ENSG00000198712"
      ]
     },
     "execution_count": 4,
     "metadata": {},
     "output_type": "execute_result"
    }
   ],
   "source": [
    "orthologs_panTro3 = pd.read_csv('../../re-ribo-smk/data//orthologs/human_chimp_ortholog.tsv', sep='\\t')\n",
    "\n",
    "orthologs_panTro3 = orthologs_panTro3[orthologs_panTro3[\"Chimpanzee homology type\"] == \"ortholog_one2one\"][[\"Gene stable ID\", \"Chimpanzee gene stable ID\"]]\n",
    "orthologs_panTro3.columns = [\"gene_id\", \"ortholog\"]\n",
    "orthologs_panTro3 = orthologs_panTro3.drop_duplicates().set_index('ortholog')\n",
    "orthologs_panTro3.head()"
   ]
  },
  {
   "cell_type": "code",
   "execution_count": 5,
   "metadata": {},
   "outputs": [
    {
     "data": {
      "text/html": [
       "<div>\n",
       "<style scoped>\n",
       "    .dataframe tbody tr th:only-of-type {\n",
       "        vertical-align: middle;\n",
       "    }\n",
       "\n",
       "    .dataframe tbody tr th {\n",
       "        vertical-align: top;\n",
       "    }\n",
       "\n",
       "    .dataframe thead th {\n",
       "        text-align: right;\n",
       "    }\n",
       "</style>\n",
       "<table border=\"1\" class=\"dataframe\">\n",
       "  <thead>\n",
       "    <tr style=\"text-align: right;\">\n",
       "      <th></th>\n",
       "      <th>panTro3</th>\n",
       "      <th>Mmul8</th>\n",
       "    </tr>\n",
       "    <tr>\n",
       "      <th>gene_id</th>\n",
       "      <th></th>\n",
       "      <th></th>\n",
       "    </tr>\n",
       "  </thead>\n",
       "  <tbody>\n",
       "    <tr>\n",
       "      <th>ENSG00000198888</th>\n",
       "      <td>ENSPTRG00000042641</td>\n",
       "      <td>ENSMMUG00000028699</td>\n",
       "    </tr>\n",
       "    <tr>\n",
       "      <th>ENSG00000198763</th>\n",
       "      <td>ENSPTRG00000042626</td>\n",
       "      <td>ENSMMUG00000028695</td>\n",
       "    </tr>\n",
       "    <tr>\n",
       "      <th>ENSG00000198804</th>\n",
       "      <td>ENSPTRG00000042657</td>\n",
       "      <td>ENSMMUG00000028689</td>\n",
       "    </tr>\n",
       "    <tr>\n",
       "      <th>ENSG00000198712</th>\n",
       "      <td>ENSPTRG00000042660</td>\n",
       "      <td>ENSMMUG00000028686</td>\n",
       "    </tr>\n",
       "    <tr>\n",
       "      <th>ENSG00000228253</th>\n",
       "      <td>ENSPTRG00000042653</td>\n",
       "      <td>ENSMMUG00000028684</td>\n",
       "    </tr>\n",
       "  </tbody>\n",
       "</table>\n",
       "</div>"
      ],
      "text/plain": [
       "                            panTro3               Mmul8\n",
       "gene_id                                                \n",
       "ENSG00000198888  ENSPTRG00000042641  ENSMMUG00000028699\n",
       "ENSG00000198763  ENSPTRG00000042626  ENSMMUG00000028695\n",
       "ENSG00000198804  ENSPTRG00000042657  ENSMMUG00000028689\n",
       "ENSG00000198712  ENSPTRG00000042660  ENSMMUG00000028686\n",
       "ENSG00000228253  ENSPTRG00000042653  ENSMMUG00000028684"
      ]
     },
     "execution_count": 5,
     "metadata": {},
     "output_type": "execute_result"
    }
   ],
   "source": [
    "\n",
    "three_way_ortholog = orthologs_panTro3.reset_index().set_index('gene_id').rename(columns={'ortholog': 'panTro3'}).join(orthologs_Mmul8.reset_index().set_index('gene_id').rename(columns={'ortholog': 'Mmul8'}), how='inner')\n",
    "three_way_ortholog.head()"
   ]
  },
  {
   "cell_type": "markdown",
   "metadata": {},
   "source": [
    "# Read Metadata"
   ]
  },
  {
   "cell_type": "code",
   "execution_count": null,
   "metadata": {},
   "outputs": [],
   "source": [
    "metadata_ribo = pd.read_csv('../../re-ribo-smk/data/ortho-datasets-metadata/SRP062129_metadata.tsv', \n",
    "                            sep='\\t')\n",
    "metadata_rna = pd.read_csv('../../re-ribo-smk/data/ortho-datasets-metadata/SRP028612_metadata.tsv',\n",
    "                           sep='\\t')\n",
    "metadata = pd.concat([metadata_ribo, metadata_rna])\n",
    "\n",
    "metadata_panTro3 = metadata[metadata.species=='panTro3']\n",
    "\n",
    "metadata_GRCh38 = metadata[metadata.species=='GRCh38'].sort_values(by=['assay', 'sex'])\n",
    "female_ribo = metadata_GRCh38.query(\"sex == 'female' and assay== 'ribo'\").experiment_accession\n",
    "female_rna = metadata_GRCh38.query(\"sex == 'female' and assay== 'rna'\").experiment_accession\n",
    "male_ribo = metadata_GRCh38.query(\"sex == 'male' and assay== 'ribo'\").experiment_accession\n",
    "male_rna = metadata_GRCh38.query(\"sex == 'male' and assay== 'rna'\").experiment_accession\n",
    "female_combinations = [(x,y) for x in female_ribo for y in female_rna]\n",
    "male_combinations = [(x,y) for x in male_ribo for y in male_rna]\n",
    "ribo_rna_pairs_GRCh38 = female_combinations + male_combinations\n",
    "\n"
   ]
  }
 ],
 "metadata": {
  "kernelspec": {
   "display_name": "Python [conda env:riboraptor]",
   "language": "python",
   "name": "conda-env-riboraptor-py"
  },
  "language_info": {
   "codemirror_mode": {
    "name": "ipython",
    "version": 3
   },
   "file_extension": ".py",
   "mimetype": "text/x-python",
   "name": "python",
   "nbconvert_exporter": "python",
   "pygments_lexer": "ipython3",
   "version": "3.6.7"
  }
 },
 "nbformat": 4,
 "nbformat_minor": 2
}
