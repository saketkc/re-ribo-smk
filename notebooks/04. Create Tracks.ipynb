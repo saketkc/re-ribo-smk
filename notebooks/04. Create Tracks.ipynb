{
 "cells": [
  {
   "cell_type": "code",
   "execution_count": 2,
   "metadata": {},
   "outputs": [
    {
     "name": "stdout",
     "output_type": "stream",
     "text": [
      "Populating the interactive namespace from numpy and matplotlib\n"
     ]
    },
    {
     "name": "stderr",
     "output_type": "stream",
     "text": [
      "/home/cmb-panasas2/skchoudh/software_frozen/anaconda27/envs/riboraptor/lib/python3.5/site-packages/IPython/core/magics/pylab.py:160: UserWarning: pylab import has clobbered these variables: ['dedent']\n",
      "`%matplotlib` prevents importing * from pylab and numpy\n",
      "  \"\\n`%matplotlib` prevents importing * from pylab and numpy\"\n"
     ]
    }
   ],
   "source": [
    "%pylab inline\n",
    "\n",
    "import os\n",
    "from textwrap import indent, dedent\n",
    "import sys\n",
    "import itertools\n",
    "\n",
    "INDENT_SPACES = '\\t'\n",
    "\n",
    "\n",
    "def get_compositetrack_text(track_name, parent):\n",
    "    \"\"\"Create composite track text\"\"\"\n",
    "    header = \"\"\"\\\n",
    "    track {0}\n",
    "    compositeTrack on\n",
    "    group {0}\n",
    "    parent {1}\n",
    "    shortLabel {0}\n",
    "    longLabel {0}\n",
    "    visibility full\n",
    "    \\n\"\"\".format(track_name, parent)\n",
    "    return dedent(header)\n",
    "\n",
    "\n",
    "def get_multiwigtrack_text(track_name, parent):\n",
    "    \"\"\"Create a multiWig track.\n",
    "\n",
    "    Example\n",
    "    track myMultiWig\n",
    "    container multiWig\n",
    "    aggregate transparentOverlay\n",
    "    showSubtrackColorOnUi on\n",
    "    type bigWig 0 1000\n",
    "    viewLimits 0:10\n",
    "    maxHeighPixels 100:32:8\n",
    "\n",
    "        track myFirstOverlaySig\n",
    "        parent myMultiWig\n",
    "        color 255,128,128\n",
    "        type bigWig 0 1139\n",
    "\n",
    "        track myFirstBigWig\n",
    "        parent myMultiWig\n",
    "        color 120,235,204\n",
    "\n",
    "    \"\"\"\n",
    "    header = \"\"\"\\\n",
    "    track {0}\n",
    "    container multiWig\n",
    "    parent {1}\n",
    "    aggregate transparentOverlay\n",
    "    showSubtrackColorOnUi on\n",
    "    maxHeightPixels 500:100:8\n",
    "    viewLimits 0:20\n",
    "    shortLabel {0}\n",
    "    longLabel {0}\n",
    "    visibility full\n",
    "    type bigWig\n",
    "    \\n\"\"\".format(track_name, parent)\n",
    "    return dedent(header)\n",
    "\n",
    "\n",
    "def get_supertrack_text(track_name):\n",
    "    header = \"\"\"\\\n",
    "    track {0}\n",
    "    superTrack on\n",
    "    group {0}\n",
    "    shortLabel {0}\n",
    "    longLabel {0}\n",
    "    visibility full\n",
    "    \\n\"\"\".format(track_name)\n",
    "    return dedent(header)\n",
    "\n",
    "\n",
    "def get_bigwigtrack_text(track_name, parent, big_data_url, negate_values):\n",
    "    \"\"\"Create bigwig track text\"\"\"\n",
    "    text = \"\"\"\\\n",
    "    track {0}\n",
    "    parent {1}\n",
    "    priority 300\n",
    "    longLabel {0}\n",
    "    shortLabel {0}\n",
    "    type bigWig\n",
    "    itemRgb On\n",
    "    windowingFunction mean\n",
    "    autoScale on\n",
    "    gridDefault on\n",
    "    color 24,90,197\n",
    "    visibility full\n",
    "    negateValues {3}\n",
    "    bigDataUrl {2}\n",
    "    \\n\"\"\".format(track_name, parent, big_data_url, negate_values)\n",
    "    return dedent(text)\n",
    "\n",
    "\n",
    "def create_trackdb(bwdir, srp, orientation='5prime', strands=['combined']):\n",
    "    \"\"\"Create track file\n",
    "    \"\"\"\n",
    "\n",
    "    # Step 0. Create super track\n",
    "    srp_header = get_supertrack_text(srp)\n",
    "    master_text = '###########################################\\n' + srp_header\n",
    "    # Step 1. Create composite track for SRX\n",
    "    for srx in sorted(os.listdir(bwdir)):\n",
    "        master_text += '\\n\\n###############SRXHeader begin####################\\n\\n'\n",
    "        srx_orientation_key = srx + '_' + orientation + '_multiWig'\n",
    "        multiwig_header = indent(\n",
    "            get_multiwigtrack_text(srx_orientation_key, srp), INDENT_SPACES)\n",
    "        master_text += multiwig_header + '\\n\\n'\n",
    "        # Step 2. Inside each composite track for a SRX, create another\n",
    "        # composite track for different orientations/strand inside which\n",
    "        # we need another multiwig track comprising all fragments for this\n",
    "        # particular orientation/strand\n",
    "        for read_length in sorted(os.listdir(os.path.join(bwdir, srx))):\n",
    "            bigwig_text = ''\n",
    "            for orientation_strand in itertools.product([orientation], strands):\n",
    "                orientation_strand = ('_').join(orientation_strand)\n",
    "                bwpath = os.path.join(bwdir, srx, read_length,\n",
    "                                      orientation_strand + '.bw')\n",
    "                track_name = '{}_{}_{}'.format(srx, read_length,\n",
    "                                               orientation_strand)\n",
    "                # Step 2a: Create multiwig track\n",
    "                if 'neg' in bwpath:\n",
    "                    negate_values = 'on'\n",
    "                else:\n",
    "                    negate_values = 'off'\n",
    "                if os.path.isfile(bwpath) and os.stat(bwpath).st_size:\n",
    "                    bigwig_text += indent(\n",
    "                        get_bigwigtrack_text(track_name, srx_orientation_key,\n",
    "                                             bwpath, negate_values),\n",
    "                        2 * INDENT_SPACES)\n",
    "            master_text += '\\n\\n' + bigwig_text\n",
    "        master_text += '\\n\\n###############SRXHeader end####################'\n",
    "    return master_text\n",
    "\n",
    "\n",
    "\n"
   ]
  },
  {
   "cell_type": "code",
   "execution_count": 24,
   "metadata": {},
   "outputs": [
    {
     "name": "stdout",
     "output_type": "stream",
     "text": [
      "a c\n",
      "a d\n",
      "a e\n",
      "b c\n",
      "b d\n",
      "b e\n"
     ]
    }
   ],
   "source": [
    "for x, y in itertools.product(['a', 'b'], ['c', 'd', 'e']):\n",
    "    print(x,y)"
   ]
  },
  {
   "cell_type": "code",
   "execution_count": 6,
   "metadata": {},
   "outputs": [],
   "source": [
    "bwdir = '/staging/as/skchoudh/re-ribo-analysis/mm10/SRP049168/bigWig_lengthwise_normalized/'\n",
    "with open('SRP049168.txt', 'w') as fh:\n",
    "    fh.write(create_trackdb(bwdir, 'SRP049168'))"
   ]
  },
  {
   "cell_type": "code",
   "execution_count": 3,
   "metadata": {},
   "outputs": [
    {
     "data": {
      "text/plain": [
       "array([1, 2, 3, 2, 3, 4])"
      ]
     },
     "execution_count": 3,
     "metadata": {},
     "output_type": "execute_result"
    }
   ],
   "source": [
    "a = np.array([1,2,3])\n",
    "b = np.array([2,3,4])\n",
    "np.concatenate([a,b])"
   ]
  },
  {
   "cell_type": "code",
   "execution_count": null,
   "metadata": {},
   "outputs": [],
   "source": []
  }
 ],
 "metadata": {
  "kernelspec": {
   "display_name": "Python (riboraptor_clean)",
   "language": "python",
   "name": "riboraptor_clean"
  },
  "language_info": {
   "codemirror_mode": {
    "name": "ipython",
    "version": 3
   },
   "file_extension": ".py",
   "mimetype": "text/x-python",
   "name": "python",
   "nbconvert_exporter": "python",
   "pygments_lexer": "ipython3",
   "version": "3.5.5"
  }
 },
 "nbformat": 4,
 "nbformat_minor": 2
}
