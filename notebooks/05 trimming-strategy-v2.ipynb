{
 "cells": [
  {
   "cell_type": "markdown",
   "metadata": {},
   "source": [
    "# Detecting adapters\n",
    "\n",
    "For datasets where the adapter is tricky in situations where non-standard adapters have been used or a barcode exists adjacent to the adapter."
   ]
  },
  {
   "cell_type": "markdown",
   "metadata": {},
   "source": [
    "# 3' adapters\n",
    "\n",
    "This section is borrowed and copied as it is from the `cutadapt` [manual](https://cutadapt.readthedocs.io/en/v1.7.1/guide.html).\n",
    "\n",
    "\n",
    "A 3’ adapter is a piece of DNA ligated to the 3’\n",
    "end of the DNA fragment you are interested in. \n",
    "The sequencer starts the sequencing process at the 5’\n",
    "end of the fragment and sequences into the adapter\n",
    "if the read is long enough. \n",
    "\n",
    "The read that it outputs will then have a part of\n",
    "the adapter in the end. Or, if the adapter was \n",
    "short and the read length quite long, then the adapter\n",
    "will be somewhere within the read (followed by other bases).\n",
    "\n",
    "For example, assume your fragment of interest\n",
    "is MYSEQUENCE and the adapter is ADAPTER. \n",
    "Depending on the read length, \n",
    "you will get reads that look like this:\n",
    "\n",
    "```\n",
    "MYSEQUEN\n",
    "MYSEQUENCEADAP\n",
    "MYSEQUENCEADAPTER\n",
    "MYSEQUENCEADAPTERSOMETHINGELSE\n",
    "```\n",
    "\n",
    "Use cutadapt’s -a ADAPTER option to remove this type of adapter. This will be the result:\n",
    "\n",
    "```\n",
    "MYSEQUEN\n",
    "MYSEQUENCE\n",
    "MYSEQUENCE\n",
    "MYSEQUENCE\n",
    "```\n",
    "As can be seen, cutadapt correctly deals with partial adapter matches,\n",
    "and also with any trailing sequences after the adapter.\n",
    "Cutadapt deals with 3’ adapters by removing the adapter itself and \n",
    "any sequence that may follow.\n",
    "If the sequence starts with an adapter, like this:\n",
    "```\n",
    "ADAPTERSOMETHING\n",
    "```\n",
    "Then the sequence will be empty after trimming. \n",
    "Note that, by default, empty reads are not discarded and will appear in the output.\n",
    "\n",
    "\n",
    "NOTE: Our adapter in the above case is not \"anchored\" at the end. There is a seprate flag to handle that in `cutadapt`.\n",
    "\n",
    "Here we perform various case studies where `cutadapt`'s auto-detection alone is not useful. \n",
    "\n",
    "The standard adapters are:\n",
    "\n",
    "\n",
    "| Protocol |  Adapter     |\n",
    "|----------|--------------|\n",
    "|Illumina  | AGATCGGAAGAGC|\n",
    "|Small RNA |  TGGAATTCTCGG|\n",
    "|Nextera   |  CTGTCTCTTATA|"
   ]
  },
  {
   "cell_type": "code",
   "execution_count": 6,
   "metadata": {},
   "outputs": [
    {
     "name": "stdout",
     "output_type": "stream",
     "text": [
      "Populating the interactive namespace from numpy and matplotlib\n",
      "The autoreload extension is already loaded. To reload it, use:\n",
      "  %reload_ext autoreload\n"
     ]
    }
   ],
   "source": [
    "%pylab inline\n",
    "%load_ext autoreload\n",
    "%autoreload 2\n",
    "import pandas as pd\n",
    "from riboraptor.kmer import fastq_kmer_histogram\n",
    "\n",
    "def get_top_kmers(kmer_series):\n",
    "    \"\"\"Return all kmers with cumulative sum <=50,\n",
    "    because we won't need mroe than that.\n",
    "    \"\"\"\n",
    "    cumsum = kmer_series.cumsum()\n",
    "    return kmer_series[cumsum<=70]\n",
    "\n",
    "def get_succ_ratios(histogram):\n",
    "    ratios = {}\n",
    "    for key, value in histogram.items():\n",
    "        ratios[key] = value.values[0]/value.values[1]\n",
    "    ratios = pd.Series(ratios) \n",
    "    return ratios\n",
    "    "
   ]
  },
  {
   "cell_type": "code",
   "execution_count": 1,
   "metadata": {},
   "outputs": [
    {
     "data": {
      "text/plain": [
       "17"
      ]
     },
     "execution_count": 1,
     "metadata": {},
     "output_type": "execute_result"
    }
   ],
   "source": [
    "len('CTGTAGGCACCATCAAT')\n"
   ]
  },
  {
   "cell_type": "code",
   "execution_count": 3,
   "metadata": {},
   "outputs": [],
   "source": [
    "# Standard tru seq CTGTAGGCACCATCAAT\n",
    "\n",
    "fastqs = {'17nt': '/staging/as/skchoudh/re-ribo-analysis/hg38/SRP098789/sratofastq/SRR5227288.fastq.gz',\n",
    "         '17nt_post_trimming': '/staging/as/skchoudh/re-ribo-analysis/hg38/SRP098789/preprocessed/SRR5227288_trimmed.fq.gz',\n",
    "         '13nt': '/home/cmb-06/as/skchoudh/dna/Dec_12_2017_Penalva_RPS5_Riboseq/Penalva_L_12112017/RPS5_C2_S2_L001_R1_001.fastq.gz',\n",
    "         '13nt_post_trimming': '/home/cmb-panasas2/skchoudh/rna/Dec_12_2017_Penalva_RPS5_RNAseq_and_Riboseq/preprocessed/RPS5_C2_S2_L001_R1_001_trimmed.fq.gz',\n",
    "         'ambiguous': '/staging/as/skchoudh/re-ribo-analysis/hg38/SRP031501/sratofastq/SRR1562541.fastq.gz',\n",
    "          'truseq_kmer_detected': '/staging/as/skchoudh/re-ribo-analysis/hg38/SRP010679/preprocessed_step1/SRR403891_trimmed.fq.gz',\n",
    "          'truseq_kmer_not_detected': '/staging/as/skchoudh/re-ribo-analysis/hg38/SRP010679/preprocessed_step1/SRR403893_trimmed.fq.gz'         \n",
    "    \n",
    "          #'erx': '/staging/as/wenzhenl/re-ribo-data/ERP005378/ERX432360/ERR466125.fastq'\n",
    "         }\n",
    "histograms = {k:{} for k in fastqs.keys()}"
   ]
  },
  {
   "cell_type": "code",
   "execution_count": 4,
   "metadata": {},
   "outputs": [
    {
     "name": "stderr",
     "output_type": "stream",
     "text": [
      "100%|██████████| 1000000/1000000 [00:34<00:00, 29081.53it/s]\n",
      "100%|██████████| 1000000/1000000 [00:41<00:00, 23948.70it/s]\n",
      "100%|██████████| 1000000/1000000 [00:39<00:00, 25109.94it/s]\n",
      "100%|██████████| 1000000/1000000 [00:41<00:00, 23978.10it/s]\n",
      "100%|██████████| 1000000/1000000 [00:44<00:00, 22480.76it/s]\n",
      "100%|██████████| 1000000/1000000 [00:42<00:00, 23724.28it/s]\n",
      "100%|██████████| 1000000/1000000 [00:36<00:00, 27555.73it/s]\n"
     ]
    }
   ],
   "source": [
    "\n",
    "for key, fastq in fastqs.items():\n",
    "    histograms[key] = fastq_kmer_histogram(fastq)"
   ]
  },
  {
   "cell_type": "code",
   "execution_count": 15,
   "metadata": {},
   "outputs": [
    {
     "name": "stderr",
     "output_type": "stream",
     "text": [
      "100%|██████████| 1000000/1000000 [00:48<00:00, 20432.67it/s]\n"
     ]
    }
   ],
   "source": [
    "histograms['raw_truseq_weird'] = fastq_kmer_histogram('/staging/as/skchoudh/re-ribo-analysis/hg38/SRP010679/sratofastq/SRR403893.fastq.gz')\n"
   ]
  },
  {
   "cell_type": "code",
   "execution_count": 26,
   "metadata": {},
   "outputs": [
    {
     "name": "stderr",
     "output_type": "stream",
     "text": [
      "100%|██████████| 1000000/1000000 [00:46<00:00, 21357.65it/s]\n"
     ]
    }
   ],
   "source": [
    "histograms['SRP109126_raw'] = fastq_kmer_histogram('/staging/as/skchoudh/re-ribo-analysis/hg38/SRP109126/sratofastq/SRR5680913.fastq.gz')\n"
   ]
  },
  {
   "cell_type": "code",
   "execution_count": 61,
   "metadata": {},
   "outputs": [
    {
     "name": "stderr",
     "output_type": "stream",
     "text": [
      "100%|██████████| 1000000/1000000 [00:43<00:00, 22728.18it/s]\n",
      "100%|██████████| 1000000/1000000 [00:43<00:00, 22888.12it/s]\n",
      "100%|██████████| 1000000/1000000 [00:40<00:00, 24467.79it/s]\n"
     ]
    }
   ],
   "source": [
    "histograms['drosophila_raw'] = fastq_kmer_histogram('/staging/as/skchoudh/re-ribo-analysis/BDGP6/SRP028243/sratofastq/SRR942868.fastq.gz')\n",
    "histograms['drosophila_step1'] = fastq_kmer_histogram('/staging/as/skchoudh/re-ribo-analysis/BDGP6/SRP028243/preprocessed_step1/SRR942868_trimmed.fq.gz')\n",
    "histograms['drosophila_step2'] = fastq_kmer_histogram('/staging/as/skchoudh/re-ribo-analysis/BDGP6/SRP028243/preprocessed/SRR942868_trimmed_trimmed.fq.gz')\n",
    "\n",
    "\n"
   ]
  },
  {
   "cell_type": "code",
   "execution_count": null,
   "metadata": {},
   "outputs": [],
   "source": []
  },
  {
   "cell_type": "code",
   "execution_count": 55,
   "metadata": {},
   "outputs": [
    {
     "name": "stderr",
     "output_type": "stream",
     "text": [
      "100%|██████████| 1000000/1000000 [00:50<00:00, 19941.35it/s]\n"
     ]
    }
   ],
   "source": [
    "histograms['SRP109126_raw_5prime'] = fastq_kmer_histogram('/staging/as/skchoudh/re-ribo-analysis/hg38/SRP109126/sratofastq/SRR5680913.fastq.gz', five_prime=True)\n",
    "\n"
   ]
  },
  {
   "cell_type": "code",
   "execution_count": 27,
   "metadata": {},
   "outputs": [
    {
     "name": "stderr",
     "output_type": "stream",
     "text": [
      "100%|██████████| 1000000/1000000 [00:49<00:00, 20264.69it/s]\n",
      "100%|██████████| 1000000/1000000 [00:46<00:00, 21527.87it/s]\n"
     ]
    }
   ],
   "source": [
    "histograms['SRP109126_pass1'] = fastq_kmer_histogram('/staging/as/skchoudh/re-ribo-analysis/hg38/SRP109126/preprocessed_step1/SRR5680913_trimmed.fq.gz')\n",
    "histograms['SRP109126_pass2'] = fastq_kmer_histogram('/staging/as/skchoudh/re-ribo-analysis/hg38/SRP109126/preprocessed/SRR5680913_trimmed_trimmed.fq.gz')\n",
    "\n",
    "\n"
   ]
  },
  {
   "cell_type": "code",
   "execution_count": 60,
   "metadata": {},
   "outputs": [
    {
     "data": {
      "text/plain": [
       "CGGAA    10.1751\n",
       "TCGGA     8.7915\n",
       "GGAAG     6.1694\n",
       "ATCGG     5.8162\n",
       "GAAGA     5.6940\n",
       "ACACG     5.2163\n",
       "CACGT     4.4526\n",
       "CACAC     4.3914\n",
       "TCTGA     4.3001\n",
       "GCACA     3.8526\n",
       "AAGAG     3.6186\n",
       "GATCG     3.5520\n",
       "GAGCA     3.5465\n",
       "AGCAC     3.4561\n",
       "ACGTC     3.2484\n",
       "AGAGC     3.0859\n",
       "CGTCT     2.2037\n",
       "AGATC     1.9591\n",
       "TAGAT     1.5623\n",
       "CAGTC     1.4937\n",
       "TCGTA     1.1196\n",
       "GTAGA     1.0983\n",
       "ATCGT     1.0284\n",
       "ATCAC     0.9578\n",
       "CGTAG     0.8934\n",
       "CCAGT     0.7827\n",
       "GTCTG     0.7648\n",
       "AGTCA     0.7449\n",
       "CGGAG     0.4919\n",
       "TCCAG     0.4582\n",
       "          ...   \n",
       "CGCCT     0.0001\n",
       "CTACA     0.0001\n",
       "GTCGT     0.0001\n",
       "CTCAG     0.0001\n",
       "GTCGC     0.0001\n",
       "GTCAT     0.0001\n",
       "ACTAA     0.0001\n",
       "ACTAC     0.0001\n",
       "GTAAA     0.0001\n",
       "ACTTA     0.0001\n",
       "GGGAT     0.0001\n",
       "ACTTT     0.0001\n",
       "GGCAT     0.0001\n",
       "GCTAA     0.0001\n",
       "GCCTA     0.0001\n",
       "GCCAT     0.0001\n",
       "GCAGT     0.0001\n",
       "GATTT     0.0001\n",
       "GATTC     0.0001\n",
       "GAGCT     0.0001\n",
       "GACTA     0.0001\n",
       "CTTAT     0.0001\n",
       "AGCGG     0.0001\n",
       "CTTAG     0.0001\n",
       "CTGTC     0.0001\n",
       "CTGGA     0.0001\n",
       "CTCTT     0.0001\n",
       "CTCCG     0.0001\n",
       "CTCCC     0.0001\n",
       "TTTTG     0.0001\n",
       "Length: 495, dtype: float64"
      ]
     },
     "execution_count": 60,
     "metadata": {},
     "output_type": "execute_result"
    }
   ],
   "source": [
    "histograms['SRP109126_raw'][5]"
   ]
  },
  {
   "cell_type": "code",
   "execution_count": 62,
   "metadata": {},
   "outputs": [],
   "source": [
    "ratios = {}\n",
    "for key, histogram in histograms.items():\n",
    "    ratios[key] = get_succ_ratios(histogram)"
   ]
  },
  {
   "cell_type": "code",
   "execution_count": 63,
   "metadata": {},
   "outputs": [
    {
     "data": {
      "text/plain": [
       "[<matplotlib.lines.Line2D at 0x2ac96d7ede48>]"
      ]
     },
     "execution_count": 63,
     "metadata": {},
     "output_type": "execute_result"
    },
    {
     "data": {
      "image/png": "[encoded data removed]",
      "text/plain": [
       "<Figure size 432x288 with 1 Axes>"
      ]
     },
     "metadata": {
      "needs_background": "light"
     },
     "output_type": "display_data"
    }
   ],
   "source": [
    "\n",
    "plt.plot(ratios['drosophila_raw'].index, ratios['drosophila_raw'].values)"
   ]
  },
  {
   "cell_type": "code",
   "execution_count": 66,
   "metadata": {},
   "outputs": [
    {
     "data": {
      "text/plain": [
       "[<matplotlib.lines.Line2D at 0x2ac96e8d92b0>]"
      ]
     },
     "execution_count": 66,
     "metadata": {},
     "output_type": "execute_result"
    },
    {
     "data": {
      "image/png": "[encoded data removed]",
      "text/plain": [
       "<Figure size 432x288 with 1 Axes>"
      ]
     },
     "metadata": {
      "needs_background": "light"
     },
     "output_type": "display_data"
    }
   ],
   "source": [
    "plt.plot(ratios['drosophila_step1'].index, ratios['drosophila_step1'].values)"
   ]
  },
  {
   "cell_type": "code",
   "execution_count": 68,
   "metadata": {},
   "outputs": [
    {
     "data": {
      "text/plain": [
       "21"
      ]
     },
     "execution_count": 68,
     "metadata": {},
     "output_type": "execute_result"
    }
   ],
   "source": [
    "len('AGATCGGAAGAGCACACGTCT')"
   ]
  },
  {
   "cell_type": "code",
   "execution_count": 69,
   "metadata": {},
   "outputs": [],
   "source": [
    "a = ['a', 'b', 'c', 'd']"
   ]
  },
  {
   "cell_type": "code",
   "execution_count": 72,
   "metadata": {},
   "outputs": [
    {
     "data": {
      "text/plain": [
       "3"
      ]
     },
     "execution_count": 72,
     "metadata": {},
     "output_type": "execute_result"
    }
   ],
   "source": [
    "a.index('d')"
   ]
  },
  {
   "cell_type": "code",
   "execution_count": 67,
   "metadata": {},
   "outputs": [
    {
     "data": {
      "text/plain": [
       "CTGTAGGCACCATCAAT    12.0834\n",
       "AGGCACCATCAATTCGT     9.8070\n",
       "GTAGGCACCATCAATTC     7.8372\n",
       "TGTAGGCACCATCAATT     7.5969\n",
       "TAGGCACCATCAATTCG     5.8862\n",
       "GCAAGATCGCTGTAGGC     5.1763\n",
       "AAGATCGCTGTAGGCAC     4.2697\n",
       "ATTCTGTAGGCACCATC     4.0792\n",
       "ATCTGTAGGCACCATCA     3.2683\n",
       "AACTGTAGGCACCATCA     2.1641\n",
       "CATGCACTGTAGGCACC     1.8706\n",
       "AGATCGCTGTAGGCACC     1.6802\n",
       "GAACTGTAGGCACCATC     1.1194\n",
       "CGACTGTAGGCACCATC     0.9978\n",
       "GCACCATCAATTCGTAT     0.8883\n",
       "ATGCTGTAGGCACCATC     0.8673\n",
       "ATGCCTGTAGGCACCAT     0.8513\n",
       "GACTGTAGGCACCATCA     0.8203\n",
       "AGCTGTAGGCACCATCA     0.7962\n",
       "CGCTGTAGGCACCATCA     0.7961\n",
       "CCGCTGTAGGCACCATC     0.7477\n",
       "TCGCTGTAGGCACCATC     0.7153\n",
       "GTCCTGTAGGCACCATC     0.5360\n",
       "GAGCTGTAGGCACCATC     0.5090\n",
       "CACTGTAGGCACCATCA     0.5041\n",
       "GGCTGTAGGCACCATCA     0.4849\n",
       "CAACCTGTAGGCACCAT     0.4565\n",
       "CCACTGTAGGCACCATC     0.4252\n",
       "AATGCTGTAGGCACCAT     0.4233\n",
       "TGCCTGTAGGCACCATC     0.4134\n",
       "                      ...   \n",
       "CTGGACCACCTGTAGGC     0.0001\n",
       "TCCTTACCTGTAGGAAC     0.0001\n",
       "CTGGACTCACTGTAGGC     0.0001\n",
       "CTGGACTGGCGCACCCC     0.0001\n",
       "CTGGACTGGGAAACAGC     0.0001\n",
       "CTGGAGCACCTGTAGGC     0.0001\n",
       "CTGGAGCCACCATCAAT     0.0001\n",
       "CTGGAGCTCAACGACCG     0.0001\n",
       "TCCTGTTCTCTGTAGGC     0.0001\n",
       "TCCTGTTAGGCACCATC     0.0001\n",
       "CTGGAGGCACTATCAAT     0.0001\n",
       "CTGGAGGGACCATCAAT     0.0001\n",
       "CTGGAGGGCCTGTAGGC     0.0001\n",
       "CTGGATGACATCGGCTT     0.0001\n",
       "CTGGCCTCTGTAGGCAC     0.0001\n",
       "CTGGATGCACGATCAAT     0.0001\n",
       "CTGGATGTAGGCACCAT     0.0001\n",
       "CTGGATGTGTACTGGCC     0.0001\n",
       "TCCTGTGGGCACCATCA     0.0001\n",
       "CTGGCAATCCTGTAGGC     0.0001\n",
       "CTGGCACCGCTGTAGGC     0.0001\n",
       "TCCTGTCGGCACCATCA     0.0001\n",
       "CTGGCAGCGCTGCAGGC     0.0001\n",
       "CTGGCAGGATCGCCTGT     0.0001\n",
       "CTGGCCCCCCTGTAGGC     0.0001\n",
       "CTGGCCCTCCTGTAGGC     0.0001\n",
       "CTGGCCCTGTAGGAACC     0.0001\n",
       "CTGGCCCTGTAGGCAAC     0.0001\n",
       "CTGGCCGCGCTGTAGGC     0.0001\n",
       "TTTTTTTTTTTTTTTTT     0.0001\n",
       "Length: 13004, dtype: float64"
      ]
     },
     "execution_count": 67,
     "metadata": {},
     "output_type": "execute_result"
    }
   ],
   "source": [
    "histograms['drosophila_step1'][17]"
   ]
  },
  {
   "cell_type": "code",
   "execution_count": 65,
   "metadata": {},
   "outputs": [
    {
     "data": {
      "text/plain": [
       "CTGTAGGCACCATCAAT    12.1394\n",
       "GTAGGCACCATCAATTC     7.8721\n",
       "TGTAGGCACCATCAATT     7.6030\n",
       "TAGGCACCATCAATTCG     5.9420\n",
       "CAAGATCGCTGTAGGCA     5.2049\n",
       "GGCACCATCAATTCGTA     5.1549\n",
       "AGGCACCATCAATTCGT     4.7440\n",
       "AAGATCGCTGTAGGCAC     4.3080\n",
       "TTCTGTAGGCACCATCA     4.1431\n",
       "TCTGTAGGCACCATCAA     3.7340\n",
       "ACTGTAGGCACCATCAA     3.6342\n",
       "GCTGTAGGCACCATCAA     2.4426\n",
       "CGCTGTAGGCACCATCA     1.4314\n",
       "CCTGTAGGCACCATCAA     1.4047\n",
       "ATGCACTGTAGGCACCA     1.3609\n",
       "AACTGTAGGCACCATCA     1.1772\n",
       "GATCGCTGTAGGCACCA     1.1521\n",
       "GCACCATCAATTCGTAT     0.8964\n",
       "ATGCCTGTAGGCACCAT     0.8528\n",
       "ATGCTGTAGGCACCATC     0.7670\n",
       "CGACTGTAGGCACCATC     0.6239\n",
       "TCCTGTAGGCACCATCA     0.6126\n",
       "AGATCGCTGTAGGCACC     0.5469\n",
       "CATGCACTGTAGGCACC     0.5178\n",
       "GACTGTAGGCACCATCA     0.4604\n",
       "CAACCTGTAGGCACCAT     0.4588\n",
       "GGCTGTAGGCACCATCA     0.4296\n",
       "GCCTGTAGGCACCATCA     0.4262\n",
       "AATGCTGTAGGCACCAT     0.4255\n",
       "CACTGTAGGCACCATCA     0.4209\n",
       "                      ...   \n",
       "GCTTGAAAAAACAATAT     0.0001\n",
       "GCTTGAAAAAACAAAAC     0.0001\n",
       "GCTTGAAAAAAATTTGA     0.0001\n",
       "GCTTGAAAAAAATTCTA     0.0001\n",
       "GCTTGAAAAAAATTCGG     0.0001\n",
       "GCTTGAAAAAAATTCAT     0.0001\n",
       "GCTTGAAAAAAATCTAT     0.0001\n",
       "GCTTGAAAAAAATCATC     0.0001\n",
       "GCTTGAAAAAAGAAATA     0.0001\n",
       "GCTTGAAAAAAGAATAG     0.0001\n",
       "GCTTGAAAAAATAATAT     0.0001\n",
       "GCTTGAAAAAAGATGAC     0.0001\n",
       "GCTTGAAAAAATAACTA     0.0001\n",
       "GCTTGAAAAAATAAATC     0.0001\n",
       "GCTTGAAAAAATAAAAT     0.0001\n",
       "GCTTGAAAAAATAAAAA     0.0001\n",
       "GCTTGAAAAAAGTCAGC     0.0001\n",
       "GCTTGAAAAAAGTCAAT     0.0001\n",
       "GCTTGAAAAAAGTATGA     0.0001\n",
       "GCTTGAAAAAAGTACAA     0.0001\n",
       "GCTTGAAAAAAGTAACA     0.0001\n",
       "GCTTGAAAAAAGGCACA     0.0001\n",
       "GCTTGAAAAAAGGAATA     0.0001\n",
       "GCTTGAAAAAAGGAACC     0.0001\n",
       "GCTTGAAAAAAGGAACA     0.0001\n",
       "GCTTGAAAAAAGGAAAC     0.0001\n",
       "GCTTGAAAAAAGCATCA     0.0001\n",
       "GCTTGAAAAAAGCAGCA     0.0001\n",
       "GCTTGAAAAAAGCAACA     0.0001\n",
       "AAAAAAAAAAAAAAAAA     0.0001\n",
       "Length: 13778, dtype: float64"
      ]
     },
     "execution_count": 65,
     "metadata": {},
     "output_type": "execute_result"
    }
   ],
   "source": [
    "histograms['drosophila_raw'][17]"
   ]
  },
  {
   "cell_type": "code",
   "execution_count": 59,
   "metadata": {},
   "outputs": [
    {
     "data": {
      "text/plain": [
       "[<matplotlib.lines.Line2D at 0x2ac92e02bcc0>]"
      ]
     },
     "execution_count": 59,
     "metadata": {},
     "output_type": "execute_result"
    },
    {
     "data": {
      "image/png": "[encoded data removed]",
      "text/plain": [
       "<Figure size 432x288 with 1 Axes>"
      ]
     },
     "metadata": {
      "needs_background": "light"
     },
     "output_type": "display_data"
    }
   ],
   "source": [
    "plt.plot(ratios['SRP109126_raw_5prime'].index, ratios['SRP109126_raw_5prime'].values)"
   ]
  },
  {
   "cell_type": "code",
   "execution_count": 53,
   "metadata": {},
   "outputs": [
    {
     "data": {
      "text/plain": [
       "[<matplotlib.lines.Line2D at 0x2ac92e01b438>]"
      ]
     },
     "execution_count": 53,
     "metadata": {},
     "output_type": "execute_result"
    },
    {
     "data": {
      "image/png": "[encoded data removed]",
      "text/plain": [
       "<Figure size 432x288 with 1 Axes>"
      ]
     },
     "metadata": {
      "needs_background": "light"
     },
     "output_type": "display_data"
    }
   ],
   "source": [
    "plt.plot(ratios['SRP109126_pass1'].index, ratios['SRP109126_pass1'].values)"
   ]
  },
  {
   "cell_type": "code",
   "execution_count": 54,
   "metadata": {},
   "outputs": [
    {
     "data": {
      "text/plain": [
       "[<matplotlib.lines.Line2D at 0x2ac92df71c50>]"
      ]
     },
     "execution_count": 54,
     "metadata": {},
     "output_type": "execute_result"
    },
    {
     "data": {
      "image/png": "[encoded data removed]",
      "text/plain": [
       "<Figure size 432x288 with 1 Axes>"
      ]
     },
     "metadata": {
      "needs_background": "light"
     },
     "output_type": "display_data"
    }
   ],
   "source": [
    "plt.plot(ratios['SRP109126_pass2'].index, ratios['SRP109126_pass2'].values)"
   ]
  },
  {
   "cell_type": "code",
   "execution_count": 37,
   "metadata": {},
   "outputs": [
    {
     "data": {
      "text/plain": [
       "[<matplotlib.lines.Line2D at 0x2ac924e60438>]"
      ]
     },
     "execution_count": 37,
     "metadata": {},
     "output_type": "execute_result"
    },
    {
     "data": {
      "image/png": "[encoded data removed]",
      "text/plain": [
       "<Figure size 432x288 with 1 Axes>"
      ]
     },
     "metadata": {
      "needs_background": "light"
     },
     "output_type": "display_data"
    }
   ],
   "source": [
    "plt.plot(ratios['SRP109126_raw'].index, ratios['SRP109126_raw'].values)"
   ]
  },
  {
   "cell_type": "code",
   "execution_count": 50,
   "metadata": {},
   "outputs": [
    {
     "data": {
      "text/plain": [
       "29"
      ]
     },
     "execution_count": 50,
     "metadata": {},
     "output_type": "execute_result"
    }
   ],
   "source": [
    "len('TCGGAAGAGCACACGTCTGAACTCCAGTC')"
   ]
  },
  {
   "cell_type": "code",
   "execution_count": null,
   "metadata": {},
   "outputs": [],
   "source": [
    "TCGGAAGAGCACACGTCTGAACTCCAGTC\n",
    "              ATCGTAGATCGGAA"
   ]
  },
  {
   "cell_type": "code",
   "execution_count": null,
   "metadata": {},
   "outputs": [],
   "source": [
    "ATCGTAGATCGGAAGAGCACACGT\n",
    "    TAGATCGGAAGAGCACACGTCTGA"
   ]
  },
  {
   "cell_type": "code",
   "execution_count": 52,
   "metadata": {},
   "outputs": [
    {
     "data": {
      "text/plain": [
       "ATCGTAGATCGGAAGAGCACACGT    3.9487\n",
       "TAGATCGGAAGAGCACACGTCTGA    3.9223\n",
       "TCGTAGATCGGAAGAGCACACGTC    2.8722\n",
       "CGTAGATCGGAAGAGCACACGTCT    2.0135\n",
       "AGAGCACACGTCTGAACTCCAGTC    1.3409\n",
       "CATCGTAGATCGGAAGAGCACACG    1.2525\n",
       "GATCGTAGATCGGAAGAGCACACG    1.1869\n",
       "AATCGTAGATCGGAAGAGCACACG    1.1431\n",
       "TATCGTAGATCGGAAGAGCACACG    1.1405\n",
       "ACGTCTGAACTCCAGTCACATCAC    0.9230\n",
       "GAGCACACGTCTGAACTCCAGTCA    0.7197\n",
       "AAGAGCACACGTCTGAACTCCAGT    0.6976\n",
       "GTAGATCGGAAGAGCACACGTCTG    0.6842\n",
       "GAAGAGCACACGTCTGAACTCCAG    0.4142\n",
       "CACGTCTGAACTCCAGTCACATCA    0.3969\n",
       "GTATCGTAGATCGGAAGAGCACAC    0.3799\n",
       "GGATCGTAGATCGGAAGAGCACAC    0.3693\n",
       "AGATCGGAAGAGCACACGTCTGAA    0.3444\n",
       "GCATCGTAGATCGGAAGAGCACAC    0.3337\n",
       "TGATCGTAGATCGGAAGAGCACAC    0.3251\n",
       "GAATCGTAGATCGGAAGAGCACAC    0.3229\n",
       "CCATCGTAGATCGGAAGAGCACAC    0.2783\n",
       "CTATCGTAGATCGGAAGAGCACAC    0.2723\n",
       "AGCACACGTCTGAACTCCAGTCAC    0.2562\n",
       "TAGATCGGAGGAGCACACGTCTGA    0.2409\n",
       "TAATCGTAGATCGGAAGAGCACAC    0.2394\n",
       "CAATCGTAGATCGGAAGAGCACAC    0.2353\n",
       "GGAAGAGCACACGTCTGAACTCCA    0.2335\n",
       "TCATCGTAGATCGGAAGAGCACAC    0.2242\n",
       "ATCGTAGATCGGAGGAGCACACGT    0.2224\n",
       "                             ...  \n",
       "GCGAAATATCGTAGATCGGAAGAG    0.0001\n",
       "GCGAAATCCATCGTAGATCGGAAG    0.0001\n",
       "GCGAAATCCTTAATCGTAGATCGG    0.0001\n",
       "GCGAAATGCAATCGTAGATCGGAA    0.0001\n",
       "GCGAAATGCGATACGGTTATCGTA    0.0001\n",
       "GCGAAATGGATCGTAGATCGGAAG    0.0001\n",
       "GCGAAATGTATCGTAGATCGGAAG    0.0001\n",
       "GCGAAATTGCATCGTAGATCGGAA    0.0001\n",
       "GCGAACAGTATCGTAGATCGGAAG    0.0001\n",
       "GCGAACATCATCGTAGATCGGAAG    0.0001\n",
       "GCGAAAGCGTTCGTATATCGTAGA    0.0001\n",
       "GCGAAAGCGTGGGGCTCATCGTAG    0.0001\n",
       "GCGAAAATCCGATCGTAGATCGGA    0.0001\n",
       "GCGAAAGCCCATCGTAGATCGGAA    0.0001\n",
       "GCGAAAATCGATCGTAGATCGGAA    0.0001\n",
       "GCGAAACAGGGCTATCGTAGATCG    0.0001\n",
       "GCGAAACATCGTAGATCGGAAGAG    0.0001\n",
       "GCGAAACATGATCGTAGATCGGAA    0.0001\n",
       "GCGAAACCATCGTAGATCGGAAGA    0.0001\n",
       "GCGAAACCGATAAATCGTAGATCG    0.0001\n",
       "GCGAAACCGGGGTATCGTAGATCG    0.0001\n",
       "GCGAAACGCACATCGTAGATCGGA    0.0001\n",
       "GCGAAACGGAATCGTAGATCGGAA    0.0001\n",
       "GCGAAACGGAATCGTAGATCGGAG    0.0001\n",
       "GCGAAACGGCATCGTAGATCGGAG    0.0001\n",
       "GCGAAACGTCATCGTAGATCGGAA    0.0001\n",
       "GCGAAACTAATCGTAGATCGGAAG    0.0001\n",
       "GCGAAACTCAGGTGGTGGGATCGT    0.0001\n",
       "GCGAAACTCAGGTGTGCGAATCGT    0.0001\n",
       "AAAAAAAAAAAAAAATGAATCGTA    0.0001\n",
       "Length: 358964, dtype: float64"
      ]
     },
     "execution_count": 52,
     "metadata": {},
     "output_type": "execute_result"
    }
   ],
   "source": [
    "histograms['SRP109126_raw'][24]"
   ]
  },
  {
   "cell_type": "code",
   "execution_count": 17,
   "metadata": {},
   "outputs": [
    {
     "data": {
      "text/plain": [
       "[<matplotlib.lines.Line2D at 0x2ac8a5cd0978>]"
      ]
     },
     "execution_count": 17,
     "metadata": {},
     "output_type": "execute_result"
    },
    {
     "data": {
      "image/png": "[encoded data removed]",
      "text/plain": [
       "<Figure size 432x288 with 1 Axes>"
      ]
     },
     "metadata": {
      "needs_background": "light"
     },
     "output_type": "display_data"
    }
   ],
   "source": [
    "plt.plot(ratios['raw_truseq_weird'].index, ratios['raw_truseq_weird'].values)"
   ]
  },
  {
   "cell_type": "code",
   "execution_count": 13,
   "metadata": {},
   "outputs": [
    {
     "data": {
      "text/plain": [
       "[<matplotlib.lines.Line2D at 0x2ac89cd81f28>]"
      ]
     },
     "execution_count": 13,
     "metadata": {},
     "output_type": "execute_result"
    },
    {
     "data": {
      "image/png": "[encoded data removed]",
      "text/plain": [
       "<Figure size 432x288 with 1 Axes>"
      ]
     },
     "metadata": {
      "needs_background": "light"
     },
     "output_type": "display_data"
    }
   ],
   "source": [
    "plt.plot(ratios['truseq_kmer_not_detected'].index, ratios['truseq_kmer_not_detected'].values)"
   ]
  },
  {
   "cell_type": "code",
   "execution_count": 14,
   "metadata": {},
   "outputs": [
    {
     "data": {
      "text/plain": [
       "[<matplotlib.lines.Line2D at 0x2ac89cdc21d0>]"
      ]
     },
     "execution_count": 14,
     "metadata": {},
     "output_type": "execute_result"
    },
    {
     "data": {
      "image/png": "[encoded data removed]",
      "text/plain": [
       "<Figure size 432x288 with 1 Axes>"
      ]
     },
     "metadata": {
      "needs_background": "light"
     },
     "output_type": "display_data"
    }
   ],
   "source": [
    "plt.plot(ratios['truseq_kmer_detected'].index, ratios['truseq_kmer_detected'].values)"
   ]
  },
  {
   "cell_type": "code",
   "execution_count": 25,
   "metadata": {},
   "outputs": [
    {
     "data": {
      "text/plain": [
       "CTGTAGGCAC    16.9524\n",
       "TGTAGGCACC     9.7078\n",
       "TCTGTAGGCA     5.3376\n",
       "CCTGTAGGCA     5.0915\n",
       "ACTGTAGGCA     4.5734\n",
       "GTAGGCACCA     4.5082\n",
       "GCTGTAGGCA     4.3464\n",
       "CTCTGTAGGC     1.7447\n",
       "CCCTGTAGGC     1.7358\n",
       "TAGGCACCAT     1.7018\n",
       "TGCTGTAGGC     1.3124\n",
       "AGCTGTAGGC     1.2404\n",
       "GACTGTAGGC     1.1522\n",
       "CTTCTGTAGG     1.0815\n",
       "TTCTGTAGGC     1.0443\n",
       "TCCTGTAGGC     1.0211\n",
       "GGCTGTAGGC     1.0174\n",
       "TCTGCTTGAA     0.9383\n",
       "GCCTGTAGGC     0.9122\n",
       "TACTGTAGGC     0.9053\n",
       "AGGCACCATC     0.8680\n",
       "CACTGTAGGC     0.8593\n",
       "AACTGTAGGC     0.7816\n",
       "GCCCTGTAGG     0.6607\n",
       "ACCTGTAGGC     0.6029\n",
       "CGCTGTAGGC     0.5944\n",
       "ATCTGTAGGC     0.5868\n",
       "GTCTGTAGGC     0.5458\n",
       "GGCACCATCA     0.5255\n",
       "ACACTGTAGG     0.5028\n",
       "               ...   \n",
       "CGTAGGGCCA     0.0001\n",
       "GTCTTGGAGG     0.0001\n",
       "CGTAGGGCGC     0.0001\n",
       "GTCTTGAAGG     0.0001\n",
       "CGTAGGTACA     0.0001\n",
       "CGTAGGTACC     0.0001\n",
       "CGTATCTGTA     0.0001\n",
       "GTCTTCTGTA     0.0001\n",
       "CGTATGCAGT     0.0001\n",
       "GTCTTCTGGC     0.0001\n",
       "CGTATGCCGG     0.0001\n",
       "GTCTTAGACA     0.0001\n",
       "CGTATGCGGT     0.0001\n",
       "CGTATGCTCC     0.0001\n",
       "CGTATGCTGT     0.0001\n",
       "CGTATGGAGC     0.0001\n",
       "GTCTGTTAGG     0.0001\n",
       "CGTCAAGAAA     0.0001\n",
       "CGTCACGCCT     0.0001\n",
       "CGTCACTGTA     0.0001\n",
       "CGTCCCCCGT     0.0001\n",
       "GTCTGTATGC     0.0001\n",
       "CGTCCTCTGT     0.0001\n",
       "CGTCCTGAAG     0.0001\n",
       "CGTCCTGCAG     0.0001\n",
       "CGTCCTGGAG     0.0001\n",
       "CGTCCTGGCT     0.0001\n",
       "GTCTGTACGC     0.0001\n",
       "GTCTGTAAGC     0.0001\n",
       "GAACTGTTGG     0.0001\n",
       "Length: 14459, dtype: float64"
      ]
     },
     "execution_count": 25,
     "metadata": {},
     "output_type": "execute_result"
    }
   ],
   "source": [
    "histograms['raw_truseq_weird'][10]\n",
    "# 10:        CTGTAGGCAC\n",
    "# 11:        CTGTAGGCACC\n",
    "#Illumina:   AGATCGGAAGAGC\n",
    "#Small RNA:  TGGAATTCTCGG\n",
    "#Nextera:    CTGTCTCTTATA\n",
    "#AGATCGGAAGAGCACACGTCT"
   ]
  },
  {
   "cell_type": "code",
   "execution_count": 18,
   "metadata": {},
   "outputs": [
    {
     "data": {
      "text/plain": [
       "5     1.133455\n",
       "6     1.127641\n",
       "7     1.136707\n",
       "8     1.135828\n",
       "9     1.127519\n",
       "10    1.746266\n",
       "11    1.818127\n",
       "12    1.409392\n",
       "13    1.146468\n",
       "14    1.162258\n",
       "15    1.140987\n",
       "16    1.136927\n",
       "17    1.135629\n",
       "18    1.135894\n",
       "19    1.135178\n",
       "20    1.139921\n",
       "21    1.135388\n",
       "22    1.135864\n",
       "23    1.136040\n",
       "24    1.136891\n",
       "25    1.140992\n",
       "26    1.134864\n",
       "27    1.135690\n",
       "28    1.136233\n",
       "29    1.133185\n",
       "30    1.134025\n",
       "dtype: float64"
      ]
     },
     "execution_count": 18,
     "metadata": {},
     "output_type": "execute_result"
    }
   ],
   "source": [
    "ratios['raw_truseq_weird']"
   ]
  },
  {
   "cell_type": "code",
   "execution_count": 8,
   "metadata": {},
   "outputs": [
    {
     "data": {
      "text/plain": [
       "[<matplotlib.lines.Line2D at 0x2ac89bccd588>]"
      ]
     },
     "execution_count": 8,
     "metadata": {},
     "output_type": "execute_result"
    },
    {
     "data": {
      "image/png": "[encoded data removed]",
      "text/plain": [
       "<Figure size 432x288 with 1 Axes>"
      ]
     },
     "metadata": {
      "needs_background": "light"
     },
     "output_type": "display_data"
    }
   ],
   "source": [
    "plt.plot(ratios['13nt'].index, ratios['13nt'].values)"
   ]
  },
  {
   "cell_type": "code",
   "execution_count": 9,
   "metadata": {},
   "outputs": [
    {
     "data": {
      "text/plain": [
       "[<matplotlib.lines.Line2D at 0x2ac89d4bd320>]"
      ]
     },
     "execution_count": 9,
     "metadata": {},
     "output_type": "execute_result"
    },
    {
     "data": {
      "image/png": "[encoded data removed]",
      "text/plain": [
       "<Figure size 432x288 with 1 Axes>"
      ]
     },
     "metadata": {
      "needs_background": "light"
     },
     "output_type": "display_data"
    }
   ],
   "source": [
    "plt.plot(ratios['13nt_post_trimming'].index, ratios['13nt_post_trimming'].values)"
   ]
  },
  {
   "cell_type": "code",
   "execution_count": 10,
   "metadata": {},
   "outputs": [
    {
     "data": {
      "text/plain": [
       "[<matplotlib.lines.Line2D at 0x2ac89cf61780>]"
      ]
     },
     "execution_count": 10,
     "metadata": {},
     "output_type": "execute_result"
    },
    {
     "data": {
      "image/png": "[encoded data removed]",
      "text/plain": [
       "<Figure size 432x288 with 1 Axes>"
      ]
     },
     "metadata": {
      "needs_background": "light"
     },
     "output_type": "display_data"
    }
   ],
   "source": [
    "plt.plot(ratios['17nt_post_trimming'].index, ratios['17nt_post_trimming'].values)"
   ]
  },
  {
   "cell_type": "code",
   "execution_count": 11,
   "metadata": {},
   "outputs": [
    {
     "data": {
      "text/plain": [
       "[<matplotlib.lines.Line2D at 0x2ac89cd112e8>]"
      ]
     },
     "execution_count": 11,
     "metadata": {},
     "output_type": "execute_result"
    },
    {
     "data": {
      "image/png": "[encoded data removed]",
      "text/plain": [
       "<Figure size 432x288 with 1 Axes>"
      ]
     },
     "metadata": {
      "needs_background": "light"
     },
     "output_type": "display_data"
    }
   ],
   "source": [
    "plt.plot(ratios['17nt'].index, ratios['17nt'].values)"
   ]
  },
  {
   "cell_type": "markdown",
   "metadata": {},
   "source": [
    "# A Dataset with 17nt adapter\n",
    "\n",
    "The adapter for this dataset is 17nt long: CTGTAGGCACCATCAAT\n",
    "We will first consider looking at the raw fastq to see if we find any enriched sequences.\n"
   ]
  },
  {
   "cell_type": "code",
   "execution_count": 5,
   "metadata": {},
   "outputs": [
    {
     "data": {
      "text/plain": [
       "CACCATCAATAGATCGG    13.1623\n",
       "GCACCATCAATAGATCG    13.0374\n",
       "AGGCACCATCAATAGAT    12.9194\n",
       "GGCACCATCAATAGATC    12.8873\n",
       "ACCATCAATAGATCGGA     7.7049\n",
       "TAGGCACCATCAATAGA     6.1639\n",
       "dtype: float64"
      ]
     },
     "execution_count": 5,
     "metadata": {},
     "output_type": "execute_result"
    }
   ],
   "source": [
    "get_top_kmers(histograms['17nt'][17])\n",
    "#AGATCGGAAGAGC\n",
    "#CACCATCAATAGATCGG"
   ]
  },
  {
   "cell_type": "markdown",
   "metadata": {},
   "source": [
    "There does seem to be enrichment of some 17nt sequences (collpasing them on Levenshtein distance will lead to one sequence being >50%)"
   ]
  },
  {
   "cell_type": "code",
   "execution_count": 6,
   "metadata": {},
   "outputs": [
    {
     "data": {
      "text/plain": [
       "CTGTAGGCACCATCAAT    55.4321\n",
       "CTGTAGGCCCCATCAAT     9.0573\n",
       "GACCCGGTGAGGCGGGG     3.8465\n",
       "dtype: float64"
      ]
     },
     "execution_count": 6,
     "metadata": {},
     "output_type": "execute_result"
    }
   ],
   "source": [
    "get_top_kmers(histograms['17nt_post_trimming'][17])"
   ]
  },
  {
   "cell_type": "markdown",
   "metadata": {},
   "source": [
    "This should also highlight the need to trim twice. Let's look at the original 17nt enrichment sequence (before anytrimming). The top sequence is:\n",
    "\n",
    "CACCATCAATAGATCGG. Looking closely, it should not be difficult to realize that there is illumina standard adapter (`AGATCGGAAGAGC`) thrown somewhere in between.\n",
    "\n",
    "CACCATCAAT**AGATCGG**. So trimming gets rid of these partial adapters and the rest of the overrepresented sequence shows enrichment, which is not so clear\n",
    "without trimming.\n",
    "\n",
    "To make sure 17nt indeed is the adapter, we can go one nucleotide up:\n"
   ]
  },
  {
   "cell_type": "code",
   "execution_count": 7,
   "metadata": {},
   "outputs": [
    {
     "data": {
      "text/plain": [
       "GCTGTAGGCACCATCAAT    22.4646\n",
       "TCTGTAGGCACCATCAAT    11.7972\n",
       "CCTGTAGGCACCATCAAT    11.4453\n",
       "ACTGTAGGCACCATCAAT     9.7249\n",
       "GCTGTAGGCCCCATCAAT     4.9783\n",
       "TGACCCGGTGAGGCGGGG     3.8444\n",
       "ACTGACCCGGTGAGGCGG     1.9585\n",
       "TCTGTAGGCCCCATCAAT     1.4981\n",
       "CCTGTAGGCCCCATCAAT     1.4754\n",
       "dtype: float64"
      ]
     },
     "execution_count": 7,
     "metadata": {},
     "output_type": "execute_result"
    }
   ],
   "source": [
    "get_top_kmers(histograms['17nt_post_trimming'][18])"
   ]
  },
  {
   "cell_type": "markdown",
   "metadata": {},
   "source": [
    "# Dataset with 13nt adapter\n",
    "\n",
    "Let's try do do the same with a fastq where we know the adpter is 13 nt long.\n"
   ]
  },
  {
   "cell_type": "code",
   "execution_count": 8,
   "metadata": {},
   "outputs": [
    {
     "data": {
      "text/plain": [
       "AAGAGCACACGTC    16.1245\n",
       "AGAGCACACGTCT    14.1972\n",
       "GAGCACACGTCTG     9.9697\n",
       "GAAGAGCACACGT     9.1139\n",
       "AGCACACGTCTGA     8.7303\n",
       "GGAAGAGCACACG     8.2685\n",
       "dtype: float64"
      ]
     },
     "execution_count": 8,
     "metadata": {},
     "output_type": "execute_result"
    }
   ],
   "source": [
    "get_top_kmers(histograms['13nt'][13])\n"
   ]
  },
  {
   "cell_type": "markdown",
   "metadata": {},
   "source": [
    "Again, the first four sequences are essentially within a Levenshtein distance of 1-2nt.\n"
   ]
  },
  {
   "cell_type": "code",
   "execution_count": 9,
   "metadata": {},
   "outputs": [
    {
     "data": {
      "text/plain": [
       "GAAGAGCACACGTC    16.1145\n",
       "AAGAGCACACGTCT    14.1804\n",
       "AGAGCACACGTCTG     9.9658\n",
       "GGAAGAGCACACGT     9.1067\n",
       "GAGCACACGTCTGA     8.7169\n",
       "CGGAAGAGCACACG     8.2564\n",
       "dtype: float64"
      ]
     },
     "execution_count": 9,
     "metadata": {},
     "output_type": "execute_result"
    }
   ],
   "source": [
    "get_top_kmers(histograms['13nt'][14])\n"
   ]
  },
  {
   "cell_type": "code",
   "execution_count": 10,
   "metadata": {},
   "outputs": [
    {
     "data": {
      "text/plain": [
       "GGAAGAGCACACGTC    16.1013\n",
       "GAAGAGCACACGTCT    14.1736\n",
       "AAGAGCACACGTCTG     9.9550\n",
       "CGGAAGAGCACACGT     9.0890\n",
       "AGAGCACACGTCTGA     8.7135\n",
       "TCGGAAGAGCACACG     8.2518\n",
       "dtype: float64"
      ]
     },
     "execution_count": 10,
     "metadata": {},
     "output_type": "execute_result"
    }
   ],
   "source": [
    "get_top_kmers(histograms['13nt'][15])\n"
   ]
  },
  {
   "cell_type": "code",
   "execution_count": 11,
   "metadata": {},
   "outputs": [
    {
     "data": {
      "text/plain": [
       "TCGGAAGAGCACACGTC    16.0734\n",
       "CGGAAGAGCACACGTCT    14.1419\n",
       "GGAAGAGCACACGTCTG     9.9349\n",
       "ATCGGAAGAGCACACGT     9.0782\n",
       "GAAGAGCACACGTCTGA     8.6985\n",
       "GATCGGAAGAGCACACG     8.2462\n",
       "dtype: float64"
      ]
     },
     "execution_count": 11,
     "metadata": {},
     "output_type": "execute_result"
    }
   ],
   "source": [
    "get_top_kmers(histograms['13nt'][17])\n"
   ]
  },
  {
   "cell_type": "code",
   "execution_count": 12,
   "metadata": {},
   "outputs": [
    {
     "data": {
      "text/plain": [
       "AGATCGGAAGAGCACACGTC    16.0616\n",
       "GATCGGAAGAGCACACGTCT    14.1262\n",
       "ATCGGAAGAGCACACGTCTG     9.9163\n",
       "TCGGAAGAGCACACGTCTGA     8.6758\n",
       "CGGAAGAGCACACGTCTGAA     4.6175\n",
       "GGAAGAGCACACGTCTGAAC     4.1324\n",
       "GAGATCGGAAGAGCACACGT     3.3973\n",
       "AAGATCGGAAGAGCACACGT     2.2540\n",
       "GAAGATCGGAAGAGCACACG     2.2406\n",
       "TAGATCGGAAGAGCACACGT     2.1943\n",
       "GAAGAGCACACGTCTGAACT     1.9141\n",
       "dtype: float64"
      ]
     },
     "execution_count": 12,
     "metadata": {},
     "output_type": "execute_result"
    }
   ],
   "source": [
    "get_top_kmers(histograms['13nt'][20])\n"
   ]
  },
  {
   "cell_type": "code",
   "execution_count": 13,
   "metadata": {},
   "outputs": [
    {
     "data": {
      "text/plain": [
       "AGATCGGAAGAGCACACGTCT    14.1236\n",
       "GATCGGAAGAGCACACGTCTG     9.9142\n",
       "ATCGGAAGAGCACACGTCTGA     8.6733\n",
       "AAGATCGGAAGAGCACACGTC     6.2070\n",
       "TAGATCGGAAGAGCACACGTC     4.6852\n",
       "TCGGAAGAGCACACGTCTGAA     4.6157\n",
       "CGGAAGAGCACACGTCTGAAC     4.1277\n",
       "GAGATCGGAAGAGCACACGTC     3.5576\n",
       "GGAAGAGCACACGTCTGAACT     1.9112\n",
       "GAAGATCGGAAGAGCACACGT     1.7736\n",
       "CAGATCGGAAGAGCACACGTC     1.6118\n",
       "ATTAGATCGGAAGAGCACACG     1.5639\n",
       "TTAGATCGGAAGAGCACACGT     1.4197\n",
       "GGAGATCGGAAGAGCACACGT     1.3926\n",
       "GAAGAGCACACGTCTGAACTC     1.0232\n",
       "CGAGATCGGAAGAGCACACGT     0.9139\n",
       "TGAAAGATCGGAAGAGCACAC     0.8508\n",
       "TGAAGATCGGAAGAGCACACG     0.8373\n",
       "AGAGATCGGAAGAGCACACGT     0.7603\n",
       "dtype: float64"
      ]
     },
     "execution_count": 13,
     "metadata": {},
     "output_type": "execute_result"
    }
   ],
   "source": [
    "get_top_kmers(histograms['13nt'][21])\n"
   ]
  },
  {
   "cell_type": "markdown",
   "metadata": {},
   "source": [
    "Again, not sure where should we stop. Let's do this on the trimmed dataset"
   ]
  },
  {
   "cell_type": "code",
   "execution_count": 14,
   "metadata": {},
   "outputs": [
    {
     "data": {
      "text/plain": [
       "GAGCG    7.8018\n",
       "AGCGA    7.0808\n",
       "GGCTT    5.6907\n",
       "CTGGG    3.1384\n",
       "TGGGG    2.9078\n",
       "dtype: float64"
      ]
     },
     "execution_count": 14,
     "metadata": {},
     "output_type": "execute_result"
    }
   ],
   "source": [
    "get_top_kmers(histograms['13nt_post_trimming'][5])[0:5]\n"
   ]
  },
  {
   "cell_type": "markdown",
   "metadata": {},
   "source": [
    "It look's good now. This doesn't require a second pass at trimming!"
   ]
  },
  {
   "cell_type": "code",
   "execution_count": null,
   "metadata": {},
   "outputs": [],
   "source": []
  }
 ],
 "metadata": {
  "kernelspec": {
   "display_name": "Python (riboraptor_clean)",
   "language": "python",
   "name": "riboraptor_clean"
  },
  "language_info": {
   "codemirror_mode": {
    "name": "ipython",
    "version": 3
   },
   "file_extension": ".py",
   "mimetype": "text/x-python",
   "name": "python",
   "nbconvert_exporter": "python",
   "pygments_lexer": "ipython3",
   "version": "3.5.5"
  }
 },
 "nbformat": 4,
 "nbformat_minor": 2
}
