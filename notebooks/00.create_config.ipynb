{
 "cells": [
  {
   "cell_type": "code",
   "execution_count": 1,
   "metadata": {},
   "outputs": [],
   "source": [
    "import os\n",
    "import sys\n"
   ]
  },
  {
   "cell_type": "code",
   "execution_count": 3,
   "metadata": {},
   "outputs": [
    {
     "data": {
      "text/plain": [
       "[\"RAWDATA_DIR = '/staging/as/skchoudh/re-ribo-datasets/hg38/'\\n\",\n",
       " \"OUT_DIR = '/staging/as/skchoudh/re-ribo-analysis/hg38/'\\n\",\n",
       " \"GENOME_FASTA = '/home/cmb-panasas2/skchoudh/genomes/hg38/fasta/Homo_sapiens.GRCh38.dna_sm.primary_assembly.fa'\\n\",\n",
       " \"CHROM_SIZES = '/home/cmb-panasas2/skchoudh/genomes/hg38/fasta/Homo_sapiens.GRCh38.dna_sm.primary_assembly.sizes'\\n\",\n",
       " \"STAR_INDEX = '/home/cmb-panasas2/skchoudh/genomes/hg38/star_annotated_ribopod'\\n\",\n",
       " \"GTF_VERSION = 'v96'\\n\",\n",
       " \"GTF = '/home/cmb-panasas2/skchoudh/genomes/hg38/annotation/Homo_sapiens.GRCh38.96.gtf'\\n\",\n",
       " \"GENE_BED = '/home/cmb-panasas2/skchoudh/github_projects/riboraptor/riboraptor/annotation/hg38/v96/gene.bed.gz'\\n\",\n",
       " \"STAR_CODON_BED = '/home/cmb-panasas2/skchoudh/github_projects/riboraptor/riboraptor/annotation/hg38/v96/start_codon.bed.gz'\\n\",\n",
       " \"STOP_CODON_BED = '/home/cmb-panasas2/skchoudh/github_projects/riboraptor/riboraptor/annotation/hg38/v96/stop_codon.bed.gz'\\n\",\n",
       " \"CDS_BED = '/home/cmb-panasas2/skchoudh/github_projects/riboraptor/riboraptor/annotation/hg38/v96/cds.bed.gz'\\n\",\n",
       " \"UTR5_BED = '/home/cmb-panasas2/skchoudh/github_projects/riboraptor/riboraptor/annotation/hg38/v96/utr5.bed.gz'\\n\",\n",
       " \"UTR3_BED = '/home/cmb-panasas2/skchoudh/github_projects/riboraptor/riboraptor/annotation/hg38/v96/utr3.bed.gz'\\n\",\n",
       " \"INTRON_BED = '/home/cmb-panasas2/skchoudh/github_projects/riboraptor/riboraptor/annotation/hg38/v96/intron.bed.gz'\\n\",\n",
       " \"ORIENTATIONS = ['5prime', '3prime']\\n\",\n",
       " \"STRANDS = ['pos', 'neg', 'combined']\\n\",\n",
       " 'FRAGMENT_LENGTHS =  range(18, 39)\\n',\n",
       " \"RIBOTRICER_ANNOTATION_PREFIX = '/home/cmb-06/as/skchoudh/genomes/hg38/ribotricer_v96_annotation_longest'\\n\"]"
      ]
     },
     "execution_count": 3,
     "metadata": {},
     "output_type": "execute_result"
    }
   ],
   "source": [
    "hg38_template = open('/home/cmb-panasas2/skchoudh/github_projects/re-ribo-smk/snakemake/configs/hg38_template.py').readlines()\n",
    "hg38_template"
   ]
  },
  {
   "cell_type": "code",
   "execution_count": 11,
   "metadata": {},
   "outputs": [],
   "source": [
    "srp_ids = 'SRP067300 SRP044932 SRP044937 SRP065528 SRP065530 SRP065529 SRP044933 SRP059548 SRP083699'.split(' ')\n",
    "download_dir = '/staging/as/skchoudh/pysradb_downloads/'\n",
    "dest_dir = '/staging/as/skchoudh/re-ribo-datasets/hg38/'\n",
    "for srp_id in srp_ids:\n",
    "    if os.path.isdir(download_dir + srp_id):\n",
    "        try:\n",
    "            os.symlink(download_dir + srp_id, dest_dir + srp_id)\n",
    "        except:\n",
    "            pass\n",
    "    with open('/home/cmb-panasas2/skchoudh/github_projects/re-ribo-smk/snakemake/configs/hg38_{}.py'.format(srp_id), 'w') as fh:\n",
    "        for index, line in enumerate(hg38_template):\n",
    "            line = line.strip()\n",
    "            if index in [0,1]:\n",
    "                line= line.rstrip(\"'\")+srp_id + \"'\"\n",
    "            fh.write('{}\\n'.format(line))\n",
    "            \n",
    "        "
   ]
  },
  {
   "cell_type": "code",
   "execution_count": 15,
   "metadata": {},
   "outputs": [],
   "source": [
    "mm10_template = open('/home/cmb-panasas2/skchoudh/github_projects/re-ribo-smk/snakemake/configs/mm10_template.py').readlines()\n",
    "srp_ids = 'SRP065547 SRP059282 SRP045893 SRP061564 ERP013565 SRP070655 SRP076093 SRP062409 SRP078005 ERP019506 SRP098700 SRP077043'.split(' ')\n",
    "download_dir = '/staging/as/skchoudh/pysradb_downloads/'\n",
    "dest_dir = '/staging/as/skchoudh/re-ribo-datasets/mm10/'\n",
    "for srp_id in srp_ids:\n",
    "    if os.path.isdir(download_dir + srp_id):\n",
    "        try:\n",
    "            os.symlink(download_dir + srp_id, dest_dir + srp_id)\n",
    "        except:\n",
    "            pass\n",
    "    with open('/home/cmb-panasas2/skchoudh/github_projects/re-ribo-smk/snakemake/configs/mm10_{}.py'.format(srp_id), 'w') as fh:\n",
    "        for index, line in enumerate(mm10_template):\n",
    "            line = line.strip()\n",
    "            if index in [0,1]:\n",
    "                line= line.rstrip(\"'\")+srp_id + \"'\"\n",
    "            fh.write('{}\\n'.format(line))"
   ]
  },
  {
   "cell_type": "code",
   "execution_count": 4,
   "metadata": {},
   "outputs": [],
   "source": [
    "mm10_template = open('/home/cmb-panasas2/skchoudh/github_projects/re-ribo-smk/snakemake/configs/mm10_template.py').readlines()\n",
    "#srp_ids = 'SRP064304 SRP044873 SRP055150 SRP062407 SRP056576 SRP048708 SRP073116 ERP010521 ERP006983 SRP057991'.split(' ')\n",
    "srp_ids = 'SRP078005 ERP019506 SRP098700 SRP077043'.split(' ')\n",
    "\n",
    "download_dir = '/staging/as/skchoudh/pysradb_downloads/'\n",
    "dest_dir = '/staging/as/skchoudh/re-ribo-datasets/mm10/'\n",
    "for srp_id in srp_ids:\n",
    "    if os.path.isdir(download_dir + srp_id):\n",
    "        try:\n",
    "            os.symlink(download_dir + srp_id, dest_dir + srp_id)\n",
    "        except:\n",
    "            pass\n",
    "        with open('/home/cmb-panasas2/skchoudh/github_projects/re-ribo-smk/snakemake/configs/mm10_{}.py'.format(srp_id), 'w') as fh:\n",
    "            for index, line in enumerate(mm10_template):\n",
    "                line = line.strip()\n",
    "                if index in [0,1]:\n",
    "                    line= line.rstrip(\"'\")+srp_id + \"'\"\n",
    "                fh.write('{}\\n'.format(line))"
   ]
  },
  {
   "cell_type": "code",
   "execution_count": 28,
   "metadata": {},
   "outputs": [],
   "source": [
    "grcz11_template = open('/home/cmb-panasas2/skchoudh/github_projects/re-ribo-smk/snakemake/configs/GRCz11_template.py').readlines()\n",
    "build = 'GRCz11'\n",
    "#srp_ids = 'SRP010040 SRP023492 SRP021915 SRP034750 SRP033369 SRP010040 SRP034750'.split(' ')\n",
    "srp_ids = 'SRP009426 ERP008887'.split(' ')\n",
    "download_dir = '/staging/as/skchoudh/pysradb_downloads/'\n",
    "dest_dir = '/staging/as/skchoudh/re-ribo-datasets/{}/'.format(build)\n",
    "for srp_id in srp_ids:\n",
    "    if os.path.isdir(download_dir + srp_id):\n",
    "        try:\n",
    "            os.symlink(download_dir + srp_id, dest_dir + srp_id)\n",
    "        except:\n",
    "            pass\n",
    "        with open('/home/cmb-panasas2/skchoudh/github_projects/re-ribo-smk/snakemake/configs/{}_{}.py'.format(build, srp_id), 'w') as fh:\n",
    "            for index, line in enumerate(grcz11_template):\n",
    "                line = line.strip()\n",
    "                if index in [0,1]:\n",
    "                    line= line.rstrip(\"'\")+srp_id + \"'\"\n",
    "                fh.write('{}\\n'.format(line))"
   ]
  },
  {
   "cell_type": "code",
   "execution_count": 5,
   "metadata": {},
   "outputs": [],
   "source": [
    "hg38_template = open('/home/cmb-panasas2/skchoudh/github_projects/re-ribo-smk/snakemake/configs/hg38_template.py').readlines()\n",
    "#srp_ids = 'SRP022049 SRP052229 SRP060676 SRP068967 SRP068977 SRP069008 SRP069011 SRP071216 SRP072459 SRP093314 SRP059825'.split(' ')\n",
    "srp_ids = 'ERP006990 SRP055009 SRP049527 ERP008887 ERP005378 SRP059187 SRP071232 SRP071235 SRP073116 SRP072710 SRP076102 SRP044064 SRP064313 SRP082436 SRP022049'.split(' ')\n",
    "\n",
    "\n",
    "\n",
    "download_dir = '/staging/as/skchoudh/pysradb_downloads/'\n",
    "dest_dir = '/staging/as/skchoudh/re-ribo-datasets/hg38/'\n",
    "for srp_id in srp_ids:\n",
    "    if os.path.isdir(download_dir + srp_id):\n",
    "        try:\n",
    "            os.symlink(download_dir + srp_id, dest_dir + srp_id)\n",
    "        except:\n",
    "            pass\n",
    "        with open('/home/cmb-panasas2/skchoudh/github_projects/re-ribo-smk/snakemake/configs/hg38_{}.py'.format(srp_id), 'w') as fh:\n",
    "            for index, line in enumerate(hg38_template):\n",
    "                line = line.strip()\n",
    "                if index in [0,1]:\n",
    "                    line= line.rstrip(\"'\")+srp_id + \"'\"\n",
    "                fh.write('{}\\n'.format(line))"
   ]
  },
  {
   "cell_type": "code",
   "execution_count": null,
   "metadata": {},
   "outputs": [],
   "source": []
  },
  {
   "cell_type": "code",
   "execution_count": 2,
   "metadata": {},
   "outputs": [
    {
     "name": "stdout",
     "output_type": "stream",
     "text": [
      "d\n"
     ]
    }
   ],
   "source": [
    "r64_template = open('/home/cmb-panasas2/skchoudh/github_projects/re-ribo-smk/snakemake/configs/R64_template.py').readlines()\n",
    "#srp_ids = 'SRP000637 SRP043036 SRP082570 SRP075766 SRP009639'.split(' ')\n",
    "#srp_ids = 'SRP072363 SRP094671 SRP033885 SRP033499 SRP030453 SRP028614 SRP019833 SRP034076 SRP028552 SRP043036'.split(' ')\n",
    "#srp_ids = 'SRP091454 SRP066576 SRP065322 SRP079402 SRP075785 SRP080744 SRP067514 SRP076093 SRP074750 SRP047486 SRP082204  SRP094800  SRP127274 SRP093312  SRP059872 SRP105412 SRP110707 SRP090827'.split(' ')\n",
    "srp_ids = 'SRP038992 SRP016508 SRP051314 SRP009836 SRP046015 SRP046016 SRP041039 SRP031837 SRP044649 SRP050443 SRP055707 SRP056647 SRP133282'.split(' ')\n",
    "\n",
    "download_dir = '/staging/as/skchoudh/pysradb_downloads/'\n",
    "dest_dir = '/staging/as/skchoudh/re-ribo-datasets/R64-1-1/'\n",
    "\n",
    "for srp_id in srp_ids:\n",
    "    if os.path.isdir(download_dir + srp_id):\n",
    "        print('d')\n",
    "        try:\n",
    "            os.symlink(download_dir + srp_id, dest_dir + srp_id)\n",
    "        except:\n",
    "            print('NOthing found?')\n",
    "        \n",
    "        with open('/home/cmb-panasas2/skchoudh/github_projects/re-ribo-smk/snakemake/configs/R64_{}.py'.format(srp_id), 'w') as fh:\n",
    "            for index, line in enumerate(r64_template):\n",
    "                line = line.strip()\n",
    "                if index in [0,1]:\n",
    "                    line= line.rstrip(\"'\")+srp_id + \"'\"\n",
    "                fh.write('{}\\n'.format(line))"
   ]
  },
  {
   "cell_type": "code",
   "execution_count": 34,
   "metadata": {},
   "outputs": [
    {
     "name": "stdout",
     "output_type": "stream",
     "text": [
      "d\n",
      "NOthing found?\n",
      "d\n",
      "NOthing found?\n",
      "d\n",
      "NOthing found?\n",
      "d\n",
      "NOthing found?\n",
      "d\n",
      "NOthing found?\n",
      "d\n",
      "NOthing found?\n",
      "d\n",
      "NOthing found?\n",
      "d\n",
      "NOthing found?\n",
      "d\n",
      "NOthing found?\n"
     ]
    }
   ],
   "source": [
    "tair10_template = open('/home/cmb-panasas2/skchoudh/github_projects/re-ribo-smk/snakemake/configs/TAIR10_template.py').readlines()\n",
    "#srp_ids = 'SRP074840 SRP087624'.split(' ')\n",
    "srp_ids = 'SRP029587 SRP018118 SRP072200 SRP059391 SRP091588 SRP074779 SRP108862 SRP106557 SRP078079'.split(' ')\n",
    "download_dir = '/staging/as/skchoudh/pysradb_downloads/'\n",
    "dest_dir = '/staging/as/skchoudh/re-ribo-datasets/TAIR10/'\n",
    "\n",
    "for srp_id in srp_ids:\n",
    "    if os.path.isdir(download_dir + srp_id):\n",
    "        print('d')\n",
    "        try:\n",
    "            os.symlink(download_dir + srp_id, dest_dir + srp_id)\n",
    "        except:\n",
    "            print('NOthing found?')\n",
    "    with open('/home/cmb-panasas2/skchoudh/github_projects/re-ribo-smk/snakemake/configs/TAIR10_{}.py'.format(srp_id), 'w') as fh:\n",
    "        for index, line in enumerate(tair10_template):\n",
    "            line = line.strip()\n",
    "            if index in [0,1]:\n",
    "                line= line.rstrip(\"'\")+srp_id + \"'\"\n",
    "            fh.write('{}\\n'.format(line))\n"
   ]
  },
  {
   "cell_type": "code",
   "execution_count": 32,
   "metadata": {},
   "outputs": [
    {
     "name": "stdout",
     "output_type": "stream",
     "text": [
      "d\n",
      "NOthing found?\n",
      "d\n",
      "NOthing found?\n",
      "d\n",
      "NOthing found?\n",
      "d\n",
      "NOthing found?\n",
      "d\n",
      "NOthing found?\n"
     ]
    }
   ],
   "source": [
    "ASM294v2_template = open('/home/cmb-panasas2/skchoudh/github_projects/re-ribo-smk/snakemake/configs/ASM294v2_template.py').readlines()\n",
    "srp_ids = 'SRP107240 SRP033369 ERP004523 ERP004657 ERP023328'.split(' ')\n",
    "\n",
    "download_dir = '/staging/as/skchoudh/pysradb_downloads/'\n",
    "dest_dir = '/staging/as/skchoudh/re-ribo-datasets/ASM294v2/'\n",
    "for srp_id in srp_ids:\n",
    "    if os.path.isdir(download_dir + srp_id):\n",
    "        print('d')\n",
    "        try:\n",
    "            os.symlink(download_dir + srp_id, dest_dir + srp_id)\n",
    "        except:\n",
    "            print('NOthing found?')\n",
    "    with open('/home/cmb-panasas2/skchoudh/github_projects/re-ribo-smk/snakemake/configs/ASM294v2_{}.py'.format(srp_id), 'w') as fh:\n",
    "        for index, line in enumerate(ASM294v2_template):\n",
    "            line = line.strip()\n",
    "            if index in [0,1]:\n",
    "                line= line.rstrip(\"'\")+srp_id + \"'\"\n",
    "            fh.write('{}\\n'.format(line))\n"
   ]
  },
  {
   "cell_type": "code",
   "execution_count": 15,
   "metadata": {},
   "outputs": [
    {
     "name": "stdout",
     "output_type": "stream",
     "text": [
      "d\n",
      "NOthing found?\n",
      "d\n",
      "NOthing found?\n",
      "d\n",
      "NOthing found?\n",
      "d\n",
      "NOthing found?\n",
      "d\n",
      "NOthing found?\n",
      "d\n",
      "NOthing found?\n",
      "d\n",
      "NOthing found?\n",
      "d\n",
      "NOthing found?\n",
      "d\n",
      "NOthing found?\n",
      "d\n",
      "NOthing found?\n",
      "d\n",
      "NOthing found?\n",
      "d\n",
      "NOthing found?\n",
      "d\n",
      "NOthing found?\n",
      "d\n",
      "NOthing found?\n",
      "d\n",
      "NOthing found?\n",
      "d\n",
      "NOthing found?\n",
      "d\n",
      "NOthing found?\n",
      "d\n",
      "NOthing found?\n",
      "d\n",
      "NOthing found?\n",
      "d\n",
      "NOthing found?\n",
      "d\n",
      "NOthing found?\n",
      "d\n",
      "NOthing found?\n",
      "d\n",
      "NOthing found?\n",
      "d\n",
      "NOthing found?\n"
     ]
    }
   ],
   "source": [
    "ASM584v2_template = open('/home/cmb-panasas2/skchoudh/github_projects/re-ribo-smk/snakemake/configs/ASM584v2_template.py').readlines()\n",
    "#srp_ids = 'SRP069339 SRP009321'.split(' ')\n",
    "srp_ids = 'SRP009321 SRP010825 SRP023499 SRP030123 SRP040770 SRP043387 SRP034871 SRP047380 SRP050548 SRP058200 SRP051520  SRP081474 SRP063562 SRP087486  SRP093644 SRP125609 SRP091515 SRP069339 SRP048921 SRP040142 ERP007009 DRP003075'.split(' ')\n",
    "\n",
    "download_dir = '/staging/as/skchoudh/pysradb_downloads/'\n",
    "dest_dir = '/staging/as/skchoudh/re-ribo-datasets/ASM584v2/'\n",
    "for srp_id in srp_ids:\n",
    "    if os.path.isdir(download_dir + srp_id):\n",
    "        print('d')\n",
    "        try:\n",
    "            os.symlink(download_dir + srp_id, dest_dir + srp_id)\n",
    "        except:\n",
    "            print('NOthing found?')\n",
    "        with open('/home/cmb-panasas2/skchoudh/github_projects/re-ribo-smk/snakemake/configs/ASM584v2_{}.py'.format(srp_id), 'w') as fh:\n",
    "            for index, line in enumerate(ASM584v2_template):\n",
    "                line = line.strip()\n",
    "                if index in [0,1]:\n",
    "                    line= line.rstrip(\"'\")+srp_id + \"'\"\n",
    "                fh.write('{}\\n'.format(line))\n"
   ]
  },
  {
   "cell_type": "code",
   "execution_count": 15,
   "metadata": {},
   "outputs": [
    {
     "name": "stdout",
     "output_type": "stream",
     "text": [
      "d\n"
     ]
    }
   ],
   "source": [
    "\n",
    "CriGri1_template = open('/home/cmb-panasas2/skchoudh/github_projects/re-ribo-smk/snakemake/configs/CriGri1_template.py').readlines()\n",
    "srp_ids = 'SRP072205'.split(' ')\n",
    "download_dir = '/staging/as/skchoudh/pysradb_downloads/'\n",
    "dest_dir = '/staging/as/skchoudh/re-ribo-datasets/CriGri_1.0/'\n",
    "for srp_id in srp_ids:\n",
    "    if os.path.isdir(download_dir + srp_id):\n",
    "        print('d')\n",
    "        try:\n",
    "            os.symlink(download_dir + srp_id, dest_dir + srp_id)\n",
    "        except:\n",
    "            print('NOthing found?')\n",
    "    with open('/home/cmb-panasas2/skchoudh/github_projects/re-ribo-smk/snakemake/configs/CriGri1_{}.py'.format(srp_id), 'w') as fh:\n",
    "        for index, line in enumerate(CriGri1_template):\n",
    "            line = line.strip()\n",
    "            if index in [0,1]:\n",
    "                line= line.rstrip(\"'\")+srp_id + \"'\"\n",
    "            fh.write('{}\\n'.format(line))\n"
   ]
  },
  {
   "cell_type": "code",
   "execution_count": 18,
   "metadata": {},
   "outputs": [
    {
     "name": "stdout",
     "output_type": "stream",
     "text": [
      "d\n"
     ]
    }
   ],
   "source": [
    "Epr1_template = open('/home/cmb-panasas2/skchoudh/github_projects/re-ribo-smk/snakemake/configs/Epr1_template.py').readlines()\n",
    "srp_ids = 'SRP069339'.split(' ')\n",
    "download_dir = '/staging/as/skchoudh/pysradb_downloads/'\n",
    "dest_dir = '/staging/as/skchoudh/re-ribo-datasets/Epr1/'\n",
    "for srp_id in srp_ids:\n",
    "    if os.path.isdir(download_dir + srp_id):\n",
    "        print('d')\n",
    "        try:\n",
    "            os.symlink(download_dir + srp_id, dest_dir + srp_id)\n",
    "        except:\n",
    "            print('NOthing found?')\n",
    "    with open('/home/cmb-panasas2/skchoudh/github_projects/re-ribo-smk/snakemake/configs/Epr1_{}.py'.format(srp_id), 'w') as fh:\n",
    "        for index, line in enumerate(Epr1_template):\n",
    "            line = line.strip()\n",
    "            if index in [0,1]:\n",
    "                line= line.rstrip(\"'\")+srp_id + \"'\"\n",
    "            fh.write('{}\\n'.format(line))\n"
   ]
  },
  {
   "cell_type": "code",
   "execution_count": 27,
   "metadata": {},
   "outputs": [
    {
     "name": "stdout",
     "output_type": "stream",
     "text": [
      "d\n",
      "NOthing found?\n",
      "d\n",
      "NOthing found?\n",
      "d\n"
     ]
    }
   ],
   "source": [
    "TryBruApr2005chr11_template = open('/home/cmb-panasas2/skchoudh/github_projects/re-ribo-smk/snakemake/configs/TryBruApr2005chr11_template.py').readlines()\n",
    "srp_ids = 'ERP004122 SRP041705 SRP062914'.split(' ')\n",
    "download_dir = '/staging/as/skchoudh/pysradb_downloads/'\n",
    "dest_dir = '/staging/as/skchoudh/re-ribo-datasets/TryBruApr2005chr11/'\n",
    "for srp_id in srp_ids:\n",
    "    if os.path.isdir(download_dir + srp_id):\n",
    "        print('d')\n",
    "        try:\n",
    "            os.symlink(download_dir + srp_id, dest_dir + srp_id)\n",
    "        except:\n",
    "            print('NOthing found?')\n",
    "    with open('/home/cmb-panasas2/skchoudh/github_projects/re-ribo-smk/snakemake/configs/TryBruApr2005chr11_{}.py'.format(srp_id), 'w') as fh:\n",
    "        for index, line in enumerate(TryBruApr2005chr11_template):\n",
    "            line = line.strip()\n",
    "            if index in [0,1]:\n",
    "                line= line.rstrip(\"'\")+srp_id + \"'\"\n",
    "            fh.write('{}\\n'.format(line))\n"
   ]
  },
  {
   "cell_type": "code",
   "execution_count": 31,
   "metadata": {},
   "outputs": [
    {
     "name": "stdout",
     "output_type": "stream",
     "text": [
      "d\n",
      "NOthing found?\n"
     ]
    }
   ],
   "source": [
    "JGI42_template = open('/home/cmb-panasas2/skchoudh/github_projects/re-ribo-smk/snakemake/configs/JGI42_template.py').readlines()\n",
    "srp_ids = 'SRP033369'.split(' ')\n",
    "download_dir = '/staging/as/skchoudh/pysradb_downloads/'\n",
    "dest_dir = '/staging/as/skchoudh/re-ribo-datasets/JGI_4.2/'\n",
    "for srp_id in srp_ids:\n",
    "    if os.path.isdir(download_dir + srp_id):\n",
    "        print('d')\n",
    "        try:\n",
    "            os.symlink(download_dir + srp_id, dest_dir + srp_id)\n",
    "        except:\n",
    "            print('NOthing found?')\n",
    "    with open('/home/cmb-panasas2/skchoudh/github_projects/re-ribo-smk/snakemake/configs/JGI42_{}.py'.format(srp_id), 'w') as fh:\n",
    "        for index, line in enumerate(JGI42_template):\n",
    "            line = line.strip()\n",
    "            if index in [0,1]:\n",
    "                line= line.rstrip(\"'\")+srp_id + \"'\"\n",
    "            fh.write('{}\\n'.format(line))\n"
   ]
  },
  {
   "cell_type": "code",
   "execution_count": 29,
   "metadata": {},
   "outputs": [
    {
     "name": "stdout",
     "output_type": "stream",
     "text": [
      "d\n",
      "NOthing found?\n",
      "d\n",
      "NOthing found?\n",
      "d\n",
      "NOthing found?\n"
     ]
    }
   ],
   "source": [
    "BDGP6_template = open('/home/cmb-panasas2/skchoudh/github_projects/re-ribo-smk/snakemake/configs/BDGP6_template.py').readlines()\n",
    "srp_ids = 'SRP045475 SRP076919 SRP033366'.split(' ')\n",
    "download_dir = '/staging/as/skchoudh/pysradb_downloads/'\n",
    "dest_dir = '/staging/as/skchoudh/re-ribo-datasets/BDGP6/'\n",
    "for srp_id in srp_ids:\n",
    "    if os.path.isdir(download_dir + srp_id):\n",
    "        print('d')\n",
    "        try:\n",
    "            os.symlink(download_dir + srp_id, dest_dir + srp_id)\n",
    "        except:\n",
    "            print('NOthing found?')\n",
    "    with open('/home/cmb-panasas2/skchoudh/github_projects/re-ribo-smk/snakemake/configs/BDGP6_{}.py'.format(srp_id), 'w') as fh:\n",
    "        for index, line in enumerate(BDGP6_template):\n",
    "            line = line.strip()\n",
    "            if index in [0,1]:\n",
    "                line= line.rstrip(\"'\")+srp_id + \"'\"\n",
    "            fh.write('{}\\n'.format(line))\n"
   ]
  },
  {
   "cell_type": "code",
   "execution_count": null,
   "metadata": {},
   "outputs": [],
   "source": []
  }
 ],
 "metadata": {
  "kernelspec": {
   "display_name": "Python 3",
   "language": "python",
   "name": "python3"
  },
  "language_info": {
   "codemirror_mode": {
    "name": "ipython",
    "version": 3
   },
   "file_extension": ".py",
   "mimetype": "text/x-python",
   "name": "python",
   "nbconvert_exporter": "python",
   "pygments_lexer": "ipython3",
   "version": "3.7.3"
  }
 },
 "nbformat": 4,
 "nbformat_minor": 4
}
