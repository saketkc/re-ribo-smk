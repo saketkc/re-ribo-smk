{
 "cells": [
  {
   "cell_type": "code",
   "execution_count": 19,
   "metadata": {},
   "outputs": [
    {
     "name": "stdout",
     "output_type": "stream",
     "text": [
      "Populating the interactive namespace from numpy and matplotlib\n",
      "The autoreload extension is already loaded. To reload it, use:\n",
      "  %reload_ext autoreload\n"
     ]
    }
   ],
   "source": [
    "%pylab inline\n",
    "%load_ext autoreload\n",
    "%autoreload 2\n",
    "\n",
    "import pandas as pd\n",
    "import os\n",
    "import re\n",
    "import fnmatch\n",
    "import errno    \n",
    "import json\n",
    "import glob\n",
    "from riboraptor.sradb import SRAdb\n",
    "from riboraptor.helpers import path_leaf\n",
    "from collections import defaultdict\n",
    "from riboraptor.utils import summary_starlogs_over_runs"
   ]
  },
  {
   "cell_type": "code",
   "execution_count": null,
   "metadata": {},
   "outputs": [],
   "source": [
    "summary_starlogs_over_runs('/staging/as/skchoudh/re-ribo-analysis/hg38/SRP017942/starlogs/')"
   ]
  },
  {
   "cell_type": "code",
   "execution_count": 4,
   "metadata": {},
   "outputs": [],
   "source": [
    "datasets = {}\n",
    "datasets['hg38'] = pd.read_excel('../data/datasets/re-ribo-datasets.xlsx', sheet_name='hg38')\n",
    "datasets['mm10'] = pd.read_excel('../data/datasets/re-ribo-datasets.xlsx', sheet_name='mm10')\n",
    "datasets['mm10'] = pd.read_excel('../data/datasets/re-ribo-datasets.xlsx', sheet_name='mm10')\n"
   ]
  },
  {
   "cell_type": "code",
   "execution_count": 5,
   "metadata": {},
   "outputs": [],
   "source": [
    "geodb = SRAdb('/staging/as/skchoudh/GEOmetadb.sqlite')\n",
    "sradb = SRAdb('/staging/as/skchoudh/SRAmetadb.sqlite')\n",
    "\n",
    "re_ribo_analysis_dir = '/staging/as/skchoudh/re-ribo-analysis/'"
   ]
  },
  {
   "cell_type": "code",
   "execution_count": 6,
   "metadata": {},
   "outputs": [
    {
     "data": {
      "text/html": [
       "<div>\n",
       "<style scoped>\n",
       "    .dataframe tbody tr th:only-of-type {\n",
       "        vertical-align: middle;\n",
       "    }\n",
       "\n",
       "    .dataframe tbody tr th {\n",
       "        vertical-align: top;\n",
       "    }\n",
       "\n",
       "    .dataframe thead th {\n",
       "        text-align: right;\n",
       "    }\n",
       "</style>\n",
       "<table border=\"1\" class=\"dataframe\">\n",
       "  <thead>\n",
       "    <tr style=\"text-align: right;\">\n",
       "      <th></th>\n",
       "      <th>ID</th>\n",
       "      <th>contact</th>\n",
       "      <th>contributor</th>\n",
       "      <th>gse</th>\n",
       "      <th>last_update_date</th>\n",
       "      <th>overall_design</th>\n",
       "      <th>pubmed_id</th>\n",
       "      <th>repeats</th>\n",
       "      <th>repeats_sample_list</th>\n",
       "      <th>status</th>\n",
       "      <th>submission_date</th>\n",
       "      <th>summary</th>\n",
       "      <th>supplementary_file</th>\n",
       "      <th>title</th>\n",
       "      <th>type</th>\n",
       "      <th>variable</th>\n",
       "      <th>variable_description</th>\n",
       "      <th>web_link</th>\n",
       "    </tr>\n",
       "  </thead>\n",
       "  <tbody>\n",
       "    <tr>\n",
       "      <th>0</th>\n",
       "      <td>19587.0</td>\n",
       "      <td>Name: Huili Guo;\\tEmail: hguo@mit.edu;\\tPhone:...</td>\n",
       "      <td>None</td>\n",
       "      <td>GSE22004</td>\n",
       "      <td>2013-06-07</td>\n",
       "      <td>Refer to individual Series.</td>\n",
       "      <td>20703300</td>\n",
       "      <td>None</td>\n",
       "      <td>None</td>\n",
       "      <td>Public on Aug 03 2010</td>\n",
       "      <td>2010-05-26</td>\n",
       "      <td>MicroRNAs (miRNAs) are endogenous ~22-nucleoti...</td>\n",
       "      <td>ftp://ftp.ncbi.nlm.nih.gov/geo/series/GSE22nnn...</td>\n",
       "      <td>Mammalian microRNAs predominantly act to decre...</td>\n",
       "      <td>Expression profiling by high throughput sequen...</td>\n",
       "      <td>None</td>\n",
       "      <td>None</td>\n",
       "      <td>None</td>\n",
       "    </tr>\n",
       "  </tbody>\n",
       "</table>\n",
       "</div>"
      ],
      "text/plain": [
       "        ID                                            contact contributor  \\\n",
       "0  19587.0  Name: Huili Guo;\\tEmail: hguo@mit.edu;\\tPhone:...        None   \n",
       "\n",
       "        gse last_update_date               overall_design  pubmed_id repeats  \\\n",
       "0  GSE22004       2013-06-07  Refer to individual Series.   20703300    None   \n",
       "\n",
       "  repeats_sample_list                 status submission_date  \\\n",
       "0                None  Public on Aug 03 2010      2010-05-26   \n",
       "\n",
       "                                             summary  \\\n",
       "0  MicroRNAs (miRNAs) are endogenous ~22-nucleoti...   \n",
       "\n",
       "                                  supplementary_file  \\\n",
       "0  ftp://ftp.ncbi.nlm.nih.gov/geo/series/GSE22nnn...   \n",
       "\n",
       "                                               title  \\\n",
       "0  Mammalian microRNAs predominantly act to decre...   \n",
       "\n",
       "                                                type variable  \\\n",
       "0  Expression profiling by high throughput sequen...     None   \n",
       "\n",
       "  variable_description web_link  \n",
       "0                 None     None  "
      ]
     },
     "execution_count": 6,
     "metadata": {},
     "output_type": "execute_result"
    }
   ],
   "source": [
    "geodb.get_query(\"SELECT * FROM gse WHERE gse='GSE22004'\")"
   ]
  },
  {
   "cell_type": "code",
   "execution_count": 7,
   "metadata": {},
   "outputs": [],
   "source": [
    "df = pd.read_html('../data/datasets/hrpdviewer.html')"
   ]
  },
  {
   "cell_type": "code",
   "execution_count": 8,
   "metadata": {},
   "outputs": [],
   "source": [
    "df = df[0].sort_values(by='Year')\n"
   ]
  },
  {
   "cell_type": "code",
   "execution_count": 12,
   "metadata": {},
   "outputs": [],
   "source": [
    "df['SRP'] = df['GEO number'].apply(lambda x: geodb.convert_gse_to_srp(x))"
   ]
  },
  {
   "cell_type": "code",
   "execution_count": 13,
   "metadata": {},
   "outputs": [
    {
     "name": "stderr",
     "output_type": "stream",
     "text": [
      "/home/cmb-panasas2/skchoudh/software_frozen/anaconda27/envs/riboraptor/lib/python3.5/site-packages/ipykernel/__main__.py:1: SettingWithCopyWarning: \n",
      "A value is trying to be set on a copy of a slice from a DataFrame.\n",
      "Try using .loc[row_indexer,col_indexer] = value instead\n",
      "\n",
      "See the caveats in the documentation: http://pandas.pydata.org/pandas-docs/stable/indexing.html#indexing-view-versus-copy\n",
      "  if __name__ == '__main__':\n"
     ]
    }
   ],
   "source": [
    "df[df['GEO number'].str.contains('SRP')]['SRP'] = df[df['GEO number'].str.contains('SRP')]['GEO number']"
   ]
  },
  {
   "cell_type": "code",
   "execution_count": 17,
   "metadata": {},
   "outputs": [],
   "source": [
    "df.to_csv('../data/datasets/hrpdviewer.tsv', sep='\\t', header=True, index=False)"
   ]
  },
  {
   "cell_type": "code",
   "execution_count": 20,
   "metadata": {},
   "outputs": [
    {
     "data": {
      "text/plain": [
       "68"
      ]
     },
     "execution_count": 20,
     "metadata": {},
     "output_type": "execute_result"
    }
   ],
   "source": [
    "[len(df['GEO number'].unique())]"
   ]
  },
  {
   "cell_type": "code",
   "execution_count": 24,
   "metadata": {},
   "outputs": [],
   "source": [
    "datasets = defaultdict(list)"
   ]
  },
  {
   "cell_type": "code",
   "execution_count": 26,
   "metadata": {},
   "outputs": [],
   "source": [
    "for directory in glob.glob('{}/*/*'.format(re_ribo_analysis_dir)):\n",
    "    srp = path_leaf(directory)\n",
    "    assembly = path_leaf(os.path.dirname(directory))\n",
    "    datasets[srp].append(assembly)"
   ]
  },
  {
   "cell_type": "code",
   "execution_count": 27,
   "metadata": {},
   "outputs": [
    {
     "data": {
      "text/plain": [
       "defaultdict(list,\n",
       "            {'SRP003554': ['mm10'],\n",
       "             'SRP007567': ['mm10'],\n",
       "             'SRP010679_fixed_adapters': ['hg38'],\n",
       "             'SRP017942': ['hg38', 'mm10'],\n",
       "             'SRP021058': ['mm10'],\n",
       "             'SRP028243': ['BDGP6'],\n",
       "             'SRP028243_fixed_adapters': ['BDGP6'],\n",
       "             'SRP030014': ['mm10'],\n",
       "             'SRP031501': ['hg38', 'mm10'],\n",
       "             'SRP033366': ['BDGP6'],\n",
       "             'SRP038695': ['hg38'],\n",
       "             'SRP042937': ['hg38'],\n",
       "             'SRP043036': ['sacCerR64'],\n",
       "             'SRP045214': ['hg38'],\n",
       "             'SRP045475': ['BDGP6'],\n",
       "             'SRP048708': ['mm10'],\n",
       "             'SRP049168': ['hg38', 'mm10'],\n",
       "             'SRP055009': ['hg38'],\n",
       "             'SRP055707': ['sacCerR64'],\n",
       "             'SRP056576': ['mm10'],\n",
       "             'SRP056647': ['sacCerR64'],\n",
       "             'SRP062409': ['mm10'],\n",
       "             'SRP063562': ['MG1655'],\n",
       "             'SRP064304': ['mm10'],\n",
       "             'SRP074765': ['mm10'],\n",
       "             'SRP076093': ['mm10'],\n",
       "             'SRP077522': ['mm10'],\n",
       "             'SRP078005': ['mm10'],\n",
       "             'SRP092068': ['hg38'],\n",
       "             'SRP098789': ['hg38'],\n",
       "             'SRP108999': ['BDGP6'],\n",
       "             'SRP109126': ['hg38']})"
      ]
     },
     "execution_count": 27,
     "metadata": {},
     "output_type": "execute_result"
    }
   ],
   "source": [
    "datasets"
   ]
  },
  {
   "cell_type": "code",
   "execution_count": 21,
   "metadata": {},
   "outputs": [],
   "source": [
    "file_name = '../data/datasets/rpfdb_metadata.json'\n",
    "rpfdb_data = json.load(open(file_name))\n",
    "rpfdb_df = pd.DataFrame(rpfdb_data)\n",
    "rpfdb_df = rpfdb_df.drop(columns=['Abstract'])\n",
    "rpfdb_df[['Author', 'Year']] = rpfdb_df.Author_year.str.split(',', n=1, expand=True)\n",
    "rpfdb_df = rpfdb_df.drop(columns=['Author_year'])\n",
    "rpfdb_df.Year = rpfdb_df.Year.astype(int)\n",
    "species_value_counts = rpfdb_df.Species.value_counts() \n",
    "rpfdb_df.head()\n",
    "rpfdb_df = rpfdb_df.sort_values(by=['Year', 'Species'])\n",
    "\n",
    "\n"
   ]
  },
  {
   "cell_type": "code",
   "execution_count": 24,
   "metadata": {},
   "outputs": [
    {
     "data": {
      "text/html": [
       "<div>\n",
       "<style scoped>\n",
       "    .dataframe tbody tr th:only-of-type {\n",
       "        vertical-align: middle;\n",
       "    }\n",
       "\n",
       "    .dataframe tbody tr th {\n",
       "        vertical-align: top;\n",
       "    }\n",
       "\n",
       "    .dataframe thead th {\n",
       "        text-align: right;\n",
       "    }\n",
       "</style>\n",
       "<table border=\"1\" class=\"dataframe\">\n",
       "  <thead>\n",
       "    <tr style=\"text-align: right;\">\n",
       "      <th></th>\n",
       "      <th>Citation</th>\n",
       "      <th>Index</th>\n",
       "      <th>Ref</th>\n",
       "      <th>Samples</th>\n",
       "      <th>Species</th>\n",
       "      <th>Strain</th>\n",
       "      <th>Study</th>\n",
       "      <th>Title</th>\n",
       "      <th>Treatment</th>\n",
       "      <th>Year</th>\n",
       "      <th>Author</th>\n",
       "    </tr>\n",
       "  </thead>\n",
       "  <tbody>\n",
       "    <tr>\n",
       "      <th>30</th>\n",
       "      <td>Ribosome profiling shows that miR-430 reduces ...</td>\n",
       "      <td>211</td>\n",
       "      <td>GRCz11</td>\n",
       "      <td>12</td>\n",
       "      <td>Zebrafish</td>\n",
       "      <td>strain: TUAB</td>\n",
       "      <td>GSE34743</td>\n",
       "      <td>Ribosome profiling of early zebrafish embryos ...</td>\n",
       "      <td>100 ug/ml Cycloheximide</td>\n",
       "      <td>2012</td>\n",
       "      <td>Bazzini AA</td>\n",
       "    </tr>\n",
       "    <tr>\n",
       "      <th>27</th>\n",
       "      <td>Nanog, Pou5f1 and SoxB1 activate zygotic gene ...</td>\n",
       "      <td>210</td>\n",
       "      <td>GRCz11</td>\n",
       "      <td>4</td>\n",
       "      <td>Zebrafish</td>\n",
       "      <td>strain: TUAB</td>\n",
       "      <td>GSE47558</td>\n",
       "      <td>Nanog, SoxB1 and Pou5f1/Oct4 regulate widespre...</td>\n",
       "      <td>50 μg/ml cycloheximide</td>\n",
       "      <td>2013</td>\n",
       "      <td>Lee MT</td>\n",
       "    </tr>\n",
       "    <tr>\n",
       "      <th>29</th>\n",
       "      <td>Ribosome profiling reveals resemblance between...</td>\n",
       "      <td>209</td>\n",
       "      <td>GRCz11</td>\n",
       "      <td>8</td>\n",
       "      <td>Zebrafish</td>\n",
       "      <td>strain: TL/AB</td>\n",
       "      <td>GSE46512</td>\n",
       "      <td>Ribosome Profiling over a Zebrafish Developmen...</td>\n",
       "      <td>100 μg/ml cycloheximide</td>\n",
       "      <td>2013</td>\n",
       "      <td>Chew GL</td>\n",
       "    </tr>\n",
       "    <tr>\n",
       "      <th>26</th>\n",
       "      <td>Identification of small ORFs in vertebrates us...</td>\n",
       "      <td>208</td>\n",
       "      <td>GRCz11</td>\n",
       "      <td>18</td>\n",
       "      <td>Zebrafish</td>\n",
       "      <td>strain: TUAB</td>\n",
       "      <td>GSE53693</td>\n",
       "      <td>Identification of small ORFs in vertebrates us...</td>\n",
       "      <td>100ug/ml Cycloheximide</td>\n",
       "      <td>2014</td>\n",
       "      <td>Bazzini AA</td>\n",
       "    </tr>\n",
       "    <tr>\n",
       "      <th>28</th>\n",
       "      <td>Poly(A)-tail profiling reveals an embryonic sw...</td>\n",
       "      <td>207</td>\n",
       "      <td>GRCz11</td>\n",
       "      <td>1</td>\n",
       "      <td>Zebrafish</td>\n",
       "      <td>strain: AB</td>\n",
       "      <td>GSE52809</td>\n",
       "      <td>Poly(A)-tail profiling reveals an embryonic sw...</td>\n",
       "      <td>100 µg/ml cycloheximide</td>\n",
       "      <td>2014</td>\n",
       "      <td>Subtelny AO</td>\n",
       "    </tr>\n",
       "  </tbody>\n",
       "</table>\n",
       "</div>"
      ],
      "text/plain": [
       "                                             Citation  Index     Ref  Samples  \\\n",
       "30  Ribosome profiling shows that miR-430 reduces ...    211  GRCz11       12   \n",
       "27  Nanog, Pou5f1 and SoxB1 activate zygotic gene ...    210  GRCz11        4   \n",
       "29  Ribosome profiling reveals resemblance between...    209  GRCz11        8   \n",
       "26  Identification of small ORFs in vertebrates us...    208  GRCz11       18   \n",
       "28  Poly(A)-tail profiling reveals an embryonic sw...    207  GRCz11        1   \n",
       "\n",
       "      Species         Strain     Study  \\\n",
       "30  Zebrafish   strain: TUAB  GSE34743   \n",
       "27  Zebrafish   strain: TUAB  GSE47558   \n",
       "29  Zebrafish  strain: TL/AB  GSE46512   \n",
       "26  Zebrafish   strain: TUAB  GSE53693   \n",
       "28  Zebrafish     strain: AB  GSE52809   \n",
       "\n",
       "                                                Title  \\\n",
       "30  Ribosome profiling of early zebrafish embryos ...   \n",
       "27  Nanog, SoxB1 and Pou5f1/Oct4 regulate widespre...   \n",
       "29  Ribosome Profiling over a Zebrafish Developmen...   \n",
       "26  Identification of small ORFs in vertebrates us...   \n",
       "28  Poly(A)-tail profiling reveals an embryonic sw...   \n",
       "\n",
       "                  Treatment  Year       Author  \n",
       "30  100 ug/ml Cycloheximide  2012   Bazzini AA  \n",
       "27   50 μg/ml cycloheximide  2013       Lee MT  \n",
       "29  100 μg/ml cycloheximide  2013      Chew GL  \n",
       "26   100ug/ml Cycloheximide  2014   Bazzini AA  \n",
       "28  100 µg/ml cycloheximide  2014  Subtelny AO  "
      ]
     },
     "execution_count": 24,
     "metadata": {},
     "output_type": "execute_result"
    }
   ],
   "source": [
    "rpfdb_df[rpfdb_df.Species == 'Zebrafish']"
   ]
  },
  {
   "cell_type": "code",
   "execution_count": null,
   "metadata": {},
   "outputs": [],
   "source": []
  }
 ],
 "metadata": {
  "kernelspec": {
   "display_name": "Python [conda env:riboraptor]",
   "language": "python",
   "name": "conda-env-riboraptor-py"
  },
  "language_info": {
   "codemirror_mode": {
    "name": "ipython",
    "version": 3
   },
   "file_extension": ".py",
   "mimetype": "text/x-python",
   "name": "python",
   "nbconvert_exporter": "python",
   "pygments_lexer": "ipython3",
   "version": "3.6.7"
  }
 },
 "nbformat": 4,
 "nbformat_minor": 2
}
