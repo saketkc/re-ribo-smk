{
 "cells": [
  {
   "cell_type": "code",
   "execution_count": 1,
   "metadata": {},
   "outputs": [
    {
     "name": "stderr",
     "output_type": "stream",
     "text": [
      "/home/cmb-panasas2/skchoudh/software_frozen/anaconda27/envs/riboraptor/lib/python3.5/importlib/_bootstrap.py:222: RuntimeWarning: numpy.dtype size changed, may indicate binary incompatibility. Expected 96, got 88\n",
      "  return f(*args, **kwds)\n",
      "/home/cmb-panasas2/skchoudh/software_frozen/anaconda27/envs/riboraptor/lib/python3.5/importlib/_bootstrap.py:222: RuntimeWarning: numpy.dtype size changed, may indicate binary incompatibility. Expected 96, got 88\n",
      "  return f(*args, **kwds)\n"
     ]
    }
   ],
   "source": [
    "import logging as log\n",
    "import re\n",
    "from riboraptor.helpers import path_leaf\n",
    "from riboraptor.cutadapt_to_json import cutadapt_to_json"
   ]
  },
  {
   "cell_type": "code",
   "execution_count": null,
   "metadata": {},
   "outputs": [],
   "source": [
    "1123188 2711596 3697681 4992604 5950222 6435064 7716123 8404354 9348380 0430291"
   ]
  },
  {
   "cell_type": "code",
   "execution_count": null,
   "metadata": {},
   "outputs": [],
   "source": [
    "regexes = {\n",
    "    'bp_processed': \"Total basepairs processed:\\s*([\\d,]+) bp\",\n",
    "    'bp_written': \"Total written \\(filtered\\):\\s*([\\d,]+) bp\",\n",
    "    'quality_trimmed': \"Quality-trimmed:\\s*([\\d,]+) bp\",\n",
    "    'r_processed': \"Total reads processed:\\s*([\\d,]+)\",\n",
    "    'r_with_adapters': \"Reads with adapters:\\s*([\\d,]+)\"\n",
    "}"
   ]
  },
  {
   "cell_type": "code",
   "execution_count": null,
   "metadata": {},
   "outputs": [],
   "source": [
    "\n",
    "def fastqc_to_json(filepath):\n",
    "    #fh = open('/staging/as/skchoudh/re-ribo-analysis/hg38/SRP010679_fixed_adapters/preprocessed_step1/SRR403882.fastq.gz_trimming_report.txt', 'r')\n",
    "    fh = open('/staging/as/skchoudh/re-ribo-analysis/hg38/SRP010679_fixed_adapters/preprocessed/SRR403882_trimmed_trimmed.fq.gz_trimming_report.txt', 'r')\n",
    "\n",
    "\n",
    "    cutadapt_version = '1.7'\n",
    "    trim_info = {}\n",
    "    length_counts = {}\n",
    "    length_exp = {}\n",
    "    length_obsexp = {}\n",
    "    adapters = {}\n",
    "    sample = None\n",
    "    for l in fh:\n",
    "        if 'cutadapt' in l:\n",
    "            sample = None\n",
    "            c_version = re.match(r'This is cutadapt ([\\d\\.]+)', l)   \n",
    "        if l.startswith('Used user'):\n",
    "            print(l)\n",
    "        if l.startswith('Command line parameters'):\n",
    "            sample = l.split()[-1]            \n",
    "            sample = path_leaf(sample).replace('.fq.gz', '').replace('.fastq.gz', '')\n",
    "            if sample in trim_info:\n",
    "                log.debug(\"Duplicate sample name found! Overwriting: {}\".format(sample))\n",
    "            trim_info[sample] = dict()\n",
    "        if sample is not None:\n",
    "            for k, r in regexes.items():\n",
    "                match = re.search(r, l)\n",
    "                if match:\n",
    "                    trim_info[sample][k] = int(match.group(1).replace(',', ''))\n",
    "\n",
    "            if '===' in l:\n",
    "                log_section = l.strip().strip('=').strip()\n",
    "            if l.startswith('Sequence:'):\n",
    "                plot_sname = '{} - {}'.format(sample, log_section)\n",
    "                adapters[plot_sname] = l.split(';')[0].strip('Sequence: ')\n",
    "\n",
    "            # Histogram showing lengths trimmed\n",
    "            if 'length' in l and 'count' in l and 'expect' in l:\n",
    "                plot_sname = sample\n",
    "                if log_section is not None:\n",
    "                    plot_sname = '{} - {}'.format(sample, log_section)\n",
    "                length_counts[plot_sname] = dict()\n",
    "                length_exp[plot_sname] = dict()\n",
    "                length_obsexp[plot_sname] = dict()\n",
    "                # Nested loop to read this section while the regex matches\n",
    "                for l in fh:\n",
    "                    r_seqs = re.search(\"^(\\d+)\\s+(\\d+)\\s+([\\d\\.]+)\", l)\n",
    "                    if r_seqs:\n",
    "                        a_len = int(r_seqs.group(1))\n",
    "                        length_counts[plot_sname][a_len] = int(r_seqs.group(2))\n",
    "                        length_exp[plot_sname][a_len] = float(r_seqs.group(3))\n",
    "                        if float(r_seqs.group(3)) > 0:\n",
    "                            length_obsexp[plot_sname][a_len] = float(r_seqs.group(2)) / float(r_seqs.group(3))\n",
    "                        else:                        \n",
    "                            length_obsexp[plot_sname][a_len] = float(r_seqs.group(2))\n",
    "                    else:\n",
    "                        break\n",
    "\n",
    "    json_data = {\n",
    "        'adapters': adapters,\n",
    "        'trim_info': trim_info,\n",
    "        'length_exp': length_exp,\n",
    "        'length_obsexp': length_obsexp,             \n",
    "        'length_counts': length_counts,\n",
    "    }\n",
    "    \n"
   ]
  },
  {
   "cell_type": "code",
   "execution_count": null,
   "metadata": {},
   "outputs": [],
   "source": [
    "fastqc_to_json('x')"
   ]
  },
  {
   "cell_type": "code",
   "execution_count": 2,
   "metadata": {},
   "outputs": [
    {
     "data": {
      "text/plain": [
       "{'adapters': 'User provided',\n",
       " 'length_counts': {},\n",
       " 'length_exp': {},\n",
       " 'length_obsexp': {},\n",
       " 'trim_info': {}}"
      ]
     },
     "execution_count": 2,
     "metadata": {},
     "output_type": "execute_result"
    }
   ],
   "source": [
    "cutadapt_to_json('/staging/as/skchoudh/re-ribo-analysis/hg38/SRP010679_fixed_adapters/preprocessed/SRR403882_trimmed_trimmed.fq.gz_trimming_report.txt')"
   ]
  },
  {
   "cell_type": "code",
   "execution_count": null,
   "metadata": {},
   "outputs": [],
   "source": [
    "more /staging/as/skchoudh/re-ribo-analysis/hg38/SRP010679_fixed_adapters/preprocessed/SRR403882_trimmed_trimmed.fq.gz_trimming_report.txt"
   ]
  },
  {
   "cell_type": "code",
   "execution_count": null,
   "metadata": {},
   "outputs": [],
   "source": []
  }
 ],
 "metadata": {
  "kernelspec": {
   "display_name": "Python [conda env:riboraptor]",
   "language": "python",
   "name": "conda-env-riboraptor-py"
  },
  "language_info": {
   "codemirror_mode": {
    "name": "ipython",
    "version": 3
   },
   "file_extension": ".py",
   "mimetype": "text/x-python",
   "name": "python",
   "nbconvert_exporter": "python",
   "pygments_lexer": "ipython3",
   "version": "3.5.5"
  }
 },
 "nbformat": 4,
 "nbformat_minor": 2
}
