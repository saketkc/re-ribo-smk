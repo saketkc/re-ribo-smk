{
 "cells": [
  {
   "cell_type": "markdown",
   "metadata": {},
   "source": [
    "# Detecting adapters\n",
    "\n",
    "For datasets where the adapter is tricky in situations where non-standard adapters have been used or a barcode exists adjacent to the adapter."
   ]
  },
  {
   "cell_type": "markdown",
   "metadata": {},
   "source": [
    "# 3' adapters\n",
    "\n",
    "This section is borrowed and copied as it is from the `cutadapt` [manual](https://cutadapt.readthedocs.io/en/v1.7.1/guide.html).\n",
    "\n",
    "\n",
    "A 3’ adapter is a piece of DNA ligated to the 3’\n",
    "end of the DNA fragment you are interested in. \n",
    "The sequencer starts the sequencing process at the 5’\n",
    "end of the fragment and sequences into the adapter\n",
    "if the read is long enough. \n",
    "\n",
    "The read that it outputs will then have a part of\n",
    "the adapter in the end. Or, if the adapter was \n",
    "short and the read length quite long, then the adapter\n",
    "will be somewhere within the read (followed by other bases).\n",
    "\n",
    "For example, assume your fragment of interest\n",
    "is MYSEQUENCE and the adapter is ADAPTER. \n",
    "Depending on the read length, \n",
    "you will get reads that look like this:\n",
    "\n",
    "```\n",
    "MYSEQUEN\n",
    "MYSEQUENCEADAP\n",
    "MYSEQUENCEADAPTER\n",
    "MYSEQUENCEADAPTERSOMETHINGELSE\n",
    "```\n",
    "\n",
    "Use cutadapt’s -a ADAPTER option to remove this type of adapter. This will be the result:\n",
    "\n",
    "```\n",
    "MYSEQUEN\n",
    "MYSEQUENCE\n",
    "MYSEQUENCE\n",
    "MYSEQUENCE\n",
    "```\n",
    "As can be seen, cutadapt correctly deals with partial adapter matches,\n",
    "and also with any trailing sequences after the adapter.\n",
    "Cutadapt deals with 3’ adapters by removing the adapter itself and \n",
    "any sequence that may follow.\n",
    "If the sequence starts with an adapter, like this:\n",
    "```\n",
    "ADAPTERSOMETHING\n",
    "```\n",
    "Then the sequence will be empty after trimming. \n",
    "Note that, by default, empty reads are not discarded and will appear in the output.\n",
    "\n",
    "\n",
    "NOTE: Our adapter in the above case is not \"anchored\" at the end. There is a seprate flag to handle that in `cutadapt`.\n",
    "\n",
    "Here we perform various case studies where `cutadapt`'s auto-detection alone is not useful. \n",
    "\n",
    "The standard adapters are:\n",
    "\n",
    "\n",
    "| Protocol |  Adapter     |\n",
    "|----------|--------------|\n",
    "|Illumina  | AGATCGGAAGAGC|\n",
    "|Small RNA |  TGGAATTCTCGG|\n",
    "|Nextera   |  CTGTCTCTTATA|"
   ]
  },
  {
   "cell_type": "code",
   "execution_count": 1,
   "metadata": {},
   "outputs": [
    {
     "name": "stdout",
     "output_type": "stream",
     "text": [
      "Populating the interactive namespace from numpy and matplotlib\n"
     ]
    }
   ],
   "source": [
    "%pylab inline\n",
    "%load_ext autoreload\n",
    "%autoreload 2\n",
    "\n",
    "from riboraptor.kmer import fastq_kmer_histogram\n",
    "\n",
    "def get_top_kmers(kmer_series):\n",
    "    \"\"\"Return all kmers with cumulative sum <=50,\n",
    "    because we won't need mroe than that.\n",
    "    \"\"\"\n",
    "    cumsum = kmer_series.cumsum()\n",
    "    return kmer_series[cumsum<=70]\n",
    "    "
   ]
  },
  {
   "cell_type": "code",
   "execution_count": 2,
   "metadata": {},
   "outputs": [],
   "source": [
    "fastqs = {'17nt': '/staging/as/skchoudh/re-ribo-analysis/hg38/SRP098789/sratofastq/SRR5227288.fastq.gz',\n",
    "         '17nt_post_trimming': '/staging/as/skchoudh/re-ribo-analysis/hg38/SRP098789/preprocessed/SRR5227288_trimmed.fq.gz',\n",
    "         '13nt': '/home/cmb-06/as/skchoudh/dna/Dec_12_2017_Penalva_RPS5_Riboseq/Penalva_L_12112017/RPS5_C2_S2_L001_R1_001.fastq.gz',\n",
    "         '13nt_post_trimming': '/home/cmb-panasas2/skchoudh/rna/Dec_12_2017_Penalva_RPS5_RNAseq_and_Riboseq/preprocessed/RPS5_C2_S2_L001_R1_001_trimmed.fq.gz',\n",
    "         'ambiguous': '/staging/as/skchoudh/re-ribo-analysis/hg38/SRP031501_human_remap_v2/sratofastq/SRR1562541.fastq.gz',\n",
    "          'erx': '/staging/as/wenzhenl/re-ribo-data/ERP005378/ERX432360/ERR466125.fastq'\n",
    "         }\n",
    "histograms = {k:{} for k in fastqs.keys()}"
   ]
  },
  {
   "cell_type": "code",
   "execution_count": null,
   "metadata": {},
   "outputs": [
    {
     "name": "stderr",
     "output_type": "stream",
     "text": [
      "100%|██████████| 1000000/1000000 [00:33<00:00, 29482.00it/s]\n",
      " 44%|████▎     | 436734/1000000 [00:34<01:01, 9101.83it/s]"
     ]
    }
   ],
   "source": [
    "\n",
    "for key, fastq in fastqs.items():\n",
    "    histograms[key] = fastq_kmer_histogram(fastq)"
   ]
  },
  {
   "cell_type": "markdown",
   "metadata": {},
   "source": [
    "# A Dataset with 17nt adapter\n",
    "\n",
    "The adapter for this dataset is 17nt long: CTGTAGGCACCATCAAT\n",
    "We will first consider looking at the raw fastq to see if we find any enriched sequences.\n"
   ]
  },
  {
   "cell_type": "code",
   "execution_count": null,
   "metadata": {},
   "outputs": [],
   "source": [
    "get_top_kmers(histograms['17nt'][17])\n",
    "AGATCGGAAGAGC\n",
    "CACCATCAATAGATCGG"
   ]
  },
  {
   "cell_type": "markdown",
   "metadata": {},
   "source": [
    "There does seem to be enrichment of some 17nt sequences (collpasing them on Levenshtein distance will lead to one sequence being >50%)"
   ]
  },
  {
   "cell_type": "code",
   "execution_count": null,
   "metadata": {},
   "outputs": [],
   "source": [
    "get_top_kmers(histograms['17nt_post_trimming'][17])"
   ]
  },
  {
   "cell_type": "markdown",
   "metadata": {},
   "source": [
    "This should also highlight the need to trim twice. Let's look at the original 17nt enrichment sequence (before anytrimming). The top sequence is:\n",
    "\n",
    "CACCATCAATAGATCGG. Looking closely, it should not be difficult to realize that there is illumina standard adapter (`AGATCGGAAGAGC`) thrown somewhere in between.\n",
    "\n",
    "CACCATCAAT**AGATCGG**. So trimming gets rid of these partial adapters and the rest of the overrepresented sequence shows enrichment, which is not so clear\n",
    "without trimming.\n",
    "\n",
    "To make sure 17nt indeed is the adapter, we can go one nucleotide up:\n"
   ]
  },
  {
   "cell_type": "code",
   "execution_count": null,
   "metadata": {},
   "outputs": [],
   "source": [
    "get_top_kmers(histograms['17nt_post_trimming'][18])"
   ]
  },
  {
   "cell_type": "markdown",
   "metadata": {},
   "source": [
    "# Dataset with 13nt adapter\n",
    "\n",
    "Let's try do do the same with a fastq where we know the adpter is 13 nt long.\n"
   ]
  },
  {
   "cell_type": "code",
   "execution_count": null,
   "metadata": {},
   "outputs": [],
   "source": [
    "get_top_kmers(histograms['13nt'][13])\n"
   ]
  },
  {
   "cell_type": "markdown",
   "metadata": {},
   "source": [
    "Again, the first four sequences are essentially within a Levenshtein distance of 1-2nt.\n"
   ]
  },
  {
   "cell_type": "code",
   "execution_count": null,
   "metadata": {},
   "outputs": [],
   "source": [
    "get_top_kmers(histograms['13nt'][14])\n"
   ]
  },
  {
   "cell_type": "code",
   "execution_count": null,
   "metadata": {},
   "outputs": [],
   "source": [
    "get_top_kmers(histograms['13nt'][15])\n"
   ]
  },
  {
   "cell_type": "code",
   "execution_count": null,
   "metadata": {},
   "outputs": [],
   "source": [
    "get_top_kmers(histograms['13nt'][17])\n"
   ]
  },
  {
   "cell_type": "code",
   "execution_count": null,
   "metadata": {},
   "outputs": [],
   "source": [
    "get_top_kmers(histograms['13nt'][20])\n"
   ]
  },
  {
   "cell_type": "code",
   "execution_count": null,
   "metadata": {},
   "outputs": [],
   "source": [
    "get_top_kmers(histograms['13nt'][21])\n"
   ]
  },
  {
   "cell_type": "markdown",
   "metadata": {},
   "source": [
    "Again, not sure where should we stop. Let's do this on the trimmed dataset"
   ]
  },
  {
   "cell_type": "code",
   "execution_count": null,
   "metadata": {},
   "outputs": [],
   "source": [
    "get_top_kmers(histograms['13nt_post_trimming'][5])[0:5]\n"
   ]
  },
  {
   "cell_type": "markdown",
   "metadata": {},
   "source": [
    "It look's good now. This doesn't require a second pass at trimming!"
   ]
  },
  {
   "cell_type": "code",
   "execution_count": null,
   "metadata": {},
   "outputs": [],
   "source": []
  }
 ],
 "metadata": {
  "kernelspec": {
   "display_name": "Python (riboraptor_clean)",
   "language": "python",
   "name": "riboraptor_clean"
  },
  "language_info": {
   "codemirror_mode": {
    "name": "ipython",
    "version": 3
   },
   "file_extension": ".py",
   "mimetype": "text/x-python",
   "name": "python",
   "nbconvert_exporter": "python",
   "pygments_lexer": "ipython3",
   "version": "3.5.5"
  }
 },
 "nbformat": 4,
 "nbformat_minor": 2
}
