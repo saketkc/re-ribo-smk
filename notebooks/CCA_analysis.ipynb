{
 "cells": [
  {
   "cell_type": "code",
   "execution_count": 1,
   "metadata": {},
   "outputs": [
    {
     "data": {
      "text/html": [
       "'/panfs/cmb-panasas2/amalthom/work_staging/species_analysis'"
      ],
      "text/latex": [
       "'/panfs/cmb-panasas2/amalthom/work\\_staging/species\\_analysis'"
      ],
      "text/markdown": [
       "'/panfs/cmb-panasas2/amalthom/work_staging/species_analysis'"
      ],
      "text/plain": [
       "[1] \"/panfs/cmb-panasas2/amalthom/work_staging/species_analysis\""
      ]
     },
     "metadata": {},
     "output_type": "display_data"
    }
   ],
   "source": [
    "getwd()"
   ]
  },
  {
   "cell_type": "code",
   "execution_count": 108,
   "metadata": {},
   "outputs": [],
   "source": [
    "library(limma)\n",
    "library(data.table)"
   ]
  },
  {
   "cell_type": "markdown",
   "metadata": {},
   "source": [
    "# find all way hc one to one ortholog"
   ]
  },
  {
   "cell_type": "code",
   "execution_count": 59,
   "metadata": {},
   "outputs": [],
   "source": [
    "orthopath=\"/home/rcf-40/amalthom/panfs/software/genomes/orthology_ensembl94/one2one_hc\"\n",
    "species = c(\"cjacchus\",\"hsapiens\",\"mmulatta\",\"mmusculus\",\"ocuniculus\",\"rnorvegicus\")\n",
    "species.full = c(\"Callithrix_jacchus\",\"Homo_sapiens\",\"Macaca_mulatta\",\n",
    "                 \"Mus_musculus\",\"Oryctolagus_cuniculus\",\"Rattus_norvegicus\")\n"
   ]
  },
  {
   "cell_type": "code",
   "execution_count": 46,
   "metadata": {},
   "outputs": [
    {
     "name": "stdout",
     "output_type": "stream",
     "text": [
      "[1] \"cjacchus\"\n",
      "[1] \"mmulatta\"\n",
      "[1] \"mmusculus\"\n",
      "[1] \"ocuniculus\"\n",
      "[1] \"rnorvegicus\"\n"
     ]
    }
   ],
   "source": [
    "l = list()\n",
    "ensembl_unique = vector()\n",
    "for(s in species){\n",
    "   if(s == \"hsapiens\") next\n",
    "    print(s)\n",
    " df = read.table(paste0(orthopath,\"/hsapiens-vs-\",s,\"_one2one_hc.tsv\"),\n",
    "                       sep=\"\\t\",header=T,stringsAsFactors = F)\n",
    "head(df)\n",
    "l[[s]] = df$ensembl_gene_id\n",
    "ensembl_unique = c(ensembl_unique,as.vector(df$ensembl_gene_id))    \n",
    "}\n",
    "ensembl_unique = unique(ensembl_unique)"
   ]
  },
  {
   "cell_type": "code",
   "execution_count": 25,
   "metadata": {},
   "outputs": [
    {
     "data": {
      "text/html": [
       "<dl class=dl-horizontal>\n",
       "\t<dt>cjacchus</dt>\n",
       "\t\t<dd>17895</dd>\n",
       "\t<dt>mmulatta</dt>\n",
       "\t\t<dd>18952</dd>\n",
       "\t<dt>mmusculus</dt>\n",
       "\t\t<dd>15519</dd>\n",
       "\t<dt>ocuniculus</dt>\n",
       "\t\t<dd>13359</dd>\n",
       "\t<dt>rnorvegicus</dt>\n",
       "\t\t<dd>14387</dd>\n",
       "</dl>\n"
      ],
      "text/latex": [
       "\\begin{description*}\n",
       "\\item[cjacchus] 17895\n",
       "\\item[mmulatta] 18952\n",
       "\\item[mmusculus] 15519\n",
       "\\item[ocuniculus] 13359\n",
       "\\item[rnorvegicus] 14387\n",
       "\\end{description*}\n"
      ],
      "text/markdown": [
       "cjacchus\n",
       ":   17895mmulatta\n",
       ":   18952mmusculus\n",
       ":   15519ocuniculus\n",
       ":   13359rnorvegicus\n",
       ":   14387\n",
       "\n"
      ],
      "text/plain": [
       "   cjacchus    mmulatta   mmusculus  ocuniculus rnorvegicus \n",
       "      17895       18952       15519       13359       14387 "
      ]
     },
     "metadata": {},
     "output_type": "display_data"
    }
   ],
   "source": [
    "sapply(l,length)"
   ]
  },
  {
   "cell_type": "code",
   "execution_count": 26,
   "metadata": {},
   "outputs": [
    {
     "data": {
      "text/html": [
       "80112"
      ],
      "text/latex": [
       "80112"
      ],
      "text/markdown": [
       "80112"
      ],
      "text/plain": [
       "[1] 80112"
      ]
     },
     "metadata": {},
     "output_type": "display_data"
    },
    {
     "data": {
      "text/html": [
       "21773"
      ],
      "text/latex": [
       "21773"
      ],
      "text/markdown": [
       "21773"
      ],
      "text/plain": [
       "[1] 21773"
      ]
     },
     "metadata": {},
     "output_type": "display_data"
    }
   ],
   "source": [
    "sum(sapply(l,length))\n",
    "length(ensembl_unique)"
   ]
  },
  {
   "cell_type": "code",
   "execution_count": 32,
   "metadata": {},
   "outputs": [
    {
     "data": {
      "text/html": [
       "<table>\n",
       "<thead><tr><th></th><th scope=col>cjacchus</th><th scope=col>mmulatta</th><th scope=col>mmusculus</th><th scope=col>ocuniculus</th><th scope=col>rnorvegicus</th></tr></thead>\n",
       "<tbody>\n",
       "\t<tr><th scope=row>ENSG00000088766</th><td>1</td><td>1</td><td>1</td><td>1</td><td>1</td></tr>\n",
       "\t<tr><th scope=row>ENSG00000086475</th><td>1</td><td>0</td><td>1</td><td>1</td><td>1</td></tr>\n",
       "\t<tr><th scope=row>ENSG00000174327</th><td>1</td><td>0</td><td>1</td><td>1</td><td>1</td></tr>\n",
       "\t<tr><th scope=row>ENSG00000173597</th><td>1</td><td>1</td><td>1</td><td>0</td><td>1</td></tr>\n",
       "\t<tr><th scope=row>ENSG00000010319</th><td>1</td><td>1</td><td>1</td><td>1</td><td>1</td></tr>\n",
       "\t<tr><th scope=row>ENSG00000188338</th><td>1</td><td>1</td><td>1</td><td>1</td><td>1</td></tr>\n",
       "</tbody>\n",
       "</table>\n"
      ],
      "text/latex": [
       "\\begin{tabular}{r|lllll}\n",
       "  & cjacchus & mmulatta & mmusculus & ocuniculus & rnorvegicus\\\\\n",
       "\\hline\n",
       "\tENSG00000088766 & 1 & 1 & 1 & 1 & 1\\\\\n",
       "\tENSG00000086475 & 1 & 0 & 1 & 1 & 1\\\\\n",
       "\tENSG00000174327 & 1 & 0 & 1 & 1 & 1\\\\\n",
       "\tENSG00000173597 & 1 & 1 & 1 & 0 & 1\\\\\n",
       "\tENSG00000010319 & 1 & 1 & 1 & 1 & 1\\\\\n",
       "\tENSG00000188338 & 1 & 1 & 1 & 1 & 1\\\\\n",
       "\\end{tabular}\n"
      ],
      "text/markdown": [
       "\n",
       "| <!--/--> | cjacchus | mmulatta | mmusculus | ocuniculus | rnorvegicus | \n",
       "|---|---|---|---|---|---|\n",
       "| ENSG00000088766 | 1 | 1 | 1 | 1 | 1 | \n",
       "| ENSG00000086475 | 1 | 0 | 1 | 1 | 1 | \n",
       "| ENSG00000174327 | 1 | 0 | 1 | 1 | 1 | \n",
       "| ENSG00000173597 | 1 | 1 | 1 | 0 | 1 | \n",
       "| ENSG00000010319 | 1 | 1 | 1 | 1 | 1 | \n",
       "| ENSG00000188338 | 1 | 1 | 1 | 1 | 1 | \n",
       "\n",
       "\n"
      ],
      "text/plain": [
       "                cjacchus mmulatta mmusculus ocuniculus rnorvegicus\n",
       "ENSG00000088766 1        1        1         1          1          \n",
       "ENSG00000086475 1        0        1         1          1          \n",
       "ENSG00000174327 1        0        1         1          1          \n",
       "ENSG00000173597 1        1        1         0          1          \n",
       "ENSG00000010319 1        1        1         1          1          \n",
       "ENSG00000188338 1        1        1         1          1          "
      ]
     },
     "metadata": {},
     "output_type": "display_data"
    }
   ],
   "source": [
    "overlap = as.data.frame(sapply(l,function(x) as.integer(ensembl_unique %in% unlist(x))))\n",
    "row.names(overlap) = ensembl_unique                               \n",
    "head(overlap)"
   ]
  },
  {
   "cell_type": "code",
   "execution_count": 33,
   "metadata": {},
   "outputs": [
    {
     "data": {
      "text/html": [
       "9529"
      ],
      "text/latex": [
       "9529"
      ],
      "text/markdown": [
       "9529"
      ],
      "text/plain": [
       "[1] 9529"
      ]
     },
     "metadata": {},
     "output_type": "display_data"
    }
   ],
   "source": [
    "commongenes = ensembl_unique[rowSums(overlap) == ncol(overlap)]\n",
    "length(commongenes)"
   ]
  },
  {
   "cell_type": "code",
   "execution_count": 35,
   "metadata": {},
   "outputs": [
    {
     "data": {
      "text/plain": [
       "   cjacchus mmulatta mmusculus ocuniculus rnorvegicus Counts\n",
       "1         0        0         0          0           0      0\n",
       "2         0        0         0          0           1     23\n",
       "3         0        0         0          1           0     57\n",
       "4         0        0         0          1           1     18\n",
       "5         0        0         1          0           0     86\n",
       "6         0        0         1          0           1    127\n",
       "7         0        0         1          1           0     57\n",
       "8         0        0         1          1           1    141\n",
       "9         0        1         0          0           0   2211\n",
       "10        0        1         0          0           1     36\n",
       "11        0        1         0          1           0     95\n",
       "12        0        1         0          1           1     36\n",
       "13        0        1         1          0           0     98\n",
       "14        0        1         1          0           1    264\n",
       "15        0        1         1          1           0     93\n",
       "16        0        1         1          1           1    536\n",
       "17        1        0         0          0           0    500\n",
       "18        1        0         0          0           1     22\n",
       "19        1        0         0          1           0    103\n",
       "20        1        0         0          1           1     39\n",
       "21        1        0         1          0           0     91\n",
       "22        1        0         1          0           1    377\n",
       "23        1        0         1          1           0    133\n",
       "24        1        0         1          1           1   1047\n",
       "25        1        1         0          0           0   2319\n",
       "26        1        1         0          0           1     96\n",
       "27        1        1         0          1           0    420\n",
       "28        1        1         0          1           1    279\n",
       "29        1        1         1          0           0    347\n",
       "30        1        1         1          0           1   1817\n",
       "31        1        1         1          1           0    776\n",
       "32        1        1         1          1           1   9529\n",
       "attr(,\"class\")\n",
       "[1] \"VennCounts\""
      ]
     },
     "metadata": {},
     "output_type": "display_data"
    }
   ],
   "source": [
    "distribution = vennCounts(as.data.frame(overlap))\n",
    "distribution"
   ]
  },
  {
   "cell_type": "code",
   "execution_count": 39,
   "metadata": {},
   "outputs": [
    {
     "data": {
      "text/html": [
       "'cjacchus-mmulatta-mmusculus-ocuniculus-rnorvegicus'"
      ],
      "text/latex": [
       "'cjacchus-mmulatta-mmusculus-ocuniculus-rnorvegicus'"
      ],
      "text/markdown": [
       "'cjacchus-mmulatta-mmusculus-ocuniculus-rnorvegicus'"
      ],
      "text/plain": [
       "[1] \"cjacchus-mmulatta-mmusculus-ocuniculus-rnorvegicus\""
      ]
     },
     "metadata": {},
     "output_type": "display_data"
    }
   ],
   "source": [
    "paste(species,collapse=\"-\")"
   ]
  },
  {
   "cell_type": "code",
   "execution_count": 41,
   "metadata": {},
   "outputs": [],
   "source": [
    "outputdir=\"carelli2018_analysis\"\n",
    "write.table(as.data.frame(commongenes),\n",
    "            file=paste0(outputdir,\"/common_orthologousgenes_human-\",paste(species,collapse=\"-\"),\".txt\"),\n",
    "           quote=F,row.names=F)"
   ]
  },
  {
   "cell_type": "code",
   "execution_count": 57,
   "metadata": {},
   "outputs": [],
   "source": [
    "outputdir=\"carelli2018_analysis\""
   ]
  },
  {
   "cell_type": "markdown",
   "metadata": {},
   "source": [
    "# subset countstable based on allway orthologs"
   ]
  },
  {
   "cell_type": "code",
   "execution_count": 42,
   "metadata": {},
   "outputs": [],
   "source": [
    "counts_path = \"/home/rcf-40/amalthom/staging_work/rnaseq/carelli2018/countstables/\""
   ]
  },
  {
   "cell_type": "code",
   "execution_count": 101,
   "metadata": {},
   "outputs": [
    {
     "name": "stdout",
     "output_type": "stream",
     "text": [
      "[1] \"Callithrix_jacchus\"\n",
      "[1] 9529   12\n",
      "[1] \"Homo_sapiens\"\n",
      "[1] 9529   13\n",
      "[1] \"Macaca_mulatta\"\n",
      "[1] 9529   13\n",
      "[1] \"Mus_musculus\"\n",
      "[1] 9529    9\n",
      "[1] \"Oryctolagus_cuniculus\"\n",
      "[1] 9529   15\n",
      "[1] \"Rattus_norvegicus\"\n",
      "[1] 9529   16\n"
     ]
    }
   ],
   "source": [
    "counts_list = list()\n",
    "for(i in 1:length(species.full)){\n",
    "    print(species.full[i])\n",
    "    if(species.full[i] == \"Homo_sapiens\"){\n",
    "       \n",
    "       df = read.table(paste0(counts_path,\"RNAseq_carelli2018_\",species.full[i],\".tsv\"),sep=\"\\t\",header=T,row.names=1)\n",
    "       df = df[commongenes,]\n",
    "       write.table(df,paste0(outputdir,\"/counts_\",species.full[i],\".tsv\"),sep=\"\\t\",quote=F,col.names=NA)\n",
    "        print(dim(df))\n",
    "        counts_list[[species.full[i]]] = df\n",
    "    }else{\n",
    "         df = read.table(paste0(orthopath,\"/hsapiens-vs-\",species[i],\"_one2one_hc.tsv\"),\n",
    "                       sep=\"\\t\",header=T,stringsAsFactors = F)\n",
    "        df = df[match(commongenes,df$ensembl_gene_id),]\n",
    "        \n",
    "        t = read.table(paste0(counts_path,\"RNAseq_carelli2018_\",species.full[i],\".tsv\"),sep=\"\\t\",header=T,row.names=1)\n",
    "        t = t[df[,3],]\n",
    "        print(dim(t))\n",
    "        row.names(t) = commongenes\n",
    "        write.table(t,paste0(outputdir,\"/counts_\",species.full[i],\".tsv\"),sep=\"\\t\",quote=F,col.names=NA)\n",
    "        counts_list[[species.full[i]]] = t\n",
    "\n",
    "    }\n",
    "}\n",
    "\n",
    "combined_df =  do.call(cbind,counts_list)"
   ]
  },
  {
   "cell_type": "code",
   "execution_count": 103,
   "metadata": {},
   "outputs": [
    {
     "data": {
      "text/html": [
       "<ol class=list-inline>\n",
       "\t<li>9529</li>\n",
       "\t<li>78</li>\n",
       "</ol>\n"
      ],
      "text/latex": [
       "\\begin{enumerate*}\n",
       "\\item 9529\n",
       "\\item 78\n",
       "\\end{enumerate*}\n"
      ],
      "text/markdown": [
       "1. 9529\n",
       "2. 78\n",
       "\n",
       "\n"
      ],
      "text/plain": [
       "[1] 9529   78"
      ]
     },
     "metadata": {},
     "output_type": "display_data"
    }
   ],
   "source": [
    "dim(combined_df)"
   ]
  },
  {
   "cell_type": "code",
   "execution_count": 104,
   "metadata": {},
   "outputs": [
    {
     "data": {
      "text/html": [
       "<ol class=list-inline>\n",
       "\t<li>'Callithrix_jacchus.SRR7134951'</li>\n",
       "\t<li>'Callithrix_jacchus.SRR7134952'</li>\n",
       "\t<li>'Callithrix_jacchus.SRR7134953'</li>\n",
       "\t<li>'Callithrix_jacchus.SRR7134954'</li>\n",
       "\t<li>'Callithrix_jacchus.SRR7134955'</li>\n",
       "\t<li>'Callithrix_jacchus.SRR7134956'</li>\n",
       "\t<li>'Callithrix_jacchus.SRR7134957'</li>\n",
       "\t<li>'Callithrix_jacchus.SRR7134958'</li>\n",
       "\t<li>'Callithrix_jacchus.SRR7134959'</li>\n",
       "\t<li>'Callithrix_jacchus.SRR7134960'</li>\n",
       "\t<li>'Callithrix_jacchus.SRR7134961'</li>\n",
       "\t<li>'Callithrix_jacchus.SRR7134962'</li>\n",
       "\t<li>'Homo_sapiens.SRR7134925'</li>\n",
       "\t<li>'Homo_sapiens.SRR7134926'</li>\n",
       "\t<li>'Homo_sapiens.SRR7134927'</li>\n",
       "\t<li>'Homo_sapiens.SRR7134928'</li>\n",
       "\t<li>'Homo_sapiens.SRR7134929'</li>\n",
       "\t<li>'Homo_sapiens.SRR7134930'</li>\n",
       "\t<li>'Homo_sapiens.SRR7134931'</li>\n",
       "\t<li>'Homo_sapiens.SRR7134932'</li>\n",
       "\t<li>'Homo_sapiens.SRR7134933'</li>\n",
       "\t<li>'Homo_sapiens.SRR7134934'</li>\n",
       "\t<li>'Homo_sapiens.SRR7134935'</li>\n",
       "\t<li>'Homo_sapiens.SRR7134936'</li>\n",
       "\t<li>'Homo_sapiens.SRR7134937'</li>\n",
       "\t<li>'Macaca_mulatta.SRR7134938'</li>\n",
       "\t<li>'Macaca_mulatta.SRR7134939'</li>\n",
       "\t<li>'Macaca_mulatta.SRR7134940'</li>\n",
       "\t<li>'Macaca_mulatta.SRR7134941'</li>\n",
       "\t<li>'Macaca_mulatta.SRR7134942'</li>\n",
       "\t<li>'Macaca_mulatta.SRR7134943'</li>\n",
       "\t<li>'Macaca_mulatta.SRR7134944'</li>\n",
       "\t<li>'Macaca_mulatta.SRR7134945'</li>\n",
       "\t<li>'Macaca_mulatta.SRR7134946'</li>\n",
       "\t<li>'Macaca_mulatta.SRR7134947'</li>\n",
       "\t<li>'Macaca_mulatta.SRR7134948'</li>\n",
       "\t<li>'Macaca_mulatta.SRR7134949'</li>\n",
       "\t<li>'Macaca_mulatta.SRR7134950'</li>\n",
       "\t<li>'Mus_musculus.SRR7134963'</li>\n",
       "\t<li>'Mus_musculus.SRR7134964'</li>\n",
       "\t<li>'Mus_musculus.SRR7134965'</li>\n",
       "\t<li>'Mus_musculus.SRR7134966'</li>\n",
       "\t<li>'Mus_musculus.SRR7134967'</li>\n",
       "\t<li>'Mus_musculus.SRR7134968'</li>\n",
       "\t<li>'Mus_musculus.SRR7134969'</li>\n",
       "\t<li>'Mus_musculus.SRR7134970'</li>\n",
       "\t<li>'Mus_musculus.SRR7134971'</li>\n",
       "\t<li>'Oryctolagus_cuniculus.SRR7134988'</li>\n",
       "\t<li>'Oryctolagus_cuniculus.SRR7134989'</li>\n",
       "\t<li>'Oryctolagus_cuniculus.SRR7134990'</li>\n",
       "\t<li>'Oryctolagus_cuniculus.SRR7134991'</li>\n",
       "\t<li>'Oryctolagus_cuniculus.SRR7134992'</li>\n",
       "\t<li>'Oryctolagus_cuniculus.SRR7134993'</li>\n",
       "\t<li>'Oryctolagus_cuniculus.SRR7134994'</li>\n",
       "\t<li>'Oryctolagus_cuniculus.SRR7134995'</li>\n",
       "\t<li>'Oryctolagus_cuniculus.SRR7134996'</li>\n",
       "\t<li>'Oryctolagus_cuniculus.SRR7134997'</li>\n",
       "\t<li>'Oryctolagus_cuniculus.SRR7134998'</li>\n",
       "\t<li>'Oryctolagus_cuniculus.SRR7134999'</li>\n",
       "\t<li>'Oryctolagus_cuniculus.SRR7135000'</li>\n",
       "\t<li>'Oryctolagus_cuniculus.SRR7135001'</li>\n",
       "\t<li>'Oryctolagus_cuniculus.SRR7135002'</li>\n",
       "\t<li>'Rattus_norvegicus.SRR7134972'</li>\n",
       "\t<li>'Rattus_norvegicus.SRR7134973'</li>\n",
       "\t<li>'Rattus_norvegicus.SRR7134974'</li>\n",
       "\t<li>'Rattus_norvegicus.SRR7134975'</li>\n",
       "\t<li>'Rattus_norvegicus.SRR7134976'</li>\n",
       "\t<li>'Rattus_norvegicus.SRR7134977'</li>\n",
       "\t<li>'Rattus_norvegicus.SRR7134978'</li>\n",
       "\t<li>'Rattus_norvegicus.SRR7134979'</li>\n",
       "\t<li>'Rattus_norvegicus.SRR7134980'</li>\n",
       "\t<li>'Rattus_norvegicus.SRR7134981'</li>\n",
       "\t<li>'Rattus_norvegicus.SRR7134982'</li>\n",
       "\t<li>'Rattus_norvegicus.SRR7134983'</li>\n",
       "\t<li>'Rattus_norvegicus.SRR7134984'</li>\n",
       "\t<li>'Rattus_norvegicus.SRR7134985'</li>\n",
       "\t<li>'Rattus_norvegicus.SRR7134986'</li>\n",
       "\t<li>'Rattus_norvegicus.SRR7134987'</li>\n",
       "</ol>\n"
      ],
      "text/latex": [
       "\\begin{enumerate*}\n",
       "\\item 'Callithrix\\_jacchus.SRR7134951'\n",
       "\\item 'Callithrix\\_jacchus.SRR7134952'\n",
       "\\item 'Callithrix\\_jacchus.SRR7134953'\n",
       "\\item 'Callithrix\\_jacchus.SRR7134954'\n",
       "\\item 'Callithrix\\_jacchus.SRR7134955'\n",
       "\\item 'Callithrix\\_jacchus.SRR7134956'\n",
       "\\item 'Callithrix\\_jacchus.SRR7134957'\n",
       "\\item 'Callithrix\\_jacchus.SRR7134958'\n",
       "\\item 'Callithrix\\_jacchus.SRR7134959'\n",
       "\\item 'Callithrix\\_jacchus.SRR7134960'\n",
       "\\item 'Callithrix\\_jacchus.SRR7134961'\n",
       "\\item 'Callithrix\\_jacchus.SRR7134962'\n",
       "\\item 'Homo\\_sapiens.SRR7134925'\n",
       "\\item 'Homo\\_sapiens.SRR7134926'\n",
       "\\item 'Homo\\_sapiens.SRR7134927'\n",
       "\\item 'Homo\\_sapiens.SRR7134928'\n",
       "\\item 'Homo\\_sapiens.SRR7134929'\n",
       "\\item 'Homo\\_sapiens.SRR7134930'\n",
       "\\item 'Homo\\_sapiens.SRR7134931'\n",
       "\\item 'Homo\\_sapiens.SRR7134932'\n",
       "\\item 'Homo\\_sapiens.SRR7134933'\n",
       "\\item 'Homo\\_sapiens.SRR7134934'\n",
       "\\item 'Homo\\_sapiens.SRR7134935'\n",
       "\\item 'Homo\\_sapiens.SRR7134936'\n",
       "\\item 'Homo\\_sapiens.SRR7134937'\n",
       "\\item 'Macaca\\_mulatta.SRR7134938'\n",
       "\\item 'Macaca\\_mulatta.SRR7134939'\n",
       "\\item 'Macaca\\_mulatta.SRR7134940'\n",
       "\\item 'Macaca\\_mulatta.SRR7134941'\n",
       "\\item 'Macaca\\_mulatta.SRR7134942'\n",
       "\\item 'Macaca\\_mulatta.SRR7134943'\n",
       "\\item 'Macaca\\_mulatta.SRR7134944'\n",
       "\\item 'Macaca\\_mulatta.SRR7134945'\n",
       "\\item 'Macaca\\_mulatta.SRR7134946'\n",
       "\\item 'Macaca\\_mulatta.SRR7134947'\n",
       "\\item 'Macaca\\_mulatta.SRR7134948'\n",
       "\\item 'Macaca\\_mulatta.SRR7134949'\n",
       "\\item 'Macaca\\_mulatta.SRR7134950'\n",
       "\\item 'Mus\\_musculus.SRR7134963'\n",
       "\\item 'Mus\\_musculus.SRR7134964'\n",
       "\\item 'Mus\\_musculus.SRR7134965'\n",
       "\\item 'Mus\\_musculus.SRR7134966'\n",
       "\\item 'Mus\\_musculus.SRR7134967'\n",
       "\\item 'Mus\\_musculus.SRR7134968'\n",
       "\\item 'Mus\\_musculus.SRR7134969'\n",
       "\\item 'Mus\\_musculus.SRR7134970'\n",
       "\\item 'Mus\\_musculus.SRR7134971'\n",
       "\\item 'Oryctolagus\\_cuniculus.SRR7134988'\n",
       "\\item 'Oryctolagus\\_cuniculus.SRR7134989'\n",
       "\\item 'Oryctolagus\\_cuniculus.SRR7134990'\n",
       "\\item 'Oryctolagus\\_cuniculus.SRR7134991'\n",
       "\\item 'Oryctolagus\\_cuniculus.SRR7134992'\n",
       "\\item 'Oryctolagus\\_cuniculus.SRR7134993'\n",
       "\\item 'Oryctolagus\\_cuniculus.SRR7134994'\n",
       "\\item 'Oryctolagus\\_cuniculus.SRR7134995'\n",
       "\\item 'Oryctolagus\\_cuniculus.SRR7134996'\n",
       "\\item 'Oryctolagus\\_cuniculus.SRR7134997'\n",
       "\\item 'Oryctolagus\\_cuniculus.SRR7134998'\n",
       "\\item 'Oryctolagus\\_cuniculus.SRR7134999'\n",
       "\\item 'Oryctolagus\\_cuniculus.SRR7135000'\n",
       "\\item 'Oryctolagus\\_cuniculus.SRR7135001'\n",
       "\\item 'Oryctolagus\\_cuniculus.SRR7135002'\n",
       "\\item 'Rattus\\_norvegicus.SRR7134972'\n",
       "\\item 'Rattus\\_norvegicus.SRR7134973'\n",
       "\\item 'Rattus\\_norvegicus.SRR7134974'\n",
       "\\item 'Rattus\\_norvegicus.SRR7134975'\n",
       "\\item 'Rattus\\_norvegicus.SRR7134976'\n",
       "\\item 'Rattus\\_norvegicus.SRR7134977'\n",
       "\\item 'Rattus\\_norvegicus.SRR7134978'\n",
       "\\item 'Rattus\\_norvegicus.SRR7134979'\n",
       "\\item 'Rattus\\_norvegicus.SRR7134980'\n",
       "\\item 'Rattus\\_norvegicus.SRR7134981'\n",
       "\\item 'Rattus\\_norvegicus.SRR7134982'\n",
       "\\item 'Rattus\\_norvegicus.SRR7134983'\n",
       "\\item 'Rattus\\_norvegicus.SRR7134984'\n",
       "\\item 'Rattus\\_norvegicus.SRR7134985'\n",
       "\\item 'Rattus\\_norvegicus.SRR7134986'\n",
       "\\item 'Rattus\\_norvegicus.SRR7134987'\n",
       "\\end{enumerate*}\n"
      ],
      "text/markdown": [
       "1. 'Callithrix_jacchus.SRR7134951'\n",
       "2. 'Callithrix_jacchus.SRR7134952'\n",
       "3. 'Callithrix_jacchus.SRR7134953'\n",
       "4. 'Callithrix_jacchus.SRR7134954'\n",
       "5. 'Callithrix_jacchus.SRR7134955'\n",
       "6. 'Callithrix_jacchus.SRR7134956'\n",
       "7. 'Callithrix_jacchus.SRR7134957'\n",
       "8. 'Callithrix_jacchus.SRR7134958'\n",
       "9. 'Callithrix_jacchus.SRR7134959'\n",
       "10. 'Callithrix_jacchus.SRR7134960'\n",
       "11. 'Callithrix_jacchus.SRR7134961'\n",
       "12. 'Callithrix_jacchus.SRR7134962'\n",
       "13. 'Homo_sapiens.SRR7134925'\n",
       "14. 'Homo_sapiens.SRR7134926'\n",
       "15. 'Homo_sapiens.SRR7134927'\n",
       "16. 'Homo_sapiens.SRR7134928'\n",
       "17. 'Homo_sapiens.SRR7134929'\n",
       "18. 'Homo_sapiens.SRR7134930'\n",
       "19. 'Homo_sapiens.SRR7134931'\n",
       "20. 'Homo_sapiens.SRR7134932'\n",
       "21. 'Homo_sapiens.SRR7134933'\n",
       "22. 'Homo_sapiens.SRR7134934'\n",
       "23. 'Homo_sapiens.SRR7134935'\n",
       "24. 'Homo_sapiens.SRR7134936'\n",
       "25. 'Homo_sapiens.SRR7134937'\n",
       "26. 'Macaca_mulatta.SRR7134938'\n",
       "27. 'Macaca_mulatta.SRR7134939'\n",
       "28. 'Macaca_mulatta.SRR7134940'\n",
       "29. 'Macaca_mulatta.SRR7134941'\n",
       "30. 'Macaca_mulatta.SRR7134942'\n",
       "31. 'Macaca_mulatta.SRR7134943'\n",
       "32. 'Macaca_mulatta.SRR7134944'\n",
       "33. 'Macaca_mulatta.SRR7134945'\n",
       "34. 'Macaca_mulatta.SRR7134946'\n",
       "35. 'Macaca_mulatta.SRR7134947'\n",
       "36. 'Macaca_mulatta.SRR7134948'\n",
       "37. 'Macaca_mulatta.SRR7134949'\n",
       "38. 'Macaca_mulatta.SRR7134950'\n",
       "39. 'Mus_musculus.SRR7134963'\n",
       "40. 'Mus_musculus.SRR7134964'\n",
       "41. 'Mus_musculus.SRR7134965'\n",
       "42. 'Mus_musculus.SRR7134966'\n",
       "43. 'Mus_musculus.SRR7134967'\n",
       "44. 'Mus_musculus.SRR7134968'\n",
       "45. 'Mus_musculus.SRR7134969'\n",
       "46. 'Mus_musculus.SRR7134970'\n",
       "47. 'Mus_musculus.SRR7134971'\n",
       "48. 'Oryctolagus_cuniculus.SRR7134988'\n",
       "49. 'Oryctolagus_cuniculus.SRR7134989'\n",
       "50. 'Oryctolagus_cuniculus.SRR7134990'\n",
       "51. 'Oryctolagus_cuniculus.SRR7134991'\n",
       "52. 'Oryctolagus_cuniculus.SRR7134992'\n",
       "53. 'Oryctolagus_cuniculus.SRR7134993'\n",
       "54. 'Oryctolagus_cuniculus.SRR7134994'\n",
       "55. 'Oryctolagus_cuniculus.SRR7134995'\n",
       "56. 'Oryctolagus_cuniculus.SRR7134996'\n",
       "57. 'Oryctolagus_cuniculus.SRR7134997'\n",
       "58. 'Oryctolagus_cuniculus.SRR7134998'\n",
       "59. 'Oryctolagus_cuniculus.SRR7134999'\n",
       "60. 'Oryctolagus_cuniculus.SRR7135000'\n",
       "61. 'Oryctolagus_cuniculus.SRR7135001'\n",
       "62. 'Oryctolagus_cuniculus.SRR7135002'\n",
       "63. 'Rattus_norvegicus.SRR7134972'\n",
       "64. 'Rattus_norvegicus.SRR7134973'\n",
       "65. 'Rattus_norvegicus.SRR7134974'\n",
       "66. 'Rattus_norvegicus.SRR7134975'\n",
       "67. 'Rattus_norvegicus.SRR7134976'\n",
       "68. 'Rattus_norvegicus.SRR7134977'\n",
       "69. 'Rattus_norvegicus.SRR7134978'\n",
       "70. 'Rattus_norvegicus.SRR7134979'\n",
       "71. 'Rattus_norvegicus.SRR7134980'\n",
       "72. 'Rattus_norvegicus.SRR7134981'\n",
       "73. 'Rattus_norvegicus.SRR7134982'\n",
       "74. 'Rattus_norvegicus.SRR7134983'\n",
       "75. 'Rattus_norvegicus.SRR7134984'\n",
       "76. 'Rattus_norvegicus.SRR7134985'\n",
       "77. 'Rattus_norvegicus.SRR7134986'\n",
       "78. 'Rattus_norvegicus.SRR7134987'\n",
       "\n",
       "\n"
      ],
      "text/plain": [
       " [1] \"Callithrix_jacchus.SRR7134951\"    \"Callithrix_jacchus.SRR7134952\"   \n",
       " [3] \"Callithrix_jacchus.SRR7134953\"    \"Callithrix_jacchus.SRR7134954\"   \n",
       " [5] \"Callithrix_jacchus.SRR7134955\"    \"Callithrix_jacchus.SRR7134956\"   \n",
       " [7] \"Callithrix_jacchus.SRR7134957\"    \"Callithrix_jacchus.SRR7134958\"   \n",
       " [9] \"Callithrix_jacchus.SRR7134959\"    \"Callithrix_jacchus.SRR7134960\"   \n",
       "[11] \"Callithrix_jacchus.SRR7134961\"    \"Callithrix_jacchus.SRR7134962\"   \n",
       "[13] \"Homo_sapiens.SRR7134925\"          \"Homo_sapiens.SRR7134926\"         \n",
       "[15] \"Homo_sapiens.SRR7134927\"          \"Homo_sapiens.SRR7134928\"         \n",
       "[17] \"Homo_sapiens.SRR7134929\"          \"Homo_sapiens.SRR7134930\"         \n",
       "[19] \"Homo_sapiens.SRR7134931\"          \"Homo_sapiens.SRR7134932\"         \n",
       "[21] \"Homo_sapiens.SRR7134933\"          \"Homo_sapiens.SRR7134934\"         \n",
       "[23] \"Homo_sapiens.SRR7134935\"          \"Homo_sapiens.SRR7134936\"         \n",
       "[25] \"Homo_sapiens.SRR7134937\"          \"Macaca_mulatta.SRR7134938\"       \n",
       "[27] \"Macaca_mulatta.SRR7134939\"        \"Macaca_mulatta.SRR7134940\"       \n",
       "[29] \"Macaca_mulatta.SRR7134941\"        \"Macaca_mulatta.SRR7134942\"       \n",
       "[31] \"Macaca_mulatta.SRR7134943\"        \"Macaca_mulatta.SRR7134944\"       \n",
       "[33] \"Macaca_mulatta.SRR7134945\"        \"Macaca_mulatta.SRR7134946\"       \n",
       "[35] \"Macaca_mulatta.SRR7134947\"        \"Macaca_mulatta.SRR7134948\"       \n",
       "[37] \"Macaca_mulatta.SRR7134949\"        \"Macaca_mulatta.SRR7134950\"       \n",
       "[39] \"Mus_musculus.SRR7134963\"          \"Mus_musculus.SRR7134964\"         \n",
       "[41] \"Mus_musculus.SRR7134965\"          \"Mus_musculus.SRR7134966\"         \n",
       "[43] \"Mus_musculus.SRR7134967\"          \"Mus_musculus.SRR7134968\"         \n",
       "[45] \"Mus_musculus.SRR7134969\"          \"Mus_musculus.SRR7134970\"         \n",
       "[47] \"Mus_musculus.SRR7134971\"          \"Oryctolagus_cuniculus.SRR7134988\"\n",
       "[49] \"Oryctolagus_cuniculus.SRR7134989\" \"Oryctolagus_cuniculus.SRR7134990\"\n",
       "[51] \"Oryctolagus_cuniculus.SRR7134991\" \"Oryctolagus_cuniculus.SRR7134992\"\n",
       "[53] \"Oryctolagus_cuniculus.SRR7134993\" \"Oryctolagus_cuniculus.SRR7134994\"\n",
       "[55] \"Oryctolagus_cuniculus.SRR7134995\" \"Oryctolagus_cuniculus.SRR7134996\"\n",
       "[57] \"Oryctolagus_cuniculus.SRR7134997\" \"Oryctolagus_cuniculus.SRR7134998\"\n",
       "[59] \"Oryctolagus_cuniculus.SRR7134999\" \"Oryctolagus_cuniculus.SRR7135000\"\n",
       "[61] \"Oryctolagus_cuniculus.SRR7135001\" \"Oryctolagus_cuniculus.SRR7135002\"\n",
       "[63] \"Rattus_norvegicus.SRR7134972\"     \"Rattus_norvegicus.SRR7134973\"    \n",
       "[65] \"Rattus_norvegicus.SRR7134974\"     \"Rattus_norvegicus.SRR7134975\"    \n",
       "[67] \"Rattus_norvegicus.SRR7134976\"     \"Rattus_norvegicus.SRR7134977\"    \n",
       "[69] \"Rattus_norvegicus.SRR7134978\"     \"Rattus_norvegicus.SRR7134979\"    \n",
       "[71] \"Rattus_norvegicus.SRR7134980\"     \"Rattus_norvegicus.SRR7134981\"    \n",
       "[73] \"Rattus_norvegicus.SRR7134982\"     \"Rattus_norvegicus.SRR7134983\"    \n",
       "[75] \"Rattus_norvegicus.SRR7134984\"     \"Rattus_norvegicus.SRR7134985\"    \n",
       "[77] \"Rattus_norvegicus.SRR7134986\"     \"Rattus_norvegicus.SRR7134987\"    "
      ]
     },
     "metadata": {},
     "output_type": "display_data"
    }
   ],
   "source": [
    "colnames(combined_df)"
   ]
  },
  {
   "cell_type": "code",
   "execution_count": 106,
   "metadata": {},
   "outputs": [],
   "source": [
    "write.table(combined_df,file = paste0(outputdir,\"/allwayortholgous_counts.tsv\"),sep=\"\\t\",quote = F,col.names = NA)"
   ]
  },
  {
   "cell_type": "markdown",
   "metadata": {},
   "source": [
    "# manipulating columns of combined df"
   ]
  },
  {
   "cell_type": "code",
   "execution_count": 107,
   "metadata": {},
   "outputs": [
    {
     "data": {
      "text/html": [
       "<ol class=list-inline>\n",
       "\t<li>'Callithrix_jacchus.SRR7134951'</li>\n",
       "\t<li>'Callithrix_jacchus.SRR7134952'</li>\n",
       "\t<li>'Callithrix_jacchus.SRR7134953'</li>\n",
       "\t<li>'Callithrix_jacchus.SRR7134954'</li>\n",
       "\t<li>'Callithrix_jacchus.SRR7134955'</li>\n",
       "\t<li>'Callithrix_jacchus.SRR7134956'</li>\n",
       "\t<li>'Callithrix_jacchus.SRR7134957'</li>\n",
       "\t<li>'Callithrix_jacchus.SRR7134958'</li>\n",
       "\t<li>'Callithrix_jacchus.SRR7134959'</li>\n",
       "\t<li>'Callithrix_jacchus.SRR7134960'</li>\n",
       "\t<li>'Callithrix_jacchus.SRR7134961'</li>\n",
       "\t<li>'Callithrix_jacchus.SRR7134962'</li>\n",
       "\t<li>'Homo_sapiens.SRR7134925'</li>\n",
       "\t<li>'Homo_sapiens.SRR7134926'</li>\n",
       "\t<li>'Homo_sapiens.SRR7134927'</li>\n",
       "\t<li>'Homo_sapiens.SRR7134928'</li>\n",
       "\t<li>'Homo_sapiens.SRR7134929'</li>\n",
       "\t<li>'Homo_sapiens.SRR7134930'</li>\n",
       "\t<li>'Homo_sapiens.SRR7134931'</li>\n",
       "\t<li>'Homo_sapiens.SRR7134932'</li>\n",
       "\t<li>'Homo_sapiens.SRR7134933'</li>\n",
       "\t<li>'Homo_sapiens.SRR7134934'</li>\n",
       "\t<li>'Homo_sapiens.SRR7134935'</li>\n",
       "\t<li>'Homo_sapiens.SRR7134936'</li>\n",
       "\t<li>'Homo_sapiens.SRR7134937'</li>\n",
       "\t<li>'Macaca_mulatta.SRR7134938'</li>\n",
       "\t<li>'Macaca_mulatta.SRR7134939'</li>\n",
       "\t<li>'Macaca_mulatta.SRR7134940'</li>\n",
       "\t<li>'Macaca_mulatta.SRR7134941'</li>\n",
       "\t<li>'Macaca_mulatta.SRR7134942'</li>\n",
       "\t<li>'Macaca_mulatta.SRR7134943'</li>\n",
       "\t<li>'Macaca_mulatta.SRR7134944'</li>\n",
       "\t<li>'Macaca_mulatta.SRR7134945'</li>\n",
       "\t<li>'Macaca_mulatta.SRR7134946'</li>\n",
       "\t<li>'Macaca_mulatta.SRR7134947'</li>\n",
       "\t<li>'Macaca_mulatta.SRR7134948'</li>\n",
       "\t<li>'Macaca_mulatta.SRR7134949'</li>\n",
       "\t<li>'Macaca_mulatta.SRR7134950'</li>\n",
       "\t<li>'Mus_musculus.SRR7134963'</li>\n",
       "\t<li>'Mus_musculus.SRR7134964'</li>\n",
       "\t<li>'Mus_musculus.SRR7134965'</li>\n",
       "\t<li>'Mus_musculus.SRR7134966'</li>\n",
       "\t<li>'Mus_musculus.SRR7134967'</li>\n",
       "\t<li>'Mus_musculus.SRR7134968'</li>\n",
       "\t<li>'Mus_musculus.SRR7134969'</li>\n",
       "\t<li>'Mus_musculus.SRR7134970'</li>\n",
       "\t<li>'Mus_musculus.SRR7134971'</li>\n",
       "\t<li>'Oryctolagus_cuniculus.SRR7134988'</li>\n",
       "\t<li>'Oryctolagus_cuniculus.SRR7134989'</li>\n",
       "\t<li>'Oryctolagus_cuniculus.SRR7134990'</li>\n",
       "\t<li>'Oryctolagus_cuniculus.SRR7134991'</li>\n",
       "\t<li>'Oryctolagus_cuniculus.SRR7134992'</li>\n",
       "\t<li>'Oryctolagus_cuniculus.SRR7134993'</li>\n",
       "\t<li>'Oryctolagus_cuniculus.SRR7134994'</li>\n",
       "\t<li>'Oryctolagus_cuniculus.SRR7134995'</li>\n",
       "\t<li>'Oryctolagus_cuniculus.SRR7134996'</li>\n",
       "\t<li>'Oryctolagus_cuniculus.SRR7134997'</li>\n",
       "\t<li>'Oryctolagus_cuniculus.SRR7134998'</li>\n",
       "\t<li>'Oryctolagus_cuniculus.SRR7134999'</li>\n",
       "\t<li>'Oryctolagus_cuniculus.SRR7135000'</li>\n",
       "\t<li>'Oryctolagus_cuniculus.SRR7135001'</li>\n",
       "\t<li>'Oryctolagus_cuniculus.SRR7135002'</li>\n",
       "\t<li>'Rattus_norvegicus.SRR7134972'</li>\n",
       "\t<li>'Rattus_norvegicus.SRR7134973'</li>\n",
       "\t<li>'Rattus_norvegicus.SRR7134974'</li>\n",
       "\t<li>'Rattus_norvegicus.SRR7134975'</li>\n",
       "\t<li>'Rattus_norvegicus.SRR7134976'</li>\n",
       "\t<li>'Rattus_norvegicus.SRR7134977'</li>\n",
       "\t<li>'Rattus_norvegicus.SRR7134978'</li>\n",
       "\t<li>'Rattus_norvegicus.SRR7134979'</li>\n",
       "\t<li>'Rattus_norvegicus.SRR7134980'</li>\n",
       "\t<li>'Rattus_norvegicus.SRR7134981'</li>\n",
       "\t<li>'Rattus_norvegicus.SRR7134982'</li>\n",
       "\t<li>'Rattus_norvegicus.SRR7134983'</li>\n",
       "\t<li>'Rattus_norvegicus.SRR7134984'</li>\n",
       "\t<li>'Rattus_norvegicus.SRR7134985'</li>\n",
       "\t<li>'Rattus_norvegicus.SRR7134986'</li>\n",
       "\t<li>'Rattus_norvegicus.SRR7134987'</li>\n",
       "</ol>\n"
      ],
      "text/latex": [
       "\\begin{enumerate*}\n",
       "\\item 'Callithrix\\_jacchus.SRR7134951'\n",
       "\\item 'Callithrix\\_jacchus.SRR7134952'\n",
       "\\item 'Callithrix\\_jacchus.SRR7134953'\n",
       "\\item 'Callithrix\\_jacchus.SRR7134954'\n",
       "\\item 'Callithrix\\_jacchus.SRR7134955'\n",
       "\\item 'Callithrix\\_jacchus.SRR7134956'\n",
       "\\item 'Callithrix\\_jacchus.SRR7134957'\n",
       "\\item 'Callithrix\\_jacchus.SRR7134958'\n",
       "\\item 'Callithrix\\_jacchus.SRR7134959'\n",
       "\\item 'Callithrix\\_jacchus.SRR7134960'\n",
       "\\item 'Callithrix\\_jacchus.SRR7134961'\n",
       "\\item 'Callithrix\\_jacchus.SRR7134962'\n",
       "\\item 'Homo\\_sapiens.SRR7134925'\n",
       "\\item 'Homo\\_sapiens.SRR7134926'\n",
       "\\item 'Homo\\_sapiens.SRR7134927'\n",
       "\\item 'Homo\\_sapiens.SRR7134928'\n",
       "\\item 'Homo\\_sapiens.SRR7134929'\n",
       "\\item 'Homo\\_sapiens.SRR7134930'\n",
       "\\item 'Homo\\_sapiens.SRR7134931'\n",
       "\\item 'Homo\\_sapiens.SRR7134932'\n",
       "\\item 'Homo\\_sapiens.SRR7134933'\n",
       "\\item 'Homo\\_sapiens.SRR7134934'\n",
       "\\item 'Homo\\_sapiens.SRR7134935'\n",
       "\\item 'Homo\\_sapiens.SRR7134936'\n",
       "\\item 'Homo\\_sapiens.SRR7134937'\n",
       "\\item 'Macaca\\_mulatta.SRR7134938'\n",
       "\\item 'Macaca\\_mulatta.SRR7134939'\n",
       "\\item 'Macaca\\_mulatta.SRR7134940'\n",
       "\\item 'Macaca\\_mulatta.SRR7134941'\n",
       "\\item 'Macaca\\_mulatta.SRR7134942'\n",
       "\\item 'Macaca\\_mulatta.SRR7134943'\n",
       "\\item 'Macaca\\_mulatta.SRR7134944'\n",
       "\\item 'Macaca\\_mulatta.SRR7134945'\n",
       "\\item 'Macaca\\_mulatta.SRR7134946'\n",
       "\\item 'Macaca\\_mulatta.SRR7134947'\n",
       "\\item 'Macaca\\_mulatta.SRR7134948'\n",
       "\\item 'Macaca\\_mulatta.SRR7134949'\n",
       "\\item 'Macaca\\_mulatta.SRR7134950'\n",
       "\\item 'Mus\\_musculus.SRR7134963'\n",
       "\\item 'Mus\\_musculus.SRR7134964'\n",
       "\\item 'Mus\\_musculus.SRR7134965'\n",
       "\\item 'Mus\\_musculus.SRR7134966'\n",
       "\\item 'Mus\\_musculus.SRR7134967'\n",
       "\\item 'Mus\\_musculus.SRR7134968'\n",
       "\\item 'Mus\\_musculus.SRR7134969'\n",
       "\\item 'Mus\\_musculus.SRR7134970'\n",
       "\\item 'Mus\\_musculus.SRR7134971'\n",
       "\\item 'Oryctolagus\\_cuniculus.SRR7134988'\n",
       "\\item 'Oryctolagus\\_cuniculus.SRR7134989'\n",
       "\\item 'Oryctolagus\\_cuniculus.SRR7134990'\n",
       "\\item 'Oryctolagus\\_cuniculus.SRR7134991'\n",
       "\\item 'Oryctolagus\\_cuniculus.SRR7134992'\n",
       "\\item 'Oryctolagus\\_cuniculus.SRR7134993'\n",
       "\\item 'Oryctolagus\\_cuniculus.SRR7134994'\n",
       "\\item 'Oryctolagus\\_cuniculus.SRR7134995'\n",
       "\\item 'Oryctolagus\\_cuniculus.SRR7134996'\n",
       "\\item 'Oryctolagus\\_cuniculus.SRR7134997'\n",
       "\\item 'Oryctolagus\\_cuniculus.SRR7134998'\n",
       "\\item 'Oryctolagus\\_cuniculus.SRR7134999'\n",
       "\\item 'Oryctolagus\\_cuniculus.SRR7135000'\n",
       "\\item 'Oryctolagus\\_cuniculus.SRR7135001'\n",
       "\\item 'Oryctolagus\\_cuniculus.SRR7135002'\n",
       "\\item 'Rattus\\_norvegicus.SRR7134972'\n",
       "\\item 'Rattus\\_norvegicus.SRR7134973'\n",
       "\\item 'Rattus\\_norvegicus.SRR7134974'\n",
       "\\item 'Rattus\\_norvegicus.SRR7134975'\n",
       "\\item 'Rattus\\_norvegicus.SRR7134976'\n",
       "\\item 'Rattus\\_norvegicus.SRR7134977'\n",
       "\\item 'Rattus\\_norvegicus.SRR7134978'\n",
       "\\item 'Rattus\\_norvegicus.SRR7134979'\n",
       "\\item 'Rattus\\_norvegicus.SRR7134980'\n",
       "\\item 'Rattus\\_norvegicus.SRR7134981'\n",
       "\\item 'Rattus\\_norvegicus.SRR7134982'\n",
       "\\item 'Rattus\\_norvegicus.SRR7134983'\n",
       "\\item 'Rattus\\_norvegicus.SRR7134984'\n",
       "\\item 'Rattus\\_norvegicus.SRR7134985'\n",
       "\\item 'Rattus\\_norvegicus.SRR7134986'\n",
       "\\item 'Rattus\\_norvegicus.SRR7134987'\n",
       "\\end{enumerate*}\n"
      ],
      "text/markdown": [
       "1. 'Callithrix_jacchus.SRR7134951'\n",
       "2. 'Callithrix_jacchus.SRR7134952'\n",
       "3. 'Callithrix_jacchus.SRR7134953'\n",
       "4. 'Callithrix_jacchus.SRR7134954'\n",
       "5. 'Callithrix_jacchus.SRR7134955'\n",
       "6. 'Callithrix_jacchus.SRR7134956'\n",
       "7. 'Callithrix_jacchus.SRR7134957'\n",
       "8. 'Callithrix_jacchus.SRR7134958'\n",
       "9. 'Callithrix_jacchus.SRR7134959'\n",
       "10. 'Callithrix_jacchus.SRR7134960'\n",
       "11. 'Callithrix_jacchus.SRR7134961'\n",
       "12. 'Callithrix_jacchus.SRR7134962'\n",
       "13. 'Homo_sapiens.SRR7134925'\n",
       "14. 'Homo_sapiens.SRR7134926'\n",
       "15. 'Homo_sapiens.SRR7134927'\n",
       "16. 'Homo_sapiens.SRR7134928'\n",
       "17. 'Homo_sapiens.SRR7134929'\n",
       "18. 'Homo_sapiens.SRR7134930'\n",
       "19. 'Homo_sapiens.SRR7134931'\n",
       "20. 'Homo_sapiens.SRR7134932'\n",
       "21. 'Homo_sapiens.SRR7134933'\n",
       "22. 'Homo_sapiens.SRR7134934'\n",
       "23. 'Homo_sapiens.SRR7134935'\n",
       "24. 'Homo_sapiens.SRR7134936'\n",
       "25. 'Homo_sapiens.SRR7134937'\n",
       "26. 'Macaca_mulatta.SRR7134938'\n",
       "27. 'Macaca_mulatta.SRR7134939'\n",
       "28. 'Macaca_mulatta.SRR7134940'\n",
       "29. 'Macaca_mulatta.SRR7134941'\n",
       "30. 'Macaca_mulatta.SRR7134942'\n",
       "31. 'Macaca_mulatta.SRR7134943'\n",
       "32. 'Macaca_mulatta.SRR7134944'\n",
       "33. 'Macaca_mulatta.SRR7134945'\n",
       "34. 'Macaca_mulatta.SRR7134946'\n",
       "35. 'Macaca_mulatta.SRR7134947'\n",
       "36. 'Macaca_mulatta.SRR7134948'\n",
       "37. 'Macaca_mulatta.SRR7134949'\n",
       "38. 'Macaca_mulatta.SRR7134950'\n",
       "39. 'Mus_musculus.SRR7134963'\n",
       "40. 'Mus_musculus.SRR7134964'\n",
       "41. 'Mus_musculus.SRR7134965'\n",
       "42. 'Mus_musculus.SRR7134966'\n",
       "43. 'Mus_musculus.SRR7134967'\n",
       "44. 'Mus_musculus.SRR7134968'\n",
       "45. 'Mus_musculus.SRR7134969'\n",
       "46. 'Mus_musculus.SRR7134970'\n",
       "47. 'Mus_musculus.SRR7134971'\n",
       "48. 'Oryctolagus_cuniculus.SRR7134988'\n",
       "49. 'Oryctolagus_cuniculus.SRR7134989'\n",
       "50. 'Oryctolagus_cuniculus.SRR7134990'\n",
       "51. 'Oryctolagus_cuniculus.SRR7134991'\n",
       "52. 'Oryctolagus_cuniculus.SRR7134992'\n",
       "53. 'Oryctolagus_cuniculus.SRR7134993'\n",
       "54. 'Oryctolagus_cuniculus.SRR7134994'\n",
       "55. 'Oryctolagus_cuniculus.SRR7134995'\n",
       "56. 'Oryctolagus_cuniculus.SRR7134996'\n",
       "57. 'Oryctolagus_cuniculus.SRR7134997'\n",
       "58. 'Oryctolagus_cuniculus.SRR7134998'\n",
       "59. 'Oryctolagus_cuniculus.SRR7134999'\n",
       "60. 'Oryctolagus_cuniculus.SRR7135000'\n",
       "61. 'Oryctolagus_cuniculus.SRR7135001'\n",
       "62. 'Oryctolagus_cuniculus.SRR7135002'\n",
       "63. 'Rattus_norvegicus.SRR7134972'\n",
       "64. 'Rattus_norvegicus.SRR7134973'\n",
       "65. 'Rattus_norvegicus.SRR7134974'\n",
       "66. 'Rattus_norvegicus.SRR7134975'\n",
       "67. 'Rattus_norvegicus.SRR7134976'\n",
       "68. 'Rattus_norvegicus.SRR7134977'\n",
       "69. 'Rattus_norvegicus.SRR7134978'\n",
       "70. 'Rattus_norvegicus.SRR7134979'\n",
       "71. 'Rattus_norvegicus.SRR7134980'\n",
       "72. 'Rattus_norvegicus.SRR7134981'\n",
       "73. 'Rattus_norvegicus.SRR7134982'\n",
       "74. 'Rattus_norvegicus.SRR7134983'\n",
       "75. 'Rattus_norvegicus.SRR7134984'\n",
       "76. 'Rattus_norvegicus.SRR7134985'\n",
       "77. 'Rattus_norvegicus.SRR7134986'\n",
       "78. 'Rattus_norvegicus.SRR7134987'\n",
       "\n",
       "\n"
      ],
      "text/plain": [
       " [1] \"Callithrix_jacchus.SRR7134951\"    \"Callithrix_jacchus.SRR7134952\"   \n",
       " [3] \"Callithrix_jacchus.SRR7134953\"    \"Callithrix_jacchus.SRR7134954\"   \n",
       " [5] \"Callithrix_jacchus.SRR7134955\"    \"Callithrix_jacchus.SRR7134956\"   \n",
       " [7] \"Callithrix_jacchus.SRR7134957\"    \"Callithrix_jacchus.SRR7134958\"   \n",
       " [9] \"Callithrix_jacchus.SRR7134959\"    \"Callithrix_jacchus.SRR7134960\"   \n",
       "[11] \"Callithrix_jacchus.SRR7134961\"    \"Callithrix_jacchus.SRR7134962\"   \n",
       "[13] \"Homo_sapiens.SRR7134925\"          \"Homo_sapiens.SRR7134926\"         \n",
       "[15] \"Homo_sapiens.SRR7134927\"          \"Homo_sapiens.SRR7134928\"         \n",
       "[17] \"Homo_sapiens.SRR7134929\"          \"Homo_sapiens.SRR7134930\"         \n",
       "[19] \"Homo_sapiens.SRR7134931\"          \"Homo_sapiens.SRR7134932\"         \n",
       "[21] \"Homo_sapiens.SRR7134933\"          \"Homo_sapiens.SRR7134934\"         \n",
       "[23] \"Homo_sapiens.SRR7134935\"          \"Homo_sapiens.SRR7134936\"         \n",
       "[25] \"Homo_sapiens.SRR7134937\"          \"Macaca_mulatta.SRR7134938\"       \n",
       "[27] \"Macaca_mulatta.SRR7134939\"        \"Macaca_mulatta.SRR7134940\"       \n",
       "[29] \"Macaca_mulatta.SRR7134941\"        \"Macaca_mulatta.SRR7134942\"       \n",
       "[31] \"Macaca_mulatta.SRR7134943\"        \"Macaca_mulatta.SRR7134944\"       \n",
       "[33] \"Macaca_mulatta.SRR7134945\"        \"Macaca_mulatta.SRR7134946\"       \n",
       "[35] \"Macaca_mulatta.SRR7134947\"        \"Macaca_mulatta.SRR7134948\"       \n",
       "[37] \"Macaca_mulatta.SRR7134949\"        \"Macaca_mulatta.SRR7134950\"       \n",
       "[39] \"Mus_musculus.SRR7134963\"          \"Mus_musculus.SRR7134964\"         \n",
       "[41] \"Mus_musculus.SRR7134965\"          \"Mus_musculus.SRR7134966\"         \n",
       "[43] \"Mus_musculus.SRR7134967\"          \"Mus_musculus.SRR7134968\"         \n",
       "[45] \"Mus_musculus.SRR7134969\"          \"Mus_musculus.SRR7134970\"         \n",
       "[47] \"Mus_musculus.SRR7134971\"          \"Oryctolagus_cuniculus.SRR7134988\"\n",
       "[49] \"Oryctolagus_cuniculus.SRR7134989\" \"Oryctolagus_cuniculus.SRR7134990\"\n",
       "[51] \"Oryctolagus_cuniculus.SRR7134991\" \"Oryctolagus_cuniculus.SRR7134992\"\n",
       "[53] \"Oryctolagus_cuniculus.SRR7134993\" \"Oryctolagus_cuniculus.SRR7134994\"\n",
       "[55] \"Oryctolagus_cuniculus.SRR7134995\" \"Oryctolagus_cuniculus.SRR7134996\"\n",
       "[57] \"Oryctolagus_cuniculus.SRR7134997\" \"Oryctolagus_cuniculus.SRR7134998\"\n",
       "[59] \"Oryctolagus_cuniculus.SRR7134999\" \"Oryctolagus_cuniculus.SRR7135000\"\n",
       "[61] \"Oryctolagus_cuniculus.SRR7135001\" \"Oryctolagus_cuniculus.SRR7135002\"\n",
       "[63] \"Rattus_norvegicus.SRR7134972\"     \"Rattus_norvegicus.SRR7134973\"    \n",
       "[65] \"Rattus_norvegicus.SRR7134974\"     \"Rattus_norvegicus.SRR7134975\"    \n",
       "[67] \"Rattus_norvegicus.SRR7134976\"     \"Rattus_norvegicus.SRR7134977\"    \n",
       "[69] \"Rattus_norvegicus.SRR7134978\"     \"Rattus_norvegicus.SRR7134979\"    \n",
       "[71] \"Rattus_norvegicus.SRR7134980\"     \"Rattus_norvegicus.SRR7134981\"    \n",
       "[73] \"Rattus_norvegicus.SRR7134982\"     \"Rattus_norvegicus.SRR7134983\"    \n",
       "[75] \"Rattus_norvegicus.SRR7134984\"     \"Rattus_norvegicus.SRR7134985\"    \n",
       "[77] \"Rattus_norvegicus.SRR7134986\"     \"Rattus_norvegicus.SRR7134987\"    "
      ]
     },
     "metadata": {},
     "output_type": "display_data"
    }
   ],
   "source": [
    "colnames(combined_df)"
   ]
  },
  {
   "cell_type": "code",
   "execution_count": 109,
   "metadata": {},
   "outputs": [],
   "source": [
    "?tstrsplit"
   ]
  },
  {
   "cell_type": "code",
   "execution_count": 117,
   "metadata": {},
   "outputs": [
    {
     "data": {
      "text/html": [
       "<ol class=list-inline>\n",
       "\t<li>'SRR7134951'</li>\n",
       "\t<li>'SRR7134952'</li>\n",
       "\t<li>'SRR7134953'</li>\n",
       "\t<li>'SRR7134954'</li>\n",
       "\t<li>'SRR7134955'</li>\n",
       "\t<li>'SRR7134956'</li>\n",
       "\t<li>'SRR7134957'</li>\n",
       "\t<li>'SRR7134958'</li>\n",
       "\t<li>'SRR7134959'</li>\n",
       "\t<li>'SRR7134960'</li>\n",
       "\t<li>'SRR7134961'</li>\n",
       "\t<li>'SRR7134962'</li>\n",
       "\t<li>'SRR7134925'</li>\n",
       "\t<li>'SRR7134926'</li>\n",
       "\t<li>'SRR7134927'</li>\n",
       "\t<li>'SRR7134928'</li>\n",
       "\t<li>'SRR7134929'</li>\n",
       "\t<li>'SRR7134930'</li>\n",
       "\t<li>'SRR7134931'</li>\n",
       "\t<li>'SRR7134932'</li>\n",
       "\t<li>'SRR7134933'</li>\n",
       "\t<li>'SRR7134934'</li>\n",
       "\t<li>'SRR7134935'</li>\n",
       "\t<li>'SRR7134936'</li>\n",
       "\t<li>'SRR7134937'</li>\n",
       "\t<li>'SRR7134938'</li>\n",
       "\t<li>'SRR7134939'</li>\n",
       "\t<li>'SRR7134940'</li>\n",
       "\t<li>'SRR7134941'</li>\n",
       "\t<li>'SRR7134942'</li>\n",
       "\t<li>'SRR7134943'</li>\n",
       "\t<li>'SRR7134944'</li>\n",
       "\t<li>'SRR7134945'</li>\n",
       "\t<li>'SRR7134946'</li>\n",
       "\t<li>'SRR7134947'</li>\n",
       "\t<li>'SRR7134948'</li>\n",
       "\t<li>'SRR7134949'</li>\n",
       "\t<li>'SRR7134950'</li>\n",
       "\t<li>'SRR7134963'</li>\n",
       "\t<li>'SRR7134964'</li>\n",
       "\t<li>'SRR7134965'</li>\n",
       "\t<li>'SRR7134966'</li>\n",
       "\t<li>'SRR7134967'</li>\n",
       "\t<li>'SRR7134968'</li>\n",
       "\t<li>'SRR7134969'</li>\n",
       "\t<li>'SRR7134970'</li>\n",
       "\t<li>'SRR7134971'</li>\n",
       "\t<li>'SRR7134988'</li>\n",
       "\t<li>'SRR7134989'</li>\n",
       "\t<li>'SRR7134990'</li>\n",
       "\t<li>'SRR7134991'</li>\n",
       "\t<li>'SRR7134992'</li>\n",
       "\t<li>'SRR7134993'</li>\n",
       "\t<li>'SRR7134994'</li>\n",
       "\t<li>'SRR7134995'</li>\n",
       "\t<li>'SRR7134996'</li>\n",
       "\t<li>'SRR7134997'</li>\n",
       "\t<li>'SRR7134998'</li>\n",
       "\t<li>'SRR7134999'</li>\n",
       "\t<li>'SRR7135000'</li>\n",
       "\t<li>'SRR7135001'</li>\n",
       "\t<li>'SRR7135002'</li>\n",
       "\t<li>'SRR7134972'</li>\n",
       "\t<li>'SRR7134973'</li>\n",
       "\t<li>'SRR7134974'</li>\n",
       "\t<li>'SRR7134975'</li>\n",
       "\t<li>'SRR7134976'</li>\n",
       "\t<li>'SRR7134977'</li>\n",
       "\t<li>'SRR7134978'</li>\n",
       "\t<li>'SRR7134979'</li>\n",
       "\t<li>'SRR7134980'</li>\n",
       "\t<li>'SRR7134981'</li>\n",
       "\t<li>'SRR7134982'</li>\n",
       "\t<li>'SRR7134983'</li>\n",
       "\t<li>'SRR7134984'</li>\n",
       "\t<li>'SRR7134985'</li>\n",
       "\t<li>'SRR7134986'</li>\n",
       "\t<li>'SRR7134987'</li>\n",
       "</ol>\n"
      ],
      "text/latex": [
       "\\begin{enumerate*}\n",
       "\\item 'SRR7134951'\n",
       "\\item 'SRR7134952'\n",
       "\\item 'SRR7134953'\n",
       "\\item 'SRR7134954'\n",
       "\\item 'SRR7134955'\n",
       "\\item 'SRR7134956'\n",
       "\\item 'SRR7134957'\n",
       "\\item 'SRR7134958'\n",
       "\\item 'SRR7134959'\n",
       "\\item 'SRR7134960'\n",
       "\\item 'SRR7134961'\n",
       "\\item 'SRR7134962'\n",
       "\\item 'SRR7134925'\n",
       "\\item 'SRR7134926'\n",
       "\\item 'SRR7134927'\n",
       "\\item 'SRR7134928'\n",
       "\\item 'SRR7134929'\n",
       "\\item 'SRR7134930'\n",
       "\\item 'SRR7134931'\n",
       "\\item 'SRR7134932'\n",
       "\\item 'SRR7134933'\n",
       "\\item 'SRR7134934'\n",
       "\\item 'SRR7134935'\n",
       "\\item 'SRR7134936'\n",
       "\\item 'SRR7134937'\n",
       "\\item 'SRR7134938'\n",
       "\\item 'SRR7134939'\n",
       "\\item 'SRR7134940'\n",
       "\\item 'SRR7134941'\n",
       "\\item 'SRR7134942'\n",
       "\\item 'SRR7134943'\n",
       "\\item 'SRR7134944'\n",
       "\\item 'SRR7134945'\n",
       "\\item 'SRR7134946'\n",
       "\\item 'SRR7134947'\n",
       "\\item 'SRR7134948'\n",
       "\\item 'SRR7134949'\n",
       "\\item 'SRR7134950'\n",
       "\\item 'SRR7134963'\n",
       "\\item 'SRR7134964'\n",
       "\\item 'SRR7134965'\n",
       "\\item 'SRR7134966'\n",
       "\\item 'SRR7134967'\n",
       "\\item 'SRR7134968'\n",
       "\\item 'SRR7134969'\n",
       "\\item 'SRR7134970'\n",
       "\\item 'SRR7134971'\n",
       "\\item 'SRR7134988'\n",
       "\\item 'SRR7134989'\n",
       "\\item 'SRR7134990'\n",
       "\\item 'SRR7134991'\n",
       "\\item 'SRR7134992'\n",
       "\\item 'SRR7134993'\n",
       "\\item 'SRR7134994'\n",
       "\\item 'SRR7134995'\n",
       "\\item 'SRR7134996'\n",
       "\\item 'SRR7134997'\n",
       "\\item 'SRR7134998'\n",
       "\\item 'SRR7134999'\n",
       "\\item 'SRR7135000'\n",
       "\\item 'SRR7135001'\n",
       "\\item 'SRR7135002'\n",
       "\\item 'SRR7134972'\n",
       "\\item 'SRR7134973'\n",
       "\\item 'SRR7134974'\n",
       "\\item 'SRR7134975'\n",
       "\\item 'SRR7134976'\n",
       "\\item 'SRR7134977'\n",
       "\\item 'SRR7134978'\n",
       "\\item 'SRR7134979'\n",
       "\\item 'SRR7134980'\n",
       "\\item 'SRR7134981'\n",
       "\\item 'SRR7134982'\n",
       "\\item 'SRR7134983'\n",
       "\\item 'SRR7134984'\n",
       "\\item 'SRR7134985'\n",
       "\\item 'SRR7134986'\n",
       "\\item 'SRR7134987'\n",
       "\\end{enumerate*}\n"
      ],
      "text/markdown": [
       "1. 'SRR7134951'\n",
       "2. 'SRR7134952'\n",
       "3. 'SRR7134953'\n",
       "4. 'SRR7134954'\n",
       "5. 'SRR7134955'\n",
       "6. 'SRR7134956'\n",
       "7. 'SRR7134957'\n",
       "8. 'SRR7134958'\n",
       "9. 'SRR7134959'\n",
       "10. 'SRR7134960'\n",
       "11. 'SRR7134961'\n",
       "12. 'SRR7134962'\n",
       "13. 'SRR7134925'\n",
       "14. 'SRR7134926'\n",
       "15. 'SRR7134927'\n",
       "16. 'SRR7134928'\n",
       "17. 'SRR7134929'\n",
       "18. 'SRR7134930'\n",
       "19. 'SRR7134931'\n",
       "20. 'SRR7134932'\n",
       "21. 'SRR7134933'\n",
       "22. 'SRR7134934'\n",
       "23. 'SRR7134935'\n",
       "24. 'SRR7134936'\n",
       "25. 'SRR7134937'\n",
       "26. 'SRR7134938'\n",
       "27. 'SRR7134939'\n",
       "28. 'SRR7134940'\n",
       "29. 'SRR7134941'\n",
       "30. 'SRR7134942'\n",
       "31. 'SRR7134943'\n",
       "32. 'SRR7134944'\n",
       "33. 'SRR7134945'\n",
       "34. 'SRR7134946'\n",
       "35. 'SRR7134947'\n",
       "36. 'SRR7134948'\n",
       "37. 'SRR7134949'\n",
       "38. 'SRR7134950'\n",
       "39. 'SRR7134963'\n",
       "40. 'SRR7134964'\n",
       "41. 'SRR7134965'\n",
       "42. 'SRR7134966'\n",
       "43. 'SRR7134967'\n",
       "44. 'SRR7134968'\n",
       "45. 'SRR7134969'\n",
       "46. 'SRR7134970'\n",
       "47. 'SRR7134971'\n",
       "48. 'SRR7134988'\n",
       "49. 'SRR7134989'\n",
       "50. 'SRR7134990'\n",
       "51. 'SRR7134991'\n",
       "52. 'SRR7134992'\n",
       "53. 'SRR7134993'\n",
       "54. 'SRR7134994'\n",
       "55. 'SRR7134995'\n",
       "56. 'SRR7134996'\n",
       "57. 'SRR7134997'\n",
       "58. 'SRR7134998'\n",
       "59. 'SRR7134999'\n",
       "60. 'SRR7135000'\n",
       "61. 'SRR7135001'\n",
       "62. 'SRR7135002'\n",
       "63. 'SRR7134972'\n",
       "64. 'SRR7134973'\n",
       "65. 'SRR7134974'\n",
       "66. 'SRR7134975'\n",
       "67. 'SRR7134976'\n",
       "68. 'SRR7134977'\n",
       "69. 'SRR7134978'\n",
       "70. 'SRR7134979'\n",
       "71. 'SRR7134980'\n",
       "72. 'SRR7134981'\n",
       "73. 'SRR7134982'\n",
       "74. 'SRR7134983'\n",
       "75. 'SRR7134984'\n",
       "76. 'SRR7134985'\n",
       "77. 'SRR7134986'\n",
       "78. 'SRR7134987'\n",
       "\n",
       "\n"
      ],
      "text/plain": [
       " [1] \"SRR7134951\" \"SRR7134952\" \"SRR7134953\" \"SRR7134954\" \"SRR7134955\"\n",
       " [6] \"SRR7134956\" \"SRR7134957\" \"SRR7134958\" \"SRR7134959\" \"SRR7134960\"\n",
       "[11] \"SRR7134961\" \"SRR7134962\" \"SRR7134925\" \"SRR7134926\" \"SRR7134927\"\n",
       "[16] \"SRR7134928\" \"SRR7134929\" \"SRR7134930\" \"SRR7134931\" \"SRR7134932\"\n",
       "[21] \"SRR7134933\" \"SRR7134934\" \"SRR7134935\" \"SRR7134936\" \"SRR7134937\"\n",
       "[26] \"SRR7134938\" \"SRR7134939\" \"SRR7134940\" \"SRR7134941\" \"SRR7134942\"\n",
       "[31] \"SRR7134943\" \"SRR7134944\" \"SRR7134945\" \"SRR7134946\" \"SRR7134947\"\n",
       "[36] \"SRR7134948\" \"SRR7134949\" \"SRR7134950\" \"SRR7134963\" \"SRR7134964\"\n",
       "[41] \"SRR7134965\" \"SRR7134966\" \"SRR7134967\" \"SRR7134968\" \"SRR7134969\"\n",
       "[46] \"SRR7134970\" \"SRR7134971\" \"SRR7134988\" \"SRR7134989\" \"SRR7134990\"\n",
       "[51] \"SRR7134991\" \"SRR7134992\" \"SRR7134993\" \"SRR7134994\" \"SRR7134995\"\n",
       "[56] \"SRR7134996\" \"SRR7134997\" \"SRR7134998\" \"SRR7134999\" \"SRR7135000\"\n",
       "[61] \"SRR7135001\" \"SRR7135002\" \"SRR7134972\" \"SRR7134973\" \"SRR7134974\"\n",
       "[66] \"SRR7134975\" \"SRR7134976\" \"SRR7134977\" \"SRR7134978\" \"SRR7134979\"\n",
       "[71] \"SRR7134980\" \"SRR7134981\" \"SRR7134982\" \"SRR7134983\" \"SRR7134984\"\n",
       "[76] \"SRR7134985\" \"SRR7134986\" \"SRR7134987\""
      ]
     },
     "metadata": {},
     "output_type": "display_data"
    }
   ],
   "source": [
    "tstrsplit(colnames(combined_df),\"\\\\.\")[[2]]"
   ]
  },
  {
   "cell_type": "code",
   "execution_count": 118,
   "metadata": {},
   "outputs": [
    {
     "data": {
      "text/html": [
       "<table>\n",
       "<thead><tr><th></th><th scope=col>Callithrix_jacchus.SRR7134951</th><th scope=col>Callithrix_jacchus.SRR7134952</th><th scope=col>Callithrix_jacchus.SRR7134953</th></tr></thead>\n",
       "<tbody>\n",
       "\t<tr><th scope=row>ENSG00000088766</th><td>189 </td><td> 110</td><td> 293</td></tr>\n",
       "\t<tr><th scope=row>ENSG00000010319</th><td> 51 </td><td> 135</td><td> 310</td></tr>\n",
       "\t<tr><th scope=row>ENSG00000188338</th><td>831 </td><td>1550</td><td>1390</td></tr>\n",
       "</tbody>\n",
       "</table>\n"
      ],
      "text/latex": [
       "\\begin{tabular}{r|lll}\n",
       "  & Callithrix\\_jacchus.SRR7134951 & Callithrix\\_jacchus.SRR7134952 & Callithrix\\_jacchus.SRR7134953\\\\\n",
       "\\hline\n",
       "\tENSG00000088766 & 189  &  110 &  293\\\\\n",
       "\tENSG00000010319 &  51  &  135 &  310\\\\\n",
       "\tENSG00000188338 & 831  & 1550 & 1390\\\\\n",
       "\\end{tabular}\n"
      ],
      "text/markdown": [
       "\n",
       "| <!--/--> | Callithrix_jacchus.SRR7134951 | Callithrix_jacchus.SRR7134952 | Callithrix_jacchus.SRR7134953 | \n",
       "|---|---|---|\n",
       "| ENSG00000088766 | 189  |  110 |  293 | \n",
       "| ENSG00000010319 |  51  |  135 |  310 | \n",
       "| ENSG00000188338 | 831  | 1550 | 1390 | \n",
       "\n",
       "\n"
      ],
      "text/plain": [
       "                Callithrix_jacchus.SRR7134951 Callithrix_jacchus.SRR7134952\n",
       "ENSG00000088766 189                            110                         \n",
       "ENSG00000010319  51                            135                         \n",
       "ENSG00000188338 831                           1550                         \n",
       "                Callithrix_jacchus.SRR7134953\n",
       "ENSG00000088766  293                         \n",
       "ENSG00000010319  310                         \n",
       "ENSG00000188338 1390                         "
      ]
     },
     "metadata": {},
     "output_type": "display_data"
    }
   ],
   "source": [
    "combined_df[1:3,1:3]"
   ]
  },
  {
   "cell_type": "code",
   "execution_count": 120,
   "metadata": {},
   "outputs": [
    {
     "data": {
      "text/html": [
       "<table>\n",
       "<thead><tr><th></th><th scope=col>SRR7134951</th><th scope=col>SRR7134952</th><th scope=col>SRR7134953</th></tr></thead>\n",
       "<tbody>\n",
       "\t<tr><th scope=row>ENSG00000088766</th><td>189 </td><td> 110</td><td> 293</td></tr>\n",
       "\t<tr><th scope=row>ENSG00000010319</th><td> 51 </td><td> 135</td><td> 310</td></tr>\n",
       "\t<tr><th scope=row>ENSG00000188338</th><td>831 </td><td>1550</td><td>1390</td></tr>\n",
       "</tbody>\n",
       "</table>\n"
      ],
      "text/latex": [
       "\\begin{tabular}{r|lll}\n",
       "  & SRR7134951 & SRR7134952 & SRR7134953\\\\\n",
       "\\hline\n",
       "\tENSG00000088766 & 189  &  110 &  293\\\\\n",
       "\tENSG00000010319 &  51  &  135 &  310\\\\\n",
       "\tENSG00000188338 & 831  & 1550 & 1390\\\\\n",
       "\\end{tabular}\n"
      ],
      "text/markdown": [
       "\n",
       "| <!--/--> | SRR7134951 | SRR7134952 | SRR7134953 | \n",
       "|---|---|---|\n",
       "| ENSG00000088766 | 189  |  110 |  293 | \n",
       "| ENSG00000010319 |  51  |  135 |  310 | \n",
       "| ENSG00000188338 | 831  | 1550 | 1390 | \n",
       "\n",
       "\n"
      ],
      "text/plain": [
       "                SRR7134951 SRR7134952 SRR7134953\n",
       "ENSG00000088766 189         110        293      \n",
       "ENSG00000010319  51         135        310      \n",
       "ENSG00000188338 831        1550       1390      "
      ]
     },
     "metadata": {},
     "output_type": "display_data"
    }
   ],
   "source": [
    "colnames(combined_df) = tstrsplit(colnames(combined_df),\"\\\\.\")[[2]]\n",
    "combined_df[1:3,1:3]"
   ]
  },
  {
   "cell_type": "markdown",
   "metadata": {},
   "source": [
    "# change colnames"
   ]
  },
  {
   "cell_type": "code",
   "execution_count": 119,
   "metadata": {},
   "outputs": [
    {
     "data": {
      "text/html": [
       "<table>\n",
       "<thead><tr><th scope=col>srr</th><th scope=col>srr_title</th></tr></thead>\n",
       "<tbody>\n",
       "\t<tr><td>SRR7134943               </td><td>SRR7134943_macaque_heart </td></tr>\n",
       "\t<tr><td>SRR7134944               </td><td>SRR7134944_macaque_kidney</td></tr>\n",
       "\t<tr><td>SRR7134945               </td><td>SRR7134945_macaque_kidney</td></tr>\n",
       "\t<tr><td>SRR7134946               </td><td>SRR7134946_macaque_kidney</td></tr>\n",
       "\t<tr><td>SRR7134947               </td><td>SRR7134947_macaque_liver </td></tr>\n",
       "\t<tr><td>SRR7134948               </td><td>SRR7134948_macaque_liver </td></tr>\n",
       "</tbody>\n",
       "</table>\n"
      ],
      "text/latex": [
       "\\begin{tabular}{r|ll}\n",
       " srr & srr\\_title\\\\\n",
       "\\hline\n",
       "\t SRR7134943                    & SRR7134943\\_macaque\\_heart \\\\\n",
       "\t SRR7134944                    & SRR7134944\\_macaque\\_kidney\\\\\n",
       "\t SRR7134945                    & SRR7134945\\_macaque\\_kidney\\\\\n",
       "\t SRR7134946                    & SRR7134946\\_macaque\\_kidney\\\\\n",
       "\t SRR7134947                    & SRR7134947\\_macaque\\_liver \\\\\n",
       "\t SRR7134948                    & SRR7134948\\_macaque\\_liver \\\\\n",
       "\\end{tabular}\n"
      ],
      "text/markdown": [
       "\n",
       "srr | srr_title | \n",
       "|---|---|---|---|---|---|\n",
       "| SRR7134943                | SRR7134943_macaque_heart  | \n",
       "| SRR7134944                | SRR7134944_macaque_kidney | \n",
       "| SRR7134945                | SRR7134945_macaque_kidney | \n",
       "| SRR7134946                | SRR7134946_macaque_kidney | \n",
       "| SRR7134947                | SRR7134947_macaque_liver  | \n",
       "| SRR7134948                | SRR7134948_macaque_liver  | \n",
       "\n",
       "\n"
      ],
      "text/plain": [
       "  srr        srr_title                \n",
       "1 SRR7134943 SRR7134943_macaque_heart \n",
       "2 SRR7134944 SRR7134944_macaque_kidney\n",
       "3 SRR7134945 SRR7134945_macaque_kidney\n",
       "4 SRR7134946 SRR7134946_macaque_kidney\n",
       "5 SRR7134947 SRR7134947_macaque_liver \n",
       "6 SRR7134948 SRR7134948_macaque_liver "
      ]
     },
     "metadata": {},
     "output_type": "display_data"
    }
   ],
   "source": [
    "cinfo = \"/panfs/cmb-panasas2/amalthom/work_staging/species_analysis/carelli2018_analysis/carelli2018_srpinfo.tsv\"\n",
    "cnames = read.table(cinfo, sep=\"\\t\",header=T)\n",
    "head(cnames)"
   ]
  },
  {
   "cell_type": "code",
   "execution_count": 125,
   "metadata": {},
   "outputs": [
    {
     "data": {
      "text/plain": [
       "   Mode    TRUE \n",
       "logical      78 "
      ]
     },
     "metadata": {},
     "output_type": "display_data"
    },
    {
     "data": {
      "text/html": [
       "<table>\n",
       "<thead><tr><th></th><th scope=col>srr</th><th scope=col>srr_title</th></tr></thead>\n",
       "<tbody>\n",
       "\t<tr><th scope=row>9</th><td>SRR7134951               </td><td>SRR7134951_marmoset_brain</td></tr>\n",
       "\t<tr><th scope=row>10</th><td>SRR7134952               </td><td>SRR7134952_marmoset_brain</td></tr>\n",
       "\t<tr><th scope=row>11</th><td>SRR7134953               </td><td>SRR7134953_marmoset_brain</td></tr>\n",
       "\t<tr><th scope=row>12</th><td>SRR7134954               </td><td>SRR7134954_marmoset_heart</td></tr>\n",
       "\t<tr><th scope=row>13</th><td>SRR7134955               </td><td>SRR7134955_marmoset_heart</td></tr>\n",
       "\t<tr><th scope=row>14</th><td>SRR7134956               </td><td>SRR7134956_marmoset_heart</td></tr>\n",
       "</tbody>\n",
       "</table>\n"
      ],
      "text/latex": [
       "\\begin{tabular}{r|ll}\n",
       "  & srr & srr\\_title\\\\\n",
       "\\hline\n",
       "\t9 & SRR7134951                    & SRR7134951\\_marmoset\\_brain\\\\\n",
       "\t10 & SRR7134952                    & SRR7134952\\_marmoset\\_brain\\\\\n",
       "\t11 & SRR7134953                    & SRR7134953\\_marmoset\\_brain\\\\\n",
       "\t12 & SRR7134954                    & SRR7134954\\_marmoset\\_heart\\\\\n",
       "\t13 & SRR7134955                    & SRR7134955\\_marmoset\\_heart\\\\\n",
       "\t14 & SRR7134956                    & SRR7134956\\_marmoset\\_heart\\\\\n",
       "\\end{tabular}\n"
      ],
      "text/markdown": [
       "\n",
       "| <!--/--> | srr | srr_title | \n",
       "|---|---|---|---|---|---|\n",
       "| 9 | SRR7134951                | SRR7134951_marmoset_brain | \n",
       "| 10 | SRR7134952                | SRR7134952_marmoset_brain | \n",
       "| 11 | SRR7134953                | SRR7134953_marmoset_brain | \n",
       "| 12 | SRR7134954                | SRR7134954_marmoset_heart | \n",
       "| 13 | SRR7134955                | SRR7134955_marmoset_heart | \n",
       "| 14 | SRR7134956                | SRR7134956_marmoset_heart | \n",
       "\n",
       "\n"
      ],
      "text/plain": [
       "   srr        srr_title                \n",
       "9  SRR7134951 SRR7134951_marmoset_brain\n",
       "10 SRR7134952 SRR7134952_marmoset_brain\n",
       "11 SRR7134953 SRR7134953_marmoset_brain\n",
       "12 SRR7134954 SRR7134954_marmoset_heart\n",
       "13 SRR7134955 SRR7134955_marmoset_heart\n",
       "14 SRR7134956 SRR7134956_marmoset_heart"
      ]
     },
     "metadata": {},
     "output_type": "display_data"
    }
   ],
   "source": [
    "newcolnames_df = cnames[match(colnames(combined_df),cnames$srr),]\n",
    "summary(newcolnames_df$srr==colnames(combined_df))\n",
    "head(newcolnames_df)"
   ]
  },
  {
   "cell_type": "code",
   "execution_count": 127,
   "metadata": {},
   "outputs": [
    {
     "data": {
      "text/html": [
       "<ol class=list-inline>\n",
       "\t<li>'marmoset'</li>\n",
       "\t<li>'marmoset'</li>\n",
       "\t<li>'marmoset'</li>\n",
       "\t<li>'marmoset'</li>\n",
       "\t<li>'marmoset'</li>\n",
       "\t<li>'marmoset'</li>\n",
       "</ol>\n"
      ],
      "text/latex": [
       "\\begin{enumerate*}\n",
       "\\item 'marmoset'\n",
       "\\item 'marmoset'\n",
       "\\item 'marmoset'\n",
       "\\item 'marmoset'\n",
       "\\item 'marmoset'\n",
       "\\item 'marmoset'\n",
       "\\end{enumerate*}\n"
      ],
      "text/markdown": [
       "1. 'marmoset'\n",
       "2. 'marmoset'\n",
       "3. 'marmoset'\n",
       "4. 'marmoset'\n",
       "5. 'marmoset'\n",
       "6. 'marmoset'\n",
       "\n",
       "\n"
      ],
      "text/plain": [
       "[1] \"marmoset\" \"marmoset\" \"marmoset\" \"marmoset\" \"marmoset\" \"marmoset\""
      ]
     },
     "metadata": {},
     "output_type": "display_data"
    },
    {
     "data": {
      "text/html": [
       "<ol class=list-inline>\n",
       "\t<li>'brain'</li>\n",
       "\t<li>'brain'</li>\n",
       "\t<li>'brain'</li>\n",
       "\t<li>'heart'</li>\n",
       "\t<li>'heart'</li>\n",
       "\t<li>'heart'</li>\n",
       "</ol>\n"
      ],
      "text/latex": [
       "\\begin{enumerate*}\n",
       "\\item 'brain'\n",
       "\\item 'brain'\n",
       "\\item 'brain'\n",
       "\\item 'heart'\n",
       "\\item 'heart'\n",
       "\\item 'heart'\n",
       "\\end{enumerate*}\n"
      ],
      "text/markdown": [
       "1. 'brain'\n",
       "2. 'brain'\n",
       "3. 'brain'\n",
       "4. 'heart'\n",
       "5. 'heart'\n",
       "6. 'heart'\n",
       "\n",
       "\n"
      ],
      "text/plain": [
       "[1] \"brain\" \"brain\" \"brain\" \"heart\" \"heart\" \"heart\""
      ]
     },
     "metadata": {},
     "output_type": "display_data"
    }
   ],
   "source": [
    "species = tstrsplit(newcolnames_df$srr_title,\"_\")[[2]]\n",
    "head(species)\n",
    "organ = tstrsplit(newcolnames_df$srr_title,\"_\")[[3]]\n",
    "head(organ)"
   ]
  },
  {
   "cell_type": "code",
   "execution_count": 128,
   "metadata": {},
   "outputs": [
    {
     "data": {
      "text/html": [
       "<table>\n",
       "<thead><tr><th></th><th scope=col>srr</th><th scope=col>srr_title</th><th scope=col>species</th><th scope=col>organ</th></tr></thead>\n",
       "<tbody>\n",
       "\t<tr><th scope=row>9</th><td>SRR7134951               </td><td>SRR7134951_marmoset_brain</td><td>marmoset                 </td><td>brain                    </td></tr>\n",
       "\t<tr><th scope=row>10</th><td>SRR7134952               </td><td>SRR7134952_marmoset_brain</td><td>marmoset                 </td><td>brain                    </td></tr>\n",
       "\t<tr><th scope=row>11</th><td>SRR7134953               </td><td>SRR7134953_marmoset_brain</td><td>marmoset                 </td><td>brain                    </td></tr>\n",
       "\t<tr><th scope=row>12</th><td>SRR7134954               </td><td>SRR7134954_marmoset_heart</td><td>marmoset                 </td><td>heart                    </td></tr>\n",
       "\t<tr><th scope=row>13</th><td>SRR7134955               </td><td>SRR7134955_marmoset_heart</td><td>marmoset                 </td><td>heart                    </td></tr>\n",
       "\t<tr><th scope=row>14</th><td>SRR7134956               </td><td>SRR7134956_marmoset_heart</td><td>marmoset                 </td><td>heart                    </td></tr>\n",
       "</tbody>\n",
       "</table>\n"
      ],
      "text/latex": [
       "\\begin{tabular}{r|llll}\n",
       "  & srr & srr\\_title & species & organ\\\\\n",
       "\\hline\n",
       "\t9 & SRR7134951                    & SRR7134951\\_marmoset\\_brain & marmoset                      & brain                        \\\\\n",
       "\t10 & SRR7134952                    & SRR7134952\\_marmoset\\_brain & marmoset                      & brain                        \\\\\n",
       "\t11 & SRR7134953                    & SRR7134953\\_marmoset\\_brain & marmoset                      & brain                        \\\\\n",
       "\t12 & SRR7134954                    & SRR7134954\\_marmoset\\_heart & marmoset                      & heart                        \\\\\n",
       "\t13 & SRR7134955                    & SRR7134955\\_marmoset\\_heart & marmoset                      & heart                        \\\\\n",
       "\t14 & SRR7134956                    & SRR7134956\\_marmoset\\_heart & marmoset                      & heart                        \\\\\n",
       "\\end{tabular}\n"
      ],
      "text/markdown": [
       "\n",
       "| <!--/--> | srr | srr_title | species | organ | \n",
       "|---|---|---|---|---|---|\n",
       "| 9 | SRR7134951                | SRR7134951_marmoset_brain | marmoset                  | brain                     | \n",
       "| 10 | SRR7134952                | SRR7134952_marmoset_brain | marmoset                  | brain                     | \n",
       "| 11 | SRR7134953                | SRR7134953_marmoset_brain | marmoset                  | brain                     | \n",
       "| 12 | SRR7134954                | SRR7134954_marmoset_heart | marmoset                  | heart                     | \n",
       "| 13 | SRR7134955                | SRR7134955_marmoset_heart | marmoset                  | heart                     | \n",
       "| 14 | SRR7134956                | SRR7134956_marmoset_heart | marmoset                  | heart                     | \n",
       "\n",
       "\n"
      ],
      "text/plain": [
       "   srr        srr_title                 species  organ\n",
       "9  SRR7134951 SRR7134951_marmoset_brain marmoset brain\n",
       "10 SRR7134952 SRR7134952_marmoset_brain marmoset brain\n",
       "11 SRR7134953 SRR7134953_marmoset_brain marmoset brain\n",
       "12 SRR7134954 SRR7134954_marmoset_heart marmoset heart\n",
       "13 SRR7134955 SRR7134955_marmoset_heart marmoset heart\n",
       "14 SRR7134956 SRR7134956_marmoset_heart marmoset heart"
      ]
     },
     "metadata": {},
     "output_type": "display_data"
    }
   ],
   "source": [
    "newcolnames_df$species = species\n",
    "newcolnames_df$organ = organ\n",
    "head(newcolnames_df)"
   ]
  },
  {
   "cell_type": "code",
   "execution_count": 131,
   "metadata": {},
   "outputs": [],
   "source": [
    "write.table(newcolnames_df,file=paste0(outputdir,\"/carelli2018_srpinfo_withmeta.tsv\"),\n",
    "            sep=\"\\t\",row.names = F,quote=F)"
   ]
  },
  {
   "cell_type": "code",
   "execution_count": 133,
   "metadata": {},
   "outputs": [
    {
     "data": {
      "text/html": [
       "<table>\n",
       "<thead><tr><th></th><th scope=col>SRR7134951_marmoset_brain</th><th scope=col>SRR7134952_marmoset_brain</th><th scope=col>SRR7134953_marmoset_brain</th></tr></thead>\n",
       "<tbody>\n",
       "\t<tr><th scope=row>ENSG00000088766</th><td>189 </td><td> 110</td><td> 293</td></tr>\n",
       "\t<tr><th scope=row>ENSG00000010319</th><td> 51 </td><td> 135</td><td> 310</td></tr>\n",
       "\t<tr><th scope=row>ENSG00000188338</th><td>831 </td><td>1550</td><td>1390</td></tr>\n",
       "</tbody>\n",
       "</table>\n"
      ],
      "text/latex": [
       "\\begin{tabular}{r|lll}\n",
       "  & SRR7134951\\_marmoset\\_brain & SRR7134952\\_marmoset\\_brain & SRR7134953\\_marmoset\\_brain\\\\\n",
       "\\hline\n",
       "\tENSG00000088766 & 189  &  110 &  293\\\\\n",
       "\tENSG00000010319 &  51  &  135 &  310\\\\\n",
       "\tENSG00000188338 & 831  & 1550 & 1390\\\\\n",
       "\\end{tabular}\n"
      ],
      "text/markdown": [
       "\n",
       "| <!--/--> | SRR7134951_marmoset_brain | SRR7134952_marmoset_brain | SRR7134953_marmoset_brain | \n",
       "|---|---|---|\n",
       "| ENSG00000088766 | 189  |  110 |  293 | \n",
       "| ENSG00000010319 |  51  |  135 |  310 | \n",
       "| ENSG00000188338 | 831  | 1550 | 1390 | \n",
       "\n",
       "\n"
      ],
      "text/plain": [
       "                SRR7134951_marmoset_brain SRR7134952_marmoset_brain\n",
       "ENSG00000088766 189                        110                     \n",
       "ENSG00000010319  51                        135                     \n",
       "ENSG00000188338 831                       1550                     \n",
       "                SRR7134953_marmoset_brain\n",
       "ENSG00000088766  293                     \n",
       "ENSG00000010319  310                     \n",
       "ENSG00000188338 1390                     "
      ]
     },
     "metadata": {},
     "output_type": "display_data"
    }
   ],
   "source": [
    "colnames(combined_df) = newcolnames_df$srr_title\n",
    "combined_df[1:3,1:3]"
   ]
  },
  {
   "cell_type": "code",
   "execution_count": 134,
   "metadata": {},
   "outputs": [
    {
     "data": {
      "text/html": [
       "<ol class=list-inline>\n",
       "\t<li>'SRR7134951_marmoset_brain'</li>\n",
       "\t<li>'SRR7134952_marmoset_brain'</li>\n",
       "\t<li>'SRR7134953_marmoset_brain'</li>\n",
       "\t<li>'SRR7134954_marmoset_heart'</li>\n",
       "\t<li>'SRR7134955_marmoset_heart'</li>\n",
       "\t<li>'SRR7134956_marmoset_heart'</li>\n",
       "\t<li>'SRR7134957_marmoset_kidney'</li>\n",
       "\t<li>'SRR7134958_marmoset_kidney'</li>\n",
       "\t<li>'SRR7134959_marmoset_kidney'</li>\n",
       "\t<li>'SRR7134960_marmoset_liver'</li>\n",
       "\t<li>'SRR7134961_marmoset_liver'</li>\n",
       "\t<li>'SRR7134962_marmoset_liver'</li>\n",
       "\t<li>'SRR7134925_human_brain'</li>\n",
       "\t<li>'SRR7134926_human_brain'</li>\n",
       "\t<li>'SRR7134927_human_brain'</li>\n",
       "\t<li>'SRR7134928_human_brain'</li>\n",
       "\t<li>'SRR7134929_human_heart'</li>\n",
       "\t<li>'SRR7134930_human_heart'</li>\n",
       "\t<li>'SRR7134931_human_heart'</li>\n",
       "\t<li>'SRR7134932_human_heart'</li>\n",
       "\t<li>'SRR7134933_human_kidney'</li>\n",
       "\t<li>'SRR7134934_human_kidney'</li>\n",
       "\t<li>'SRR7134935_human_liver'</li>\n",
       "\t<li>'SRR7134936_human_liver'</li>\n",
       "\t<li>'SRR7134937_human_liver'</li>\n",
       "\t<li>'SRR7134938_macaque_brain'</li>\n",
       "\t<li>'SRR7134939_macaque_brain'</li>\n",
       "\t<li>'SRR7134940_macaque_brain'</li>\n",
       "\t<li>'SRR7134941_macaque_heart'</li>\n",
       "\t<li>'SRR7134942_macaque_heart'</li>\n",
       "\t<li>'SRR7134943_macaque_heart'</li>\n",
       "\t<li>'SRR7134944_macaque_kidney'</li>\n",
       "\t<li>'SRR7134945_macaque_kidney'</li>\n",
       "\t<li>'SRR7134946_macaque_kidney'</li>\n",
       "\t<li>'SRR7134947_macaque_liver'</li>\n",
       "\t<li>'SRR7134948_macaque_liver'</li>\n",
       "\t<li>'SRR7134949_macaque_liver'</li>\n",
       "\t<li>'SRR7134950_macaque_liver'</li>\n",
       "\t<li>'SRR7134963_mouse_brain'</li>\n",
       "\t<li>'SRR7134964_mouse_brain'</li>\n",
       "\t<li>'SRR7134965_mouse_heart'</li>\n",
       "\t<li>'SRR7134966_mouse_heart'</li>\n",
       "\t<li>'SRR7134967_mouse_kidney'</li>\n",
       "\t<li>'SRR7134968_mouse_kidney'</li>\n",
       "\t<li>'SRR7134969_mouse_kidney'</li>\n",
       "\t<li>'SRR7134970_mouse_liver'</li>\n",
       "\t<li>'SRR7134971_mouse_liver'</li>\n",
       "\t<li>'SRR7134988_rabbit_brain'</li>\n",
       "\t<li>'SRR7134989_rabbit_brain'</li>\n",
       "\t<li>'SRR7134990_rabbit_brain'</li>\n",
       "\t<li>'SRR7134991_rabbit_brain'</li>\n",
       "\t<li>'SRR7134992_rabbit_heart'</li>\n",
       "\t<li>'SRR7134993_rabbit_heart'</li>\n",
       "\t<li>'SRR7134994_rabbit_heart'</li>\n",
       "\t<li>'SRR7134995_rabbit_kidney'</li>\n",
       "\t<li>'SRR7134996_rabbit_kidney'</li>\n",
       "\t<li>'SRR7134997_rabbit_kidney'</li>\n",
       "\t<li>'SRR7134998_rabbit_kidney'</li>\n",
       "\t<li>'SRR7134999_rabbit_liver'</li>\n",
       "\t<li>'SRR7135000_rabbit_liver'</li>\n",
       "\t<li>'SRR7135001_rabbit_liver'</li>\n",
       "\t<li>'SRR7135002_rabbit_liver'</li>\n",
       "\t<li>'SRR7134972_rat_brain'</li>\n",
       "\t<li>'SRR7134973_rat_brain'</li>\n",
       "\t<li>'SRR7134974_rat_brain'</li>\n",
       "\t<li>'SRR7134975_rat_brain'</li>\n",
       "\t<li>'SRR7134976_rat_heart'</li>\n",
       "\t<li>'SRR7134977_rat_heart'</li>\n",
       "\t<li>'SRR7134978_rat_heart'</li>\n",
       "\t<li>'SRR7134979_rat_heart'</li>\n",
       "\t<li>'SRR7134980_rat_kidney'</li>\n",
       "\t<li>'SRR7134981_rat_kidney'</li>\n",
       "\t<li>'SRR7134982_rat_kidney'</li>\n",
       "\t<li>'SRR7134983_rat_kidney'</li>\n",
       "\t<li>'SRR7134984_rat_liver'</li>\n",
       "\t<li>'SRR7134985_rat_liver'</li>\n",
       "\t<li>'SRR7134986_rat_liver'</li>\n",
       "\t<li>'SRR7134987_rat_liver'</li>\n",
       "</ol>\n"
      ],
      "text/latex": [
       "\\begin{enumerate*}\n",
       "\\item 'SRR7134951\\_marmoset\\_brain'\n",
       "\\item 'SRR7134952\\_marmoset\\_brain'\n",
       "\\item 'SRR7134953\\_marmoset\\_brain'\n",
       "\\item 'SRR7134954\\_marmoset\\_heart'\n",
       "\\item 'SRR7134955\\_marmoset\\_heart'\n",
       "\\item 'SRR7134956\\_marmoset\\_heart'\n",
       "\\item 'SRR7134957\\_marmoset\\_kidney'\n",
       "\\item 'SRR7134958\\_marmoset\\_kidney'\n",
       "\\item 'SRR7134959\\_marmoset\\_kidney'\n",
       "\\item 'SRR7134960\\_marmoset\\_liver'\n",
       "\\item 'SRR7134961\\_marmoset\\_liver'\n",
       "\\item 'SRR7134962\\_marmoset\\_liver'\n",
       "\\item 'SRR7134925\\_human\\_brain'\n",
       "\\item 'SRR7134926\\_human\\_brain'\n",
       "\\item 'SRR7134927\\_human\\_brain'\n",
       "\\item 'SRR7134928\\_human\\_brain'\n",
       "\\item 'SRR7134929\\_human\\_heart'\n",
       "\\item 'SRR7134930\\_human\\_heart'\n",
       "\\item 'SRR7134931\\_human\\_heart'\n",
       "\\item 'SRR7134932\\_human\\_heart'\n",
       "\\item 'SRR7134933\\_human\\_kidney'\n",
       "\\item 'SRR7134934\\_human\\_kidney'\n",
       "\\item 'SRR7134935\\_human\\_liver'\n",
       "\\item 'SRR7134936\\_human\\_liver'\n",
       "\\item 'SRR7134937\\_human\\_liver'\n",
       "\\item 'SRR7134938\\_macaque\\_brain'\n",
       "\\item 'SRR7134939\\_macaque\\_brain'\n",
       "\\item 'SRR7134940\\_macaque\\_brain'\n",
       "\\item 'SRR7134941\\_macaque\\_heart'\n",
       "\\item 'SRR7134942\\_macaque\\_heart'\n",
       "\\item 'SRR7134943\\_macaque\\_heart'\n",
       "\\item 'SRR7134944\\_macaque\\_kidney'\n",
       "\\item 'SRR7134945\\_macaque\\_kidney'\n",
       "\\item 'SRR7134946\\_macaque\\_kidney'\n",
       "\\item 'SRR7134947\\_macaque\\_liver'\n",
       "\\item 'SRR7134948\\_macaque\\_liver'\n",
       "\\item 'SRR7134949\\_macaque\\_liver'\n",
       "\\item 'SRR7134950\\_macaque\\_liver'\n",
       "\\item 'SRR7134963\\_mouse\\_brain'\n",
       "\\item 'SRR7134964\\_mouse\\_brain'\n",
       "\\item 'SRR7134965\\_mouse\\_heart'\n",
       "\\item 'SRR7134966\\_mouse\\_heart'\n",
       "\\item 'SRR7134967\\_mouse\\_kidney'\n",
       "\\item 'SRR7134968\\_mouse\\_kidney'\n",
       "\\item 'SRR7134969\\_mouse\\_kidney'\n",
       "\\item 'SRR7134970\\_mouse\\_liver'\n",
       "\\item 'SRR7134971\\_mouse\\_liver'\n",
       "\\item 'SRR7134988\\_rabbit\\_brain'\n",
       "\\item 'SRR7134989\\_rabbit\\_brain'\n",
       "\\item 'SRR7134990\\_rabbit\\_brain'\n",
       "\\item 'SRR7134991\\_rabbit\\_brain'\n",
       "\\item 'SRR7134992\\_rabbit\\_heart'\n",
       "\\item 'SRR7134993\\_rabbit\\_heart'\n",
       "\\item 'SRR7134994\\_rabbit\\_heart'\n",
       "\\item 'SRR7134995\\_rabbit\\_kidney'\n",
       "\\item 'SRR7134996\\_rabbit\\_kidney'\n",
       "\\item 'SRR7134997\\_rabbit\\_kidney'\n",
       "\\item 'SRR7134998\\_rabbit\\_kidney'\n",
       "\\item 'SRR7134999\\_rabbit\\_liver'\n",
       "\\item 'SRR7135000\\_rabbit\\_liver'\n",
       "\\item 'SRR7135001\\_rabbit\\_liver'\n",
       "\\item 'SRR7135002\\_rabbit\\_liver'\n",
       "\\item 'SRR7134972\\_rat\\_brain'\n",
       "\\item 'SRR7134973\\_rat\\_brain'\n",
       "\\item 'SRR7134974\\_rat\\_brain'\n",
       "\\item 'SRR7134975\\_rat\\_brain'\n",
       "\\item 'SRR7134976\\_rat\\_heart'\n",
       "\\item 'SRR7134977\\_rat\\_heart'\n",
       "\\item 'SRR7134978\\_rat\\_heart'\n",
       "\\item 'SRR7134979\\_rat\\_heart'\n",
       "\\item 'SRR7134980\\_rat\\_kidney'\n",
       "\\item 'SRR7134981\\_rat\\_kidney'\n",
       "\\item 'SRR7134982\\_rat\\_kidney'\n",
       "\\item 'SRR7134983\\_rat\\_kidney'\n",
       "\\item 'SRR7134984\\_rat\\_liver'\n",
       "\\item 'SRR7134985\\_rat\\_liver'\n",
       "\\item 'SRR7134986\\_rat\\_liver'\n",
       "\\item 'SRR7134987\\_rat\\_liver'\n",
       "\\end{enumerate*}\n"
      ],
      "text/markdown": [
       "1. 'SRR7134951_marmoset_brain'\n",
       "2. 'SRR7134952_marmoset_brain'\n",
       "3. 'SRR7134953_marmoset_brain'\n",
       "4. 'SRR7134954_marmoset_heart'\n",
       "5. 'SRR7134955_marmoset_heart'\n",
       "6. 'SRR7134956_marmoset_heart'\n",
       "7. 'SRR7134957_marmoset_kidney'\n",
       "8. 'SRR7134958_marmoset_kidney'\n",
       "9. 'SRR7134959_marmoset_kidney'\n",
       "10. 'SRR7134960_marmoset_liver'\n",
       "11. 'SRR7134961_marmoset_liver'\n",
       "12. 'SRR7134962_marmoset_liver'\n",
       "13. 'SRR7134925_human_brain'\n",
       "14. 'SRR7134926_human_brain'\n",
       "15. 'SRR7134927_human_brain'\n",
       "16. 'SRR7134928_human_brain'\n",
       "17. 'SRR7134929_human_heart'\n",
       "18. 'SRR7134930_human_heart'\n",
       "19. 'SRR7134931_human_heart'\n",
       "20. 'SRR7134932_human_heart'\n",
       "21. 'SRR7134933_human_kidney'\n",
       "22. 'SRR7134934_human_kidney'\n",
       "23. 'SRR7134935_human_liver'\n",
       "24. 'SRR7134936_human_liver'\n",
       "25. 'SRR7134937_human_liver'\n",
       "26. 'SRR7134938_macaque_brain'\n",
       "27. 'SRR7134939_macaque_brain'\n",
       "28. 'SRR7134940_macaque_brain'\n",
       "29. 'SRR7134941_macaque_heart'\n",
       "30. 'SRR7134942_macaque_heart'\n",
       "31. 'SRR7134943_macaque_heart'\n",
       "32. 'SRR7134944_macaque_kidney'\n",
       "33. 'SRR7134945_macaque_kidney'\n",
       "34. 'SRR7134946_macaque_kidney'\n",
       "35. 'SRR7134947_macaque_liver'\n",
       "36. 'SRR7134948_macaque_liver'\n",
       "37. 'SRR7134949_macaque_liver'\n",
       "38. 'SRR7134950_macaque_liver'\n",
       "39. 'SRR7134963_mouse_brain'\n",
       "40. 'SRR7134964_mouse_brain'\n",
       "41. 'SRR7134965_mouse_heart'\n",
       "42. 'SRR7134966_mouse_heart'\n",
       "43. 'SRR7134967_mouse_kidney'\n",
       "44. 'SRR7134968_mouse_kidney'\n",
       "45. 'SRR7134969_mouse_kidney'\n",
       "46. 'SRR7134970_mouse_liver'\n",
       "47. 'SRR7134971_mouse_liver'\n",
       "48. 'SRR7134988_rabbit_brain'\n",
       "49. 'SRR7134989_rabbit_brain'\n",
       "50. 'SRR7134990_rabbit_brain'\n",
       "51. 'SRR7134991_rabbit_brain'\n",
       "52. 'SRR7134992_rabbit_heart'\n",
       "53. 'SRR7134993_rabbit_heart'\n",
       "54. 'SRR7134994_rabbit_heart'\n",
       "55. 'SRR7134995_rabbit_kidney'\n",
       "56. 'SRR7134996_rabbit_kidney'\n",
       "57. 'SRR7134997_rabbit_kidney'\n",
       "58. 'SRR7134998_rabbit_kidney'\n",
       "59. 'SRR7134999_rabbit_liver'\n",
       "60. 'SRR7135000_rabbit_liver'\n",
       "61. 'SRR7135001_rabbit_liver'\n",
       "62. 'SRR7135002_rabbit_liver'\n",
       "63. 'SRR7134972_rat_brain'\n",
       "64. 'SRR7134973_rat_brain'\n",
       "65. 'SRR7134974_rat_brain'\n",
       "66. 'SRR7134975_rat_brain'\n",
       "67. 'SRR7134976_rat_heart'\n",
       "68. 'SRR7134977_rat_heart'\n",
       "69. 'SRR7134978_rat_heart'\n",
       "70. 'SRR7134979_rat_heart'\n",
       "71. 'SRR7134980_rat_kidney'\n",
       "72. 'SRR7134981_rat_kidney'\n",
       "73. 'SRR7134982_rat_kidney'\n",
       "74. 'SRR7134983_rat_kidney'\n",
       "75. 'SRR7134984_rat_liver'\n",
       "76. 'SRR7134985_rat_liver'\n",
       "77. 'SRR7134986_rat_liver'\n",
       "78. 'SRR7134987_rat_liver'\n",
       "\n",
       "\n"
      ],
      "text/plain": [
       " [1] \"SRR7134951_marmoset_brain\"  \"SRR7134952_marmoset_brain\" \n",
       " [3] \"SRR7134953_marmoset_brain\"  \"SRR7134954_marmoset_heart\" \n",
       " [5] \"SRR7134955_marmoset_heart\"  \"SRR7134956_marmoset_heart\" \n",
       " [7] \"SRR7134957_marmoset_kidney\" \"SRR7134958_marmoset_kidney\"\n",
       " [9] \"SRR7134959_marmoset_kidney\" \"SRR7134960_marmoset_liver\" \n",
       "[11] \"SRR7134961_marmoset_liver\"  \"SRR7134962_marmoset_liver\" \n",
       "[13] \"SRR7134925_human_brain\"     \"SRR7134926_human_brain\"    \n",
       "[15] \"SRR7134927_human_brain\"     \"SRR7134928_human_brain\"    \n",
       "[17] \"SRR7134929_human_heart\"     \"SRR7134930_human_heart\"    \n",
       "[19] \"SRR7134931_human_heart\"     \"SRR7134932_human_heart\"    \n",
       "[21] \"SRR7134933_human_kidney\"    \"SRR7134934_human_kidney\"   \n",
       "[23] \"SRR7134935_human_liver\"     \"SRR7134936_human_liver\"    \n",
       "[25] \"SRR7134937_human_liver\"     \"SRR7134938_macaque_brain\"  \n",
       "[27] \"SRR7134939_macaque_brain\"   \"SRR7134940_macaque_brain\"  \n",
       "[29] \"SRR7134941_macaque_heart\"   \"SRR7134942_macaque_heart\"  \n",
       "[31] \"SRR7134943_macaque_heart\"   \"SRR7134944_macaque_kidney\" \n",
       "[33] \"SRR7134945_macaque_kidney\"  \"SRR7134946_macaque_kidney\" \n",
       "[35] \"SRR7134947_macaque_liver\"   \"SRR7134948_macaque_liver\"  \n",
       "[37] \"SRR7134949_macaque_liver\"   \"SRR7134950_macaque_liver\"  \n",
       "[39] \"SRR7134963_mouse_brain\"     \"SRR7134964_mouse_brain\"    \n",
       "[41] \"SRR7134965_mouse_heart\"     \"SRR7134966_mouse_heart\"    \n",
       "[43] \"SRR7134967_mouse_kidney\"    \"SRR7134968_mouse_kidney\"   \n",
       "[45] \"SRR7134969_mouse_kidney\"    \"SRR7134970_mouse_liver\"    \n",
       "[47] \"SRR7134971_mouse_liver\"     \"SRR7134988_rabbit_brain\"   \n",
       "[49] \"SRR7134989_rabbit_brain\"    \"SRR7134990_rabbit_brain\"   \n",
       "[51] \"SRR7134991_rabbit_brain\"    \"SRR7134992_rabbit_heart\"   \n",
       "[53] \"SRR7134993_rabbit_heart\"    \"SRR7134994_rabbit_heart\"   \n",
       "[55] \"SRR7134995_rabbit_kidney\"   \"SRR7134996_rabbit_kidney\"  \n",
       "[57] \"SRR7134997_rabbit_kidney\"   \"SRR7134998_rabbit_kidney\"  \n",
       "[59] \"SRR7134999_rabbit_liver\"    \"SRR7135000_rabbit_liver\"   \n",
       "[61] \"SRR7135001_rabbit_liver\"    \"SRR7135002_rabbit_liver\"   \n",
       "[63] \"SRR7134972_rat_brain\"       \"SRR7134973_rat_brain\"      \n",
       "[65] \"SRR7134974_rat_brain\"       \"SRR7134975_rat_brain\"      \n",
       "[67] \"SRR7134976_rat_heart\"       \"SRR7134977_rat_heart\"      \n",
       "[69] \"SRR7134978_rat_heart\"       \"SRR7134979_rat_heart\"      \n",
       "[71] \"SRR7134980_rat_kidney\"      \"SRR7134981_rat_kidney\"     \n",
       "[73] \"SRR7134982_rat_kidney\"      \"SRR7134983_rat_kidney\"     \n",
       "[75] \"SRR7134984_rat_liver\"       \"SRR7134985_rat_liver\"      \n",
       "[77] \"SRR7134986_rat_liver\"       \"SRR7134987_rat_liver\"      "
      ]
     },
     "metadata": {},
     "output_type": "display_data"
    }
   ],
   "source": [
    "colnames(combined_df)"
   ]
  },
  {
   "cell_type": "markdown",
   "metadata": {},
   "source": [
    "# CCA analysis using CCA package"
   ]
  },
  {
   "cell_type": "code",
   "execution_count": 135,
   "metadata": {},
   "outputs": [],
   "source": [
    "suppressPackageStartupMessages({\n",
    "    library(CCA)\n",
    "    library(ggplot2)\n",
    "})"
   ]
  },
  {
   "cell_type": "markdown",
   "metadata": {},
   "source": [
    "## CCA between human & mouse"
   ]
  },
  {
   "cell_type": "code",
   "execution_count": 136,
   "metadata": {},
   "outputs": [
    {
     "data": {
      "text/html": [
       "<ol class=list-inline>\n",
       "\t<li>'SRR7134925_human_brain'</li>\n",
       "\t<li>'SRR7134926_human_brain'</li>\n",
       "\t<li>'SRR7134927_human_brain'</li>\n",
       "\t<li>'SRR7134928_human_brain'</li>\n",
       "\t<li>'SRR7134929_human_heart'</li>\n",
       "\t<li>'SRR7134930_human_heart'</li>\n",
       "\t<li>'SRR7134931_human_heart'</li>\n",
       "\t<li>'SRR7134932_human_heart'</li>\n",
       "\t<li>'SRR7134933_human_kidney'</li>\n",
       "\t<li>'SRR7134934_human_kidney'</li>\n",
       "\t<li>'SRR7134935_human_liver'</li>\n",
       "\t<li>'SRR7134936_human_liver'</li>\n",
       "\t<li>'SRR7134937_human_liver'</li>\n",
       "\t<li>'SRR7134963_mouse_brain'</li>\n",
       "\t<li>'SRR7134964_mouse_brain'</li>\n",
       "\t<li>'SRR7134965_mouse_heart'</li>\n",
       "\t<li>'SRR7134966_mouse_heart'</li>\n",
       "\t<li>'SRR7134967_mouse_kidney'</li>\n",
       "\t<li>'SRR7134968_mouse_kidney'</li>\n",
       "\t<li>'SRR7134969_mouse_kidney'</li>\n",
       "\t<li>'SRR7134970_mouse_liver'</li>\n",
       "\t<li>'SRR7134971_mouse_liver'</li>\n",
       "</ol>\n"
      ],
      "text/latex": [
       "\\begin{enumerate*}\n",
       "\\item 'SRR7134925\\_human\\_brain'\n",
       "\\item 'SRR7134926\\_human\\_brain'\n",
       "\\item 'SRR7134927\\_human\\_brain'\n",
       "\\item 'SRR7134928\\_human\\_brain'\n",
       "\\item 'SRR7134929\\_human\\_heart'\n",
       "\\item 'SRR7134930\\_human\\_heart'\n",
       "\\item 'SRR7134931\\_human\\_heart'\n",
       "\\item 'SRR7134932\\_human\\_heart'\n",
       "\\item 'SRR7134933\\_human\\_kidney'\n",
       "\\item 'SRR7134934\\_human\\_kidney'\n",
       "\\item 'SRR7134935\\_human\\_liver'\n",
       "\\item 'SRR7134936\\_human\\_liver'\n",
       "\\item 'SRR7134937\\_human\\_liver'\n",
       "\\item 'SRR7134963\\_mouse\\_brain'\n",
       "\\item 'SRR7134964\\_mouse\\_brain'\n",
       "\\item 'SRR7134965\\_mouse\\_heart'\n",
       "\\item 'SRR7134966\\_mouse\\_heart'\n",
       "\\item 'SRR7134967\\_mouse\\_kidney'\n",
       "\\item 'SRR7134968\\_mouse\\_kidney'\n",
       "\\item 'SRR7134969\\_mouse\\_kidney'\n",
       "\\item 'SRR7134970\\_mouse\\_liver'\n",
       "\\item 'SRR7134971\\_mouse\\_liver'\n",
       "\\end{enumerate*}\n"
      ],
      "text/markdown": [
       "1. 'SRR7134925_human_brain'\n",
       "2. 'SRR7134926_human_brain'\n",
       "3. 'SRR7134927_human_brain'\n",
       "4. 'SRR7134928_human_brain'\n",
       "5. 'SRR7134929_human_heart'\n",
       "6. 'SRR7134930_human_heart'\n",
       "7. 'SRR7134931_human_heart'\n",
       "8. 'SRR7134932_human_heart'\n",
       "9. 'SRR7134933_human_kidney'\n",
       "10. 'SRR7134934_human_kidney'\n",
       "11. 'SRR7134935_human_liver'\n",
       "12. 'SRR7134936_human_liver'\n",
       "13. 'SRR7134937_human_liver'\n",
       "14. 'SRR7134963_mouse_brain'\n",
       "15. 'SRR7134964_mouse_brain'\n",
       "16. 'SRR7134965_mouse_heart'\n",
       "17. 'SRR7134966_mouse_heart'\n",
       "18. 'SRR7134967_mouse_kidney'\n",
       "19. 'SRR7134968_mouse_kidney'\n",
       "20. 'SRR7134969_mouse_kidney'\n",
       "21. 'SRR7134970_mouse_liver'\n",
       "22. 'SRR7134971_mouse_liver'\n",
       "\n",
       "\n"
      ],
      "text/plain": [
       " [1] \"SRR7134925_human_brain\"  \"SRR7134926_human_brain\" \n",
       " [3] \"SRR7134927_human_brain\"  \"SRR7134928_human_brain\" \n",
       " [5] \"SRR7134929_human_heart\"  \"SRR7134930_human_heart\" \n",
       " [7] \"SRR7134931_human_heart\"  \"SRR7134932_human_heart\" \n",
       " [9] \"SRR7134933_human_kidney\" \"SRR7134934_human_kidney\"\n",
       "[11] \"SRR7134935_human_liver\"  \"SRR7134936_human_liver\" \n",
       "[13] \"SRR7134937_human_liver\"  \"SRR7134963_mouse_brain\" \n",
       "[15] \"SRR7134964_mouse_brain\"  \"SRR7134965_mouse_heart\" \n",
       "[17] \"SRR7134966_mouse_heart\"  \"SRR7134967_mouse_kidney\"\n",
       "[19] \"SRR7134968_mouse_kidney\" \"SRR7134969_mouse_kidney\"\n",
       "[21] \"SRR7134970_mouse_liver\"  \"SRR7134971_mouse_liver\" "
      ]
     },
     "metadata": {},
     "output_type": "display_data"
    }
   ],
   "source": [
    "colnames(combined_df)[grepl(\"human\",colnames(combined_df))|\n",
    "                       grepl(\"mouse\",colnames(combined_df))]"
   ]
  },
  {
   "cell_type": "code",
   "execution_count": 138,
   "metadata": {},
   "outputs": [
    {
     "data": {
      "text/html": [
       "<ol class=list-inline>\n",
       "\t<li>9529</li>\n",
       "\t<li>78</li>\n",
       "</ol>\n"
      ],
      "text/latex": [
       "\\begin{enumerate*}\n",
       "\\item 9529\n",
       "\\item 78\n",
       "\\end{enumerate*}\n"
      ],
      "text/markdown": [
       "1. 9529\n",
       "2. 78\n",
       "\n",
       "\n"
      ],
      "text/plain": [
       "[1] 9529   78"
      ]
     },
     "metadata": {},
     "output_type": "display_data"
    },
    {
     "data": {
      "text/html": [
       "<ol class=list-inline>\n",
       "\t<li>9529</li>\n",
       "\t<li>13</li>\n",
       "</ol>\n"
      ],
      "text/latex": [
       "\\begin{enumerate*}\n",
       "\\item 9529\n",
       "\\item 13\n",
       "\\end{enumerate*}\n"
      ],
      "text/markdown": [
       "1. 9529\n",
       "2. 13\n",
       "\n",
       "\n"
      ],
      "text/plain": [
       "[1] 9529   13"
      ]
     },
     "metadata": {},
     "output_type": "display_data"
    },
    {
     "data": {
      "text/html": [
       "<ol class=list-inline>\n",
       "\t<li>9529</li>\n",
       "\t<li>9</li>\n",
       "</ol>\n"
      ],
      "text/latex": [
       "\\begin{enumerate*}\n",
       "\\item 9529\n",
       "\\item 9\n",
       "\\end{enumerate*}\n"
      ],
      "text/markdown": [
       "1. 9529\n",
       "2. 9\n",
       "\n",
       "\n"
      ],
      "text/plain": [
       "[1] 9529    9"
      ]
     },
     "metadata": {},
     "output_type": "display_data"
    }
   ],
   "source": [
    "dim(combined_df)\n",
    "s1 = \"human\"\n",
    "s2 = \"mouse\"\n",
    "df_s1 = combined_df[,grepl(s1,colnames(combined_df))]\n",
    "df_s2 = combined_df[,grepl(s2,colnames(combined_df))]\n",
    "dim(df_s1)\n",
    "dim(df_s2)"
   ]
  },
  {
   "cell_type": "code",
   "execution_count": 139,
   "metadata": {},
   "outputs": [],
   "source": [
    "cc1 = cc(df_s1,df_s2)"
   ]
  },
  {
   "cell_type": "code",
   "execution_count": 140,
   "metadata": {},
   "outputs": [
    {
     "data": {
      "text/html": [
       "<ol class=list-inline>\n",
       "\t<li>0.992746483877837</li>\n",
       "\t<li>0.864858643542964</li>\n",
       "\t<li>0.831747316751706</li>\n",
       "\t<li>0.546134750774287</li>\n",
       "\t<li>0.4999435455638</li>\n",
       "\t<li>0.321817285915895</li>\n",
       "\t<li>0.305693933975004</li>\n",
       "\t<li>0.113827535151769</li>\n",
       "\t<li>0.0254758346776969</li>\n",
       "</ol>\n"
      ],
      "text/latex": [
       "\\begin{enumerate*}\n",
       "\\item 0.992746483877837\n",
       "\\item 0.864858643542964\n",
       "\\item 0.831747316751706\n",
       "\\item 0.546134750774287\n",
       "\\item 0.4999435455638\n",
       "\\item 0.321817285915895\n",
       "\\item 0.305693933975004\n",
       "\\item 0.113827535151769\n",
       "\\item 0.0254758346776969\n",
       "\\end{enumerate*}\n"
      ],
      "text/markdown": [
       "1. 0.992746483877837\n",
       "2. 0.864858643542964\n",
       "3. 0.831747316751706\n",
       "4. 0.546134750774287\n",
       "5. 0.4999435455638\n",
       "6. 0.321817285915895\n",
       "7. 0.305693933975004\n",
       "8. 0.113827535151769\n",
       "9. 0.0254758346776969\n",
       "\n",
       "\n"
      ],
      "text/plain": [
       "[1] 0.99274648 0.86485864 0.83174732 0.54613475 0.49994355 0.32181729 0.30569393\n",
       "[8] 0.11382754 0.02547583"
      ]
     },
     "metadata": {},
     "output_type": "display_data"
    }
   ],
   "source": [
    "cc1$cor"
   ]
  },
  {
   "cell_type": "code",
   "execution_count": 144,
   "metadata": {},
   "outputs": [
    {
     "data": {
      "text/html": [
       "<table>\n",
       "<tbody>\n",
       "\t<tr><th scope=row>SRR7134925_human_brain</th><td>-5.595696e-08</td><td> 3.378091e-05</td><td>-9.239029e-06</td><td> 8.063880e-05</td><td>-1.191331e-04</td><td>-5.627168e-05</td><td> 6.770925e-05</td><td> 4.425615e-05</td><td>-3.366739e-04</td></tr>\n",
       "\t<tr><th scope=row>SRR7134926_human_brain</th><td>-4.429545e-06</td><td> 8.390136e-05</td><td> 1.812443e-05</td><td> 1.258482e-05</td><td> 1.393966e-05</td><td>-7.649759e-05</td><td> 1.041662e-04</td><td>-1.388034e-04</td><td> 3.516160e-05</td></tr>\n",
       "\t<tr><th scope=row>SRR7134927_human_brain</th><td> 4.726533e-08</td><td> 1.397576e-04</td><td> 3.920281e-05</td><td>-1.582187e-04</td><td> 5.511771e-04</td><td> 1.955352e-04</td><td>-1.280258e-04</td><td> 2.681523e-04</td><td>-6.366609e-04</td></tr>\n",
       "\t<tr><th scope=row>SRR7134928_human_brain</th><td> 3.973643e-06</td><td> 9.711426e-05</td><td> 4.877448e-05</td><td> 3.519444e-05</td><td>-1.356908e-04</td><td> 1.999878e-04</td><td>-4.178540e-04</td><td> 2.340954e-04</td><td> 1.376934e-03</td></tr>\n",
       "\t<tr><th scope=row>SRR7134929_human_heart</th><td>-2.722674e-06</td><td>-6.808992e-05</td><td> 3.084855e-04</td><td> 2.634412e-05</td><td> 4.280273e-06</td><td>-1.892537e-04</td><td>-2.120971e-04</td><td>-1.263234e-04</td><td> 1.247998e-04</td></tr>\n",
       "\t<tr><th scope=row>SRR7134930_human_heart</th><td> 3.465584e-07</td><td>-2.707369e-05</td><td> 5.336563e-05</td><td> 1.343461e-05</td><td>-6.533386e-06</td><td> 1.270216e-04</td><td> 1.464751e-04</td><td> 6.046555e-05</td><td>-8.432714e-05</td></tr>\n",
       "\t<tr><th scope=row>SRR7134931_human_heart</th><td> 1.411478e-07</td><td> 1.431898e-05</td><td>-5.681893e-05</td><td>-4.992351e-06</td><td> 1.748058e-06</td><td>-6.223327e-06</td><td>-3.310245e-06</td><td> 6.519917e-06</td><td> 6.331693e-05</td></tr>\n",
       "\t<tr><th scope=row>SRR7134932_human_heart</th><td>-1.327662e-07</td><td> 7.109912e-07</td><td>-1.719763e-06</td><td>-6.582675e-07</td><td> 3.440964e-06</td><td>-4.116282e-05</td><td>-6.552979e-05</td><td> 1.289831e-05</td><td>-1.132689e-05</td></tr>\n",
       "\t<tr><th scope=row>SRR7134933_human_kidney</th><td> 1.331663e-06</td><td>-3.082835e-06</td><td>-4.806580e-06</td><td>-9.692367e-05</td><td>-3.414899e-05</td><td> 5.550002e-05</td><td> 1.219539e-06</td><td> 3.093755e-04</td><td> 7.814072e-05</td></tr>\n",
       "\t<tr><th scope=row>SRR7134934_human_kidney</th><td>-3.525508e-06</td><td> 2.033353e-06</td><td> 1.032989e-05</td><td>-2.339460e-04</td><td>-1.172773e-04</td><td>-2.138169e-04</td><td> 1.331754e-04</td><td>-3.724978e-04</td><td>-1.365683e-04</td></tr>\n",
       "\t<tr><th scope=row>SRR7134935_human_liver</th><td>-5.655577e-05</td><td>-1.691186e-05</td><td> 5.636891e-06</td><td>-5.084743e-04</td><td>-4.467799e-04</td><td> 1.601745e-03</td><td>-1.060869e-03</td><td>-5.300434e-04</td><td>-2.081554e-04</td></tr>\n",
       "\t<tr><th scope=row>SRR7134936_human_liver</th><td> 5.902108e-05</td><td> 2.127978e-06</td><td>-2.150917e-08</td><td> 3.777151e-05</td><td> 3.299637e-05</td><td>-1.174162e-04</td><td> 7.771840e-05</td><td> 3.897740e-05</td><td> 1.496989e-05</td></tr>\n",
       "\t<tr><th scope=row>SRR7134937_human_liver</th><td>-8.585598e-07</td><td> 2.702467e-05</td><td> 1.723694e-05</td><td> 2.581933e-05</td><td>-2.309562e-05</td><td>-1.658540e-08</td><td> 5.970002e-05</td><td>-9.074030e-05</td><td>-3.378200e-05</td></tr>\n",
       "</tbody>\n",
       "</table>\n"
      ],
      "text/latex": [
       "\\begin{tabular}{r|lllllllll}\n",
       "\tSRR7134925\\_human\\_brain & -5.595696e-08 &  3.378091e-05 & -9.239029e-06 &  8.063880e-05 & -1.191331e-04 & -5.627168e-05 &  6.770925e-05 &  4.425615e-05 & -3.366739e-04\\\\\n",
       "\tSRR7134926\\_human\\_brain & -4.429545e-06 &  8.390136e-05 &  1.812443e-05 &  1.258482e-05 &  1.393966e-05 & -7.649759e-05 &  1.041662e-04 & -1.388034e-04 &  3.516160e-05\\\\\n",
       "\tSRR7134927\\_human\\_brain &  4.726533e-08 &  1.397576e-04 &  3.920281e-05 & -1.582187e-04 &  5.511771e-04 &  1.955352e-04 & -1.280258e-04 &  2.681523e-04 & -6.366609e-04\\\\\n",
       "\tSRR7134928\\_human\\_brain &  3.973643e-06 &  9.711426e-05 &  4.877448e-05 &  3.519444e-05 & -1.356908e-04 &  1.999878e-04 & -4.178540e-04 &  2.340954e-04 &  1.376934e-03\\\\\n",
       "\tSRR7134929\\_human\\_heart & -2.722674e-06 & -6.808992e-05 &  3.084855e-04 &  2.634412e-05 &  4.280273e-06 & -1.892537e-04 & -2.120971e-04 & -1.263234e-04 &  1.247998e-04\\\\\n",
       "\tSRR7134930\\_human\\_heart &  3.465584e-07 & -2.707369e-05 &  5.336563e-05 &  1.343461e-05 & -6.533386e-06 &  1.270216e-04 &  1.464751e-04 &  6.046555e-05 & -8.432714e-05\\\\\n",
       "\tSRR7134931\\_human\\_heart &  1.411478e-07 &  1.431898e-05 & -5.681893e-05 & -4.992351e-06 &  1.748058e-06 & -6.223327e-06 & -3.310245e-06 &  6.519917e-06 &  6.331693e-05\\\\\n",
       "\tSRR7134932\\_human\\_heart & -1.327662e-07 &  7.109912e-07 & -1.719763e-06 & -6.582675e-07 &  3.440964e-06 & -4.116282e-05 & -6.552979e-05 &  1.289831e-05 & -1.132689e-05\\\\\n",
       "\tSRR7134933\\_human\\_kidney &  1.331663e-06 & -3.082835e-06 & -4.806580e-06 & -9.692367e-05 & -3.414899e-05 &  5.550002e-05 &  1.219539e-06 &  3.093755e-04 &  7.814072e-05\\\\\n",
       "\tSRR7134934\\_human\\_kidney & -3.525508e-06 &  2.033353e-06 &  1.032989e-05 & -2.339460e-04 & -1.172773e-04 & -2.138169e-04 &  1.331754e-04 & -3.724978e-04 & -1.365683e-04\\\\\n",
       "\tSRR7134935\\_human\\_liver & -5.655577e-05 & -1.691186e-05 &  5.636891e-06 & -5.084743e-04 & -4.467799e-04 &  1.601745e-03 & -1.060869e-03 & -5.300434e-04 & -2.081554e-04\\\\\n",
       "\tSRR7134936\\_human\\_liver &  5.902108e-05 &  2.127978e-06 & -2.150917e-08 &  3.777151e-05 &  3.299637e-05 & -1.174162e-04 &  7.771840e-05 &  3.897740e-05 &  1.496989e-05\\\\\n",
       "\tSRR7134937\\_human\\_liver & -8.585598e-07 &  2.702467e-05 &  1.723694e-05 &  2.581933e-05 & -2.309562e-05 & -1.658540e-08 &  5.970002e-05 & -9.074030e-05 & -3.378200e-05\\\\\n",
       "\\end{tabular}\n"
      ],
      "text/markdown": [
       "\n",
       "| SRR7134925_human_brain | -5.595696e-08 |  3.378091e-05 | -9.239029e-06 |  8.063880e-05 | -1.191331e-04 | -5.627168e-05 |  6.770925e-05 |  4.425615e-05 | -3.366739e-04 | \n",
       "| SRR7134926_human_brain | -4.429545e-06 |  8.390136e-05 |  1.812443e-05 |  1.258482e-05 |  1.393966e-05 | -7.649759e-05 |  1.041662e-04 | -1.388034e-04 |  3.516160e-05 | \n",
       "| SRR7134927_human_brain |  4.726533e-08 |  1.397576e-04 |  3.920281e-05 | -1.582187e-04 |  5.511771e-04 |  1.955352e-04 | -1.280258e-04 |  2.681523e-04 | -6.366609e-04 | \n",
       "| SRR7134928_human_brain |  3.973643e-06 |  9.711426e-05 |  4.877448e-05 |  3.519444e-05 | -1.356908e-04 |  1.999878e-04 | -4.178540e-04 |  2.340954e-04 |  1.376934e-03 | \n",
       "| SRR7134929_human_heart | -2.722674e-06 | -6.808992e-05 |  3.084855e-04 |  2.634412e-05 |  4.280273e-06 | -1.892537e-04 | -2.120971e-04 | -1.263234e-04 |  1.247998e-04 | \n",
       "| SRR7134930_human_heart |  3.465584e-07 | -2.707369e-05 |  5.336563e-05 |  1.343461e-05 | -6.533386e-06 |  1.270216e-04 |  1.464751e-04 |  6.046555e-05 | -8.432714e-05 | \n",
       "| SRR7134931_human_heart |  1.411478e-07 |  1.431898e-05 | -5.681893e-05 | -4.992351e-06 |  1.748058e-06 | -6.223327e-06 | -3.310245e-06 |  6.519917e-06 |  6.331693e-05 | \n",
       "| SRR7134932_human_heart | -1.327662e-07 |  7.109912e-07 | -1.719763e-06 | -6.582675e-07 |  3.440964e-06 | -4.116282e-05 | -6.552979e-05 |  1.289831e-05 | -1.132689e-05 | \n",
       "| SRR7134933_human_kidney |  1.331663e-06 | -3.082835e-06 | -4.806580e-06 | -9.692367e-05 | -3.414899e-05 |  5.550002e-05 |  1.219539e-06 |  3.093755e-04 |  7.814072e-05 | \n",
       "| SRR7134934_human_kidney | -3.525508e-06 |  2.033353e-06 |  1.032989e-05 | -2.339460e-04 | -1.172773e-04 | -2.138169e-04 |  1.331754e-04 | -3.724978e-04 | -1.365683e-04 | \n",
       "| SRR7134935_human_liver | -5.655577e-05 | -1.691186e-05 |  5.636891e-06 | -5.084743e-04 | -4.467799e-04 |  1.601745e-03 | -1.060869e-03 | -5.300434e-04 | -2.081554e-04 | \n",
       "| SRR7134936_human_liver |  5.902108e-05 |  2.127978e-06 | -2.150917e-08 |  3.777151e-05 |  3.299637e-05 | -1.174162e-04 |  7.771840e-05 |  3.897740e-05 |  1.496989e-05 | \n",
       "| SRR7134937_human_liver | -8.585598e-07 |  2.702467e-05 |  1.723694e-05 |  2.581933e-05 | -2.309562e-05 | -1.658540e-08 |  5.970002e-05 | -9.074030e-05 | -3.378200e-05 | \n",
       "\n",
       "\n"
      ],
      "text/plain": [
       "                        [,1]          [,2]          [,3]          [,4]         \n",
       "SRR7134925_human_brain  -5.595696e-08  3.378091e-05 -9.239029e-06  8.063880e-05\n",
       "SRR7134926_human_brain  -4.429545e-06  8.390136e-05  1.812443e-05  1.258482e-05\n",
       "SRR7134927_human_brain   4.726533e-08  1.397576e-04  3.920281e-05 -1.582187e-04\n",
       "SRR7134928_human_brain   3.973643e-06  9.711426e-05  4.877448e-05  3.519444e-05\n",
       "SRR7134929_human_heart  -2.722674e-06 -6.808992e-05  3.084855e-04  2.634412e-05\n",
       "SRR7134930_human_heart   3.465584e-07 -2.707369e-05  5.336563e-05  1.343461e-05\n",
       "SRR7134931_human_heart   1.411478e-07  1.431898e-05 -5.681893e-05 -4.992351e-06\n",
       "SRR7134932_human_heart  -1.327662e-07  7.109912e-07 -1.719763e-06 -6.582675e-07\n",
       "SRR7134933_human_kidney  1.331663e-06 -3.082835e-06 -4.806580e-06 -9.692367e-05\n",
       "SRR7134934_human_kidney -3.525508e-06  2.033353e-06  1.032989e-05 -2.339460e-04\n",
       "SRR7134935_human_liver  -5.655577e-05 -1.691186e-05  5.636891e-06 -5.084743e-04\n",
       "SRR7134936_human_liver   5.902108e-05  2.127978e-06 -2.150917e-08  3.777151e-05\n",
       "SRR7134937_human_liver  -8.585598e-07  2.702467e-05  1.723694e-05  2.581933e-05\n",
       "                        [,5]          [,6]          [,7]          [,8]         \n",
       "SRR7134925_human_brain  -1.191331e-04 -5.627168e-05  6.770925e-05  4.425615e-05\n",
       "SRR7134926_human_brain   1.393966e-05 -7.649759e-05  1.041662e-04 -1.388034e-04\n",
       "SRR7134927_human_brain   5.511771e-04  1.955352e-04 -1.280258e-04  2.681523e-04\n",
       "SRR7134928_human_brain  -1.356908e-04  1.999878e-04 -4.178540e-04  2.340954e-04\n",
       "SRR7134929_human_heart   4.280273e-06 -1.892537e-04 -2.120971e-04 -1.263234e-04\n",
       "SRR7134930_human_heart  -6.533386e-06  1.270216e-04  1.464751e-04  6.046555e-05\n",
       "SRR7134931_human_heart   1.748058e-06 -6.223327e-06 -3.310245e-06  6.519917e-06\n",
       "SRR7134932_human_heart   3.440964e-06 -4.116282e-05 -6.552979e-05  1.289831e-05\n",
       "SRR7134933_human_kidney -3.414899e-05  5.550002e-05  1.219539e-06  3.093755e-04\n",
       "SRR7134934_human_kidney -1.172773e-04 -2.138169e-04  1.331754e-04 -3.724978e-04\n",
       "SRR7134935_human_liver  -4.467799e-04  1.601745e-03 -1.060869e-03 -5.300434e-04\n",
       "SRR7134936_human_liver   3.299637e-05 -1.174162e-04  7.771840e-05  3.897740e-05\n",
       "SRR7134937_human_liver  -2.309562e-05 -1.658540e-08  5.970002e-05 -9.074030e-05\n",
       "                        [,9]         \n",
       "SRR7134925_human_brain  -3.366739e-04\n",
       "SRR7134926_human_brain   3.516160e-05\n",
       "SRR7134927_human_brain  -6.366609e-04\n",
       "SRR7134928_human_brain   1.376934e-03\n",
       "SRR7134929_human_heart   1.247998e-04\n",
       "SRR7134930_human_heart  -8.432714e-05\n",
       "SRR7134931_human_heart   6.331693e-05\n",
       "SRR7134932_human_heart  -1.132689e-05\n",
       "SRR7134933_human_kidney  7.814072e-05\n",
       "SRR7134934_human_kidney -1.365683e-04\n",
       "SRR7134935_human_liver  -2.081554e-04\n",
       "SRR7134936_human_liver   1.496989e-05\n",
       "SRR7134937_human_liver  -3.378200e-05"
      ]
     },
     "metadata": {},
     "output_type": "display_data"
    }
   ],
   "source": [
    "cc1$xcoef"
   ]
  },
  {
   "cell_type": "code",
   "execution_count": 146,
   "metadata": {},
   "outputs": [
    {
     "data": {
      "image/png": "[encoded data removed]",
      "text/plain": [
       "plot without title"
      ]
     },
     "metadata": {},
     "output_type": "display_data"
    }
   ],
   "source": [
    "res.cc = cc1\n",
    "plot(cc1$cor,type=\"b\")"
   ]
  },
  {
   "cell_type": "code",
   "execution_count": 161,
   "metadata": {},
   "outputs": [
    {
     "data": {
      "image/png": "[encoded data removed]",
      "text/plain": [
       "Plot with title “”"
      ]
     },
     "metadata": {},
     "output_type": "display_data"
    }
   ],
   "source": [
    "plt.cc(res.cc)"
   ]
  },
  {
   "cell_type": "code",
   "execution_count": 151,
   "metadata": {},
   "outputs": [
    {
     "data": {
      "image/png": "[encoded data removed]",
      "text/plain": [
       "plot without title"
      ]
     },
     "metadata": {},
     "output_type": "display_data"
    }
   ],
   "source": [
    "plt.cc(res.cc,type=\"v\",var.label=T)"
   ]
  },
  {
   "cell_type": "code",
   "execution_count": 149,
   "metadata": {},
   "outputs": [
    {
     "data": {
      "text/html": [
       "<dl>\n",
       "\t<dt>$corr.X.xscores</dt>\n",
       "\t\t<dd><table>\n",
       "<tbody>\n",
       "\t<tr><th scope=row>SRR7134925_human_brain</th><td>-0.014681206</td><td> 0.72677860 </td><td>0.16263471  </td><td> 0.292686047</td><td>-0.526719641</td><td>-0.01564512 </td><td>-0.008181093</td><td> 0.146428228</td><td>-0.204051801</td></tr>\n",
       "\t<tr><th scope=row>SRR7134926_human_brain</th><td>-0.015380739</td><td> 0.93129312 </td><td>0.28690870  </td><td>-0.024400392</td><td> 0.025912717</td><td>-0.00676421 </td><td> 0.022558322</td><td>-0.052359762</td><td> 0.127521861</td></tr>\n",
       "\t<tr><th scope=row>SRR7134927_human_brain</th><td>-0.016553817</td><td> 0.81261844 </td><td>0.26453779  </td><td>-0.191342130</td><td> 0.427780654</td><td> 0.07543469 </td><td>-0.019293602</td><td> 0.069911607</td><td>-0.155880353</td></tr>\n",
       "\t<tr><th scope=row>SRR7134928_human_brain</th><td>-0.016402328</td><td> 0.90629154 </td><td>0.25483627  </td><td> 0.115548216</td><td>-0.228675726</td><td> 0.01980160 </td><td>-0.046790309</td><td> 0.067682928</td><td> 0.117018260</td></tr>\n",
       "\t<tr><th scope=row>SRR7134929_human_heart</th><td>-0.003259245</td><td>-0.20368521 </td><td>0.94715359  </td><td> 0.007384698</td><td>-0.044955574</td><td>-0.05177652 </td><td>-0.052045245</td><td> 0.009063646</td><td> 0.046955239</td></tr>\n",
       "\t<tr><th scope=row>SRR7134930_human_heart</th><td>-0.003464556</td><td>-0.23058129 </td><td>0.90733586  </td><td> 0.058698938</td><td>-0.035153656</td><td> 0.06816492 </td><td> 0.067460430</td><td> 0.082800828</td><td>-0.014817398</td></tr>\n",
       "\t<tr><th scope=row>SRR7134931_human_heart</th><td>-0.001522069</td><td>-0.08030031 </td><td>0.47060236  </td><td>-0.032757161</td><td>-0.037871428</td><td>-0.03819164 </td><td>-0.018643630</td><td> 0.019338326</td><td> 0.186426661</td></tr>\n",
       "\t<tr><th scope=row>SRR7134932_human_heart</th><td>-0.002587851</td><td>-0.03854131 </td><td>0.30048443  </td><td>-0.053734186</td><td> 0.005445523</td><td>-0.48922071 </td><td>-0.711014842</td><td> 0.103179759</td><td>-0.110221384</td></tr>\n",
       "\t<tr><th scope=row>SRR7134933_human_kidney</th><td> 0.004075255</td><td> 0.16295464 </td><td>0.12549148  </td><td>-0.765402519</td><td>-0.265918169</td><td>-0.07934271 </td><td> 0.134591304</td><td> 0.491777430</td><td> 0.075079211</td></tr>\n",
       "\t<tr><th scope=row>SRR7134934_human_kidney</th><td> 0.003439268</td><td> 0.22606320 </td><td>0.19198725  </td><td>-0.824861387</td><td>-0.291746085</td><td>-0.27739144 </td><td> 0.142457827</td><td>-0.142938699</td><td>-0.077420016</td></tr>\n",
       "\t<tr><th scope=row>SRR7134935_human_liver</th><td> 0.929306720</td><td> 0.07729638 </td><td>0.03809708  </td><td>-0.109334836</td><td>-0.142426682</td><td> 0.23671826 </td><td>-0.166282993</td><td>-0.100215203</td><td>-0.031399356</td></tr>\n",
       "\t<tr><th scope=row>SRR7134936_human_liver</th><td> 0.999246033</td><td> 0.02173671 </td><td>0.01388293  </td><td>-0.012727625</td><td>-0.010083722</td><td> 0.01454261 </td><td>-0.012546239</td><td>-0.012927967</td><td>-0.001479042</td></tr>\n",
       "\t<tr><th scope=row>SRR7134937_human_liver</th><td>-0.013544765</td><td> 0.64534493 </td><td>0.23333474  </td><td>-0.130944313</td><td> 0.054583041</td><td>-0.02916712 </td><td> 0.124210246</td><td>-0.199962845</td><td>-0.070208236</td></tr>\n",
       "</tbody>\n",
       "</table>\n",
       "</dd>\n",
       "\t<dt>$corr.Y.xscores</dt>\n",
       "\t\t<dd><table>\n",
       "<tbody>\n",
       "\t<tr><th scope=row>SRR7134963_mouse_brain</th><td>-0.019202410 </td><td> 0.82473145  </td><td>0.248064567  </td><td>-0.008083434 </td><td> 0.002448326 </td><td>-0.001575022 </td><td> 0.0083881483</td><td> 0.0001395693</td><td>-2.447854e-05</td></tr>\n",
       "\t<tr><th scope=row>SRR7134964_mouse_brain</th><td>-0.019723095 </td><td> 0.81677752  </td><td>0.249348046  </td><td>-0.033621582 </td><td> 0.056265735 </td><td> 0.003492124 </td><td> 0.0094082329</td><td> 0.0003593473</td><td> 4.576669e-05</td></tr>\n",
       "\t<tr><th scope=row>SRR7134965_mouse_heart</th><td>-0.004187660 </td><td>-0.12207000  </td><td>0.786345294  </td><td>-0.029120951 </td><td>-0.018024835 </td><td>-0.051163038 </td><td>-0.0714638414</td><td>-0.0013040572</td><td>-1.064548e-03</td></tr>\n",
       "\t<tr><th scope=row>SRR7134966_mouse_heart</th><td>-0.003879566 </td><td>-0.11176718  </td><td>0.753958861  </td><td>-0.032603074 </td><td>-0.014865498 </td><td>-0.068931098 </td><td>-0.1006884811</td><td>-0.0003840852</td><td>-1.261248e-03</td></tr>\n",
       "\t<tr><th scope=row>SRR7134967_mouse_kidney</th><td> 0.030097259 </td><td> 0.09158704  </td><td>0.081645903  </td><td>-0.370196343 </td><td>-0.143861664 </td><td> 0.091501722 </td><td>-0.0390797121</td><td> 0.0016444884</td><td>-1.481656e-02</td></tr>\n",
       "\t<tr><th scope=row>SRR7134968_mouse_kidney</th><td> 0.025551446 </td><td> 0.11621463  </td><td>0.102715754  </td><td>-0.459778241 </td><td>-0.174392554 </td><td> 0.032241797 </td><td>-0.0055094526</td><td> 0.0027423331</td><td>-8.983680e-03</td></tr>\n",
       "\t<tr><th scope=row>SRR7134969_mouse_kidney</th><td> 0.031082275 </td><td> 0.10455711  </td><td>0.098305462  </td><td>-0.438877226 </td><td>-0.175510031 </td><td> 0.077117370 </td><td>-0.0335020556</td><td> 0.0183430070</td><td>-8.282785e-03</td></tr>\n",
       "\t<tr><th scope=row>SRR7134970_mouse_liver</th><td> 0.991518416 </td><td> 0.01704937  </td><td>0.010364465  </td><td>-0.002060218 </td><td>-0.003618297 </td><td> 0.002697667 </td><td>-0.0035574562</td><td>-0.0040667520</td><td> 2.057689e-04</td></tr>\n",
       "\t<tr><th scope=row>SRR7134971_mouse_liver</th><td> 0.992241421 </td><td> 0.01559895  </td><td>0.009004465  </td><td> 0.002241066 </td><td>-0.001226592 </td><td>-0.003012994 </td><td> 0.0008655093</td><td>-0.0008414639</td><td>-2.374618e-04</td></tr>\n",
       "</tbody>\n",
       "</table>\n",
       "</dd>\n",
       "\t<dt>$corr.X.yscores</dt>\n",
       "\t\t<dd><table>\n",
       "<tbody>\n",
       "\t<tr><th scope=row>SRR7134925_human_brain</th><td>-0.014572421 </td><td> 0.62846180  </td><td>0.13524969   </td><td> 0.159820855 </td><td>-0.263288625 </td><td>-0.005034076 </td><td>-0.002500517 </td><td> 0.016664940 </td><td>-5.197572e-03</td></tr>\n",
       "\t<tr><th scope=row>SRR7134926_human_brain</th><td>-0.015266771 </td><td> 0.80531010  </td><td>0.23859797   </td><td>-0.013323804 </td><td> 0.012952856 </td><td>-0.002176497 </td><td> 0.006894856 </td><td>-0.005959044 </td><td> 3.248214e-03</td></tr>\n",
       "\t<tr><th scope=row>SRR7134927_human_brain</th><td>-0.016431156 </td><td> 0.70268943  </td><td>0.21999395   </td><td>-0.104482134 </td><td> 0.213832505 </td><td> 0.024272366 </td><td>-0.005897009 </td><td> 0.007956613 </td><td>-3.970557e-03</td></tr>\n",
       "\t<tr><th scope=row>SRR7134928_human_brain</th><td>-0.016280790 </td><td> 0.78369067  </td><td>0.21192602   </td><td> 0.063094960 </td><td>-0.114306954 </td><td> 0.006371495 </td><td>-0.014301262 </td><td> 0.007702968 </td><td> 2.980668e-03</td></tr>\n",
       "\t<tr><th scope=row>SRR7134929_human_heart</th><td>-0.003235095 </td><td>-0.17613118  </td><td>0.78766842   </td><td> 0.004032405 </td><td>-0.022471711 </td><td>-0.016659955 </td><td>-0.015907411 </td><td> 0.001031530 </td><td> 1.196036e-03</td></tr>\n",
       "\t<tr><th scope=row>SRR7134930_human_heart</th><td>-0.003438884 </td><td>-0.19938882  </td><td>0.75455535   </td><td> 0.032052483 </td><td>-0.017572076 </td><td> 0.021933197 </td><td> 0.020618997 </td><td> 0.009423530 </td><td>-3.774262e-04</td></tr>\n",
       "\t<tr><th scope=row>SRR7134931_human_heart</th><td>-0.001510790 </td><td>-0.06943749  </td><td>0.39136063   </td><td>-0.017887007 </td><td>-0.018930595 </td><td>-0.012288794 </td><td>-0.005698347 </td><td> 0.002200887 </td><td> 4.748627e-03</td></tr>\n",
       "\t<tr><th scope=row>SRR7134932_human_heart</th><td>-0.002568675 </td><td>-0.03332754  </td><td>0.24988777   </td><td>-0.029341486 </td><td> 0.002722025 </td><td>-0.157414892 </td><td>-0.217318704 </td><td> 0.011742849 </td><td>-2.807540e-03</td></tr>\n",
       "\t<tr><th scope=row>SRR7134933_human_kidney</th><td> 0.004045058 </td><td> 0.14091054  </td><td>0.10436077   </td><td>-0.417947101 </td><td>-0.132923141 </td><td>-0.025529836 </td><td> 0.041137267 </td><td> 0.055968999 </td><td> 1.912404e-03</td></tr>\n",
       "\t<tr><th scope=row>SRR7134934_human_kidney</th><td> 0.003413784 </td><td> 0.19548193  </td><td>0.15965974   </td><td>-0.450414542 </td><td>-0.145833608 </td><td>-0.089255305 </td><td> 0.043541637 </td><td>-0.016267798 </td><td>-1.972029e-03</td></tr>\n",
       "\t<tr><th scope=row>SRR7134935_human_liver</th><td> 0.922420727 </td><td> 0.06683992  </td><td>0.03168216   </td><td>-0.059702152 </td><td>-0.071194090 </td><td> 0.076168035 </td><td>-0.050823699 </td><td>-0.011405454 </td><td>-7.997988e-04</td></tr>\n",
       "\t<tr><th scope=row>SRR7134936_human_liver</th><td> 0.991841802 </td><td> 0.01879622  </td><td>0.01154527   </td><td>-0.006949904 </td><td>-0.005040498 </td><td> 0.004679327 </td><td>-0.003834705 </td><td>-0.001471327 </td><td>-3.767391e-05</td></tr>\n",
       "\t<tr><th scope=row>SRR7134937_human_liver</th><td>-0.013444401 </td><td> 0.55804427  </td><td>0.19404499   </td><td>-0.071501981 </td><td> 0.027284143 </td><td>-0.009385005 </td><td> 0.037964341 </td><td>-0.022757694 </td><td>-1.788332e-03</td></tr>\n",
       "</tbody>\n",
       "</table>\n",
       "</dd>\n",
       "\t<dt>$corr.Y.yscores</dt>\n",
       "\t\t<dd><table>\n",
       "<tbody>\n",
       "\t<tr><th scope=row>SRR7134963_mouse_brain</th><td>-0.019345757 </td><td> 0.95374297  </td><td>0.29829080   </td><td>-0.014803364 </td><td> 0.004897975 </td><td>-0.004894916 </td><td> 0.027443999 </td><td> 0.001226338 </td><td>-0.0009610038</td></tr>\n",
       "\t<tr><th scope=row>SRR7134964_mouse_brain</th><td>-0.019870328 </td><td> 0.94454481  </td><td>0.29983415   </td><td>-0.061571913 </td><td> 0.112561855 </td><td> 0.010852964 </td><td> 0.030781470 </td><td> 0.003157437 </td><td> 0.0017967560</td></tr>\n",
       "\t<tr><th scope=row>SRR7134965_mouse_heart</th><td>-0.004218921 </td><td>-0.14116523  </td><td>0.94555853   </td><td>-0.053329813 </td><td>-0.036059404 </td><td>-0.159006536 </td><td>-0.233812460 </td><td>-0.011458214 </td><td>-0.0417931165</td></tr>\n",
       "\t<tr><th scope=row>SRR7134966_mouse_heart</th><td>-0.003908527 </td><td>-0.12925075  </td><td>0.90661474   </td><td>-0.059706699 </td><td>-0.029739024 </td><td>-0.214226824 </td><td>-0.329428435 </td><td>-0.003374798 </td><td>-0.0495153916</td></tr>\n",
       "\t<tr><th scope=row>SRR7134967_mouse_kidney</th><td> 0.030321937 </td><td> 0.10591386  </td><td>0.09817695   </td><td>-0.677948386 </td><td>-0.287801016 </td><td> 0.284372712 </td><td>-0.127859396 </td><td> 0.014449441 </td><td>-0.5816837890</td></tr>\n",
       "\t<tr><th scope=row>SRR7134968_mouse_kidney</th><td> 0.025742189 </td><td> 0.13439391  </td><td>0.12351286   </td><td>-0.842001609 </td><td>-0.348879285 </td><td> 0.100202345 </td><td>-0.018025601 </td><td> 0.024095750 </td><td>-0.3526906399</td></tr>\n",
       "\t<tr><th scope=row>SRR7134969_mouse_kidney</th><td> 0.031314305 </td><td> 0.12091283  </td><td>0.11820961   </td><td>-0.803725138 </td><td>-0.351114843 </td><td> 0.239668447 </td><td>-0.109610649 </td><td> 0.161172441 </td><td>-0.3251741802</td></tr>\n",
       "\t<tr><th scope=row>SRR7134970_mouse_liver</th><td> 0.998920142 </td><td> 0.01971637  </td><td>0.01246298   </td><td>-0.003772922 </td><td>-0.007238548 </td><td> 0.008383918 </td><td>-0.011639139 </td><td>-0.035732874 </td><td> 0.0080782905</td></tr>\n",
       "\t<tr><th scope=row>SRR7134971_mouse_liver</th><td> 0.999648545 </td><td> 0.01803908  </td><td>0.01082762   </td><td> 0.004104112 </td><td>-0.002453846 </td><td>-0.009363902 </td><td> 0.002831738 </td><td>-0.007393597 </td><td>-0.0093225216</td></tr>\n",
       "</tbody>\n",
       "</table>\n",
       "</dd>\n",
       "</dl>\n"
      ],
      "text/latex": [
       "\\begin{description}\n",
       "\\item[\\$corr.X.xscores] \\begin{tabular}{r|lllllllll}\n",
       "\tSRR7134925\\_human\\_brain & -0.014681206 &  0.72677860  & 0.16263471   &  0.292686047 & -0.526719641 & -0.01564512  & -0.008181093 &  0.146428228 & -0.204051801\\\\\n",
       "\tSRR7134926\\_human\\_brain & -0.015380739 &  0.93129312  & 0.28690870   & -0.024400392 &  0.025912717 & -0.00676421  &  0.022558322 & -0.052359762 &  0.127521861\\\\\n",
       "\tSRR7134927\\_human\\_brain & -0.016553817 &  0.81261844  & 0.26453779   & -0.191342130 &  0.427780654 &  0.07543469  & -0.019293602 &  0.069911607 & -0.155880353\\\\\n",
       "\tSRR7134928\\_human\\_brain & -0.016402328 &  0.90629154  & 0.25483627   &  0.115548216 & -0.228675726 &  0.01980160  & -0.046790309 &  0.067682928 &  0.117018260\\\\\n",
       "\tSRR7134929\\_human\\_heart & -0.003259245 & -0.20368521  & 0.94715359   &  0.007384698 & -0.044955574 & -0.05177652  & -0.052045245 &  0.009063646 &  0.046955239\\\\\n",
       "\tSRR7134930\\_human\\_heart & -0.003464556 & -0.23058129  & 0.90733586   &  0.058698938 & -0.035153656 &  0.06816492  &  0.067460430 &  0.082800828 & -0.014817398\\\\\n",
       "\tSRR7134931\\_human\\_heart & -0.001522069 & -0.08030031  & 0.47060236   & -0.032757161 & -0.037871428 & -0.03819164  & -0.018643630 &  0.019338326 &  0.186426661\\\\\n",
       "\tSRR7134932\\_human\\_heart & -0.002587851 & -0.03854131  & 0.30048443   & -0.053734186 &  0.005445523 & -0.48922071  & -0.711014842 &  0.103179759 & -0.110221384\\\\\n",
       "\tSRR7134933\\_human\\_kidney &  0.004075255 &  0.16295464  & 0.12549148   & -0.765402519 & -0.265918169 & -0.07934271  &  0.134591304 &  0.491777430 &  0.075079211\\\\\n",
       "\tSRR7134934\\_human\\_kidney &  0.003439268 &  0.22606320  & 0.19198725   & -0.824861387 & -0.291746085 & -0.27739144  &  0.142457827 & -0.142938699 & -0.077420016\\\\\n",
       "\tSRR7134935\\_human\\_liver &  0.929306720 &  0.07729638  & 0.03809708   & -0.109334836 & -0.142426682 &  0.23671826  & -0.166282993 & -0.100215203 & -0.031399356\\\\\n",
       "\tSRR7134936\\_human\\_liver &  0.999246033 &  0.02173671  & 0.01388293   & -0.012727625 & -0.010083722 &  0.01454261  & -0.012546239 & -0.012927967 & -0.001479042\\\\\n",
       "\tSRR7134937\\_human\\_liver & -0.013544765 &  0.64534493  & 0.23333474   & -0.130944313 &  0.054583041 & -0.02916712  &  0.124210246 & -0.199962845 & -0.070208236\\\\\n",
       "\\end{tabular}\n",
       "\n",
       "\\item[\\$corr.Y.xscores] \\begin{tabular}{r|lllllllll}\n",
       "\tSRR7134963\\_mouse\\_brain & -0.019202410  &  0.82473145   & 0.248064567   & -0.008083434  &  0.002448326  & -0.001575022  &  0.0083881483 &  0.0001395693 & -2.447854e-05\\\\\n",
       "\tSRR7134964\\_mouse\\_brain & -0.019723095  &  0.81677752   & 0.249348046   & -0.033621582  &  0.056265735  &  0.003492124  &  0.0094082329 &  0.0003593473 &  4.576669e-05\\\\\n",
       "\tSRR7134965\\_mouse\\_heart & -0.004187660  & -0.12207000   & 0.786345294   & -0.029120951  & -0.018024835  & -0.051163038  & -0.0714638414 & -0.0013040572 & -1.064548e-03\\\\\n",
       "\tSRR7134966\\_mouse\\_heart & -0.003879566  & -0.11176718   & 0.753958861   & -0.032603074  & -0.014865498  & -0.068931098  & -0.1006884811 & -0.0003840852 & -1.261248e-03\\\\\n",
       "\tSRR7134967\\_mouse\\_kidney &  0.030097259  &  0.09158704   & 0.081645903   & -0.370196343  & -0.143861664  &  0.091501722  & -0.0390797121 &  0.0016444884 & -1.481656e-02\\\\\n",
       "\tSRR7134968\\_mouse\\_kidney &  0.025551446  &  0.11621463   & 0.102715754   & -0.459778241  & -0.174392554  &  0.032241797  & -0.0055094526 &  0.0027423331 & -8.983680e-03\\\\\n",
       "\tSRR7134969\\_mouse\\_kidney &  0.031082275  &  0.10455711   & 0.098305462   & -0.438877226  & -0.175510031  &  0.077117370  & -0.0335020556 &  0.0183430070 & -8.282785e-03\\\\\n",
       "\tSRR7134970\\_mouse\\_liver &  0.991518416  &  0.01704937   & 0.010364465   & -0.002060218  & -0.003618297  &  0.002697667  & -0.0035574562 & -0.0040667520 &  2.057689e-04\\\\\n",
       "\tSRR7134971\\_mouse\\_liver &  0.992241421  &  0.01559895   & 0.009004465   &  0.002241066  & -0.001226592  & -0.003012994  &  0.0008655093 & -0.0008414639 & -2.374618e-04\\\\\n",
       "\\end{tabular}\n",
       "\n",
       "\\item[\\$corr.X.yscores] \\begin{tabular}{r|lllllllll}\n",
       "\tSRR7134925\\_human\\_brain & -0.014572421  &  0.62846180   & 0.13524969    &  0.159820855  & -0.263288625  & -0.005034076  & -0.002500517  &  0.016664940  & -5.197572e-03\\\\\n",
       "\tSRR7134926\\_human\\_brain & -0.015266771  &  0.80531010   & 0.23859797    & -0.013323804  &  0.012952856  & -0.002176497  &  0.006894856  & -0.005959044  &  3.248214e-03\\\\\n",
       "\tSRR7134927\\_human\\_brain & -0.016431156  &  0.70268943   & 0.21999395    & -0.104482134  &  0.213832505  &  0.024272366  & -0.005897009  &  0.007956613  & -3.970557e-03\\\\\n",
       "\tSRR7134928\\_human\\_brain & -0.016280790  &  0.78369067   & 0.21192602    &  0.063094960  & -0.114306954  &  0.006371495  & -0.014301262  &  0.007702968  &  2.980668e-03\\\\\n",
       "\tSRR7134929\\_human\\_heart & -0.003235095  & -0.17613118   & 0.78766842    &  0.004032405  & -0.022471711  & -0.016659955  & -0.015907411  &  0.001031530  &  1.196036e-03\\\\\n",
       "\tSRR7134930\\_human\\_heart & -0.003438884  & -0.19938882   & 0.75455535    &  0.032052483  & -0.017572076  &  0.021933197  &  0.020618997  &  0.009423530  & -3.774262e-04\\\\\n",
       "\tSRR7134931\\_human\\_heart & -0.001510790  & -0.06943749   & 0.39136063    & -0.017887007  & -0.018930595  & -0.012288794  & -0.005698347  &  0.002200887  &  4.748627e-03\\\\\n",
       "\tSRR7134932\\_human\\_heart & -0.002568675  & -0.03332754   & 0.24988777    & -0.029341486  &  0.002722025  & -0.157414892  & -0.217318704  &  0.011742849  & -2.807540e-03\\\\\n",
       "\tSRR7134933\\_human\\_kidney &  0.004045058  &  0.14091054   & 0.10436077    & -0.417947101  & -0.132923141  & -0.025529836  &  0.041137267  &  0.055968999  &  1.912404e-03\\\\\n",
       "\tSRR7134934\\_human\\_kidney &  0.003413784  &  0.19548193   & 0.15965974    & -0.450414542  & -0.145833608  & -0.089255305  &  0.043541637  & -0.016267798  & -1.972029e-03\\\\\n",
       "\tSRR7134935\\_human\\_liver &  0.922420727  &  0.06683992   & 0.03168216    & -0.059702152  & -0.071194090  &  0.076168035  & -0.050823699  & -0.011405454  & -7.997988e-04\\\\\n",
       "\tSRR7134936\\_human\\_liver &  0.991841802  &  0.01879622   & 0.01154527    & -0.006949904  & -0.005040498  &  0.004679327  & -0.003834705  & -0.001471327  & -3.767391e-05\\\\\n",
       "\tSRR7134937\\_human\\_liver & -0.013444401  &  0.55804427   & 0.19404499    & -0.071501981  &  0.027284143  & -0.009385005  &  0.037964341  & -0.022757694  & -1.788332e-03\\\\\n",
       "\\end{tabular}\n",
       "\n",
       "\\item[\\$corr.Y.yscores] \\begin{tabular}{r|lllllllll}\n",
       "\tSRR7134963\\_mouse\\_brain & -0.019345757  &  0.95374297   & 0.29829080    & -0.014803364  &  0.004897975  & -0.004894916  &  0.027443999  &  0.001226338  & -0.0009610038\\\\\n",
       "\tSRR7134964\\_mouse\\_brain & -0.019870328  &  0.94454481   & 0.29983415    & -0.061571913  &  0.112561855  &  0.010852964  &  0.030781470  &  0.003157437  &  0.0017967560\\\\\n",
       "\tSRR7134965\\_mouse\\_heart & -0.004218921  & -0.14116523   & 0.94555853    & -0.053329813  & -0.036059404  & -0.159006536  & -0.233812460  & -0.011458214  & -0.0417931165\\\\\n",
       "\tSRR7134966\\_mouse\\_heart & -0.003908527  & -0.12925075   & 0.90661474    & -0.059706699  & -0.029739024  & -0.214226824  & -0.329428435  & -0.003374798  & -0.0495153916\\\\\n",
       "\tSRR7134967\\_mouse\\_kidney &  0.030321937  &  0.10591386   & 0.09817695    & -0.677948386  & -0.287801016  &  0.284372712  & -0.127859396  &  0.014449441  & -0.5816837890\\\\\n",
       "\tSRR7134968\\_mouse\\_kidney &  0.025742189  &  0.13439391   & 0.12351286    & -0.842001609  & -0.348879285  &  0.100202345  & -0.018025601  &  0.024095750  & -0.3526906399\\\\\n",
       "\tSRR7134969\\_mouse\\_kidney &  0.031314305  &  0.12091283   & 0.11820961    & -0.803725138  & -0.351114843  &  0.239668447  & -0.109610649  &  0.161172441  & -0.3251741802\\\\\n",
       "\tSRR7134970\\_mouse\\_liver &  0.998920142  &  0.01971637   & 0.01246298    & -0.003772922  & -0.007238548  &  0.008383918  & -0.011639139  & -0.035732874  &  0.0080782905\\\\\n",
       "\tSRR7134971\\_mouse\\_liver &  0.999648545  &  0.01803908   & 0.01082762    &  0.004104112  & -0.002453846  & -0.009363902  &  0.002831738  & -0.007393597  & -0.0093225216\\\\\n",
       "\\end{tabular}\n",
       "\n",
       "\\end{description}\n"
      ],
      "text/markdown": [
       "$corr.X.xscores\n",
       ":   \n",
       "| SRR7134925_human_brain | -0.014681206 |  0.72677860  | 0.16263471   |  0.292686047 | -0.526719641 | -0.01564512  | -0.008181093 |  0.146428228 | -0.204051801 | \n",
       "| SRR7134926_human_brain | -0.015380739 |  0.93129312  | 0.28690870   | -0.024400392 |  0.025912717 | -0.00676421  |  0.022558322 | -0.052359762 |  0.127521861 | \n",
       "| SRR7134927_human_brain | -0.016553817 |  0.81261844  | 0.26453779   | -0.191342130 |  0.427780654 |  0.07543469  | -0.019293602 |  0.069911607 | -0.155880353 | \n",
       "| SRR7134928_human_brain | -0.016402328 |  0.90629154  | 0.25483627   |  0.115548216 | -0.228675726 |  0.01980160  | -0.046790309 |  0.067682928 |  0.117018260 | \n",
       "| SRR7134929_human_heart | -0.003259245 | -0.20368521  | 0.94715359   |  0.007384698 | -0.044955574 | -0.05177652  | -0.052045245 |  0.009063646 |  0.046955239 | \n",
       "| SRR7134930_human_heart | -0.003464556 | -0.23058129  | 0.90733586   |  0.058698938 | -0.035153656 |  0.06816492  |  0.067460430 |  0.082800828 | -0.014817398 | \n",
       "| SRR7134931_human_heart | -0.001522069 | -0.08030031  | 0.47060236   | -0.032757161 | -0.037871428 | -0.03819164  | -0.018643630 |  0.019338326 |  0.186426661 | \n",
       "| SRR7134932_human_heart | -0.002587851 | -0.03854131  | 0.30048443   | -0.053734186 |  0.005445523 | -0.48922071  | -0.711014842 |  0.103179759 | -0.110221384 | \n",
       "| SRR7134933_human_kidney |  0.004075255 |  0.16295464  | 0.12549148   | -0.765402519 | -0.265918169 | -0.07934271  |  0.134591304 |  0.491777430 |  0.075079211 | \n",
       "| SRR7134934_human_kidney |  0.003439268 |  0.22606320  | 0.19198725   | -0.824861387 | -0.291746085 | -0.27739144  |  0.142457827 | -0.142938699 | -0.077420016 | \n",
       "| SRR7134935_human_liver |  0.929306720 |  0.07729638  | 0.03809708   | -0.109334836 | -0.142426682 |  0.23671826  | -0.166282993 | -0.100215203 | -0.031399356 | \n",
       "| SRR7134936_human_liver |  0.999246033 |  0.02173671  | 0.01388293   | -0.012727625 | -0.010083722 |  0.01454261  | -0.012546239 | -0.012927967 | -0.001479042 | \n",
       "| SRR7134937_human_liver | -0.013544765 |  0.64534493  | 0.23333474   | -0.130944313 |  0.054583041 | -0.02916712  |  0.124210246 | -0.199962845 | -0.070208236 | \n",
       "\n",
       "\n",
       "\n",
       "$corr.Y.xscores\n",
       ":   \n",
       "| SRR7134963_mouse_brain | -0.019202410  |  0.82473145   | 0.248064567   | -0.008083434  |  0.002448326  | -0.001575022  |  0.0083881483 |  0.0001395693 | -2.447854e-05 | \n",
       "| SRR7134964_mouse_brain | -0.019723095  |  0.81677752   | 0.249348046   | -0.033621582  |  0.056265735  |  0.003492124  |  0.0094082329 |  0.0003593473 |  4.576669e-05 | \n",
       "| SRR7134965_mouse_heart | -0.004187660  | -0.12207000   | 0.786345294   | -0.029120951  | -0.018024835  | -0.051163038  | -0.0714638414 | -0.0013040572 | -1.064548e-03 | \n",
       "| SRR7134966_mouse_heart | -0.003879566  | -0.11176718   | 0.753958861   | -0.032603074  | -0.014865498  | -0.068931098  | -0.1006884811 | -0.0003840852 | -1.261248e-03 | \n",
       "| SRR7134967_mouse_kidney |  0.030097259  |  0.09158704   | 0.081645903   | -0.370196343  | -0.143861664  |  0.091501722  | -0.0390797121 |  0.0016444884 | -1.481656e-02 | \n",
       "| SRR7134968_mouse_kidney |  0.025551446  |  0.11621463   | 0.102715754   | -0.459778241  | -0.174392554  |  0.032241797  | -0.0055094526 |  0.0027423331 | -8.983680e-03 | \n",
       "| SRR7134969_mouse_kidney |  0.031082275  |  0.10455711   | 0.098305462   | -0.438877226  | -0.175510031  |  0.077117370  | -0.0335020556 |  0.0183430070 | -8.282785e-03 | \n",
       "| SRR7134970_mouse_liver |  0.991518416  |  0.01704937   | 0.010364465   | -0.002060218  | -0.003618297  |  0.002697667  | -0.0035574562 | -0.0040667520 |  2.057689e-04 | \n",
       "| SRR7134971_mouse_liver |  0.992241421  |  0.01559895   | 0.009004465   |  0.002241066  | -0.001226592  | -0.003012994  |  0.0008655093 | -0.0008414639 | -2.374618e-04 | \n",
       "\n",
       "\n",
       "\n",
       "$corr.X.yscores\n",
       ":   \n",
       "| SRR7134925_human_brain | -0.014572421  |  0.62846180   | 0.13524969    |  0.159820855  | -0.263288625  | -0.005034076  | -0.002500517  |  0.016664940  | -5.197572e-03 | \n",
       "| SRR7134926_human_brain | -0.015266771  |  0.80531010   | 0.23859797    | -0.013323804  |  0.012952856  | -0.002176497  |  0.006894856  | -0.005959044  |  3.248214e-03 | \n",
       "| SRR7134927_human_brain | -0.016431156  |  0.70268943   | 0.21999395    | -0.104482134  |  0.213832505  |  0.024272366  | -0.005897009  |  0.007956613  | -3.970557e-03 | \n",
       "| SRR7134928_human_brain | -0.016280790  |  0.78369067   | 0.21192602    |  0.063094960  | -0.114306954  |  0.006371495  | -0.014301262  |  0.007702968  |  2.980668e-03 | \n",
       "| SRR7134929_human_heart | -0.003235095  | -0.17613118   | 0.78766842    |  0.004032405  | -0.022471711  | -0.016659955  | -0.015907411  |  0.001031530  |  1.196036e-03 | \n",
       "| SRR7134930_human_heart | -0.003438884  | -0.19938882   | 0.75455535    |  0.032052483  | -0.017572076  |  0.021933197  |  0.020618997  |  0.009423530  | -3.774262e-04 | \n",
       "| SRR7134931_human_heart | -0.001510790  | -0.06943749   | 0.39136063    | -0.017887007  | -0.018930595  | -0.012288794  | -0.005698347  |  0.002200887  |  4.748627e-03 | \n",
       "| SRR7134932_human_heart | -0.002568675  | -0.03332754   | 0.24988777    | -0.029341486  |  0.002722025  | -0.157414892  | -0.217318704  |  0.011742849  | -2.807540e-03 | \n",
       "| SRR7134933_human_kidney |  0.004045058  |  0.14091054   | 0.10436077    | -0.417947101  | -0.132923141  | -0.025529836  |  0.041137267  |  0.055968999  |  1.912404e-03 | \n",
       "| SRR7134934_human_kidney |  0.003413784  |  0.19548193   | 0.15965974    | -0.450414542  | -0.145833608  | -0.089255305  |  0.043541637  | -0.016267798  | -1.972029e-03 | \n",
       "| SRR7134935_human_liver |  0.922420727  |  0.06683992   | 0.03168216    | -0.059702152  | -0.071194090  |  0.076168035  | -0.050823699  | -0.011405454  | -7.997988e-04 | \n",
       "| SRR7134936_human_liver |  0.991841802  |  0.01879622   | 0.01154527    | -0.006949904  | -0.005040498  |  0.004679327  | -0.003834705  | -0.001471327  | -3.767391e-05 | \n",
       "| SRR7134937_human_liver | -0.013444401  |  0.55804427   | 0.19404499    | -0.071501981  |  0.027284143  | -0.009385005  |  0.037964341  | -0.022757694  | -1.788332e-03 | \n",
       "\n",
       "\n",
       "\n",
       "$corr.Y.yscores\n",
       ":   \n",
       "| SRR7134963_mouse_brain | -0.019345757  |  0.95374297   | 0.29829080    | -0.014803364  |  0.004897975  | -0.004894916  |  0.027443999  |  0.001226338  | -0.0009610038 | \n",
       "| SRR7134964_mouse_brain | -0.019870328  |  0.94454481   | 0.29983415    | -0.061571913  |  0.112561855  |  0.010852964  |  0.030781470  |  0.003157437  |  0.0017967560 | \n",
       "| SRR7134965_mouse_heart | -0.004218921  | -0.14116523   | 0.94555853    | -0.053329813  | -0.036059404  | -0.159006536  | -0.233812460  | -0.011458214  | -0.0417931165 | \n",
       "| SRR7134966_mouse_heart | -0.003908527  | -0.12925075   | 0.90661474    | -0.059706699  | -0.029739024  | -0.214226824  | -0.329428435  | -0.003374798  | -0.0495153916 | \n",
       "| SRR7134967_mouse_kidney |  0.030321937  |  0.10591386   | 0.09817695    | -0.677948386  | -0.287801016  |  0.284372712  | -0.127859396  |  0.014449441  | -0.5816837890 | \n",
       "| SRR7134968_mouse_kidney |  0.025742189  |  0.13439391   | 0.12351286    | -0.842001609  | -0.348879285  |  0.100202345  | -0.018025601  |  0.024095750  | -0.3526906399 | \n",
       "| SRR7134969_mouse_kidney |  0.031314305  |  0.12091283   | 0.11820961    | -0.803725138  | -0.351114843  |  0.239668447  | -0.109610649  |  0.161172441  | -0.3251741802 | \n",
       "| SRR7134970_mouse_liver |  0.998920142  |  0.01971637   | 0.01246298    | -0.003772922  | -0.007238548  |  0.008383918  | -0.011639139  | -0.035732874  |  0.0080782905 | \n",
       "| SRR7134971_mouse_liver |  0.999648545  |  0.01803908   | 0.01082762    |  0.004104112  | -0.002453846  | -0.009363902  |  0.002831738  | -0.007393597  | -0.0093225216 | \n",
       "\n",
       "\n",
       "\n",
       "\n",
       "\n"
      ],
      "text/plain": [
       "$corr.X.xscores\n",
       "                                [,1]        [,2]       [,3]         [,4]\n",
       "SRR7134925_human_brain  -0.014681206  0.72677860 0.16263471  0.292686047\n",
       "SRR7134926_human_brain  -0.015380739  0.93129312 0.28690870 -0.024400392\n",
       "SRR7134927_human_brain  -0.016553817  0.81261844 0.26453779 -0.191342130\n",
       "SRR7134928_human_brain  -0.016402328  0.90629154 0.25483627  0.115548216\n",
       "SRR7134929_human_heart  -0.003259245 -0.20368521 0.94715359  0.007384698\n",
       "SRR7134930_human_heart  -0.003464556 -0.23058129 0.90733586  0.058698938\n",
       "SRR7134931_human_heart  -0.001522069 -0.08030031 0.47060236 -0.032757161\n",
       "SRR7134932_human_heart  -0.002587851 -0.03854131 0.30048443 -0.053734186\n",
       "SRR7134933_human_kidney  0.004075255  0.16295464 0.12549148 -0.765402519\n",
       "SRR7134934_human_kidney  0.003439268  0.22606320 0.19198725 -0.824861387\n",
       "SRR7134935_human_liver   0.929306720  0.07729638 0.03809708 -0.109334836\n",
       "SRR7134936_human_liver   0.999246033  0.02173671 0.01388293 -0.012727625\n",
       "SRR7134937_human_liver  -0.013544765  0.64534493 0.23333474 -0.130944313\n",
       "                                [,5]        [,6]         [,7]         [,8]\n",
       "SRR7134925_human_brain  -0.526719641 -0.01564512 -0.008181093  0.146428228\n",
       "SRR7134926_human_brain   0.025912717 -0.00676421  0.022558322 -0.052359762\n",
       "SRR7134927_human_brain   0.427780654  0.07543469 -0.019293602  0.069911607\n",
       "SRR7134928_human_brain  -0.228675726  0.01980160 -0.046790309  0.067682928\n",
       "SRR7134929_human_heart  -0.044955574 -0.05177652 -0.052045245  0.009063646\n",
       "SRR7134930_human_heart  -0.035153656  0.06816492  0.067460430  0.082800828\n",
       "SRR7134931_human_heart  -0.037871428 -0.03819164 -0.018643630  0.019338326\n",
       "SRR7134932_human_heart   0.005445523 -0.48922071 -0.711014842  0.103179759\n",
       "SRR7134933_human_kidney -0.265918169 -0.07934271  0.134591304  0.491777430\n",
       "SRR7134934_human_kidney -0.291746085 -0.27739144  0.142457827 -0.142938699\n",
       "SRR7134935_human_liver  -0.142426682  0.23671826 -0.166282993 -0.100215203\n",
       "SRR7134936_human_liver  -0.010083722  0.01454261 -0.012546239 -0.012927967\n",
       "SRR7134937_human_liver   0.054583041 -0.02916712  0.124210246 -0.199962845\n",
       "                                [,9]\n",
       "SRR7134925_human_brain  -0.204051801\n",
       "SRR7134926_human_brain   0.127521861\n",
       "SRR7134927_human_brain  -0.155880353\n",
       "SRR7134928_human_brain   0.117018260\n",
       "SRR7134929_human_heart   0.046955239\n",
       "SRR7134930_human_heart  -0.014817398\n",
       "SRR7134931_human_heart   0.186426661\n",
       "SRR7134932_human_heart  -0.110221384\n",
       "SRR7134933_human_kidney  0.075079211\n",
       "SRR7134934_human_kidney -0.077420016\n",
       "SRR7134935_human_liver  -0.031399356\n",
       "SRR7134936_human_liver  -0.001479042\n",
       "SRR7134937_human_liver  -0.070208236\n",
       "\n",
       "$corr.Y.xscores\n",
       "                                [,1]        [,2]        [,3]         [,4]\n",
       "SRR7134963_mouse_brain  -0.019202410  0.82473145 0.248064567 -0.008083434\n",
       "SRR7134964_mouse_brain  -0.019723095  0.81677752 0.249348046 -0.033621582\n",
       "SRR7134965_mouse_heart  -0.004187660 -0.12207000 0.786345294 -0.029120951\n",
       "SRR7134966_mouse_heart  -0.003879566 -0.11176718 0.753958861 -0.032603074\n",
       "SRR7134967_mouse_kidney  0.030097259  0.09158704 0.081645903 -0.370196343\n",
       "SRR7134968_mouse_kidney  0.025551446  0.11621463 0.102715754 -0.459778241\n",
       "SRR7134969_mouse_kidney  0.031082275  0.10455711 0.098305462 -0.438877226\n",
       "SRR7134970_mouse_liver   0.991518416  0.01704937 0.010364465 -0.002060218\n",
       "SRR7134971_mouse_liver   0.992241421  0.01559895 0.009004465  0.002241066\n",
       "                                [,5]         [,6]          [,7]          [,8]\n",
       "SRR7134963_mouse_brain   0.002448326 -0.001575022  0.0083881483  0.0001395693\n",
       "SRR7134964_mouse_brain   0.056265735  0.003492124  0.0094082329  0.0003593473\n",
       "SRR7134965_mouse_heart  -0.018024835 -0.051163038 -0.0714638414 -0.0013040572\n",
       "SRR7134966_mouse_heart  -0.014865498 -0.068931098 -0.1006884811 -0.0003840852\n",
       "SRR7134967_mouse_kidney -0.143861664  0.091501722 -0.0390797121  0.0016444884\n",
       "SRR7134968_mouse_kidney -0.174392554  0.032241797 -0.0055094526  0.0027423331\n",
       "SRR7134969_mouse_kidney -0.175510031  0.077117370 -0.0335020556  0.0183430070\n",
       "SRR7134970_mouse_liver  -0.003618297  0.002697667 -0.0035574562 -0.0040667520\n",
       "SRR7134971_mouse_liver  -0.001226592 -0.003012994  0.0008655093 -0.0008414639\n",
       "                                 [,9]\n",
       "SRR7134963_mouse_brain  -2.447854e-05\n",
       "SRR7134964_mouse_brain   4.576669e-05\n",
       "SRR7134965_mouse_heart  -1.064548e-03\n",
       "SRR7134966_mouse_heart  -1.261248e-03\n",
       "SRR7134967_mouse_kidney -1.481656e-02\n",
       "SRR7134968_mouse_kidney -8.983680e-03\n",
       "SRR7134969_mouse_kidney -8.282785e-03\n",
       "SRR7134970_mouse_liver   2.057689e-04\n",
       "SRR7134971_mouse_liver  -2.374618e-04\n",
       "\n",
       "$corr.X.yscores\n",
       "                                [,1]        [,2]       [,3]         [,4]\n",
       "SRR7134925_human_brain  -0.014572421  0.62846180 0.13524969  0.159820855\n",
       "SRR7134926_human_brain  -0.015266771  0.80531010 0.23859797 -0.013323804\n",
       "SRR7134927_human_brain  -0.016431156  0.70268943 0.21999395 -0.104482134\n",
       "SRR7134928_human_brain  -0.016280790  0.78369067 0.21192602  0.063094960\n",
       "SRR7134929_human_heart  -0.003235095 -0.17613118 0.78766842  0.004032405\n",
       "SRR7134930_human_heart  -0.003438884 -0.19938882 0.75455535  0.032052483\n",
       "SRR7134931_human_heart  -0.001510790 -0.06943749 0.39136063 -0.017887007\n",
       "SRR7134932_human_heart  -0.002568675 -0.03332754 0.24988777 -0.029341486\n",
       "SRR7134933_human_kidney  0.004045058  0.14091054 0.10436077 -0.417947101\n",
       "SRR7134934_human_kidney  0.003413784  0.19548193 0.15965974 -0.450414542\n",
       "SRR7134935_human_liver   0.922420727  0.06683992 0.03168216 -0.059702152\n",
       "SRR7134936_human_liver   0.991841802  0.01879622 0.01154527 -0.006949904\n",
       "SRR7134937_human_liver  -0.013444401  0.55804427 0.19404499 -0.071501981\n",
       "                                [,5]         [,6]         [,7]         [,8]\n",
       "SRR7134925_human_brain  -0.263288625 -0.005034076 -0.002500517  0.016664940\n",
       "SRR7134926_human_brain   0.012952856 -0.002176497  0.006894856 -0.005959044\n",
       "SRR7134927_human_brain   0.213832505  0.024272366 -0.005897009  0.007956613\n",
       "SRR7134928_human_brain  -0.114306954  0.006371495 -0.014301262  0.007702968\n",
       "SRR7134929_human_heart  -0.022471711 -0.016659955 -0.015907411  0.001031530\n",
       "SRR7134930_human_heart  -0.017572076  0.021933197  0.020618997  0.009423530\n",
       "SRR7134931_human_heart  -0.018930595 -0.012288794 -0.005698347  0.002200887\n",
       "SRR7134932_human_heart   0.002722025 -0.157414892 -0.217318704  0.011742849\n",
       "SRR7134933_human_kidney -0.132923141 -0.025529836  0.041137267  0.055968999\n",
       "SRR7134934_human_kidney -0.145833608 -0.089255305  0.043541637 -0.016267798\n",
       "SRR7134935_human_liver  -0.071194090  0.076168035 -0.050823699 -0.011405454\n",
       "SRR7134936_human_liver  -0.005040498  0.004679327 -0.003834705 -0.001471327\n",
       "SRR7134937_human_liver   0.027284143 -0.009385005  0.037964341 -0.022757694\n",
       "                                 [,9]\n",
       "SRR7134925_human_brain  -5.197572e-03\n",
       "SRR7134926_human_brain   3.248214e-03\n",
       "SRR7134927_human_brain  -3.970557e-03\n",
       "SRR7134928_human_brain   2.980668e-03\n",
       "SRR7134929_human_heart   1.196036e-03\n",
       "SRR7134930_human_heart  -3.774262e-04\n",
       "SRR7134931_human_heart   4.748627e-03\n",
       "SRR7134932_human_heart  -2.807540e-03\n",
       "SRR7134933_human_kidney  1.912404e-03\n",
       "SRR7134934_human_kidney -1.972029e-03\n",
       "SRR7134935_human_liver  -7.997988e-04\n",
       "SRR7134936_human_liver  -3.767391e-05\n",
       "SRR7134937_human_liver  -1.788332e-03\n",
       "\n",
       "$corr.Y.yscores\n",
       "                                [,1]        [,2]       [,3]         [,4]\n",
       "SRR7134963_mouse_brain  -0.019345757  0.95374297 0.29829080 -0.014803364\n",
       "SRR7134964_mouse_brain  -0.019870328  0.94454481 0.29983415 -0.061571913\n",
       "SRR7134965_mouse_heart  -0.004218921 -0.14116523 0.94555853 -0.053329813\n",
       "SRR7134966_mouse_heart  -0.003908527 -0.12925075 0.90661474 -0.059706699\n",
       "SRR7134967_mouse_kidney  0.030321937  0.10591386 0.09817695 -0.677948386\n",
       "SRR7134968_mouse_kidney  0.025742189  0.13439391 0.12351286 -0.842001609\n",
       "SRR7134969_mouse_kidney  0.031314305  0.12091283 0.11820961 -0.803725138\n",
       "SRR7134970_mouse_liver   0.998920142  0.01971637 0.01246298 -0.003772922\n",
       "SRR7134971_mouse_liver   0.999648545  0.01803908 0.01082762  0.004104112\n",
       "                                [,5]         [,6]         [,7]         [,8]\n",
       "SRR7134963_mouse_brain   0.004897975 -0.004894916  0.027443999  0.001226338\n",
       "SRR7134964_mouse_brain   0.112561855  0.010852964  0.030781470  0.003157437\n",
       "SRR7134965_mouse_heart  -0.036059404 -0.159006536 -0.233812460 -0.011458214\n",
       "SRR7134966_mouse_heart  -0.029739024 -0.214226824 -0.329428435 -0.003374798\n",
       "SRR7134967_mouse_kidney -0.287801016  0.284372712 -0.127859396  0.014449441\n",
       "SRR7134968_mouse_kidney -0.348879285  0.100202345 -0.018025601  0.024095750\n",
       "SRR7134969_mouse_kidney -0.351114843  0.239668447 -0.109610649  0.161172441\n",
       "SRR7134970_mouse_liver  -0.007238548  0.008383918 -0.011639139 -0.035732874\n",
       "SRR7134971_mouse_liver  -0.002453846 -0.009363902  0.002831738 -0.007393597\n",
       "                                 [,9]\n",
       "SRR7134963_mouse_brain  -0.0009610038\n",
       "SRR7134964_mouse_brain   0.0017967560\n",
       "SRR7134965_mouse_heart  -0.0417931165\n",
       "SRR7134966_mouse_heart  -0.0495153916\n",
       "SRR7134967_mouse_kidney -0.5816837890\n",
       "SRR7134968_mouse_kidney -0.3526906399\n",
       "SRR7134969_mouse_kidney -0.3251741802\n",
       "SRR7134970_mouse_liver   0.0080782905\n",
       "SRR7134971_mouse_liver  -0.0093225216\n"
      ]
     },
     "metadata": {},
     "output_type": "display_data"
    }
   ],
   "source": [
    "cc2 <- comput(df_s1, df_s2, cc1)\n",
    "# display canonical loadings\n",
    "cc2[3:6]"
   ]
  },
  {
   "cell_type": "code",
   "execution_count": 152,
   "metadata": {},
   "outputs": [
    {
     "data": {
      "text/html": [
       "<ol class=list-inline>\n",
       "\t<li>'xscores'</li>\n",
       "\t<li>'yscores'</li>\n",
       "\t<li>'corr.X.xscores'</li>\n",
       "\t<li>'corr.Y.xscores'</li>\n",
       "\t<li>'corr.X.yscores'</li>\n",
       "\t<li>'corr.Y.yscores'</li>\n",
       "</ol>\n"
      ],
      "text/latex": [
       "\\begin{enumerate*}\n",
       "\\item 'xscores'\n",
       "\\item 'yscores'\n",
       "\\item 'corr.X.xscores'\n",
       "\\item 'corr.Y.xscores'\n",
       "\\item 'corr.X.yscores'\n",
       "\\item 'corr.Y.yscores'\n",
       "\\end{enumerate*}\n"
      ],
      "text/markdown": [
       "1. 'xscores'\n",
       "2. 'yscores'\n",
       "3. 'corr.X.xscores'\n",
       "4. 'corr.Y.xscores'\n",
       "5. 'corr.X.yscores'\n",
       "6. 'corr.Y.yscores'\n",
       "\n",
       "\n"
      ],
      "text/plain": [
       "[1] \"xscores\"        \"yscores\"        \"corr.X.xscores\" \"corr.Y.xscores\"\n",
       "[5] \"corr.X.yscores\" \"corr.Y.yscores\""
      ]
     },
     "metadata": {},
     "output_type": "display_data"
    }
   ],
   "source": [
    "names(cc2)"
   ]
  },
  {
   "cell_type": "code",
   "execution_count": 153,
   "metadata": {},
   "outputs": [
    {
     "data": {
      "text/html": [
       "<table>\n",
       "<tbody>\n",
       "\t<tr><th scope=row>ENSG00000088766</th><td> 0.05713811 </td><td>-0.2577997  </td><td> 0.14352386 </td><td>-0.03854085 </td><td>-0.30838666 </td><td> 0.75476152 </td><td>-0.47774002 </td><td>-0.0170068  </td><td>-0.005187548</td></tr>\n",
       "\t<tr><th scope=row>ENSG00000010319</th><td>-0.03846236 </td><td>-0.1513194  </td><td>-0.09836582 </td><td>-0.47560498 </td><td>-0.17692821 </td><td>-0.32653218 </td><td> 0.14441517 </td><td> 0.2166078  </td><td> 0.244113183</td></tr>\n",
       "\t<tr><th scope=row>ENSG00000188338</th><td> 0.17375025 </td><td>-0.1354336  </td><td>-0.14727302 </td><td>-0.62266842 </td><td>-0.74453423 </td><td> 2.97639980 </td><td>-2.02801050 </td><td>-0.8767784  </td><td> 0.114850134</td></tr>\n",
       "\t<tr><th scope=row>ENSG00000134571</th><td>-0.13913006 </td><td>-3.7593834  </td><td>12.81426617 </td><td> 1.76791123 </td><td> 0.33510011 </td><td>-6.60035420 </td><td>-8.46300345 </td><td>-1.5732730  </td><td> 3.811272848</td></tr>\n",
       "\t<tr><th scope=row>ENSG00000174564</th><td>-0.03138035 </td><td>-0.3578048  </td><td>-0.23700572 </td><td> 0.32562615 </td><td> 0.05968547 </td><td>-0.01555561 </td><td> 0.04254032 </td><td> 0.1316174  </td><td> 0.033717454</td></tr>\n",
       "\t<tr><th scope=row>ENSG00000142627</th><td>-0.01929734 </td><td>-0.3547306  </td><td>-0.21637588 </td><td>-0.08663908 </td><td>-0.12941397 </td><td>-0.06812513 </td><td> 0.02228887 </td><td> 0.3508957  </td><td> 0.093631834</td></tr>\n",
       "</tbody>\n",
       "</table>\n"
      ],
      "text/latex": [
       "\\begin{tabular}{r|lllllllll}\n",
       "\tENSG00000088766 &  0.05713811  & -0.2577997   &  0.14352386  & -0.03854085  & -0.30838666  &  0.75476152  & -0.47774002  & -0.0170068   & -0.005187548\\\\\n",
       "\tENSG00000010319 & -0.03846236  & -0.1513194   & -0.09836582  & -0.47560498  & -0.17692821  & -0.32653218  &  0.14441517  &  0.2166078   &  0.244113183\\\\\n",
       "\tENSG00000188338 &  0.17375025  & -0.1354336   & -0.14727302  & -0.62266842  & -0.74453423  &  2.97639980  & -2.02801050  & -0.8767784   &  0.114850134\\\\\n",
       "\tENSG00000134571 & -0.13913006  & -3.7593834   & 12.81426617  &  1.76791123  &  0.33510011  & -6.60035420  & -8.46300345  & -1.5732730   &  3.811272848\\\\\n",
       "\tENSG00000174564 & -0.03138035  & -0.3578048   & -0.23700572  &  0.32562615  &  0.05968547  & -0.01555561  &  0.04254032  &  0.1316174   &  0.033717454\\\\\n",
       "\tENSG00000142627 & -0.01929734  & -0.3547306   & -0.21637588  & -0.08663908  & -0.12941397  & -0.06812513  &  0.02228887  &  0.3508957   &  0.093631834\\\\\n",
       "\\end{tabular}\n"
      ],
      "text/markdown": [
       "\n",
       "| ENSG00000088766 |  0.05713811  | -0.2577997   |  0.14352386  | -0.03854085  | -0.30838666  |  0.75476152  | -0.47774002  | -0.0170068   | -0.005187548 | \n",
       "| ENSG00000010319 | -0.03846236  | -0.1513194   | -0.09836582  | -0.47560498  | -0.17692821  | -0.32653218  |  0.14441517  |  0.2166078   |  0.244113183 | \n",
       "| ENSG00000188338 |  0.17375025  | -0.1354336   | -0.14727302  | -0.62266842  | -0.74453423  |  2.97639980  | -2.02801050  | -0.8767784   |  0.114850134 | \n",
       "| ENSG00000134571 | -0.13913006  | -3.7593834   | 12.81426617  |  1.76791123  |  0.33510011  | -6.60035420  | -8.46300345  | -1.5732730   |  3.811272848 | \n",
       "| ENSG00000174564 | -0.03138035  | -0.3578048   | -0.23700572  |  0.32562615  |  0.05968547  | -0.01555561  |  0.04254032  |  0.1316174   |  0.033717454 | \n",
       "| ENSG00000142627 | -0.01929734  | -0.3547306   | -0.21637588  | -0.08663908  | -0.12941397  | -0.06812513  |  0.02228887  |  0.3508957   |  0.093631834 | \n",
       "\n",
       "\n"
      ],
      "text/plain": [
       "                [,1]        [,2]       [,3]        [,4]        [,5]       \n",
       "ENSG00000088766  0.05713811 -0.2577997  0.14352386 -0.03854085 -0.30838666\n",
       "ENSG00000010319 -0.03846236 -0.1513194 -0.09836582 -0.47560498 -0.17692821\n",
       "ENSG00000188338  0.17375025 -0.1354336 -0.14727302 -0.62266842 -0.74453423\n",
       "ENSG00000134571 -0.13913006 -3.7593834 12.81426617  1.76791123  0.33510011\n",
       "ENSG00000174564 -0.03138035 -0.3578048 -0.23700572  0.32562615  0.05968547\n",
       "ENSG00000142627 -0.01929734 -0.3547306 -0.21637588 -0.08663908 -0.12941397\n",
       "                [,6]        [,7]        [,8]       [,9]        \n",
       "ENSG00000088766  0.75476152 -0.47774002 -0.0170068 -0.005187548\n",
       "ENSG00000010319 -0.32653218  0.14441517  0.2166078  0.244113183\n",
       "ENSG00000188338  2.97639980 -2.02801050 -0.8767784  0.114850134\n",
       "ENSG00000134571 -6.60035420 -8.46300345 -1.5732730  3.811272848\n",
       "ENSG00000174564 -0.01555561  0.04254032  0.1316174  0.033717454\n",
       "ENSG00000142627 -0.06812513  0.02228887  0.3508957  0.093631834"
      ]
     },
     "metadata": {},
     "output_type": "display_data"
    }
   ],
   "source": [
    "head(cc2$xscores)"
   ]
  },
  {
   "cell_type": "code",
   "execution_count": 154,
   "metadata": {},
   "outputs": [
    {
     "data": {
      "text/html": [
       "<ol class=list-inline>\n",
       "\t<li>'cor'</li>\n",
       "\t<li>'names'</li>\n",
       "\t<li>'xcoef'</li>\n",
       "\t<li>'ycoef'</li>\n",
       "\t<li>'scores'</li>\n",
       "</ol>\n"
      ],
      "text/latex": [
       "\\begin{enumerate*}\n",
       "\\item 'cor'\n",
       "\\item 'names'\n",
       "\\item 'xcoef'\n",
       "\\item 'ycoef'\n",
       "\\item 'scores'\n",
       "\\end{enumerate*}\n"
      ],
      "text/markdown": [
       "1. 'cor'\n",
       "2. 'names'\n",
       "3. 'xcoef'\n",
       "4. 'ycoef'\n",
       "5. 'scores'\n",
       "\n",
       "\n"
      ],
      "text/plain": [
       "[1] \"cor\"    \"names\"  \"xcoef\"  \"ycoef\"  \"scores\""
      ]
     },
     "metadata": {},
     "output_type": "display_data"
    }
   ],
   "source": [
    "names(cc1)"
   ]
  },
  {
   "cell_type": "code",
   "execution_count": 155,
   "metadata": {},
   "outputs": [
    {
     "data": {
      "text/html": [
       "<ol class=list-inline>\n",
       "\t<li>0.992746483877837</li>\n",
       "\t<li>0.864858643542964</li>\n",
       "\t<li>0.831747316751706</li>\n",
       "\t<li>0.546134750774287</li>\n",
       "\t<li>0.4999435455638</li>\n",
       "\t<li>0.321817285915895</li>\n",
       "\t<li>0.305693933975004</li>\n",
       "\t<li>0.113827535151769</li>\n",
       "\t<li>0.0254758346776969</li>\n",
       "</ol>\n"
      ],
      "text/latex": [
       "\\begin{enumerate*}\n",
       "\\item 0.992746483877837\n",
       "\\item 0.864858643542964\n",
       "\\item 0.831747316751706\n",
       "\\item 0.546134750774287\n",
       "\\item 0.4999435455638\n",
       "\\item 0.321817285915895\n",
       "\\item 0.305693933975004\n",
       "\\item 0.113827535151769\n",
       "\\item 0.0254758346776969\n",
       "\\end{enumerate*}\n"
      ],
      "text/markdown": [
       "1. 0.992746483877837\n",
       "2. 0.864858643542964\n",
       "3. 0.831747316751706\n",
       "4. 0.546134750774287\n",
       "5. 0.4999435455638\n",
       "6. 0.321817285915895\n",
       "7. 0.305693933975004\n",
       "8. 0.113827535151769\n",
       "9. 0.0254758346776969\n",
       "\n",
       "\n"
      ],
      "text/plain": [
       "[1] 0.99274648 0.86485864 0.83174732 0.54613475 0.49994355 0.32181729 0.30569393\n",
       "[8] 0.11382754 0.02547583"
      ]
     },
     "metadata": {},
     "output_type": "display_data"
    }
   ],
   "source": [
    "cc1$cor"
   ]
  },
  {
   "cell_type": "code",
   "execution_count": 159,
   "metadata": {},
   "outputs": [
    {
     "data": {
      "text/html": [
       "<ol class=list-inline>\n",
       "\t<li>13</li>\n",
       "\t<li>9</li>\n",
       "</ol>\n"
      ],
      "text/latex": [
       "\\begin{enumerate*}\n",
       "\\item 13\n",
       "\\item 9\n",
       "\\end{enumerate*}\n"
      ],
      "text/markdown": [
       "1. 13\n",
       "2. 9\n",
       "\n",
       "\n"
      ],
      "text/plain": [
       "[1] 13  9"
      ]
     },
     "metadata": {},
     "output_type": "display_data"
    },
    {
     "data": {
      "text/html": [
       "<table>\n",
       "<tbody>\n",
       "\t<tr><th scope=row>SRR7134925_human_brain</th><td>-5.595696e-08</td><td> 3.378091e-05</td><td>-9.239029e-06</td><td> 8.063880e-05</td><td>-1.191331e-04</td><td>-5.627168e-05</td><td> 6.770925e-05</td><td> 4.425615e-05</td><td>-3.366739e-04</td></tr>\n",
       "\t<tr><th scope=row>SRR7134926_human_brain</th><td>-4.429545e-06</td><td> 8.390136e-05</td><td> 1.812443e-05</td><td> 1.258482e-05</td><td> 1.393966e-05</td><td>-7.649759e-05</td><td> 1.041662e-04</td><td>-1.388034e-04</td><td> 3.516160e-05</td></tr>\n",
       "\t<tr><th scope=row>SRR7134927_human_brain</th><td> 4.726533e-08</td><td> 1.397576e-04</td><td> 3.920281e-05</td><td>-1.582187e-04</td><td> 5.511771e-04</td><td> 1.955352e-04</td><td>-1.280258e-04</td><td> 2.681523e-04</td><td>-6.366609e-04</td></tr>\n",
       "\t<tr><th scope=row>SRR7134928_human_brain</th><td> 3.973643e-06</td><td> 9.711426e-05</td><td> 4.877448e-05</td><td> 3.519444e-05</td><td>-1.356908e-04</td><td> 1.999878e-04</td><td>-4.178540e-04</td><td> 2.340954e-04</td><td> 1.376934e-03</td></tr>\n",
       "\t<tr><th scope=row>SRR7134929_human_heart</th><td>-2.722674e-06</td><td>-6.808992e-05</td><td> 3.084855e-04</td><td> 2.634412e-05</td><td> 4.280273e-06</td><td>-1.892537e-04</td><td>-2.120971e-04</td><td>-1.263234e-04</td><td> 1.247998e-04</td></tr>\n",
       "\t<tr><th scope=row>SRR7134930_human_heart</th><td> 3.465584e-07</td><td>-2.707369e-05</td><td> 5.336563e-05</td><td> 1.343461e-05</td><td>-6.533386e-06</td><td> 1.270216e-04</td><td> 1.464751e-04</td><td> 6.046555e-05</td><td>-8.432714e-05</td></tr>\n",
       "\t<tr><th scope=row>SRR7134931_human_heart</th><td> 1.411478e-07</td><td> 1.431898e-05</td><td>-5.681893e-05</td><td>-4.992351e-06</td><td> 1.748058e-06</td><td>-6.223327e-06</td><td>-3.310245e-06</td><td> 6.519917e-06</td><td> 6.331693e-05</td></tr>\n",
       "\t<tr><th scope=row>SRR7134932_human_heart</th><td>-1.327662e-07</td><td> 7.109912e-07</td><td>-1.719763e-06</td><td>-6.582675e-07</td><td> 3.440964e-06</td><td>-4.116282e-05</td><td>-6.552979e-05</td><td> 1.289831e-05</td><td>-1.132689e-05</td></tr>\n",
       "\t<tr><th scope=row>SRR7134933_human_kidney</th><td> 1.331663e-06</td><td>-3.082835e-06</td><td>-4.806580e-06</td><td>-9.692367e-05</td><td>-3.414899e-05</td><td> 5.550002e-05</td><td> 1.219539e-06</td><td> 3.093755e-04</td><td> 7.814072e-05</td></tr>\n",
       "\t<tr><th scope=row>SRR7134934_human_kidney</th><td>-3.525508e-06</td><td> 2.033353e-06</td><td> 1.032989e-05</td><td>-2.339460e-04</td><td>-1.172773e-04</td><td>-2.138169e-04</td><td> 1.331754e-04</td><td>-3.724978e-04</td><td>-1.365683e-04</td></tr>\n",
       "\t<tr><th scope=row>SRR7134935_human_liver</th><td>-5.655577e-05</td><td>-1.691186e-05</td><td> 5.636891e-06</td><td>-5.084743e-04</td><td>-4.467799e-04</td><td> 1.601745e-03</td><td>-1.060869e-03</td><td>-5.300434e-04</td><td>-2.081554e-04</td></tr>\n",
       "\t<tr><th scope=row>SRR7134936_human_liver</th><td> 5.902108e-05</td><td> 2.127978e-06</td><td>-2.150917e-08</td><td> 3.777151e-05</td><td> 3.299637e-05</td><td>-1.174162e-04</td><td> 7.771840e-05</td><td> 3.897740e-05</td><td> 1.496989e-05</td></tr>\n",
       "\t<tr><th scope=row>SRR7134937_human_liver</th><td>-8.585598e-07</td><td> 2.702467e-05</td><td> 1.723694e-05</td><td> 2.581933e-05</td><td>-2.309562e-05</td><td>-1.658540e-08</td><td> 5.970002e-05</td><td>-9.074030e-05</td><td>-3.378200e-05</td></tr>\n",
       "</tbody>\n",
       "</table>\n"
      ],
      "text/latex": [
       "\\begin{tabular}{r|lllllllll}\n",
       "\tSRR7134925\\_human\\_brain & -5.595696e-08 &  3.378091e-05 & -9.239029e-06 &  8.063880e-05 & -1.191331e-04 & -5.627168e-05 &  6.770925e-05 &  4.425615e-05 & -3.366739e-04\\\\\n",
       "\tSRR7134926\\_human\\_brain & -4.429545e-06 &  8.390136e-05 &  1.812443e-05 &  1.258482e-05 &  1.393966e-05 & -7.649759e-05 &  1.041662e-04 & -1.388034e-04 &  3.516160e-05\\\\\n",
       "\tSRR7134927\\_human\\_brain &  4.726533e-08 &  1.397576e-04 &  3.920281e-05 & -1.582187e-04 &  5.511771e-04 &  1.955352e-04 & -1.280258e-04 &  2.681523e-04 & -6.366609e-04\\\\\n",
       "\tSRR7134928\\_human\\_brain &  3.973643e-06 &  9.711426e-05 &  4.877448e-05 &  3.519444e-05 & -1.356908e-04 &  1.999878e-04 & -4.178540e-04 &  2.340954e-04 &  1.376934e-03\\\\\n",
       "\tSRR7134929\\_human\\_heart & -2.722674e-06 & -6.808992e-05 &  3.084855e-04 &  2.634412e-05 &  4.280273e-06 & -1.892537e-04 & -2.120971e-04 & -1.263234e-04 &  1.247998e-04\\\\\n",
       "\tSRR7134930\\_human\\_heart &  3.465584e-07 & -2.707369e-05 &  5.336563e-05 &  1.343461e-05 & -6.533386e-06 &  1.270216e-04 &  1.464751e-04 &  6.046555e-05 & -8.432714e-05\\\\\n",
       "\tSRR7134931\\_human\\_heart &  1.411478e-07 &  1.431898e-05 & -5.681893e-05 & -4.992351e-06 &  1.748058e-06 & -6.223327e-06 & -3.310245e-06 &  6.519917e-06 &  6.331693e-05\\\\\n",
       "\tSRR7134932\\_human\\_heart & -1.327662e-07 &  7.109912e-07 & -1.719763e-06 & -6.582675e-07 &  3.440964e-06 & -4.116282e-05 & -6.552979e-05 &  1.289831e-05 & -1.132689e-05\\\\\n",
       "\tSRR7134933\\_human\\_kidney &  1.331663e-06 & -3.082835e-06 & -4.806580e-06 & -9.692367e-05 & -3.414899e-05 &  5.550002e-05 &  1.219539e-06 &  3.093755e-04 &  7.814072e-05\\\\\n",
       "\tSRR7134934\\_human\\_kidney & -3.525508e-06 &  2.033353e-06 &  1.032989e-05 & -2.339460e-04 & -1.172773e-04 & -2.138169e-04 &  1.331754e-04 & -3.724978e-04 & -1.365683e-04\\\\\n",
       "\tSRR7134935\\_human\\_liver & -5.655577e-05 & -1.691186e-05 &  5.636891e-06 & -5.084743e-04 & -4.467799e-04 &  1.601745e-03 & -1.060869e-03 & -5.300434e-04 & -2.081554e-04\\\\\n",
       "\tSRR7134936\\_human\\_liver &  5.902108e-05 &  2.127978e-06 & -2.150917e-08 &  3.777151e-05 &  3.299637e-05 & -1.174162e-04 &  7.771840e-05 &  3.897740e-05 &  1.496989e-05\\\\\n",
       "\tSRR7134937\\_human\\_liver & -8.585598e-07 &  2.702467e-05 &  1.723694e-05 &  2.581933e-05 & -2.309562e-05 & -1.658540e-08 &  5.970002e-05 & -9.074030e-05 & -3.378200e-05\\\\\n",
       "\\end{tabular}\n"
      ],
      "text/markdown": [
       "\n",
       "| SRR7134925_human_brain | -5.595696e-08 |  3.378091e-05 | -9.239029e-06 |  8.063880e-05 | -1.191331e-04 | -5.627168e-05 |  6.770925e-05 |  4.425615e-05 | -3.366739e-04 | \n",
       "| SRR7134926_human_brain | -4.429545e-06 |  8.390136e-05 |  1.812443e-05 |  1.258482e-05 |  1.393966e-05 | -7.649759e-05 |  1.041662e-04 | -1.388034e-04 |  3.516160e-05 | \n",
       "| SRR7134927_human_brain |  4.726533e-08 |  1.397576e-04 |  3.920281e-05 | -1.582187e-04 |  5.511771e-04 |  1.955352e-04 | -1.280258e-04 |  2.681523e-04 | -6.366609e-04 | \n",
       "| SRR7134928_human_brain |  3.973643e-06 |  9.711426e-05 |  4.877448e-05 |  3.519444e-05 | -1.356908e-04 |  1.999878e-04 | -4.178540e-04 |  2.340954e-04 |  1.376934e-03 | \n",
       "| SRR7134929_human_heart | -2.722674e-06 | -6.808992e-05 |  3.084855e-04 |  2.634412e-05 |  4.280273e-06 | -1.892537e-04 | -2.120971e-04 | -1.263234e-04 |  1.247998e-04 | \n",
       "| SRR7134930_human_heart |  3.465584e-07 | -2.707369e-05 |  5.336563e-05 |  1.343461e-05 | -6.533386e-06 |  1.270216e-04 |  1.464751e-04 |  6.046555e-05 | -8.432714e-05 | \n",
       "| SRR7134931_human_heart |  1.411478e-07 |  1.431898e-05 | -5.681893e-05 | -4.992351e-06 |  1.748058e-06 | -6.223327e-06 | -3.310245e-06 |  6.519917e-06 |  6.331693e-05 | \n",
       "| SRR7134932_human_heart | -1.327662e-07 |  7.109912e-07 | -1.719763e-06 | -6.582675e-07 |  3.440964e-06 | -4.116282e-05 | -6.552979e-05 |  1.289831e-05 | -1.132689e-05 | \n",
       "| SRR7134933_human_kidney |  1.331663e-06 | -3.082835e-06 | -4.806580e-06 | -9.692367e-05 | -3.414899e-05 |  5.550002e-05 |  1.219539e-06 |  3.093755e-04 |  7.814072e-05 | \n",
       "| SRR7134934_human_kidney | -3.525508e-06 |  2.033353e-06 |  1.032989e-05 | -2.339460e-04 | -1.172773e-04 | -2.138169e-04 |  1.331754e-04 | -3.724978e-04 | -1.365683e-04 | \n",
       "| SRR7134935_human_liver | -5.655577e-05 | -1.691186e-05 |  5.636891e-06 | -5.084743e-04 | -4.467799e-04 |  1.601745e-03 | -1.060869e-03 | -5.300434e-04 | -2.081554e-04 | \n",
       "| SRR7134936_human_liver |  5.902108e-05 |  2.127978e-06 | -2.150917e-08 |  3.777151e-05 |  3.299637e-05 | -1.174162e-04 |  7.771840e-05 |  3.897740e-05 |  1.496989e-05 | \n",
       "| SRR7134937_human_liver | -8.585598e-07 |  2.702467e-05 |  1.723694e-05 |  2.581933e-05 | -2.309562e-05 | -1.658540e-08 |  5.970002e-05 | -9.074030e-05 | -3.378200e-05 | \n",
       "\n",
       "\n"
      ],
      "text/plain": [
       "                        [,1]          [,2]          [,3]          [,4]         \n",
       "SRR7134925_human_brain  -5.595696e-08  3.378091e-05 -9.239029e-06  8.063880e-05\n",
       "SRR7134926_human_brain  -4.429545e-06  8.390136e-05  1.812443e-05  1.258482e-05\n",
       "SRR7134927_human_brain   4.726533e-08  1.397576e-04  3.920281e-05 -1.582187e-04\n",
       "SRR7134928_human_brain   3.973643e-06  9.711426e-05  4.877448e-05  3.519444e-05\n",
       "SRR7134929_human_heart  -2.722674e-06 -6.808992e-05  3.084855e-04  2.634412e-05\n",
       "SRR7134930_human_heart   3.465584e-07 -2.707369e-05  5.336563e-05  1.343461e-05\n",
       "SRR7134931_human_heart   1.411478e-07  1.431898e-05 -5.681893e-05 -4.992351e-06\n",
       "SRR7134932_human_heart  -1.327662e-07  7.109912e-07 -1.719763e-06 -6.582675e-07\n",
       "SRR7134933_human_kidney  1.331663e-06 -3.082835e-06 -4.806580e-06 -9.692367e-05\n",
       "SRR7134934_human_kidney -3.525508e-06  2.033353e-06  1.032989e-05 -2.339460e-04\n",
       "SRR7134935_human_liver  -5.655577e-05 -1.691186e-05  5.636891e-06 -5.084743e-04\n",
       "SRR7134936_human_liver   5.902108e-05  2.127978e-06 -2.150917e-08  3.777151e-05\n",
       "SRR7134937_human_liver  -8.585598e-07  2.702467e-05  1.723694e-05  2.581933e-05\n",
       "                        [,5]          [,6]          [,7]          [,8]         \n",
       "SRR7134925_human_brain  -1.191331e-04 -5.627168e-05  6.770925e-05  4.425615e-05\n",
       "SRR7134926_human_brain   1.393966e-05 -7.649759e-05  1.041662e-04 -1.388034e-04\n",
       "SRR7134927_human_brain   5.511771e-04  1.955352e-04 -1.280258e-04  2.681523e-04\n",
       "SRR7134928_human_brain  -1.356908e-04  1.999878e-04 -4.178540e-04  2.340954e-04\n",
       "SRR7134929_human_heart   4.280273e-06 -1.892537e-04 -2.120971e-04 -1.263234e-04\n",
       "SRR7134930_human_heart  -6.533386e-06  1.270216e-04  1.464751e-04  6.046555e-05\n",
       "SRR7134931_human_heart   1.748058e-06 -6.223327e-06 -3.310245e-06  6.519917e-06\n",
       "SRR7134932_human_heart   3.440964e-06 -4.116282e-05 -6.552979e-05  1.289831e-05\n",
       "SRR7134933_human_kidney -3.414899e-05  5.550002e-05  1.219539e-06  3.093755e-04\n",
       "SRR7134934_human_kidney -1.172773e-04 -2.138169e-04  1.331754e-04 -3.724978e-04\n",
       "SRR7134935_human_liver  -4.467799e-04  1.601745e-03 -1.060869e-03 -5.300434e-04\n",
       "SRR7134936_human_liver   3.299637e-05 -1.174162e-04  7.771840e-05  3.897740e-05\n",
       "SRR7134937_human_liver  -2.309562e-05 -1.658540e-08  5.970002e-05 -9.074030e-05\n",
       "                        [,9]         \n",
       "SRR7134925_human_brain  -3.366739e-04\n",
       "SRR7134926_human_brain   3.516160e-05\n",
       "SRR7134927_human_brain  -6.366609e-04\n",
       "SRR7134928_human_brain   1.376934e-03\n",
       "SRR7134929_human_heart   1.247998e-04\n",
       "SRR7134930_human_heart  -8.432714e-05\n",
       "SRR7134931_human_heart   6.331693e-05\n",
       "SRR7134932_human_heart  -1.132689e-05\n",
       "SRR7134933_human_kidney  7.814072e-05\n",
       "SRR7134934_human_kidney -1.365683e-04\n",
       "SRR7134935_human_liver  -2.081554e-04\n",
       "SRR7134936_human_liver   1.496989e-05\n",
       "SRR7134937_human_liver  -3.378200e-05"
      ]
     },
     "metadata": {},
     "output_type": "display_data"
    }
   ],
   "source": [
    "dim(cc1$xcoef)\n",
    "cc1$xcoef"
   ]
  },
  {
   "cell_type": "code",
   "execution_count": 158,
   "metadata": {},
   "outputs": [
    {
     "data": {
      "text/html": [
       "<ol class=list-inline>\n",
       "\t<li>'xscores'</li>\n",
       "\t<li>'yscores'</li>\n",
       "\t<li>'corr.X.xscores'</li>\n",
       "\t<li>'corr.Y.xscores'</li>\n",
       "\t<li>'corr.X.yscores'</li>\n",
       "\t<li>'corr.Y.yscores'</li>\n",
       "</ol>\n"
      ],
      "text/latex": [
       "\\begin{enumerate*}\n",
       "\\item 'xscores'\n",
       "\\item 'yscores'\n",
       "\\item 'corr.X.xscores'\n",
       "\\item 'corr.Y.xscores'\n",
       "\\item 'corr.X.yscores'\n",
       "\\item 'corr.Y.yscores'\n",
       "\\end{enumerate*}\n"
      ],
      "text/markdown": [
       "1. 'xscores'\n",
       "2. 'yscores'\n",
       "3. 'corr.X.xscores'\n",
       "4. 'corr.Y.xscores'\n",
       "5. 'corr.X.yscores'\n",
       "6. 'corr.Y.yscores'\n",
       "\n",
       "\n"
      ],
      "text/plain": [
       "[1] \"xscores\"        \"yscores\"        \"corr.X.xscores\" \"corr.Y.xscores\"\n",
       "[5] \"corr.X.yscores\" \"corr.Y.yscores\""
      ]
     },
     "metadata": {},
     "output_type": "display_data"
    }
   ],
   "source": [
    "names(cc1$scores)"
   ]
  },
  {
   "cell_type": "code",
   "execution_count": 160,
   "metadata": {},
   "outputs": [
    {
     "ename": "ERROR",
     "evalue": "Error in library(geigen): there is no package called ‘geigen’\n",
     "output_type": "error",
     "traceback": [
      "Error in library(geigen): there is no package called ‘geigen’\nTraceback:\n",
      "1. library(geigen)",
      "2. stop(txt, domain = NA)"
     ]
    }
   ],
   "source": [
    "library(geigen)"
   ]
  },
  {
   "cell_type": "code",
   "execution_count": 162,
   "metadata": {},
   "outputs": [
    {
     "data": {
      "text/html": [
       "<ol class=list-inline>\n",
       "\t<li>9529</li>\n",
       "\t<li>13</li>\n",
       "</ol>\n"
      ],
      "text/latex": [
       "\\begin{enumerate*}\n",
       "\\item 9529\n",
       "\\item 13\n",
       "\\end{enumerate*}\n"
      ],
      "text/markdown": [
       "1. 9529\n",
       "2. 13\n",
       "\n",
       "\n"
      ],
      "text/plain": [
       "[1] 9529   13"
      ]
     },
     "metadata": {},
     "output_type": "display_data"
    },
    {
     "data": {
      "text/html": [
       "<ol class=list-inline>\n",
       "\t<li>9529</li>\n",
       "\t<li>9</li>\n",
       "</ol>\n"
      ],
      "text/latex": [
       "\\begin{enumerate*}\n",
       "\\item 9529\n",
       "\\item 9\n",
       "\\end{enumerate*}\n"
      ],
      "text/markdown": [
       "1. 9529\n",
       "2. 9\n",
       "\n",
       "\n"
      ],
      "text/plain": [
       "[1] 9529    9"
      ]
     },
     "metadata": {},
     "output_type": "display_data"
    }
   ],
   "source": [
    "dim(df_s1)\n",
    "dim(df_s2)"
   ]
  },
  {
   "cell_type": "code",
   "execution_count": 163,
   "metadata": {},
   "outputs": [
    {
     "data": {
      "text/html": [
       "<ol class=list-inline>\n",
       "\t<li>9529</li>\n",
       "\t<li>13</li>\n",
       "</ol>\n"
      ],
      "text/latex": [
       "\\begin{enumerate*}\n",
       "\\item 9529\n",
       "\\item 13\n",
       "\\end{enumerate*}\n"
      ],
      "text/markdown": [
       "1. 9529\n",
       "2. 13\n",
       "\n",
       "\n"
      ],
      "text/plain": [
       "[1] 9529   13"
      ]
     },
     "metadata": {},
     "output_type": "display_data"
    },
    {
     "data": {
      "text/html": [
       "<ol class=list-inline>\n",
       "\t<li>9526</li>\n",
       "\t<li>9</li>\n",
       "</ol>\n"
      ],
      "text/latex": [
       "\\begin{enumerate*}\n",
       "\\item 9526\n",
       "\\item 9\n",
       "\\end{enumerate*}\n"
      ],
      "text/markdown": [
       "1. 9526\n",
       "2. 9\n",
       "\n",
       "\n"
      ],
      "text/plain": [
       "[1] 9526    9"
      ]
     },
     "metadata": {},
     "output_type": "display_data"
    }
   ],
   "source": [
    "df_s1 = df_s1[complete.cases(df_s1),]\n",
    "df_s2 = df_s2[complete.cases(df_s2),]\n",
    "dim(df_s1)\n",
    "dim(df_s2)"
   ]
  },
  {
   "cell_type": "code",
   "execution_count": 165,
   "metadata": {},
   "outputs": [
    {
     "data": {
      "text/html": [
       "<ol class=list-inline>\n",
       "\t<li>9526</li>\n",
       "\t<li>13</li>\n",
       "</ol>\n"
      ],
      "text/latex": [
       "\\begin{enumerate*}\n",
       "\\item 9526\n",
       "\\item 13\n",
       "\\end{enumerate*}\n"
      ],
      "text/markdown": [
       "1. 9526\n",
       "2. 13\n",
       "\n",
       "\n"
      ],
      "text/plain": [
       "[1] 9526   13"
      ]
     },
     "metadata": {},
     "output_type": "display_data"
    },
    {
     "data": {
      "text/html": [
       "<ol class=list-inline>\n",
       "\t<li>9526</li>\n",
       "\t<li>9</li>\n",
       "</ol>\n"
      ],
      "text/latex": [
       "\\begin{enumerate*}\n",
       "\\item 9526\n",
       "\\item 9\n",
       "\\end{enumerate*}\n"
      ],
      "text/markdown": [
       "1. 9526\n",
       "2. 9\n",
       "\n",
       "\n"
      ],
      "text/plain": [
       "[1] 9526    9"
      ]
     },
     "metadata": {},
     "output_type": "display_data"
    }
   ],
   "source": [
    "common = intersect(row.names(df_s1),row.names(df_s2))\n",
    "df_s1 = df_s1[common,]\n",
    "df_s2 = df_s2[common,]\n",
    "dim(df_s1)\n",
    "dim(df_s2)"
   ]
  },
  {
   "cell_type": "code",
   "execution_count": 167,
   "metadata": {},
   "outputs": [
    {
     "data": {
      "text/html": [
       "<table>\n",
       "<thead><tr><th></th><th scope=col>ENSG00000088766</th><th scope=col>ENSG00000010319</th><th scope=col>ENSG00000188338</th></tr></thead>\n",
       "<tbody>\n",
       "\t<tr><th scope=row>SRR7134925_human_brain</th><td>930 </td><td> 547</td><td> 543</td></tr>\n",
       "\t<tr><th scope=row>SRR7134926_human_brain</th><td>963 </td><td>1034</td><td>1497</td></tr>\n",
       "\t<tr><th scope=row>SRR7134927_human_brain</th><td>243 </td><td> 472</td><td> 324</td></tr>\n",
       "</tbody>\n",
       "</table>\n"
      ],
      "text/latex": [
       "\\begin{tabular}{r|lll}\n",
       "  & ENSG00000088766 & ENSG00000010319 & ENSG00000188338\\\\\n",
       "\\hline\n",
       "\tSRR7134925\\_human\\_brain & 930  &  547 &  543\\\\\n",
       "\tSRR7134926\\_human\\_brain & 963  & 1034 & 1497\\\\\n",
       "\tSRR7134927\\_human\\_brain & 243  &  472 &  324\\\\\n",
       "\\end{tabular}\n"
      ],
      "text/markdown": [
       "\n",
       "| <!--/--> | ENSG00000088766 | ENSG00000010319 | ENSG00000188338 | \n",
       "|---|---|---|\n",
       "| SRR7134925_human_brain | 930  |  547 |  543 | \n",
       "| SRR7134926_human_brain | 963  | 1034 | 1497 | \n",
       "| SRR7134927_human_brain | 243  |  472 |  324 | \n",
       "\n",
       "\n"
      ],
      "text/plain": [
       "                       ENSG00000088766 ENSG00000010319 ENSG00000188338\n",
       "SRR7134925_human_brain 930              547             543           \n",
       "SRR7134926_human_brain 963             1034            1497           \n",
       "SRR7134927_human_brain 243              472             324           "
      ]
     },
     "metadata": {},
     "output_type": "display_data"
    }
   ],
   "source": [
    "t(df_s1)[1:3,1:3]"
   ]
  },
  {
   "cell_type": "code",
   "execution_count": 166,
   "metadata": {},
   "outputs": [
    {
     "ename": "ERROR",
     "evalue": "Error in cov(X, Y, use = \"pairwise\"): incompatible dimensions\n",
     "output_type": "error",
     "traceback": [
      "Error in cov(X, Y, use = \"pairwise\"): incompatible dimensions\nTraceback:\n",
      "1. cc(t(df_s1), t(df_s2))",
      "2. rcc(X, Y, 0, 0)",
      "3. cov(X, Y, use = \"pairwise\")"
     ]
    }
   ],
   "source": [
    "cc1 = cc(t(df_s1),t(df_s2))\n",
    "plt.cc(cc1)"
   ]
  },
  {
   "cell_type": "code",
   "execution_count": null,
   "metadata": {},
   "outputs": [],
   "source": []
  }
 ],
 "metadata": {
  "kernelspec": {
   "display_name": "R",
   "language": "R",
   "name": "ir"
  },
  "language_info": {
   "codemirror_mode": "r",
   "file_extension": ".r",
   "mimetype": "text/x-r-source",
   "name": "R",
   "pygments_lexer": "r",
   "version": "3.4.1"
  }
 },
 "nbformat": 4,
 "nbformat_minor": 2
}
