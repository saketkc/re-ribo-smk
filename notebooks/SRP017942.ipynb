{
 "cells": [
  {
   "cell_type": "code",
   "execution_count": 43,
   "metadata": {},
   "outputs": [
    {
     "name": "stdout",
     "output_type": "stream",
     "text": [
      "Populating the interactive namespace from numpy and matplotlib\n"
     ]
    }
   ],
   "source": [
    "%pylab inline\n",
    "from tqdm import tqdm\n",
    "import pysam\n",
    "from riboraptor.helpers import is_read_uniq_mapping\n",
    "from collections import Counter, defaultdict\n",
    "import pandas as pd\n",
    "import seaborn as sns\n",
    "from riboraptor.kmer import fastq_kmer_histogram"
   ]
  },
  {
   "cell_type": "code",
   "execution_count": null,
   "metadata": {},
   "outputs": [],
   "source": [
    "1080340 2265218 3019185 4815042 5716305 6415950 7270597 8450869 9117566 0458061"
   ]
  },
  {
   "cell_type": "code",
   "execution_count": 51,
   "metadata": {},
   "outputs": [
    {
     "name": "stderr",
     "output_type": "stream",
     "text": [
      "100%|██████████| 1000000/1000000 [00:20<00:00, 49319.49it/s]\n",
      "100%|██████████| 1000000/1000000 [00:18<00:00, 52700.49it/s]\n"
     ]
    }
   ],
   "source": [
    "histogram5 = fastq_kmer_histogram('/staging/as/skchoudh/re-ribo-analysis/hg38/SRP017942/preprocessed/SRR648667_trimmed_trimmed.fq.gz', five_prime=True, kmer_length=range(1, 10))\n",
    "histogram3 = fastq_kmer_histogram('/staging/as/skchoudh/re-ribo-analysis/hg38/SRP017942/preprocessed/SRR648667_trimmed_trimmed.fq.gz', five_prime=False, kmer_length=range(1, 10))\n"
   ]
  },
  {
   "cell_type": "code",
   "execution_count": 63,
   "metadata": {},
   "outputs": [
    {
     "name": "stderr",
     "output_type": "stream",
     "text": [
      "100%|██████████| 1000000/1000000 [00:59<00:00, 16742.03it/s]\n"
     ]
    }
   ],
   "source": [
    "histogram = fastq_kmer_histogram('/staging/as/skchoudh/re-ribo-analysis/hg38/SRP017942/preprocessed_step1/SRR648667_trimmed.fq.gz', five_prime=False, kmer_length=range(5, 30))"
   ]
  },
  {
   "cell_type": "code",
   "execution_count": 69,
   "metadata": {},
   "outputs": [
    {
     "data": {
      "text/plain": [
       "AAAAAAAAAAA    32.1171\n",
       "CTAAAAAAAAA     5.2667\n",
       "TAAAAAAAAAA     4.5825\n",
       "CTTAAAAAAAA     2.8384\n",
       "GCTAAAAAAAA     2.3671\n",
       "CGTCGCTAAAA     2.0578\n",
       "TTAAAAAAAAA     1.6912\n",
       "CGTCGCTTAAA     1.6854\n",
       "CAAAAAAAAAA     1.5405\n",
       "GTCGCTAAAAA     1.3245\n",
       "GTCGCTTAAAA     1.3214\n",
       "GCTTAAAAAAA     1.0996\n",
       "GCAAAAAAAAA     0.5718\n",
       "CGAGGCCAAAA     0.5500\n",
       "CCAAAAAAAAA     0.5309\n",
       "TCCCCAAAAAA     0.4070\n",
       "CGTCGCAAAAA     0.4063\n",
       "ATAAAAAAAAA     0.3840\n",
       "GAAAAAAAAAA     0.3737\n",
       "TCCCCCGAAAA     0.3557\n",
       "TCCCCCAAAAA     0.3421\n",
       "GGTCCCCAAAA     0.3348\n",
       "GTAAAAAAAAA     0.3013\n",
       "GTCGCAAAAAA     0.2494\n",
       "GCTGCGGCGGG     0.2296\n",
       "CTCAAAAAAAA     0.2294\n",
       "AATAAAAAAAA     0.2236\n",
       "AAAAAAAATCG     0.2102\n",
       "GCCAAAAAAAA     0.2082\n",
       "TCAAAAAAAAA     0.2046\n",
       "                ...   \n",
       "GATTTGGGTAA     0.0001\n",
       "GATTTGGAGGC     0.0001\n",
       "GATTTGCTAAA     0.0001\n",
       "GATTTGCCATA     0.0001\n",
       "GATTTTGTAAA     0.0001\n",
       "GATTTTTCCAA     0.0001\n",
       "GCAAACCGAAA     0.0001\n",
       "GATTTTTGAAA     0.0001\n",
       "GCAAACCCAAA     0.0001\n",
       "GCAAACCAGTA     0.0001\n",
       "GCAAACAGGAA     0.0001\n",
       "GCAAACAGAAA     0.0001\n",
       "GCAAACACAAA     0.0001\n",
       "TTGAGCTTAAA     0.0001\n",
       "GCAAAATGAGA     0.0001\n",
       "GCAAAATCGAA     0.0001\n",
       "GCAAAAGTAAA     0.0001\n",
       "GCAAAAGCAAA     0.0001\n",
       "GCAAAAGATAA     0.0001\n",
       "GCAAAACTTAA     0.0001\n",
       "GCAAAACTGCG     0.0001\n",
       "GCAAAACCATA     0.0001\n",
       "GCAAAAAGCAA     0.0001\n",
       "GCAAAAACACA     0.0001\n",
       "GCAAAAAAATA     0.0001\n",
       "GCAAAAAAAGA     0.0001\n",
       "GCAAAAAAAAG     0.0001\n",
       "TTGAGCTTCAA     0.0001\n",
       "GATTTTTGACA     0.0001\n",
       "CTTTTAAGTAA     0.0001\n",
       "Length: 68090, dtype: float64"
      ]
     },
     "execution_count": 69,
     "metadata": {},
     "output_type": "execute_result"
    }
   ],
   "source": [
    "histogram[11]"
   ]
  },
  {
   "cell_type": "code",
   "execution_count": 60,
   "metadata": {},
   "outputs": [
    {
     "data": {
      "text/plain": [
       "CGGG    9.9527\n",
       "GGGG    6.0549\n",
       "TCTC    4.0523\n",
       "CTCC    4.0239\n",
       "TCGG    3.8448\n",
       "TGGG    3.0443\n",
       "GCCT    2.2219\n",
       "GGGC    2.0110\n",
       "CCTC    1.8638\n",
       "GCTA    1.8264\n",
       "GGCT    1.7895\n",
       "TGAT    1.3723\n",
       "CGTG    1.2382\n",
       "TAGC    1.2193\n",
       "CAGA    1.1027\n",
       "TTTT    1.0691\n",
       "CCGG    1.0468\n",
       "TCTA    1.0169\n",
       "ACCG    1.0089\n",
       "TCGC    0.9784\n",
       "ATTT    0.7247\n",
       "TTTA    0.7186\n",
       "GCTC    0.7153\n",
       "CGCG    0.7080\n",
       "TCCC    0.7056\n",
       "CGCC    0.6453\n",
       "TCAC    0.6253\n",
       "TTCC    0.6131\n",
       "AAAA    0.5817\n",
       "CCTA    0.5808\n",
       "         ...  \n",
       "NAAT    0.0024\n",
       "NCAG    0.0023\n",
       "NCAA    0.0022\n",
       "NTTC    0.0022\n",
       "NCTG    0.0021\n",
       "NAAG    0.0021\n",
       "NTCG    0.0020\n",
       "NACC    0.0019\n",
       "NGGT    0.0019\n",
       "NGCG    0.0019\n",
       "NCGA    0.0018\n",
       "NTCA    0.0018\n",
       "NATC    0.0017\n",
       "NGGA    0.0017\n",
       "NTGT    0.0016\n",
       "NTAC    0.0016\n",
       "NATA    0.0015\n",
       "NATG    0.0015\n",
       "NCAT    0.0014\n",
       "NACA    0.0013\n",
       "NACT    0.0013\n",
       "NTTG    0.0012\n",
       "NAGG    0.0011\n",
       "NGTA    0.0011\n",
       "NGAC    0.0011\n",
       "NTAG    0.0010\n",
       "NTAA    0.0010\n",
       "NTGC    0.0009\n",
       "NACG    0.0006\n",
       "NAAC    0.0004\n",
       "Length: 320, dtype: float64"
      ]
     },
     "execution_count": 60,
     "metadata": {},
     "output_type": "execute_result"
    }
   ],
   "source": [
    "histogram5[4]"
   ]
  },
  {
   "cell_type": "code",
   "execution_count": 4,
   "metadata": {},
   "outputs": [
    {
     "name": "stdout",
     "output_type": "stream",
     "text": [
      "Populating the interactive namespace from numpy and matplotlib\n"
     ]
    },
    {
     "name": "stderr",
     "output_type": "stream",
     "text": [
      "100%|██████████| 7981975/7981975 [02:39<00:00, 50128.63it/s]\n"
     ]
    }
   ],
   "source": [
    "read_length_query_length_map = defaultdict(Counter)\n",
    "#def count_softmasking():\n",
    "bam = pysam.AlignmentFile('/staging/as/skchoudh/re-ribo-analysis/hg38/SRP017942/bams_unique/SRX217028.bam', 'rb')\n",
    "with tqdm(total=bam.count()) as pbar:\n",
    "    for read in bam.fetch():\n",
    "        pbar.update()\n",
    "        if not is_read_uniq_mapping(read):\n",
    "            continue\n",
    "        alignment_positions = read.get_reference_positions(full_length=True)\n",
    "        query_length = read.query_alignment_length\n",
    "        read_length = read.query_length\n",
    "        read_length_query_length_map[read_length][query_length] += 1\n",
    "        \n",
    "        "
   ]
  },
  {
   "cell_type": "code",
   "execution_count": null,
   "metadata": {},
   "outputs": [],
   "source": []
  },
  {
   "cell_type": "markdown",
   "metadata": {},
   "source": [
    "# Which direction is the soft clipping?"
   ]
  },
  {
   "cell_type": "code",
   "execution_count": 56,
   "metadata": {},
   "outputs": [
    {
     "name": "stderr",
     "output_type": "stream",
     "text": [
      "100%|██████████| 7981975/7981975 [03:08<00:00, 42343.74it/s]\n"
     ]
    }
   ],
   "source": [
    "five_prime_masking = Counter()\n",
    "three_prime_masking = Counter()\n",
    "five_three_prime_masking = Counter()\n",
    "\n",
    "with tqdm(total=bam.count()) as pbar:\n",
    "    for read in bam.fetch():\n",
    "        pbar.update()\n",
    "        if not is_read_uniq_mapping(read):\n",
    "            continue\n",
    "        alignment_positions = read.get_reference_positions(full_length=True)\n",
    "        five_prime_masking\n",
    "        five_prime_none = 0\n",
    "        three_prime_none = 0\n",
    "        for pos in alignment_positions:\n",
    "            if pos is None:\n",
    "                five_prime_none += 1       \n",
    "            else:\n",
    "                break\n",
    "        for pos in alignment_positions[::-1]: \n",
    "            if pos is None:\n",
    "                three_prime_none += 1       \n",
    "            else:\n",
    "                break\n",
    "        five_prime_masking[five_prime_none] += 1\n",
    "        three_prime_masking[three_prime_none] += 1\n",
    "        five_three_prime_masking[(five_prime_none, three_prime_none)] += 1"
   ]
  },
  {
   "cell_type": "code",
   "execution_count": 58,
   "metadata": {},
   "outputs": [
    {
     "data": {
      "text/plain": [
       "0   0     3998748\n",
       "    1     1165465\n",
       "    2      316534\n",
       "    3       60583\n",
       "    4       34666\n",
       "    5       21719\n",
       "    6       23422\n",
       "    7       15308\n",
       "    8       10374\n",
       "    9        4684\n",
       "    10       1809\n",
       "    11       2312\n",
       "    12         79\n",
       "1   0     1212767\n",
       "    1      300681\n",
       "    2       84133\n",
       "    3        6591\n",
       "    4        2705\n",
       "    5        1084\n",
       "    6         821\n",
       "    7         509\n",
       "    8         671\n",
       "    9         458\n",
       "    10        243\n",
       "    11         40\n",
       "2   0      366548\n",
       "    1       79295\n",
       "    2        8020\n",
       "    3        1191\n",
       "    4         532\n",
       "           ...   \n",
       "5   6          67\n",
       "    7          20\n",
       "6   0       19119\n",
       "    1         741\n",
       "    2         237\n",
       "    3         100\n",
       "    4          84\n",
       "    5          82\n",
       "    6           6\n",
       "7   0       43344\n",
       "    1         563\n",
       "    2         197\n",
       "    3         146\n",
       "    4          70\n",
       "    5           6\n",
       "8   0       14584\n",
       "    1         533\n",
       "    2         221\n",
       "    3          87\n",
       "    4          33\n",
       "9   0       15682\n",
       "    1         430\n",
       "    2         195\n",
       "    3           8\n",
       "10  0       14554\n",
       "    1         300\n",
       "    2          17\n",
       "11  0         690\n",
       "    1          40\n",
       "12  0          77\n",
       "Length: 91, dtype: int64"
      ]
     },
     "execution_count": 58,
     "metadata": {},
     "output_type": "execute_result"
    }
   ],
   "source": [
    "pd.Series(five_three_prime_masking)"
   ]
  },
  {
   "cell_type": "code",
   "execution_count": 53,
   "metadata": {},
   "outputs": [
    {
     "data": {
      "text/plain": [
       "0     70.855935\n",
       "1     20.179254\n",
       "2      5.726164\n",
       "3      0.776324\n",
       "4      0.462655\n",
       "5      0.594677\n",
       "6      0.255187\n",
       "7      0.555326\n",
       "8      0.193661\n",
       "9      0.204398\n",
       "10     0.186307\n",
       "11     0.009146\n",
       "12     0.000965\n",
       "dtype: float64"
      ]
     },
     "execution_count": 53,
     "metadata": {},
     "output_type": "execute_result"
    }
   ],
   "source": [
    "pd.Seriesfive_three_prime_masking"
   ]
  },
  {
   "cell_type": "code",
   "execution_count": 54,
   "metadata": {},
   "outputs": [
    {
     "data": {
      "text/plain": [
       "<matplotlib.axes._subplots.AxesSubplot at 0x2b4895cb2c18>"
      ]
     },
     "execution_count": 54,
     "metadata": {},
     "output_type": "execute_result"
    },
    {
     "data": {
      "image/png": "[encoded data removed]",
      "text/plain": [
       "<Figure size 432x288 with 1 Axes>"
      ]
     },
     "metadata": {
      "needs_background": "light"
     },
     "output_type": "display_data"
    }
   ],
   "source": [
    "sns.barplot(x.index, x.values/x.sum()*100)"
   ]
  },
  {
   "cell_type": "code",
   "execution_count": 55,
   "metadata": {},
   "outputs": [
    {
     "data": {
      "text/plain": [
       "<matplotlib.axes._subplots.AxesSubplot at 0x2b4895e1c2e8>"
      ]
     },
     "execution_count": 55,
     "metadata": {},
     "output_type": "execute_result"
    },
    {
     "data": {
      "image/png": "[encoded data removed]",
      "text/plain": [
       "<Figure size 432x288 with 1 Axes>"
      ]
     },
     "metadata": {
      "needs_background": "light"
     },
     "output_type": "display_data"
    }
   ],
   "source": [
    "x = pd.Series(three_prime_masking)\n",
    "sns.barplot(x.index, x.values/x.sum()*100)"
   ]
  },
  {
   "cell_type": "code",
   "execution_count": 34,
   "metadata": {},
   "outputs": [
    {
     "data": {
      "text/plain": [
       "Counter({0: 5819222,\n",
       "         1: 1558039,\n",
       "         2: 410969,\n",
       "         3: 69086,\n",
       "         4: 38546,\n",
       "         5: 23696,\n",
       "         6: 24760,\n",
       "         7: 16163,\n",
       "         8: 11392,\n",
       "         9: 5605,\n",
       "         10: 2066,\n",
       "         11: 2352,\n",
       "         12: 79})"
      ]
     },
     "execution_count": 34,
     "metadata": {},
     "output_type": "execute_result"
    }
   ],
   "source": [
    "three_prime_masking"
   ]
  },
  {
   "cell_type": "code",
   "execution_count": 30,
   "metadata": {},
   "outputs": [],
   "source": [
    "df = pd.DataFrame(read_length_query_length_map)\n",
    "df = df/df.sum(axis=0)\n",
    "df = df.round(2)\n"
   ]
  },
  {
   "cell_type": "code",
   "execution_count": 31,
   "metadata": {},
   "outputs": [
    {
     "data": {
      "text/plain": [
       "<matplotlib.axes._subplots.AxesSubplot at 0x2b4890fc9a90>"
      ]
     },
     "execution_count": 31,
     "metadata": {},
     "output_type": "execute_result"
    },
    {
     "data": {
      "image/png": "[encoded data removed]",
      "text/plain": [
       "<Figure size 1296x1296 with 2 Axes>"
      ]
     },
     "metadata": {
      "needs_background": "light"
     },
     "output_type": "display_data"
    }
   ],
   "source": [
    "fig = plt.figure(figsize=(18,18))\n",
    "df = df.round(2)\n",
    "sns.heatmap(df.T, square=True, linewidths=.5, annot=True,  cmap='Blues')"
   ]
  },
  {
   "cell_type": "markdown",
   "metadata": {},
   "source": [
    "# Are certain genes associated with certain density of ribosomes\n"
   ]
  },
  {
   "cell_type": "code",
   "execution_count": null,
   "metadata": {},
   "outputs": [],
   "source": [
    "from riboraptor.hdf_parser import HDFParser\n",
    "\n",
    "hdf = HDFParser('/staging/as/skchoudh/re-ribo-analysis/hg38/SRP017942/hdf/')"
   ]
  }
 ],
 "metadata": {
  "kernelspec": {
   "display_name": "Python (riboraptor_clean)",
   "language": "python",
   "name": "riboraptor_clean"
  },
  "language_info": {
   "codemirror_mode": {
    "name": "ipython",
    "version": 3
   },
   "file_extension": ".py",
   "mimetype": "text/x-python",
   "name": "python",
   "nbconvert_exporter": "python",
   "pygments_lexer": "ipython3",
   "version": "3.5.5"
  }
 },
 "nbformat": 4,
 "nbformat_minor": 2
}
