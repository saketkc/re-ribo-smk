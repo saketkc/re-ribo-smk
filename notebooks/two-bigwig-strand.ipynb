{
 "cells": [
  {
   "cell_type": "code",
   "execution_count": 18,
   "metadata": {},
   "outputs": [
    {
     "name": "stdout",
     "output_type": "stream",
     "text": [
      "Populating the interactive namespace from numpy and matplotlib\n"
     ]
    }
   ],
   "source": [
    "%pylab inline\n",
    "import h5py\n",
    "import pyBigWig\n",
    "from riboraptor .wig import WigReader\n",
    "import pybedtools\n",
    "from riboraptor.helpers import read_bed_as_intervaltree, yield_intervals"
   ]
  },
  {
   "cell_type": "markdown",
   "metadata": {},
   "source": [
    "# Problem\n",
    "Given two bigwigs: one from the positive strand and one from the negative, we are interested in retaining only those pileups where the GTF gene and the corresponding pileup exist.\n",
    "So for each gene, we will retain pileups from only one strand depending on the protocol.\n",
    "\n",
    "If it is forward stranded:\n",
    " - For genes defined on the positive strand in the GTF: retain only values from the positive.bigwig\n",
    " - For genes defined on the negative strand in the GTF: retrain only values from the negative.bigwig\n",
    " "
   ]
  },
  {
   "cell_type": "code",
   "execution_count": 9,
   "metadata": {},
   "outputs": [],
   "source": [
    "hdf = '/staging/as/skchoudh/re-ribo-analysis/hg38/SRP055009/hdf/SRX876723.hdf5'\n",
    "pos_bw = '/staging/as/skchoudh/re-ribo-analysis/hg38/SRP055009/bigWig_lengthwise/SRX876723/28/5prime_pos.bw'\n",
    "neg_bw = '/staging/as/skchoudh/re-ribo-analysis/hg38/SRP055009/bigWig_lengthwise/SRX876723/28/5prime_neg.bw'\n",
    "out_bw = '/staging/as/skchoudh/SRX876723_28_5prime_collapsed.bw'\n",
    "bed = '/home/cmb-panasas2/skchoudh/github_projects/riboraptor/riboraptor/annotation/hg38/gene.bed.gz'"
   ]
  },
  {
   "cell_type": "code",
   "execution_count": 16,
   "metadata": {},
   "outputs": [],
   "source": [
    "bed_intervaltree = read_bed_as_intervaltree(bed)"
   ]
  },
  {
   "cell_type": "code",
   "execution_count": 10,
   "metadata": {},
   "outputs": [],
   "source": [
    "hdf_read = h5py.File(hdf, 'r')"
   ]
  },
  {
   "cell_type": "code",
   "execution_count": 11,
   "metadata": {},
   "outputs": [
    {
     "data": {
      "text/plain": [
       "'forward'"
      ]
     },
     "execution_count": 11,
     "metadata": {},
     "output_type": "execute_result"
    }
   ],
   "source": [
    "hdf_read.attrs['protocol']"
   ]
  },
  {
   "cell_type": "code",
   "execution_count": 12,
   "metadata": {},
   "outputs": [],
   "source": [
    "bed_df = pybedtools.BedTool(bed).sort().to_dataframe()\n",
    "bed_df['chrom'] = bed_df['chrom'].astype(str)\n",
    "bed_df['name'] = bed_df['name'].astype(str)\n",
    "bed_grouped = bed_df.groupby('name')\n",
    "\n",
    "if not isinstance(pos_bw, WigReader):\n",
    "    pos_bw = WigReader(pos_bw)\n",
    "\n",
    "if not isinstance(pos_bw, WigReader):\n",
    "    neg_bw = WigReader(pos_bw)\n",
    "    \n",
    "chrom_sizes = pos_bw.chromosomes\n"
   ]
  },
  {
   "cell_type": "code",
   "execution_count": 14,
   "metadata": {},
   "outputs": [],
   "source": [
    "out_bw = pyBigWig.open(out_bw, 'w')\n",
    "out_bw.addHeader(list(chrom_sizes.items()), maxZooms=0)\n",
    "\n"
   ]
  },
  {
   "cell_type": "code",
   "execution_count": 24,
   "metadata": {},
   "outputs": [
    {
     "data": {
      "text/plain": [
       "['+', '-', '-', '+', '-', '+', '+', '+', '-', '-']"
      ]
     },
     "execution_count": 24,
     "metadata": {},
     "output_type": "execute_result"
    }
   ],
   "source": [
    "bed_intervaltree['chr1'].find(10000, 100000)"
   ]
  },
  {
   "cell_type": "code",
   "execution_count": null,
   "metadata": {},
   "outputs": [],
   "source": [
    "for gene_name, gene_group in bed_grouped:\n",
    "    assert len(gene_group['strand'].unique()) == 1\n",
    "    gene_strand = gene_group['strand'].unique()[0]\n",
    "    for index, row in gene_group.iterrows():\n",
    "        chrom = row['chrom']\n",
    "        start = row['start']\n",
    "        end = row['end']\n",
    "        strand = row['strand']\n",
    "        if strand == '+':\n",
    "            values = pos_bw.query(chrom, start, end)\n",
    "        else:\n",
    "            values = pos_bw.query(chrom, start, end)\n",
    "            \n",
    "        bw_sum += np.nansum(bw.values(chrom, start, end))\n",
    "            "
   ]
  }
 ],
 "metadata": {
  "kernelspec": {
   "display_name": "Python [conda env:riboraptor]",
   "language": "python",
   "name": "conda-env-riboraptor-py"
  },
  "language_info": {
   "codemirror_mode": {
    "name": "ipython",
    "version": 3
   },
   "file_extension": ".py",
   "mimetype": "text/x-python",
   "name": "python",
   "nbconvert_exporter": "python",
   "pygments_lexer": "ipython3",
   "version": "3.5.5"
  }
 },
 "nbformat": 4,
 "nbformat_minor": 2
}
