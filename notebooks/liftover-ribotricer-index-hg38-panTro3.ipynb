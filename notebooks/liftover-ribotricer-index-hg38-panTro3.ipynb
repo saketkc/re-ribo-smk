{
 "cells": [
  {
   "cell_type": "markdown",
   "metadata": {},
   "source": [
    "# Goal"
   ]
  },
  {
   "cell_type": "markdown",
   "metadata": {},
   "source": [
    "We want to see how many ORFs in hg38 when lifted over to panTro3\n",
    "remain a potential ORF. The strategy is simple, lift hg38\n",
    "ribotricer index (after converting it to bed) to panTro3.\n",
    "This lifted over bed file after accounting for half interval\n",
    "based coordinates in the bed can be matched up to the ribotricer panTro3\n",
    "index"
   ]
  },
  {
   "cell_type": "code",
   "execution_count": 1,
   "metadata": {},
   "outputs": [],
   "source": [
    "import pandas as pd\n",
    "import os\n",
    "import re"
   ]
  },
  {
   "cell_type": "code",
   "execution_count": 2,
   "metadata": {},
   "outputs": [],
   "source": [
    "hg38_ribotricer_index = '/home/cmb-06/as/skchoudh/genomes/hg38/ribotricer_v96_annotation_longest_candidate_orfs.tsv'\n",
    "pantro3_ribotricer_index = '/home/cmb-06/as/skchoudh/genomes/panTro3/ribotricer_v96_annotation_longest_candidate_orfs.tsv'\n",
    "#mmul8_ribotricer_index = '/home/cmb-06/as/skchoudh/genomes/Mmul8/ribotricer_v96_annotation_longest_candidate_orfs.tsv'\n"
   ]
  },
  {
   "cell_type": "code",
   "execution_count": 3,
   "metadata": {},
   "outputs": [
    {
     "name": "stderr",
     "output_type": "stream",
     "text": [
      "/home/cmb-06/as/skchoudh/software_frozen/anaconda37/envs/riboraptor/lib/python3.6/site-packages/IPython/core/interactiveshell.py:3049: DtypeWarning: Columns (7) have mixed types. Specify dtype option on import or set low_memory=False.\n",
      "  interactivity=interactivity, compiler=compiler, result=result)\n"
     ]
    }
   ],
   "source": [
    "hg38_index = pd.read_csv(hg38_ribotricer_index, sep='\\t')\n",
    "pantro3_index = pd.read_csv(pantro3_ribotricer_index, sep='\\t')"
   ]
  },
  {
   "cell_type": "code",
   "execution_count": 10,
   "metadata": {},
   "outputs": [],
   "source": [
    "def parse_ribotricer_index(row):\n",
    "    chrom = row.chrom\n",
    "    strand = row.strand\n",
    "    name = row.ORF_ID\n",
    "    coordinates = row.coordinate.split(',')\n",
    "    starts, ends = [], []\n",
    "    for coordinate in coordinates:\n",
    "        start, end = coordinate.split('-')\n",
    "        start = int(start)\n",
    "        end = int(end)\n",
    "        # 0-based start\n",
    "        start = start-1\n",
    "        starts.append(start)\n",
    "        ends.append(end)\n",
    "    bedline = ''\n",
    "    for start, end in zip(starts, ends):\n",
    "        score = end-start\n",
    "        bedline += '{}\\t{}\\t{}\\t{}\\t{}\\t{}\\n'.format(chrom, start, end, name, score, strand)\n",
    "    return bedline"
   ]
  },
  {
   "cell_type": "code",
   "execution_count": 11,
   "metadata": {},
   "outputs": [],
   "source": [
    "bedline = ''\n",
    "for idx, row in hg38_index.iterrows():\n",
    "    bedline+=parse_ribotricer_index(row)\n",
    "#hg38_index.head()#[['chrom', 'start', 'end', 'ORF_ID', 'length', 'strand']].head()"
   ]
  },
  {
   "cell_type": "code",
   "execution_count": 12,
   "metadata": {},
   "outputs": [],
   "source": [
    "with open('/home/cmb-06/as/skchoudh/genomes/hg38/ribotricer_v96_annotation_longest_candidate_orfs.bed', 'w') as fh:\n",
    "    fh.write(bedline)"
   ]
  },
  {
   "cell_type": "code",
   "execution_count": 15,
   "metadata": {},
   "outputs": [
    {
     "name": "stdout",
     "output_type": "stream",
     "text": [
      "Reading liftover chains\n",
      "Mapping coordinates\n"
     ]
    }
   ],
   "source": [
    "!liftOver /home/cmb-06/as/skchoudh/genomes/hg38/ribotricer_v96_annotation_longest_candidate_orfs.bed \\\n",
    "/home/cmb-06/as/skchoudh/liftOver_chains/GRCh38ToPanTro3.over.chain \\\n",
    "/home/cmb-06/as/skchoudh/genomes/hg38/ribotricer_v96_annotation_longest_candidate_orfs.GRCh38ToPanTro3.bed \\\n",
    "/home/cmb-06/as/skchoudh/genomes/hg38/ribotricer_v96_annotation_longest_candidate_orfs.GRCh38ToPanTro3.unmapped.bed"
   ]
  },
  {
   "cell_type": "code",
   "execution_count": 16,
   "metadata": {},
   "outputs": [],
   "source": [
    "bedline = ''\n",
    "for idx, row in pantro3_index.iterrows():\n",
    "    bedline+=parse_ribotricer_index(row)\n",
    "#hg38_index.head()#[['chrom', 'start', 'end', 'ORF_ID', 'length', 'strand']].head()"
   ]
  },
  {
   "cell_type": "code",
   "execution_count": 17,
   "metadata": {},
   "outputs": [],
   "source": [
    "with open('/home/cmb-06/as/skchoudh/genomes/panTro3/ribotricer_v96_annotation_longest_candidate_orfs.bed', 'w') as fh:\n",
    "    fh.write(bedline)"
   ]
  },
  {
   "cell_type": "code",
   "execution_count": null,
   "metadata": {},
   "outputs": [],
   "source": []
  }
 ],
 "metadata": {
  "kernelspec": {
   "display_name": "Python [conda env:riboraptor]",
   "language": "python",
   "name": "conda-env-riboraptor-py"
  },
  "language_info": {
   "codemirror_mode": {
    "name": "ipython",
    "version": 3
   },
   "file_extension": ".py",
   "mimetype": "text/x-python",
   "name": "python",
   "nbconvert_exporter": "python",
   "pygments_lexer": "ipython3",
   "version": "3.6.7"
  }
 },
 "nbformat": 4,
 "nbformat_minor": 2
}
