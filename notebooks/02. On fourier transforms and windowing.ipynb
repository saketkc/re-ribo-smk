{
 "cells": [
  {
   "cell_type": "code",
   "execution_count": 23,
   "metadata": {},
   "outputs": [
    {
     "name": "stdout",
     "output_type": "stream",
     "text": [
      "Populating the interactive namespace from numpy and matplotlib\n"
     ]
    },
    {
     "data": {
      "application/vnd.jupyter.widget-view+json": {
       "model_id": "6e9e8303c540453b9ca58b5f64523079",
       "version_major": 2,
       "version_minor": 0
      },
      "text/plain": [
       "interactive(children=(SelectMultiple(description='windows', index=(6,), options=('boxcar', 'triang', 'blackman…"
      ]
     },
     "metadata": {},
     "output_type": "display_data"
    },
    {
     "data": {
      "text/plain": [
       "<function __main__.plot_windows(windows, Nx=4096)>"
      ]
     },
     "execution_count": 23,
     "metadata": {},
     "output_type": "execute_result"
    }
   ],
   "source": [
    "%pylab inline\n",
    "import matplotlib as mpl\n",
    "\n",
    "from scipy import signal\n",
    "from scipy.signal import get_window\n",
    "import ipywidgets as widgets\n",
    "from IPython.display import display\n",
    "from ipywidgets import interact, interactive, fixed, interact_manual\n",
    "from matplotlib.ticker import ScalarFormatter, AutoMinorLocator\n",
    "mpl.rcParams['grid.color'] = 'k'\n",
    "mpl.rcParams['grid.linestyle'] = ':'\n",
    "mpl.rcParams['grid.linewidth'] = 0.5\n",
    "mpl.rcParams['font.size'] = 32\n",
    "mpl.rcParams['figure.autolayout'] = True\n",
    "mpl.rcParams['figure.figsize'] = (7.2,4.45)\n",
    "mpl.rcParams['axes.titlesize'] = 16\n",
    "mpl.rcParams['axes.labelsize'] = 17\n",
    "mpl.rcParams['lines.linewidth'] = 2\n",
    "mpl.rcParams['lines.markersize'] = 6\n",
    "mpl.rcParams['legend.fontsize'] = 13\n",
    "mpl.rcParams['mathtext.fontset'] = 'stix'      \n",
    "mpl.rcParams['font.family'] = 'STIXGeneral'\n",
    "mpl.rcParams['lines.linewidth'] = 3.5\n",
    "mpl.rcParams['xtick.labelsize'] = 32\n",
    "mpl.rcParams['ytick.labelsize'] = 32\n",
    "mpl.rcParams['legend.fontsize'] = 32\n",
    "#import seaborn as sns\n",
    "#sns.set_style('whitegrid')\n",
    "#sns.set_context('paper', font_scale=1.5)\n",
    "AVAILABLE_WINDOWS = ['boxcar', 'triang', 'blackman', 'hamming', 'hann', 'bartlett', \n",
    "                     'flattop', 'parzen', 'bohman', 'blackmanharris', 'nuttall',\n",
    "                     'barthann']\n",
    "\n",
    "      \n",
    "def plot_windows(windows, Nx=4096):\n",
    "    # boxcar, triang, blackman, hamming, hann, bartlett, \n",
    "    # flattop, parzen, bohman, blackmanharris, nuttall, \n",
    "    # barthann, \n",
    "    \n",
    "    # kaiser (needs beta), \n",
    "    # gaussian (needs standard deviation), \n",
    "    # general_gaussian (needs power, width), \n",
    "    # slepian (needs width), \n",
    "    # dpss (needs normalized half-bandwidth), \n",
    "    # chebwin (needs attenuation), \n",
    "    # exponential (needs decay scale), \n",
    "    # tukey (needs taper fraction)\n",
    "    if not isinstance(windows, tuple):\n",
    "        windows = [windows]\n",
    "    fig, ax = plt.subplots(figsize=(16, 12))\n",
    "    for window in windows:\n",
    "        gwindow = get_window(window, Nx=Nx)\n",
    "        ax.plot(gwindow, label=window, linestyle='-.')\n",
    "\n",
    "    ax.legend(loc='center left', bbox_to_anchor=(1, 0.5))\n",
    "    ax.set_xlabel('')\n",
    "    ax.yaxis.set_major_formatter(ScalarFormatter())\n",
    "    ax.yaxis.major.formatter._useMathText = True\n",
    "    ax.yaxis.set_minor_locator(  AutoMinorLocator(5))\n",
    "    ax.xaxis.set_minor_locator(  AutoMinorLocator(5))\n",
    "    ax.tick_params(direction='out', length=12, \n",
    "                   width=2, \n",
    "                   grid_alpha=0.5)\n",
    "    ax.tick_params(direction='out', which='minor', length=6, \n",
    "                   width=1, \n",
    "                   grid_alpha=0.5)\n",
    "    ax.grid(True)\n",
    "\n",
    "    fig.tight_layout()\n",
    "\n",
    "    \n",
    "select = widgets.SelectMultiple(\n",
    "    options=,\n",
    "    value=('flattop',),\n",
    "    disabled=False,\n",
    ")\n",
    "interact(plot_windows, windows=select, Nx=(1, 4097))\n"
   ]
  },
  {
   "cell_type": "code",
   "execution_count": 66,
   "metadata": {},
   "outputs": [
    {
     "data": {
      "application/vnd.jupyter.widget-view+json": {
       "model_id": "074255018f3f47428537dea421784004",
       "version_major": 2,
       "version_minor": 0
      },
      "text/plain": [
       "interactive(children=(FloatSlider(value=0.33, description='freq1', max=30.0, min=0.1, step=0.01), FloatSlider(…"
      ]
     },
     "metadata": {},
     "output_type": "display_data"
    },
    {
     "data": {
      "text/plain": [
       "<function __main__.plot_freq_mix(freq1, freq2, windows)>"
      ]
     },
     "execution_count": 66,
     "metadata": {},
     "output_type": "execute_result"
    }
   ],
   "source": [
    "colors = ['#a6cee3',\n",
    "          '#1f78b4',\n",
    "          '#b2df8a',\n",
    "          '#33a02c',\n",
    "          '#fb9a99',\n",
    "          '#e31a1c',\n",
    "          '#fdbf6f',\n",
    "          '#ff7f00',\n",
    "          '#cab2d6',\n",
    "          '#6a3d9a',\n",
    "          '#ffff99']\n",
    "def plot_freq_mix(freq1, freq2, windows):\n",
    "    if not isinstance(windows, tuple):\n",
    "        windows = [windows]\n",
    "    fig = plt.figure(figsize=(25, 20))\n",
    "    ax = plt.subplot(211)\n",
    "    t = np.arange(0, 60, step=1)\n",
    "    s = np.sin( 2*t*np.pi*freq1) + np.sin( 2*t*np.pi*freq2)\n",
    "\n",
    "    ax.set_xlabel('')\n",
    "    ax.yaxis.set_major_formatter(ScalarFormatter())\n",
    "    ax.yaxis.major.formatter._useMathText = True\n",
    "    ax.yaxis.set_minor_locator(  AutoMinorLocator(5))\n",
    "    ax.xaxis.set_minor_locator(  AutoMinorLocator(5))\n",
    "    ax.tick_params(direction='out', length=12, \n",
    "                   width=2, \n",
    "                   grid_alpha=0.5)\n",
    "    ax.tick_params(direction='out', which='minor', length=6, \n",
    "                   width=1, \n",
    "                   grid_alpha=0.5)\n",
    "    ax.grid(True)\n",
    "    ax.plot(t, s)\n",
    "    ax = plt.subplot(212)\n",
    "    for color, window in zip(colors, windows):\n",
    "        n = 4096\n",
    "        w = np.fft.rfft(s * get_window(window, 60), n=n)\n",
    "        freqs = np.fft.rfftfreq(n, d=t[1] - t[0])\n",
    "        ax.plot(freqs, 20*np.log10(np.abs(w)), label=window, color=color)\n",
    "    #ax.legend(loc='center left', bbox_to_anchor=(1, 0.5), ncol=3)\n",
    "    ax.legend(bbox_to_anchor=(0., 1.02, 1., .102), loc=3,\n",
    "              ncol=4, mode=\"expand\", borderaxespad=0.)\n",
    "    ax.set_xlabel('')\n",
    "    ax.yaxis.set_major_formatter(ScalarFormatter())\n",
    "    ax.yaxis.major.formatter._useMathText = True\n",
    "    ax.yaxis.set_minor_locator(  AutoMinorLocator(5))\n",
    "    ax.xaxis.set_minor_locator(  AutoMinorLocator(5))\n",
    "    ax.tick_params(direction='out', length=12, \n",
    "                   width=2, \n",
    "                   grid_alpha=0.5)\n",
    "    ax.tick_params(direction='out', which='minor', length=6, \n",
    "                   width=1, \n",
    "                   grid_alpha=0.5)\n",
    "    ax.grid(True)\n",
    "    ax.set_label('decibels')\n",
    "\n",
    "    fig.tight_layout()\n",
    "interact(plot_freq_mix, \n",
    "         freq1=widgets.FloatSlider(min=0.1,max=30,step=0.01,value=0.33), \n",
    "         freq2=widgets.FloatSlider(min=0.1,max=30,step=0.01,value=0.33),\n",
    "         windows=select,)\n"
   ]
  },
  {
   "cell_type": "code",
   "execution_count": null,
   "metadata": {},
   "outputs": [],
   "source": []
  }
 ],
 "metadata": {
  "kernelspec": {
   "display_name": "Python 3",
   "language": "python",
   "name": "python3"
  },
  "language_info": {
   "codemirror_mode": {
    "name": "ipython",
    "version": 3
   },
   "file_extension": ".py",
   "mimetype": "text/x-python",
   "name": "python",
   "nbconvert_exporter": "python",
   "pygments_lexer": "ipython3",
   "version": "3.6.6"
  }
 },
 "nbformat": 4,
 "nbformat_minor": 2
}
