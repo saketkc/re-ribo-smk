{
 "cells": [
  {
   "cell_type": "code",
   "execution_count": 1,
   "metadata": {},
   "outputs": [
    {
     "name": "stdout",
     "output_type": "stream",
     "text": [
      "Populating the interactive namespace from numpy and matplotlib\n"
     ]
    }
   ],
   "source": [
    "%pylab inline\n",
    "%load_ext autoreload\n",
    "%autoreload 2\n",
    "\n",
    "from riboraptor.kmer import fastq_kmer_histogram\n",
    "\n",
    "def get_top_kmers(kmer_series):\n",
    "    \"\"\"Return all kmers with cumulative sum <=50,\n",
    "    because we won't need mroe than that.\n",
    "    \"\"\"\n",
    "    cumsum = kmer_series.cumsum()\n",
    "    return kmer_series[cumsum<=70]\n",
    "    "
   ]
  },
  {
   "cell_type": "code",
   "execution_count": 6,
   "metadata": {},
   "outputs": [
    {
     "name": "stderr",
     "output_type": "stream",
     "text": [
      "100%|██████████| 1000000/1000000 [00:51<00:00, 19267.08it/s]\n",
      "100%|██████████| 1000000/1000000 [00:50<00:00, 19688.79it/s]\n"
     ]
    }
   ],
   "source": [
    "fastqs = {'100nt_trimmed_twopass': '/staging/as/skchoudh/re-ribo-analysis/mm10/SRP031501/preprocessed/SRR1013470_trimmed_trimmed.fq.gz',\n",
    "          '100nt_trimmed_onepass': '/staging/as/skchoudh/re-ribo-analysis/mm10/SRP031501/preprocessed_step1/SRR1013470_trimmed.fq.gz',}\n",
    "histograms = {k:{} for k in fastqs.keys()}\n",
    "\n",
    "for key, fastq in fastqs.items():\n",
    "    histograms[key] = fastq_kmer_histogram(fastq)"
   ]
  },
  {
   "cell_type": "code",
   "execution_count": null,
   "metadata": {},
   "outputs": [],
   "source": [
    "histograms['100nt_trimmed_twopass'][10]"
   ]
  },
  {
   "cell_type": "code",
   "execution_count": null,
   "metadata": {},
   "outputs": [],
   "source": []
  }
 ],
 "metadata": {
  "kernelspec": {
   "display_name": "Python (riboraptor_clean)",
   "language": "python",
   "name": "riboraptor_clean"
  },
  "language_info": {
   "codemirror_mode": {
    "name": "ipython",
    "version": 3
   },
   "file_extension": ".py",
   "mimetype": "text/x-python",
   "name": "python",
   "nbconvert_exporter": "python",
   "pygments_lexer": "ipython3",
   "version": "3.5.5"
  }
 },
 "nbformat": 4,
 "nbformat_minor": 2
}
